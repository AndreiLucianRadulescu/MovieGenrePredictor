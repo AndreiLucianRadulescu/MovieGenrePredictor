{
 "cells": [
  {
   "cell_type": "markdown",
   "id": "28bfaba2",
   "metadata": {
    "id": "28bfaba2"
   },
   "source": [
    "# Q1\n",
    "#### Read the data from the Eng_movies.txt.\n",
    "#### Also remove the movies that fall within the 'adult' genre."
   ]
  },
  {
   "cell_type": "code",
   "execution_count": 1,
   "id": "bf19d5dd",
   "metadata": {
    "colab": {
     "base_uri": "https://localhost:8080/"
    },
    "id": "bf19d5dd",
    "outputId": "c6c59edb-dcdd-4a29-e385-ea6c080bb5fe"
   },
   "outputs": [
    {
     "name": "stdout",
     "output_type": "stream",
     "text": [
      "Unique genres:  ['drama', 'thriller', 'documentary', 'comedy', 'crime', 'reality-tv', 'horror', 'sport', 'animation', 'action', 'fantasy', 'short', 'sci-fi', 'music', 'adventure', 'talk-show', 'western', 'family', 'mystery', 'history', 'news', 'biography', 'romance', 'game-show', 'musical', 'war']\n",
      "\n",
      "Total Movies:  53252\n"
     ]
    }
   ],
   "source": [
    "# Read all lines in the file.\n",
    "filename = \"Eng_movies.txt\"\n",
    "with open(filename, encoding=\"utf8\") as f:\n",
    "    movies = f.readlines()\n",
    "\n",
    "\n",
    "# Take all movies that are not in the 'adult' genre because they could be offensive\n",
    "all_movies = []\n",
    "unique_genres = []\n",
    "for movie in movies:\n",
    "    number, title, genre, description = movie.split(\" ::: \")\n",
    "    \n",
    "    # Append cleaned description instead of default description.\n",
    "    if genre != 'adult':\n",
    "        all_movies.append({\"title\": title, \"genre\": genre, \"description\": description})\n",
    "        if genre not in unique_genres:\n",
    "            unique_genres.append(genre)\n",
    "\n",
    "# Print unique genres and number of movies.\n",
    "print(\"Unique genres: \", unique_genres)\n",
    "print()\n",
    "print(\"Total Movies: \", len(all_movies))"
   ]
  },
  {
   "cell_type": "markdown",
   "id": "7204543a",
   "metadata": {
    "id": "7204543a"
   },
   "source": [
    "### Since there are more than 10 labels, I will only keep 9 of them and put the rest within an \"Other\" label.\n",
    "The labels I will keep are: drama, thriller, comedy, horror, action, western, romance, adventure, sci-fi, and finally other."
   ]
  },
  {
   "cell_type": "code",
   "execution_count": 2,
   "id": "21a2a052",
   "metadata": {
    "colab": {
     "base_uri": "https://localhost:8080/"
    },
    "id": "21a2a052",
    "outputId": "14a6b3f0-8c9f-46a5-98b3-f6b2f0966084"
   },
   "outputs": [
    {
     "name": "stdout",
     "output_type": "stream",
     "text": [
      "Each genre and the number of movies within that genre:\n",
      "drama: 13493\n",
      "thriller: 1585\n",
      "other: 24232\n",
      "comedy: 7307\n",
      "horror: 2203\n",
      "action: 1315\n",
      "sci-fi: 646\n",
      "adventure: 770\n",
      "western: 1032\n",
      "romance: 669\n"
     ]
    }
   ],
   "source": [
    "from collections import Counter\n",
    "good_genres = ['drama', 'thriller', 'comedy', 'horror', 'action', 'western', 'romance', 'adventure', 'sci-fi', 'other']\n",
    "\n",
    "for movie in all_movies:\n",
    "    if movie['genre'] not in good_genres:\n",
    "        movie['genre'] = 'other'\n",
    "        \n",
    "ct = Counter([movie['genre'] for movie in all_movies])\n",
    "print(\"Each genre and the number of movies within that genre:\")\n",
    "for genre, count in ct.items():\n",
    "    print(f\"{genre}: {count}\")"
   ]
  },
  {
   "cell_type": "markdown",
   "id": "9b1129cb",
   "metadata": {
    "id": "9b1129cb"
   },
   "source": [
    "### Randomly sampling from data\n",
    "As it can be seen from the Counter object, the data is now heavily inbalanced because there were a lot of movie genres that have been assigned to the \"other\" genre. Therefore, in order to keep a balance of the data I will select all the movies from the genres that have less than 1000 movies, namely \"romance\", \"sci-fi\", \"adventure\", and randomly sample 1000 movies from each of the other genres."
   ]
  },
  {
   "cell_type": "code",
   "execution_count": 3,
   "id": "70c0cec2",
   "metadata": {
    "colab": {
     "base_uri": "https://localhost:8080/"
    },
    "id": "70c0cec2",
    "outputId": "4ef53bc0-877f-4011-bebd-6593b6eaa8d3"
   },
   "outputs": [
    {
     "name": "stdout",
     "output_type": "stream",
     "text": [
      "Total number of movies in the sample:  9085\n"
     ]
    }
   ],
   "source": [
    "import random\n",
    "random.seed(2023)\n",
    "\n",
    "movies = []\n",
    "movies_by_genre = {genre: [] for genre in good_genres}\n",
    "for movie in all_movies:\n",
    "    movies_by_genre[movie['genre']].append(movie)\n",
    "    \n",
    "\n",
    "for genre in movies_by_genre:\n",
    "    if len(movies_by_genre[genre]) <= 1000:\n",
    "        movies = movies + movies_by_genre[genre]\n",
    "    else:\n",
    "        movies = movies + random.sample(movies_by_genre[genre], 1000)\n",
    "        \n",
    "# Print sample size\n",
    "print(\"Total number of movies in the sample: \", len(movies))"
   ]
  },
  {
   "cell_type": "markdown",
   "id": "7f1ea972",
   "metadata": {
    "id": "7f1ea972"
   },
   "source": [
    "#### For consistency reasons, I will use a random seed, namely 2023.\n",
    "My dataset will consist of the 9085 movies randomly sampled above. \\\n",
    "Now I need to create lists with movie description and also the labels, and then create a training set, validation set and test set."
   ]
  },
  {
   "cell_type": "code",
   "execution_count": 4,
   "id": "0a57ca45",
   "metadata": {
    "id": "0a57ca45"
   },
   "outputs": [],
   "source": [
    "texts = []\n",
    "labels = []\n",
    "for movie in movies:\n",
    "    texts.append(movie['description'])\n",
    "    labels.append(movie['genre'])"
   ]
  },
  {
   "cell_type": "markdown",
   "id": "0ae51269",
   "metadata": {
    "id": "0ae51269"
   },
   "source": [
    "#### Splitting the dataset into 60/20/20."
   ]
  },
  {
   "cell_type": "code",
   "execution_count": 5,
   "id": "1f0efe39",
   "metadata": {
    "id": "1f0efe39"
   },
   "outputs": [
    {
     "name": "stderr",
     "output_type": "stream",
     "text": [
      "C:\\Users\\andre\\anaconda3\\lib\\site-packages\\scipy\\__init__.py:146: UserWarning: A NumPy version >=1.16.5 and <1.23.0 is required for this version of SciPy (detected version 1.24.1\n",
      "  warnings.warn(f\"A NumPy version >={np_minversion} and <{np_maxversion}\"\n"
     ]
    }
   ],
   "source": [
    "from sklearn import model_selection as model\n",
    "texts_train_val, texts_test, labels_train_val, labels_test = model.train_test_split(texts, labels, \n",
    "                                                                test_size=0.2, random_state=42)\n",
    "texts_train, texts_val, labels_train, labels_val = model.train_test_split(texts_train_val,\n",
    "                                                                          labels_train_val, test_size=0.25,\n",
    "                                                                          random_state = 42)"
   ]
  },
  {
   "cell_type": "code",
   "execution_count": 6,
   "id": "92a7a34e",
   "metadata": {
    "colab": {
     "base_uri": "https://localhost:8080/"
    },
    "id": "92a7a34e",
    "outputId": "d4e7189f-197e-41cf-b57a-58a44b82c60c"
   },
   "outputs": [
    {
     "name": "stdout",
     "output_type": "stream",
     "text": [
      "len(texts_train)=5451\tlen(labels_train)=5451\n",
      "len(texts_val)=1817\tlen(labels_val)=1817\n",
      "len(texts_test)=1817\tlen(labels_test)=1817\n"
     ]
    }
   ],
   "source": [
    "print(f\"{len(texts_train)=}\\t{len(labels_train)=}\")\n",
    "print(f\"{len(texts_val)=}\\t{len(labels_val)=}\")\n",
    "print(f\"{len(texts_test)=}\\t{len(labels_test)=}\")"
   ]
  },
  {
   "cell_type": "code",
   "execution_count": 7,
   "id": "45701f3b",
   "metadata": {
    "colab": {
     "base_uri": "https://localhost:8080/"
    },
    "id": "45701f3b",
    "outputId": "caa323a6-35e9-424a-f17e-3c6ac27ce0b7",
    "scrolled": true
   },
   "outputs": [
    {
     "name": "stdout",
     "output_type": "stream",
     "text": [
      "0.6 0.2 0.2\n"
     ]
    }
   ],
   "source": [
    "total = len(movies)\n",
    "print(f\"{len(texts_train) / total} {len(texts_val) / total} {len(texts_test) / total}\")"
   ]
  },
  {
   "cell_type": "markdown",
   "id": "12093759",
   "metadata": {
    "id": "12093759"
   },
   "source": [
    "#### I have a perfect 60/20/20 split. Now onto printing the label counts for every split."
   ]
  },
  {
   "cell_type": "code",
   "execution_count": null,
   "id": "9b0796a5",
   "metadata": {
    "id": "9b0796a5"
   },
   "outputs": [],
   "source": [
    "# Function to print labels and their count for each of the splits\n",
    "def print_label_counts(labels_split, name_split):\n",
    "    print(f\"Labels for {name_split}:\")\n",
    "    \n",
    "    ct = Counter(labels_split)\n",
    "    for _label, count in ct.items():\n",
    "        print(f\"{_label}: {count}\")\n",
    "    print()"
   ]
  },
  {
   "cell_type": "code",
   "execution_count": null,
   "id": "7f585e03",
   "metadata": {
    "colab": {
     "base_uri": "https://localhost:8080/"
    },
    "id": "7f585e03",
    "outputId": "58b533da-b9e8-49cc-9f21-db9a8dbaffaa"
   },
   "outputs": [
    {
     "name": "stdout",
     "output_type": "stream",
     "text": [
      "Labels for Train:\n",
      "thriller: 598\n",
      "drama: 596\n",
      "horror: 582\n",
      "western: 611\n",
      "comedy: 624\n",
      "other: 580\n",
      "action: 600\n",
      "sci-fi: 389\n",
      "romance: 387\n",
      "adventure: 484\n",
      "\n",
      "Labels for Validation:\n",
      "horror: 217\n",
      "thriller: 187\n",
      "adventure: 139\n",
      "romance: 138\n",
      "sci-fi: 134\n",
      "western: 193\n",
      "comedy: 177\n",
      "drama: 208\n",
      "other: 215\n",
      "action: 209\n",
      "\n",
      "Labels for Test:\n",
      "other: 205\n",
      "horror: 201\n",
      "adventure: 147\n",
      "comedy: 199\n",
      "action: 191\n",
      "thriller: 215\n",
      "romance: 144\n",
      "drama: 196\n",
      "western: 196\n",
      "sci-fi: 123\n",
      "\n"
     ]
    }
   ],
   "source": [
    "for name, _labels in {'Train': labels_train, 'Validation': labels_val, 'Test': labels_test}.items():\n",
    "    print_label_counts(_labels, name)"
   ]
  },
  {
   "cell_type": "markdown",
   "id": "fb82d7df",
   "metadata": {
    "id": "fb82d7df"
   },
   "source": [
    "# Q2 - K-means"
   ]
  },
  {
   "cell_type": "markdown",
   "id": "69baaa17",
   "metadata": {
    "id": "69baaa17"
   },
   "source": [
    "#### Step 0: Preprocess the text with clean_text method and spaCy library, and then use TF-IDF vectorizer from sklearn to vectorize the text."
   ]
  },
  {
   "cell_type": "code",
   "execution_count": null,
   "id": "5a5c2ef6",
   "metadata": {
    "colab": {
     "base_uri": "https://localhost:8080/"
    },
    "id": "5a5c2ef6",
    "outputId": "def71aa6-9962-43b6-aad8-dbd9437bcf8a"
   },
   "outputs": [
    {
     "name": "stdout",
     "output_type": "stream",
     "text": [
      "(5451, 27010)\n",
      "(1817, 27010)\n"
     ]
    }
   ],
   "source": [
    "import spacy\n",
    "import re\n",
    "from sklearn.feature_extraction.text import TfidfVectorizer\n",
    "nlp = spacy.load('en_core_web_sm')\n",
    "\n",
    "# Function to clean the text. Needed because the dataset is poorly written.\n",
    "def clean_text(text):\n",
    "    # remove backslash-apostrophe \n",
    "    text = re.sub(\"\\'\", \"\", text) \n",
    "    # remove everything except alphabets \n",
    "    text = re.sub(\"[^a-zA-Z]\",\" \",text) \n",
    "    # remove whitespaces \n",
    "    text = ' '.join(text.split()) \n",
    "    # convert text to lowercase \n",
    "    text = text.lower()\n",
    "    \n",
    "    return text\n",
    "\n",
    "# Tokenizer function using spacy\n",
    "def text_pipeline_spacy(text):\n",
    "    tokens = []\n",
    "    text = clean_text(text)\n",
    "    doc = nlp(text)\n",
    "    for t in doc:\n",
    "        if not t.is_stop and not t.is_punct and not t.is_space:\n",
    "            tokens.append(t.lemma_.lower())\n",
    "    return tokens\n",
    "\n",
    "vectorizer = TfidfVectorizer(tokenizer = text_pipeline_spacy)\n",
    "vectorizer.fit(texts_train)\n",
    "\n",
    "texts_train_vect = vectorizer.transform(texts_train)\n",
    "texts_val_vect = vectorizer.transform(texts_val)\n",
    "\n",
    "print(texts_train_vect.shape)\n",
    "print(texts_val_vect.shape)"
   ]
  },
  {
   "cell_type": "markdown",
   "id": "7672a8ec",
   "metadata": {
    "id": "7672a8ec"
   },
   "source": [
    "#### The vectorizer is fit only on the training split because later on I want to see how other models perform on 'unseen' data, namely the validation and test split. Therefore, the vocabulary size is 27040."
   ]
  },
  {
   "cell_type": "markdown",
   "id": "31920459",
   "metadata": {
    "id": "31920459"
   },
   "source": [
    "#### Step 1: Pick k random centroids method."
   ]
  },
  {
   "cell_type": "code",
   "execution_count": null,
   "id": "f379c85f",
   "metadata": {
    "id": "f379c85f"
   },
   "outputs": [],
   "source": [
    "# Make a new dictionary in order to keep track of each vector's assigned centroid.\n",
    "texts_train_vect_dict = {i: {'vector':texts_train_vect[i]} for i in range(texts_train_vect.shape[0])}\n",
    "\n",
    "def pick_centroids(vectors, k):\n",
    "    ret = {}\n",
    "    indices = random.sample([*range(len(vectors))], k)\n",
    "    \n",
    "    for i in range(k):\n",
    "        ret[i] = vectors[indices[i]]['vector']\n",
    "        \n",
    "    return ret"
   ]
  },
  {
   "cell_type": "markdown",
   "id": "d469fe48",
   "metadata": {
    "id": "d469fe48"
   },
   "source": [
    "#### Step 2: Assign each vector to its closest centroid method."
   ]
  },
  {
   "cell_type": "code",
   "execution_count": null,
   "id": "2b75ba38",
   "metadata": {
    "id": "2b75ba38"
   },
   "outputs": [],
   "source": [
    "from sklearn.metrics.pairwise import cosine_similarity\n",
    "\n",
    "# I use cosine similarity from sklearn, rather than Euclidean distance, for better results.\n",
    "def assign_vectors(vectors, centroids):\n",
    "    for idx_vec in vectors:\n",
    "        max_sim = -1\n",
    "        for idx_cen in centroids:\n",
    "            cos_sim = cosine_similarity(vectors[idx_vec]['vector'], centroids[idx_cen])\n",
    "            if cos_sim > max_sim:\n",
    "                max_sim = cos_sim\n",
    "                vectors[idx_vec]['centroid'] = idx_cen"
   ]
  },
  {
   "cell_type": "markdown",
   "id": "74b54418",
   "metadata": {
    "id": "74b54418"
   },
   "source": [
    "#### Step 3: Recalculate centroids method."
   ]
  },
  {
   "cell_type": "code",
   "execution_count": null,
   "id": "421c040c",
   "metadata": {
    "id": "421c040c"
   },
   "outputs": [],
   "source": [
    "# Step 3: Recalculate centroids\n",
    "def recalc_centroids(vectors, centroids):\n",
    "    centroids_counts = {i: {'count': 0} for i in range(len(centroids))}\n",
    "    \n",
    "    for vector in vectors.values():\n",
    "        cen = vector['centroid']\n",
    "        if 'sum' not in centroids_counts[cen]:\n",
    "            centroids_counts[cen]['sum'] = vector['vector']\n",
    "        else:\n",
    "            centroids_counts[cen]['sum'] += vector['vector']\n",
    "            \n",
    "        centroids_counts[cen]['count'] += 1\n",
    "            \n",
    "    return {idx: centroids_counts[idx]['sum'] / centroids_counts[idx]['count'] for idx in range(len(centroids))}"
   ]
  },
  {
   "cell_type": "markdown",
   "id": "e69b084e",
   "metadata": {
    "id": "e69b084e"
   },
   "source": [
    "#### Final step: implementing K-means by using all methods defined above.\n",
    "Also defining one extra method for printing purposes."
   ]
  },
  {
   "cell_type": "code",
   "execution_count": null,
   "id": "e75c3ada",
   "metadata": {
    "id": "e75c3ada",
    "outputId": "d41ae3fd-0a71-4b5b-adc2-969313e7c893",
    "scrolled": true
   },
   "outputs": [
    {
     "name": "stdout",
     "output_type": "stream",
     "text": [
      "Iteration 1: Counter({4: 1496, 1: 1455, 2: 1099, 0: 734, 3: 667})\n",
      "Iteration 2: Counter({4: 1536, 1: 1506, 2: 1018, 0: 720, 3: 671})\n",
      "Iteration 3: Counter({4: 1676, 1: 1520, 2: 978, 0: 653, 3: 624})\n",
      "Iteration 4: Counter({4: 1763, 1: 1469, 2: 1025, 0: 598, 3: 596})\n",
      "Iteration 5: Counter({4: 1794, 1: 1444, 2: 1042, 3: 593, 0: 578})\n",
      "Iteration 6: Counter({4: 1797, 1: 1433, 2: 1054, 3: 595, 0: 572})\n",
      "Iteration 7: Counter({4: 1801, 1: 1422, 2: 1054, 3: 597, 0: 577})\n",
      "Iteration 8: Counter({4: 1805, 1: 1419, 2: 1058, 3: 596, 0: 573})\n",
      "Iteration 9: Counter({4: 1809, 1: 1409, 2: 1061, 3: 596, 0: 576})\n",
      "Iteration 10: Counter({4: 1812, 1: 1405, 2: 1062, 3: 597, 0: 575})\n",
      "Iteration 11: Counter({4: 1812, 1: 1401, 2: 1066, 3: 597, 0: 575})\n",
      "Iteration 12: Counter({4: 1818, 1: 1395, 2: 1068, 3: 597, 0: 573})\n",
      "Iteration 13: Counter({4: 1819, 1: 1385, 2: 1068, 3: 598, 0: 581})\n",
      "Iteration 14: Counter({4: 1819, 1: 1374, 2: 1069, 3: 598, 0: 591})\n",
      "Iteration 15: Counter({4: 1820, 1: 1359, 2: 1068, 0: 604, 3: 600})\n",
      "Iteration 16: Counter({4: 1820, 1: 1333, 2: 1073, 0: 625, 3: 600})\n",
      "Iteration 17: Counter({4: 1822, 1: 1308, 2: 1079, 0: 641, 3: 601})\n",
      "Iteration 18: Counter({4: 1823, 1: 1289, 2: 1084, 0: 655, 3: 600})\n",
      "Iteration 19: Counter({4: 1826, 1: 1264, 2: 1085, 0: 674, 3: 602})\n",
      "Iteration 20: Counter({4: 1830, 1: 1246, 2: 1079, 0: 694, 3: 602})\n",
      "Iteration 21: Counter({4: 1832, 1: 1232, 2: 1084, 0: 699, 3: 604})\n",
      "Iteration 22: Counter({4: 1832, 1: 1224, 2: 1079, 0: 710, 3: 606})\n",
      "Iteration 23: Counter({4: 1837, 1: 1211, 2: 1075, 0: 719, 3: 609})\n",
      "Iteration 24: Counter({4: 1834, 1: 1206, 2: 1078, 0: 724, 3: 609})\n",
      "Iteration 25: Counter({4: 1834, 1: 1197, 2: 1079, 0: 732, 3: 609})\n",
      "Iteration 26: Counter({4: 1832, 1: 1191, 2: 1079, 0: 739, 3: 610})\n",
      "Iteration 27: Counter({4: 1832, 1: 1186, 2: 1077, 0: 746, 3: 610})\n",
      "Iteration 28: Counter({4: 1833, 1: 1179, 2: 1074, 0: 755, 3: 610})\n",
      "Iteration 29: Counter({4: 1834, 1: 1170, 2: 1074, 0: 763, 3: 610})\n",
      "Iteration 30: Counter({4: 1836, 1: 1165, 2: 1074, 0: 766, 3: 610})\n",
      "Iteration 31: Counter({4: 1839, 1: 1160, 2: 1074, 0: 768, 3: 610})\n",
      "Iteration 32: Counter({4: 1844, 1: 1155, 2: 1075, 0: 767, 3: 610})\n",
      "Iteration 33: Counter({4: 1842, 1: 1154, 2: 1078, 0: 767, 3: 610})\n",
      "Iteration 34: Counter({4: 1843, 1: 1154, 2: 1079, 0: 767, 3: 608})\n",
      "Iteration 35: Counter({4: 1842, 1: 1154, 2: 1079, 0: 768, 3: 608})\n",
      "Iteration 36: Counter({4: 1841, 1: 1154, 2: 1078, 0: 770, 3: 608})\n",
      "Iteration 37: Counter({4: 1842, 1: 1153, 2: 1076, 0: 771, 3: 609})\n",
      "Iteration 38: Counter({4: 1843, 1: 1152, 2: 1076, 0: 771, 3: 609})\n",
      "Iteration 39: Counter({4: 1844, 1: 1151, 2: 1076, 0: 771, 3: 609})\n",
      "Iteration 40: Counter({4: 1844, 1: 1148, 2: 1077, 0: 773, 3: 609})\n",
      "Iteration 41: Counter({4: 1845, 1: 1147, 2: 1077, 0: 773, 3: 609})\n",
      "Iteration 42: Counter({4: 1846, 1: 1146, 2: 1077, 0: 773, 3: 609})\n",
      "Final clusters:  Counter({4: 1846, 1: 1146, 2: 1077, 0: 773, 3: 609})\n"
     ]
    }
   ],
   "source": [
    "# Function that gets counts for every centroid.\n",
    "def get_centroids_counts(vectors):\n",
    "    return Counter([vector['centroid'] for vector in vectors.values()])\n",
    "\n",
    "def Kmeans(vectors, k):\n",
    "    centroids = pick_centroids(vectors, k)\n",
    "    assign_vectors(vectors, centroids)\n",
    "    \n",
    "    diff = 1\n",
    "    idx = 0\n",
    "    while diff != 0:\n",
    "        old_centroid_counts = get_centroids_counts(vectors)\n",
    "        print(f\"Iteration {idx + 1}:\", old_centroid_counts)\n",
    "        \n",
    "        centroids = recalc_centroids(vectors, centroids)\n",
    "        assign_vectors(vectors, centroids)\n",
    "        \n",
    "        new_centroid_counts = get_centroids_counts(vectors)\n",
    "        \n",
    "        # Check if there is still a difference in centroids' counts.\n",
    "        diff = 0\n",
    "        for i in range(k):\n",
    "            diff += abs(new_centroid_counts[i] - old_centroid_counts[i])\n",
    "        \n",
    "        idx = idx + 1\n",
    "        \n",
    "    print(\"Final clusters: \", new_centroid_counts)\n",
    "    \n",
    "    return centroids\n",
    "        \n",
    "        \n",
    "centroids = Kmeans(texts_train_vect_dict, 5)"
   ]
  },
  {
   "cell_type": "markdown",
   "id": "50b78eb8",
   "metadata": {
    "id": "50b78eb8"
   },
   "source": [
    "#### Choose 2 movies for each centroid, and also top 5 most representative tokens in each centroid."
   ]
  },
  {
   "cell_type": "code",
   "execution_count": null,
   "id": "11d4be18",
   "metadata": {
    "id": "11d4be18",
    "outputId": "232f122a-56f6-4f5e-c3fd-1789cd7ac878"
   },
   "outputs": [
    {
     "name": "stderr",
     "output_type": "stream",
     "text": [
      "C:\\Users\\andre\\anaconda3\\lib\\site-packages\\sklearn\\utils\\deprecation.py:87: FutureWarning: Function get_feature_names is deprecated; get_feature_names is deprecated in 1.0 and will be removed in 1.2. Please use get_feature_names_out instead.\n",
      "  warnings.warn(msg, category=FutureWarning)\n"
     ]
    },
    {
     "name": "stdout",
     "output_type": "stream",
     "text": [
      "Centroid 1:  ['world', 'earth', 'team', 'alien', 'human']\n",
      "Movie 1: \n",
      " Label: action \n",
      " Title: Gallagher's Travels (1987)\n",
      " Description:When reporter Danny Gallagher and photographer Sally Woodrow team-up to crack an international animal smuggling racket, the gang behind the operation leads the reckless pair on a chase across Australia straight into the jaws of fatal danger.\n",
      "\n",
      "\n",
      "Movie 2: \n",
      " Label: action \n",
      " Title: Rodina zhdyot (2003)\n",
      " Description:Somewhere in the Middle East, undercover agent Victor Bystroletov arrives in one of the oil kingdoms posing as an international journalist. His true goal is to contact a former terrorist named Javad. It has been several years since the holy warrior lay down his weapons and disappeared. Interpol is looking for him, as are his former jihad brothers, who have put a death sentence on his head for betrayal\n",
      "\n",
      "\n",
      "<------------------------------>\n",
      "Centroid 2:  ['film', 'story', 'movie', 'world', 'life']\n",
      "Movie 1: \n",
      " Label: comedy \n",
      " Title: White Cargo (1973)\n",
      " Description:David Jason's most famous film appearance of the 1970's was opposite Graham Chapman in 'The Odd Job' but five years earlier he played the lead role in this very low budget comedy. His character is a daydreamer but he manages to get caught up in an adventure involving the hugely underated Imogen Hassall. There is even an appearance from a pre Darth Vader Dave Prowse although his character closer resembles the one he played in 'Callan'.\n",
      "\n",
      "\n",
      "Movie 2: \n",
      " Label: horror \n",
      " Title: Paranorma There Is Always a Dark Side (2011)\n",
      " Description:Khaled an ordinary man went to an ordinary hospital on an ordinary day, there he met an unusual character Sommer, who tells Khaled some stories happened around the hospital area which were meant to be true. First story is about a guy who was a naturist and use to visits his favorite tree location, and later on he gets possessed by the tree and went into killing spree. Second story is about a haunted house which was once investigated by some ghost hunter TV show hosts and then they all got mysteriously disappeared. Third and the last story was about a traveler who went into a surreal world where he sees unusual things and creepy surroundings, and meets the devil too. After telling these stories Khaled later on realizes that his life turned into a curse and he went into flash backs what ever happens to them is now happening to him.\n",
      "\n",
      "\n",
      "<------------------------------>\n",
      "Centroid 3:  ['man', 'murder', 'kill', 'find', 'wife']\n",
      "Movie 1: \n",
      " Label: thriller \n",
      " Title: Khatra (1991)\n",
      " Description:A doctor is researching on ways to rekindle life into humans after death. He is successful with some chemicals and electric shocks but at the cost of going against nature. A dead man is alive who is dumb and just follows what the doctor says. But doesn't know love vs lust and in the bargain kills any woman he comes across, also kills the doctor. An inspector is set to stop and catch this man. The dead nan alive is a horror for all and also his body has acid instead of blood. Will he be caught or be killed or will he remain the terror?\n",
      "\n",
      "\n",
      "Movie 2: \n",
      " Label: thriller \n",
      " Title: Path of Egress (2017)\n",
      " Description:A story about three close friends: Ray (a mover for the mob), Udjenzo (a hitman for the mob), and Leigh (Ray's childhood friend). Leigh attempts to prove himself by providing information about the perfect heist. A heist so lucrative, that it convinces Ray to bring it to his boss Bub, a man who doesn't usually get his hands dirty. Bub decides to oversee the job himself. Consequently, Ray is pulled in by the FBI which makes him question his friendship with Leigh.\n",
      "\n",
      "\n",
      "<------------------------------>\n",
      "Centroid 4:  ['gang', 'ranch', 'town', 'sheriff', 'kill']\n",
      "Movie 1: \n",
      " Label: western \n",
      " Title: The Fargo Kid (1940)\n",
      " Description:In this light comedy, the Fargo Kid rides into town on an outlaw's horse and when mistaken for him, is hired to kill a man. There is a reward for the outlaw and the Kid's pal Whoppper not realizing what has happened, alerts the Sheriff in hope of earning the reward. Thinking himself a good judge of character he even enlists the outlaw's help in the capture. In a remake of RKO's 1933 The Cheyenne Kid starring Tom Keene, and one of the few B-westerns played as a comedy while hanging onto the action and heroics of the standard series westerns, The Fargo Kid rides into Micaville (a favorite town name in RKO westerns) on a sorrel horse he won in a draw on the road with gunman Deuce Mallory. The horse identifies him to crooks Nick Kane and Bush Cleveland as killer-for-hire Mallory, and they promptly pay him $5000 to kill prospector Caleb Winters. Curious, the Kid goes to Winters and finds him hostile toward anyone wanting to buy his land and claim as he believes he will hit paydirt soon. Meanwhile, the real Mallory has contacted Deuce and sent him to shoot Winters on sight and get the $5000 back from the Kid. Unaware of this development, the Kid walks into Nick's trap (who can't find the money on him), and then into the hands of Sheriff Dave, who thinks he is Mallory. With the aid of his pals, Johnny and Whopper, the Kid escapes, corrals Nick and the weasel-like Bush and herds them to Winter's cabin where Bush spills the truth---Nick wants Winters killed so he can buy the land cheap from Winters' daughter Jenny and wife Sarah, as he knows Winters is only 15 feet from a rich vein. The Kid turns Nick, Bush and Mallory over to the sheriff. As he and his pals ride off, he removes the rolled-up paper money from the barrel of his gun, where he had hidden it.\n",
      "\n",
      "\n",
      "Movie 2: \n",
      " Label: drama \n",
      " Title: Taiyô no hakaba (1960)\n",
      " Description:In Osaka's slum, youth without futures engage in pilfering, assault and robbery, prostitution, and the buying and selling of identity cards and of blood. Alliances constantly shift. Tatsu and Takeshi, friends since boyhood, reluctantly join Shin's gang. Shin's an upstart and moves his gang often to avoid the local kingpin. Hanoko is a young woman with ambitions: first she's in the blood business with her father, then she joins forces with Shin. She soon breaks off that partnership, even though she's taken the sensitive Takeshi under her wing. Double crosses multiply. Those with the closest bonds become each others' murderers.\n",
      "\n",
      "\n",
      "<------------------------------>\n",
      "Centroid 5:  ['love', 'life', 'girl', 'friend', 'family']\n",
      "Movie 1: \n",
      " Label: drama \n",
      " Title: Second Best (1994)\n",
      " Description:Graham Holt is a lonely middle-aged man who runs a postal substation in a small village in England. He decides to adopt a son. James is the troubled youth he gets with the assistance of social worker Debbie. James has been in an orphanage for years since his mother committed suicide. He adores his outlaw father John, sent to prison not long after the mother's death. Can James learn to love Graham? Can Graham settle for being second best?\n",
      "\n",
      "\n",
      "Movie 2: \n",
      " Label: horror \n",
      " Title: The Demons Within (2018)\n",
      " Description:Based on terrifyingly true events, When Demons infest the cell phone of a troubled teenage girl, her demonic possession soon follows, forcing her atheist parents to seek the help of a young catholic priest in order to survive the unspeakable evil taking over their lives.\n",
      "\n",
      "\n",
      "<------------------------------>\n"
     ]
    }
   ],
   "source": [
    "import numpy as np\n",
    "\n",
    "# Get vocabulary\n",
    "vocabulary = vectorizer.get_feature_names_out()\n",
    "\n",
    "def get_top_tokens(centroid, vocabulary, k):\n",
    "    most_freq_ind = np.argsort([centroid[0, i] for i in range(centroid.shape[1])] )[::-1]\n",
    "    five_best = [vocabulary[most_freq_ind[i]] for i in range(5)]\n",
    "    return five_best\n",
    "\n",
    "def get_documents(centroid_idx, vectors, k):\n",
    "    num = 0\n",
    "    idx = 0\n",
    "    while num < 2:\n",
    "        if vectors[idx]['centroid'] == centroid_idx:\n",
    "            \n",
    "            # I know this is slow, but couldn't think of faster way\n",
    "            # without re-writing the data structures.\n",
    "            for movie in movies:\n",
    "                if movie['description'] == texts_train[idx]:\n",
    "                    title = movie['title']\n",
    "            \n",
    "            print(f\"Movie {num+1}: \\n Label: {labels_train[idx]} \\n Title: {title}\\n Description:{texts_train[idx]}\")\n",
    "            print()\n",
    "            num += 1\n",
    "        idx += 1\n",
    "        \n",
    "# Print tokens for each centroid and 2 movies\n",
    "for j in range(5):\n",
    "    five_best = get_top_tokens(centroids[j], vocabulary, 5)\n",
    "    print(f\"Centroid {j + 1}: \", five_best)\n",
    "    get_documents(j, texts_train_vect_dict, 2)\n",
    "    print(\"<------------------------------>\")\n",
    "    "
   ]
  },
  {
   "cell_type": "markdown",
   "id": "2d5d9e03",
   "metadata": {
    "id": "2d5d9e03"
   },
   "source": [
    "#### Plot the confusion matrix for the train split."
   ]
  },
  {
   "cell_type": "code",
   "execution_count": 40,
   "id": "b17ab916",
   "metadata": {},
   "outputs": [],
   "source": [
    "import numpy as np\n",
    "import seaborn as sn\n",
    "\n",
    "def plotConfusionMatrix(cm, labels_x, labels_y):\n",
    "    colour_map = sn.color_palette(\"Reds\", as_cmap=True)\n",
    "    \n",
    "    plot = sn.heatmap(cm, \n",
    "                    annot=True, # Put the numbers in\n",
    "                    annot_kws={\"size\": 16}, # Make the numbers bigger\n",
    "                    fmt='g', # Stop scientific notation\n",
    "                    cmap = colour_map, # Choose the colour palette\n",
    "                    cbar = False, # Don't include the colour bar\n",
    "                    xticklabels=labels_x, # Put in the X and Y labels\n",
    "                    yticklabels=labels_y)"
   ]
  },
  {
   "cell_type": "code",
   "execution_count": null,
   "id": "562c118a",
   "metadata": {
    "id": "562c118a",
    "outputId": "a0e7d5e1-ec4c-456f-dd86-6622d20bf6a1",
    "scrolled": false
   },
   "outputs": [
    {
     "data": {
      "image/png": "[encoded data removed]",
      "text/plain": [
       "<Figure size 432x288 with 1 Axes>"
      ]
     },
     "metadata": {
      "needs_background": "light"
     },
     "output_type": "display_data"
    }
   ],
   "source": [
    "labels_x = ['drama', 'thriller', 'comedy', 'horror', 'action', 'western', 'romance', 'adventure', 'sci-fi', 'other']\n",
    "labels_y = ['1', '2', '3', '4', '5']\n",
    "\n",
    "cm = np.zeros((5, 10))\n",
    "for i in range(len(labels_train)):\n",
    "    cm[texts_train_vect_dict[i]['centroid'], labels_x.index(labels_train[i])] += 1\n",
    "\n",
    "plotConfusionMatrix(cm, labels_x, labels_y)"
   ]
  },
  {
   "cell_type": "markdown",
   "id": "f58ccf9e",
   "metadata": {
    "id": "f58ccf9e"
   },
   "source": [
    "# Q3 - Comparing Classifiers"
   ]
  },
  {
   "cell_type": "markdown",
   "id": "a88defb3",
   "metadata": {
    "id": "a88defb3"
   },
   "source": [
    "### (a)\n",
    "#### For the validation set:"
   ]
  },
  {
   "cell_type": "code",
   "execution_count": 10,
   "id": "c1921026",
   "metadata": {
    "id": "c1921026"
   },
   "outputs": [],
   "source": [
    "from sklearn.dummy import DummyClassifier\n",
    "from sklearn.feature_extraction.text import CountVectorizer\n",
    "from sklearn.linear_model import LogisticRegression\n",
    "from sklearn.metrics import f1_score, accuracy_score, precision_score, recall_score\n",
    "from sklearn.svm import SVC"
   ]
  },
  {
   "cell_type": "markdown",
   "id": "beaa0209",
   "metadata": {
    "id": "beaa0209"
   },
   "source": [
    "#### Dummy classifier with strategy \"most_frequent\"."
   ]
  },
  {
   "cell_type": "code",
   "execution_count": null,
   "id": "e3d2c9a9",
   "metadata": {
    "colab": {
     "base_uri": "https://localhost:8080/"
    },
    "id": "e3d2c9a9",
    "outputId": "f4feba84-67f9-4c7d-fc93-1901705470fa"
   },
   "outputs": [
    {
     "name": "stdout",
     "output_type": "stream",
     "text": [
      "Dummy classifier with strategy='most_frequent':\n",
      "Accuracy: 0.09741331865712713\n",
      "Precision: 0.009741331865712712\n",
      "Recall: 0.1\n",
      "F1 Score: 0.01775325977933801\n"
     ]
    },
    {
     "name": "stderr",
     "output_type": "stream",
     "text": [
      "/usr/local/lib/python3.9/dist-packages/sklearn/metrics/_classification.py:1344: UndefinedMetricWarning: Precision is ill-defined and being set to 0.0 in labels with no predicted samples. Use `zero_division` parameter to control this behavior.\n",
      "  _warn_prf(average, modifier, msg_start, len(result))\n"
     ]
    }
   ],
   "source": [
    "# Fit clf on train and test on val\n",
    "dummy_clf_freq = DummyClassifier(strategy=\"most_frequent\")\n",
    "dummy_clf_freq.fit(texts_train_vect,labels_train)\n",
    "predictions = dummy_clf_freq.predict(texts_val_vect)\n",
    "\n",
    "# Metrics\n",
    "accuracy_dummy_clf_freq = accuracy_score(labels_val, predictions)\n",
    "f1_dummy_clf_freq = f1_score(labels_val, predictions, average='macro')\n",
    "precision_dummy_clf_freq = precision_score(labels_val, predictions, average='macro')\n",
    "recall_dumy_clf_freq = recall_score(labels_val, predictions, average='macro')\n",
    "\n",
    "print(\"Dummy classifier with strategy='most_frequent':\")\n",
    "print(f\"Accuracy: {accuracy_dummy_clf_freq}\")\n",
    "print(f\"Precision: {precision_dummy_clf_freq}\")\n",
    "print(f\"Recall: {recall_dumy_clf_freq}\")\n",
    "print(f\"F1 Score: {f1_dummy_clf_freq}\")"
   ]
  },
  {
   "cell_type": "markdown",
   "id": "55cda869",
   "metadata": {
    "id": "55cda869"
   },
   "source": [
    "#### Dummy classifier with strategy \"stratified\"."
   ]
  },
  {
   "cell_type": "code",
   "execution_count": null,
   "id": "5fe203f4",
   "metadata": {
    "colab": {
     "base_uri": "https://localhost:8080/"
    },
    "id": "5fe203f4",
    "outputId": "df327837-ac67-474d-dc7c-e4f538c33467",
    "scrolled": true
   },
   "outputs": [
    {
     "name": "stdout",
     "output_type": "stream",
     "text": [
      "Dummy classifier with strategy='stratified':\n",
      "Accuracy: 0.08805723720418272\n",
      "Precision: 0.08521701757549713\n",
      "Recall: 0.08495808778869034\n",
      "F1 Score: 0.0849136503191141\n"
     ]
    }
   ],
   "source": [
    "# Fit clf on train and test on val\n",
    "dummy_clf_strat = DummyClassifier(strategy=\"stratified\")\n",
    "dummy_clf_strat.fit(texts_train_vect,labels_train)\n",
    "predictions = dummy_clf_strat.predict(texts_val_vect)\n",
    "\n",
    "# Metrics\n",
    "accuracy_dummy_clf_strat = accuracy_score(labels_val, predictions)\n",
    "f1_dummy_clf_strat = f1_score(labels_val, predictions, average='macro')\n",
    "precision_dummy_clf_strat = precision_score(labels_val, predictions, average='macro')\n",
    "recall_dummy_clf_strat = recall_score(labels_val, predictions, average='macro')\n",
    "\n",
    "print(\"Dummy classifier with strategy='stratified':\")\n",
    "print(f\"Accuracy: {accuracy_dummy_clf_strat}\")\n",
    "print(f\"Precision: {precision_dummy_clf_strat}\")\n",
    "print(f\"Recall: {recall_dummy_clf_strat}\")\n",
    "print(f\"F1 Score: {f1_dummy_clf_strat}\")"
   ]
  },
  {
   "cell_type": "markdown",
   "id": "7fcdb41b",
   "metadata": {
    "id": "7fcdb41b"
   },
   "source": [
    "#### Creating one-hot vectorization."
   ]
  },
  {
   "cell_type": "code",
   "execution_count": null,
   "id": "ac7b1fc9",
   "metadata": {
    "colab": {
     "base_uri": "https://localhost:8080/"
    },
    "id": "ac7b1fc9",
    "outputId": "b3578ec3-a1f6-45e7-e960-90b1916318b6"
   },
   "outputs": [
    {
     "name": "stderr",
     "output_type": "stream",
     "text": [
      "/usr/local/lib/python3.9/dist-packages/sklearn/feature_extraction/text.py:528: UserWarning: The parameter 'token_pattern' will not be used since 'tokenizer' is not None'\n",
      "  warnings.warn(\n"
     ]
    }
   ],
   "source": [
    "count_vec = CountVectorizer(tokenizer = text_pipeline_spacy, token_pattern=u'(?u)\\b\\w*[a-zA-Z]\\w*\\b')\n",
    "count_vec.fit(texts_train)\n",
    "\n",
    "texts_train_vect_one = count_vec.transform(texts_train)\n",
    "texts_val_vect_one = count_vec.transform(texts_val)"
   ]
  },
  {
   "cell_type": "code",
   "execution_count": null,
   "id": "1e299612",
   "metadata": {
    "id": "1e299612"
   },
   "outputs": [],
   "source": [
    "# Since count vectorizer actually computes frequency, I need to change everything to 1\n",
    "texts_train_vect_one[texts_train_vect_one[:] > 0] = 1\n",
    "texts_val_vect_one[texts_val_vect_one[:] > 0] = 1"
   ]
  },
  {
   "cell_type": "markdown",
   "id": "41208280",
   "metadata": {
    "id": "41208280"
   },
   "source": [
    "#### Logistic regression with One-hot vectorization"
   ]
  },
  {
   "cell_type": "code",
   "execution_count": null,
   "id": "8f438530",
   "metadata": {
    "colab": {
     "base_uri": "https://localhost:8080/"
    },
    "id": "8f438530",
    "outputId": "a291fa5f-9731-4e8b-e03a-afdffa88adf9",
    "scrolled": true
   },
   "outputs": [
    {
     "name": "stdout",
     "output_type": "stream",
     "text": [
      "Logistic regression with One-hot vectorization:\n",
      "Accuracy: 0.5338470005503577\n",
      "Precision: 0.5418902364224442\n",
      "Recall: 0.5299406110748355\n",
      "F1 Score: 0.534691416081554\n"
     ]
    }
   ],
   "source": [
    "# Fit clf on train and test data\n",
    "logistic_regression_one = LogisticRegression(max_iter=500)\n",
    "lr_clf_one = logistic_regression_one.fit(texts_train_vect_one, labels_train)\n",
    "predictions = lr_clf_one.predict(texts_val_vect_one)\n",
    "\n",
    "# Metrics\n",
    "accuracy_lr_one = accuracy_score(labels_val, predictions)\n",
    "f1_lr_one = f1_score(labels_val, predictions, average='macro')\n",
    "precision_lr_one = precision_score(labels_val, predictions, average='macro')\n",
    "recall_lr_one = recall_score(labels_val, predictions, average='macro')\n",
    "\n",
    "print(\"Logistic regression with One-hot vectorization:\")\n",
    "print(f\"Accuracy: {accuracy_lr_one}\")\n",
    "print(f\"Precision: {precision_lr_one}\")\n",
    "print(f\"Recall: {recall_lr_one}\")\n",
    "print(f\"F1 Score: {f1_lr_one}\")"
   ]
  },
  {
   "cell_type": "markdown",
   "id": "9cfd7dc3",
   "metadata": {
    "id": "9cfd7dc3"
   },
   "source": [
    "#### Logistic regression with TF-IDF vectorization."
   ]
  },
  {
   "cell_type": "code",
   "execution_count": null,
   "id": "5add2fe7",
   "metadata": {
    "colab": {
     "base_uri": "https://localhost:8080/"
    },
    "id": "5add2fe7",
    "outputId": "45fc92d2-d53d-4bef-e00b-4b31716ceeaa",
    "scrolled": true
   },
   "outputs": [
    {
     "name": "stdout",
     "output_type": "stream",
     "text": [
      "Logistic regression with TF-IDF:\n",
      "Accuracy: 0.5608145294441387\n",
      "Precision: 0.5738037762741787\n",
      "Recall: 0.549607860561738\n",
      "F1 Score: 0.555218886974558\n"
     ]
    }
   ],
   "source": [
    "lr_clf_tfidf = logistic_regression_one.fit(texts_train_vect, labels_train)\n",
    "predictions = lr_clf_tfidf.predict(texts_val_vect)\n",
    "\n",
    "# Metrics\n",
    "accuracy_lr_tfidf = accuracy_score(labels_val, predictions)\n",
    "f1_lr_tfidf = f1_score(labels_val, predictions, average='macro')\n",
    "precision_lr_tfidf = precision_score(labels_val, predictions, average='macro')\n",
    "recall_lr_tfidf = recall_score(labels_val, predictions, average='macro')\n",
    "\n",
    "print(\"Logistic regression with TF-IDF:\")\n",
    "print(f\"Accuracy: {accuracy_lr_tfidf}\")\n",
    "print(f\"Precision: {precision_lr_tfidf}\")\n",
    "print(f\"Recall: {recall_lr_tfidf}\")\n",
    "print(f\"F1 Score: {f1_lr_tfidf}\")"
   ]
  },
  {
   "cell_type": "markdown",
   "id": "2ad147eb",
   "metadata": {
    "id": "2ad147eb"
   },
   "source": [
    "#### SVC with One-hot vectorization (SVM with RBF kernel)"
   ]
  },
  {
   "cell_type": "code",
   "execution_count": null,
   "id": "a133704b",
   "metadata": {
    "colab": {
     "base_uri": "https://localhost:8080/"
    },
    "id": "a133704b",
    "outputId": "27d4736a-7b45-49a8-cdb3-3c93424b062f",
    "scrolled": true
   },
   "outputs": [
    {
     "name": "stdout",
     "output_type": "stream",
     "text": [
      "SVC with One-hot vectorization:\n",
      "Accuracy: 0.5107319757842598\n",
      "Precision: 0.540661913349804\n",
      "Recall: 0.49759924879335526\n",
      "F1 Score: 0.5066283877917602\n"
     ]
    }
   ],
   "source": [
    "# Fit clf on train and test data\n",
    "svc = SVC()\n",
    "svc_clf = svc.fit(texts_train_vect_one, labels_train)\n",
    "predictions = svc.predict(texts_val_vect_one)\n",
    "\n",
    "# Metrics\n",
    "accuracy_svc = accuracy_score(labels_val, predictions)\n",
    "f1_svc = f1_score(labels_val, predictions, average='macro')\n",
    "precision_svc = precision_score(labels_val, predictions, average='macro')\n",
    "recall_svc = recall_score(labels_val, predictions, average='macro')\n",
    "\n",
    "print(\"SVC with One-hot vectorization:\")\n",
    "print(f\"Accuracy: {accuracy_svc}\")\n",
    "print(f\"Precision: {precision_svc}\")\n",
    "print(f\"Recall: {recall_svc}\")\n",
    "print(f\"F1 Score: {f1_svc}\")"
   ]
  },
  {
   "cell_type": "markdown",
   "id": "8028c9eb",
   "metadata": {
    "id": "8028c9eb"
   },
   "source": [
    "#### For the training set:"
   ]
  },
  {
   "cell_type": "markdown",
   "id": "bd67734b",
   "metadata": {
    "id": "bd67734b"
   },
   "source": [
    "#### Dummy classifier with strategy \"most_frequent\"."
   ]
  },
  {
   "cell_type": "code",
   "execution_count": null,
   "id": "ceffcef4",
   "metadata": {
    "colab": {
     "base_uri": "https://localhost:8080/"
    },
    "id": "ceffcef4",
    "outputId": "a18e0382-7105-44b0-ac46-8e1524eed8cd",
    "scrolled": true
   },
   "outputs": [
    {
     "name": "stdout",
     "output_type": "stream",
     "text": [
      "Dummy classifier with strategy='most_frequent':\n",
      "Accuracy: 0.11447440836543754\n",
      "Precision: 0.011447440836543754\n",
      "Recall: 0.1\n",
      "F1 Score: 0.020543209876543213\n"
     ]
    },
    {
     "name": "stderr",
     "output_type": "stream",
     "text": [
      "/usr/local/lib/python3.9/dist-packages/sklearn/metrics/_classification.py:1344: UndefinedMetricWarning: Precision is ill-defined and being set to 0.0 in labels with no predicted samples. Use `zero_division` parameter to control this behavior.\n",
      "  _warn_prf(average, modifier, msg_start, len(result))\n"
     ]
    }
   ],
   "source": [
    "# Fit clf on train and test on val\n",
    "dummy_clf_freq = DummyClassifier(strategy=\"most_frequent\")\n",
    "dummy_clf_freq.fit(texts_train_vect, labels_train)\n",
    "predictions = dummy_clf_freq.predict(texts_train_vect)\n",
    "\n",
    "# Metrics\n",
    "accuracy_dummy_clf_freq = accuracy_score(labels_train, predictions)\n",
    "f1_dummy_clf_freq = f1_score(labels_train, predictions, average='macro')\n",
    "precision_dummy_clf_freq = precision_score(labels_train, predictions, average='macro')\n",
    "recall_dumy_clf_freq = recall_score(labels_train, predictions, average='macro')\n",
    "\n",
    "print(\"Dummy classifier with strategy='most_frequent':\")\n",
    "print(f\"Accuracy: {accuracy_dummy_clf_freq}\")\n",
    "print(f\"Precision: {precision_dummy_clf_freq}\")\n",
    "print(f\"Recall: {recall_dumy_clf_freq}\")\n",
    "print(f\"F1 Score: {f1_dummy_clf_freq}\")"
   ]
  },
  {
   "cell_type": "markdown",
   "id": "23824e67",
   "metadata": {
    "id": "23824e67"
   },
   "source": [
    "#### Dummy classifier with strategy \"stratified\"."
   ]
  },
  {
   "cell_type": "code",
   "execution_count": null,
   "id": "e80e924c",
   "metadata": {
    "colab": {
     "base_uri": "https://localhost:8080/"
    },
    "id": "e80e924c",
    "outputId": "429bc140-145d-4a88-d4de-b6f4d62bb84c",
    "scrolled": true
   },
   "outputs": [
    {
     "name": "stdout",
     "output_type": "stream",
     "text": [
      "Dummy classifier with strategy='stratified':\n",
      "Accuracy: 0.10621904237754541\n",
      "Precision: 0.10411827832912168\n",
      "Recall: 0.10401814671173149\n",
      "F1 Score: 0.10400405792155538\n"
     ]
    }
   ],
   "source": [
    "# Fit clf on train and test on val\n",
    "dummy_clf_strat = DummyClassifier(strategy=\"stratified\")\n",
    "dummy_clf_strat.fit(texts_train_vect,labels_train)\n",
    "predictions = dummy_clf_strat.predict(texts_train_vect)\n",
    "\n",
    "# Metrics\n",
    "accuracy_dummy_clf_strat = accuracy_score(labels_train, predictions)\n",
    "f1_dummy_clf_strat = f1_score(labels_train, predictions, average='macro')\n",
    "precision_dummy_clf_strat = precision_score(labels_train, predictions, average='macro')\n",
    "recall_dummy_clf_strat = recall_score(labels_train, predictions, average='macro')\n",
    "\n",
    "print(\"Dummy classifier with strategy='stratified':\")\n",
    "print(f\"Accuracy: {accuracy_dummy_clf_strat}\")\n",
    "print(f\"Precision: {precision_dummy_clf_strat}\")\n",
    "print(f\"Recall: {recall_dummy_clf_strat}\")\n",
    "print(f\"F1 Score: {f1_dummy_clf_strat}\")"
   ]
  },
  {
   "cell_type": "markdown",
   "id": "7b5cbeab",
   "metadata": {
    "id": "7b5cbeab"
   },
   "source": [
    "#### Logistic regression with One-hot vectorization"
   ]
  },
  {
   "cell_type": "code",
   "execution_count": null,
   "id": "689e2047",
   "metadata": {
    "colab": {
     "base_uri": "https://localhost:8080/"
    },
    "id": "689e2047",
    "outputId": "0fb97276-7700-43d0-9516-154652902e9a"
   },
   "outputs": [
    {
     "name": "stdout",
     "output_type": "stream",
     "text": [
      "Logistic regression with One-hot vectorization:\n",
      "Accuracy: 1.0\n",
      "Precision: 1.0\n",
      "Recall: 1.0\n",
      "F1 Score: 1.0\n"
     ]
    }
   ],
   "source": [
    "# Fit clf on train and test data\n",
    "logistic_regression_one = LogisticRegression(max_iter=500)\n",
    "lr_clf_one = logistic_regression_one.fit(texts_train_vect_one, labels_train)\n",
    "predictions = lr_clf_one.predict(texts_train_vect_one)\n",
    "\n",
    "# Metrics\n",
    "accuracy_lr_one = accuracy_score(labels_train, predictions)\n",
    "f1_lr_one = f1_score(labels_train, predictions, average='macro')\n",
    "precision_lr_one = precision_score(labels_train, predictions, average='macro')\n",
    "recall_lr_one = recall_score(labels_train, predictions, average='macro')\n",
    "\n",
    "print(\"Logistic regression with One-hot vectorization:\")\n",
    "print(f\"Accuracy: {accuracy_lr_one}\")\n",
    "print(f\"Precision: {precision_lr_one}\")\n",
    "print(f\"Recall: {recall_lr_one}\")\n",
    "print(f\"F1 Score: {f1_lr_one}\")"
   ]
  },
  {
   "cell_type": "markdown",
   "id": "fc94777d",
   "metadata": {
    "id": "fc94777d"
   },
   "source": [
    "#### Logistic regression with TF-IDF vectorization"
   ]
  },
  {
   "cell_type": "code",
   "execution_count": null,
   "id": "47584fe9",
   "metadata": {
    "colab": {
     "base_uri": "https://localhost:8080/"
    },
    "id": "47584fe9",
    "outputId": "19ceb236-8c72-47f4-bcfc-1e780eb7be51"
   },
   "outputs": [
    {
     "name": "stdout",
     "output_type": "stream",
     "text": [
      "Logistic regression with TF-IDF:\n",
      "Accuracy: 0.9115758576407998\n",
      "Precision: 0.9142118819696788\n",
      "Recall: 0.9065041376529044\n",
      "F1 Score: 0.9096018222305954\n"
     ]
    }
   ],
   "source": [
    "lr_clf_tfidf = logistic_regression_one.fit(texts_train_vect, labels_train)\n",
    "predictions = lr_clf_tfidf.predict(texts_train_vect)\n",
    "\n",
    "# Metrics\n",
    "accuracy_lr_tfidf = accuracy_score(labels_train, predictions)\n",
    "f1_lr_tfidf = f1_score(labels_train, predictions, average='macro')\n",
    "precision_lr_tfidf = precision_score(labels_train, predictions, average='macro')\n",
    "recall_lr_tfidf = recall_score(labels_train, predictions, average='macro')\n",
    "\n",
    "print(\"Logistic regression with TF-IDF:\")\n",
    "print(f\"Accuracy: {accuracy_lr_tfidf}\")\n",
    "print(f\"Precision: {precision_lr_tfidf}\")\n",
    "print(f\"Recall: {recall_lr_tfidf}\")\n",
    "print(f\"F1 Score: {f1_lr_tfidf}\")"
   ]
  },
  {
   "cell_type": "markdown",
   "id": "2851cf89",
   "metadata": {
    "id": "2851cf89"
   },
   "source": [
    "#### SVC with One-hot vectorization (SVM with RBF kernel)."
   ]
  },
  {
   "cell_type": "code",
   "execution_count": null,
   "id": "cc3550c7",
   "metadata": {
    "colab": {
     "base_uri": "https://localhost:8080/"
    },
    "id": "cc3550c7",
    "outputId": "00c6a617-7d4e-438f-8466-4727c93f9579"
   },
   "outputs": [
    {
     "name": "stdout",
     "output_type": "stream",
     "text": [
      "SVC with One-hot vectorization:\n",
      "Accuracy: 0.9532195927352779\n",
      "Precision: 0.9542417434826211\n",
      "Recall: 0.9507521172158828\n",
      "F1 Score: 0.9522820725952847\n"
     ]
    }
   ],
   "source": [
    "# Fit clf on train and test data\n",
    "svc = SVC()\n",
    "svc_clf = svc.fit(texts_train_vect_one, labels_train)\n",
    "predictions = svc.predict(texts_train_vect_one)\n",
    "\n",
    "# Metrics\n",
    "accuracy_svc = accuracy_score(labels_train, predictions)\n",
    "f1_svc = f1_score(labels_train, predictions, average='macro')\n",
    "precision_svc = precision_score(labels_train, predictions, average='macro')\n",
    "recall_svc = recall_score(labels_train, predictions, average='macro')\n",
    "\n",
    "print(\"SVC with One-hot vectorization:\")\n",
    "print(f\"Accuracy: {accuracy_svc}\")\n",
    "print(f\"Precision: {precision_svc}\")\n",
    "print(f\"Recall: {recall_svc}\")\n",
    "print(f\"F1 Score: {f1_svc}\")"
   ]
  },
  {
   "cell_type": "markdown",
   "id": "492b301c",
   "metadata": {
    "id": "492b301c"
   },
   "source": [
    "#### Bar plot for Logistic Regression with TF-IDF."
   ]
  },
  {
   "cell_type": "code",
   "execution_count": null,
   "id": "cfc142e2",
   "metadata": {
    "colab": {
     "base_uri": "https://localhost:8080/",
     "height": 432
    },
    "id": "cfc142e2",
    "outputId": "a608f108-5ce5-410a-bff5-5dffeb0b6e71"
   },
   "outputs": [
    {
     "name": "stderr",
     "output_type": "stream",
     "text": [
      "/usr/local/lib/python3.9/dist-packages/seaborn/_decorators.py:36: FutureWarning: Pass the following variables as keyword args: x, y. From version 0.12, the only valid positional argument will be `data`, and passing other arguments without an explicit keyword will result in an error or misinterpretation.\n",
      "  warnings.warn(\n"
     ]
    },
    {
     "data": {
      "image/png": "[encoded data removed]",
      "text/plain": [
       "<Figure size 720x432 with 1 Axes>"
      ]
     },
     "metadata": {},
     "output_type": "display_data"
    }
   ],
   "source": [
    "import seaborn as sn\n",
    "predictions = lr_clf_tfidf.predict(texts_val_vect)\n",
    "f1_scores = f1_score(labels_val, predictions, average=None)\n",
    "\n",
    "sn.set(rc={'figure.figsize':(10,6)})\n",
    "ax = sn.barplot(good_genres, f1_scores)\n",
    "\n",
    "for i in ax.containers:\n",
    "    ax.bar_label(i,)"
   ]
  },
  {
   "cell_type": "markdown",
   "id": "c1fa9f45",
   "metadata": {
    "id": "c1fa9f45"
   },
   "source": [
    "### (b)"
   ]
  },
  {
   "cell_type": "markdown",
   "id": "25db6bd2",
   "metadata": {
    "id": "25db6bd2"
   },
   "source": [
    "#### Step 1 - new tokenization.\n",
    "#### I tried removing proper nouns, adding numbers or doing both. Best result is achieved by just adding numbers."
   ]
  },
  {
   "cell_type": "code",
   "execution_count": null,
   "id": "900a617b",
   "metadata": {
    "id": "900a617b"
   },
   "outputs": [],
   "source": [
    "def clean_text_sec(text):\n",
    "    # remove backslash-apostrophe \n",
    "    text = re.sub(\"\\'\", \"\", text) \n",
    "    # remove everything except alphabets \n",
    "    text = re.sub(\"[^a-zA-Z0-9]\",\" \",text) \n",
    "    # remove whitespaces \n",
    "    text = ' '.join(text.split()) \n",
    "    \n",
    "    return text\n",
    "\n",
    "# Tokenizer function using spacy\n",
    "def text_pipeline_spacy_sec(text):\n",
    "    tokens = []\n",
    "    text = clean_text_sec(text)\n",
    "    doc = nlp(text)\n",
    "    for t in doc:\n",
    "        if not t.is_stop and not t.is_punct and not t.is_space:\n",
    "            tokens.append(t.lemma_.lower())\n",
    "    return tokens"
   ]
  },
  {
   "cell_type": "markdown",
   "id": "6c8cccb5",
   "metadata": {
    "id": "6c8cccb5"
   },
   "source": [
    "#### Step 2 - set up vectorizer. Using TF-IDF because it yields better results."
   ]
  },
  {
   "cell_type": "code",
   "execution_count": null,
   "id": "fcb12ff2",
   "metadata": {
    "colab": {
     "base_uri": "https://localhost:8080/"
    },
    "id": "fcb12ff2",
    "outputId": "c46e5387-dc38-4990-9b74-0fd89f8bedaa",
    "scrolled": false
   },
   "outputs": [
    {
     "name": "stdout",
     "output_type": "stream",
     "text": [
      "(5451, 27494)\n",
      "(1817, 27494)\n"
     ]
    }
   ],
   "source": [
    "vectorizer_digits = TfidfVectorizer(tokenizer = text_pipeline_spacy_sec)\n",
    "vectorizer_digits.fit(texts_train)\n",
    "\n",
    "texts_train_vect_digits = vectorizer_digits.transform(texts_train)\n",
    "texts_val_vect_digits = vectorizer_digits.transform(texts_val)\n",
    "\n",
    "print(texts_train_vect_digits.shape)\n",
    "print(texts_val_vect_digits.shape)"
   ]
  },
  {
   "cell_type": "markdown",
   "id": "290483c3",
   "metadata": {
    "id": "290483c3"
   },
   "source": [
    "##### Step 3 - Experiment with different classifiers."
   ]
  },
  {
   "cell_type": "code",
   "execution_count": null,
   "id": "5bb3874e",
   "metadata": {
    "colab": {
     "base_uri": "https://localhost:8080/"
    },
    "id": "5bb3874e",
    "outputId": "2075b4ec-eb12-4be5-e06e-2f4ea6e3a906"
   },
   "outputs": [
    {
     "name": "stdout",
     "output_type": "stream",
     "text": [
      "Logistic regression:\n",
      "Accuracy: 0.565767749036874\n",
      "Precision: 0.5797848164025625\n",
      "Recall: 0.5547082442108613\n",
      "F1 Score: 0.5606379518671598\n"
     ]
    }
   ],
   "source": [
    "lr_clf_tfidf = logistic_regression_one.fit(texts_train_vect_digits, labels_train)\n",
    "predictions = lr_clf_tfidf.predict(texts_val_vect_digits)\n",
    "\n",
    "# Metrics\n",
    "accuracy_lr_tfidf = accuracy_score(labels_val, predictions)\n",
    "f1_lr_tfidf = f1_score(labels_val, predictions, average='macro')\n",
    "precision_lr_tfidf = precision_score(labels_val, predictions, average='macro')\n",
    "recall_lr_tfidf = recall_score(labels_val, predictions, average='macro')\n",
    "\n",
    "print(\"Logistic regression:\")\n",
    "print(f\"Accuracy: {accuracy_lr_tfidf}\")\n",
    "print(f\"Precision: {precision_lr_tfidf}\")\n",
    "print(f\"Recall: {recall_lr_tfidf}\")\n",
    "print(f\"F1 Score: {f1_lr_tfidf}\")"
   ]
  },
  {
   "cell_type": "code",
   "execution_count": null,
   "id": "0157545d",
   "metadata": {
    "colab": {
     "base_uri": "https://localhost:8080/"
    },
    "id": "0157545d",
    "outputId": "852ea07a-a83e-43b3-804a-380ac1b950e5"
   },
   "outputs": [
    {
     "name": "stdout",
     "output_type": "stream",
     "text": [
      "SVC:\n",
      "Accuracy: 0.5481563015960375\n",
      "Precision: 0.598145879191195\n",
      "Recall: 0.5306220220477373\n",
      "F1 Score: 0.5437697088956505\n"
     ]
    }
   ],
   "source": [
    "# Fit clf on train and test data\n",
    "svc = SVC()\n",
    "svc_clf = svc.fit(texts_train_vect_digits, labels_train)\n",
    "predictions = svc.predict(texts_val_vect_digits)\n",
    "\n",
    "# Metrics\n",
    "accuracy_svc = accuracy_score(labels_val, predictions)\n",
    "f1_svc = f1_score(labels_val, predictions, average='macro')\n",
    "precision_svc = precision_score(labels_val, predictions, average='macro')\n",
    "recall_svc = recall_score(labels_val, predictions, average='macro')\n",
    "\n",
    "print(\"SVC:\")\n",
    "print(f\"Accuracy: {accuracy_svc}\")\n",
    "print(f\"Precision: {precision_svc}\")\n",
    "print(f\"Recall: {recall_svc}\")\n",
    "print(f\"F1 Score: {f1_svc}\")"
   ]
  },
  {
   "cell_type": "code",
   "execution_count": null,
   "id": "e83c51c7",
   "metadata": {
    "colab": {
     "base_uri": "https://localhost:8080/"
    },
    "id": "e83c51c7",
    "outputId": "791090b9-c085-42bb-d199-e12195320542"
   },
   "outputs": [
    {
     "name": "stdout",
     "output_type": "stream",
     "text": [
      "Naive Bayes:\n",
      "Accuracy: 0.35718216840946615\n",
      "Precision: 0.3666320976627298\n",
      "Recall: 0.35002306796639926\n",
      "F1 Score: 0.3525952305478603\n"
     ]
    }
   ],
   "source": [
    "from sklearn.naive_bayes import GaussianNB\n",
    "clf = GaussianNB()\n",
    "clf.fit(texts_train_vect_digits.toarray(), labels_train)\n",
    "predictions = clf.predict(texts_val_vect_digits.toarray())\n",
    "\n",
    "accuracy_nb = accuracy_score(labels_val, predictions)\n",
    "f1_nb = f1_score(labels_val, predictions, average='macro')\n",
    "precision_nb = precision_score(labels_val, predictions, average='macro')\n",
    "recall_nb = recall_score(labels_val, predictions, average='macro')\n",
    "\n",
    "print(\"Naive Bayes:\")\n",
    "print(f\"Accuracy: {accuracy_nb}\")\n",
    "print(f\"Precision: {precision_nb}\")\n",
    "print(f\"Recall: {recall_nb}\")\n",
    "print(f\"F1 Score: {f1_nb}\")"
   ]
  },
  {
   "cell_type": "code",
   "execution_count": null,
   "id": "a643450e",
   "metadata": {
    "colab": {
     "base_uri": "https://localhost:8080/"
    },
    "id": "a643450e",
    "outputId": "dbc36c92-3167-4125-a151-1cd8a916e121"
   },
   "outputs": [
    {
     "name": "stdout",
     "output_type": "stream",
     "text": [
      "SVC with sigmoid kernel:\n",
      "Accuracy: 0.5624656026417171\n",
      "Precision: 0.5778217886919709\n",
      "Recall: 0.5554335130911344\n",
      "F1 Score: 0.5626567762722734\n"
     ]
    }
   ],
   "source": [
    "# Fit clf on train and test data\n",
    "svc = SVC(kernel='sigmoid')\n",
    "svc_clf = svc.fit(texts_train_vect_digits, labels_train)\n",
    "predictions = svc.predict(texts_val_vect_digits)\n",
    "\n",
    "# Metrics\n",
    "accuracy_svc = accuracy_score(labels_val, predictions)\n",
    "f1_svc = f1_score(labels_val, predictions, average='macro')\n",
    "precision_svc = precision_score(labels_val, predictions, average='macro')\n",
    "recall_svc = recall_score(labels_val, predictions, average='macro')\n",
    "\n",
    "print(\"SVC with sigmoid kernel:\")\n",
    "print(f\"Accuracy: {accuracy_svc}\")\n",
    "print(f\"Precision: {precision_svc}\")\n",
    "print(f\"Recall: {recall_svc}\")\n",
    "print(f\"F1 Score: {f1_svc}\")"
   ]
  },
  {
   "cell_type": "code",
   "execution_count": null,
   "id": "65b18f17",
   "metadata": {
    "colab": {
     "base_uri": "https://localhost:8080/"
    },
    "id": "65b18f17",
    "outputId": "4dc999c4-42a7-4a0c-d697-d2b1aa3f48df"
   },
   "outputs": [
    {
     "name": "stdout",
     "output_type": "stream",
     "text": [
      "Random forests with digits:\n",
      "Accuracy: 0.5118326912493121\n",
      "Precision: 0.5091515000927725\n",
      "Recall: 0.5025618563578194\n",
      "F1 Score: 0.49797387170221974\n"
     ]
    }
   ],
   "source": [
    "from sklearn.ensemble import RandomForestClassifier\n",
    "clf = RandomForestClassifier()\n",
    "\n",
    "clf.fit(texts_train_vect_digits, labels_train)\n",
    "predictions = clf.predict(texts_val_vect_digits)\n",
    "\n",
    "# Metrics\n",
    "accuracy_rf = accuracy_score(labels_val, predictions)\n",
    "f1_rf = f1_score(labels_val, predictions, average='macro')\n",
    "precision_rf = precision_score(labels_val, predictions, average='macro')\n",
    "recall_rf = recall_score(labels_val, predictions, average='macro')\n",
    "\n",
    "print(\"Random forests with digits:\")\n",
    "print(f\"Accuracy: {accuracy_rf}\")\n",
    "print(f\"Precision: {precision_rf}\")\n",
    "print(f\"Recall: {recall_rf}\")\n",
    "print(f\"F1 Score: {f1_rf}\")"
   ]
  },
  {
   "cell_type": "code",
   "execution_count": null,
   "id": "9cb72c07",
   "metadata": {
    "colab": {
     "base_uri": "https://localhost:8080/",
     "height": 432
    },
    "id": "9cb72c07",
    "outputId": "2a2583cb-c627-4f1b-e973-e4b0ae43e62c"
   },
   "outputs": [
    {
     "name": "stderr",
     "output_type": "stream",
     "text": [
      "/usr/local/lib/python3.9/dist-packages/seaborn/_decorators.py:36: FutureWarning: Pass the following variables as keyword args: x, y. From version 0.12, the only valid positional argument will be `data`, and passing other arguments without an explicit keyword will result in an error or misinterpretation.\n",
      "  warnings.warn(\n"
     ]
    },
    {
     "data": {
      "image/png": "[encoded data removed]",
      "text/plain": [
       "<Figure size 720x432 with 1 Axes>"
      ]
     },
     "metadata": {},
     "output_type": "display_data"
    }
   ],
   "source": [
    "import seaborn as sn\n",
    "svc_clf = svc.fit(texts_train_vect_digits, labels_train)\n",
    "predictions = svc.predict(texts_val_vect_digits)\n",
    "f1_scores = f1_score(labels_val, predictions, average=None)\n",
    "\n",
    "sn.set(rc={'figure.figsize':(10,6)})\n",
    "ax = sn.barplot(good_genres, f1_scores)\n",
    "\n",
    "for i in ax.containers:\n",
    "    ax.bar_label(i,)"
   ]
  },
  {
   "cell_type": "markdown",
   "id": "80f34111",
   "metadata": {
    "id": "80f34111"
   },
   "source": [
    "# Q4 - Parameter Tuning"
   ]
  },
  {
   "cell_type": "markdown",
   "id": "61636392",
   "metadata": {
    "id": "61636392"
   },
   "source": [
    "### Tweaking the sublinear_tf"
   ]
  },
  {
   "cell_type": "code",
   "execution_count": null,
   "id": "066267d9",
   "metadata": {
    "colab": {
     "base_uri": "https://localhost:8080/"
    },
    "id": "066267d9",
    "outputId": "f5dc0ba2-33a7-4771-813e-5a82366f2637"
   },
   "outputs": [
    {
     "name": "stderr",
     "output_type": "stream",
     "text": [
      "/usr/local/lib/python3.9/dist-packages/sklearn/feature_extraction/text.py:528: UserWarning: The parameter 'token_pattern' will not be used since 'tokenizer' is not None'\n",
      "  warnings.warn(\n"
     ]
    },
    {
     "name": "stdout",
     "output_type": "stream",
     "text": [
      "Logistic regression with TF-IDF:\n",
      "Accuracy: 0.5773252614199229\n",
      "Precision: 0.5858973646760341\n",
      "Recall: 0.5650133439614319\n",
      "F1 Score: 0.569477193073868\n"
     ]
    }
   ],
   "source": [
    "vectorizer = TfidfVectorizer(tokenizer = text_pipeline_spacy, sublinear_tf=True)\n",
    "vectorizer.fit(texts_train)\n",
    "\n",
    "texts_train_vect = vectorizer.transform(texts_train)\n",
    "texts_val_vect = vectorizer.transform(texts_val)\n",
    "\n",
    "logistic_regression_one = LogisticRegression(max_iter=500)\n",
    "lr_clf_tfidf = logistic_regression_one.fit(texts_train_vect, labels_train)\n",
    "predictions = lr_clf_tfidf.predict(texts_val_vect)\n",
    "\n",
    "# Metrics\n",
    "accuracy_lr_tfidf = accuracy_score(labels_val, predictions)\n",
    "f1_lr_tfidf = f1_score(labels_val, predictions, average='macro')\n",
    "precision_lr_tfidf = precision_score(labels_val, predictions, average='macro')\n",
    "recall_lr_tfidf = recall_score(labels_val, predictions, average='macro')\n",
    "\n",
    "print(\"Logistic regression with TF-IDF:\")\n",
    "print(f\"Accuracy: {accuracy_lr_tfidf}\")\n",
    "print(f\"Precision: {precision_lr_tfidf}\")\n",
    "print(f\"Recall: {recall_lr_tfidf}\")\n",
    "print(f\"F1 Score: {f1_lr_tfidf}\")"
   ]
  },
  {
   "cell_type": "markdown",
   "id": "5b819439",
   "metadata": {
    "id": "5b819439"
   },
   "source": [
    "### Tweaking the C value"
   ]
  },
  {
   "cell_type": "code",
   "execution_count": null,
   "id": "bd27c09c",
   "metadata": {
    "colab": {
     "base_uri": "https://localhost:8080/"
    },
    "id": "bd27c09c",
    "outputId": "aae07e46-91c6-4e27-98bf-9a5e787738f7"
   },
   "outputs": [
    {
     "name": "stderr",
     "output_type": "stream",
     "text": [
      "/usr/local/lib/python3.9/dist-packages/sklearn/metrics/_classification.py:1344: UndefinedMetricWarning: Precision is ill-defined and being set to 0.0 in labels with no predicted samples. Use `zero_division` parameter to control this behavior.\n",
      "  _warn_prf(average, modifier, msg_start, len(result))\n"
     ]
    },
    {
     "name": "stdout",
     "output_type": "stream",
     "text": [
      "C=0.001, acc=0.09851403412217942, F1=0.01982236638863145, precision=0.10975206611570247, recall=0.10103626943005181\n"
     ]
    },
    {
     "name": "stderr",
     "output_type": "stream",
     "text": [
      "/usr/local/lib/python3.9/dist-packages/sklearn/metrics/_classification.py:1344: UndefinedMetricWarning: Precision is ill-defined and being set to 0.0 in labels with no predicted samples. Use `zero_division` parameter to control this behavior.\n",
      "  _warn_prf(average, modifier, msg_start, len(result))\n"
     ]
    },
    {
     "name": "stdout",
     "output_type": "stream",
     "text": [
      "C=0.01, acc=0.21574023115024765, F1=0.1303911269790699, precision=0.2726597869600515, recall=0.2099399210992745\n"
     ]
    },
    {
     "name": "stderr",
     "output_type": "stream",
     "text": [
      "/usr/local/lib/python3.9/dist-packages/sklearn/metrics/_classification.py:1344: UndefinedMetricWarning: Precision is ill-defined and being set to 0.0 in labels with no predicted samples. Use `zero_division` parameter to control this behavior.\n",
      "  _warn_prf(average, modifier, msg_start, len(result))\n"
     ]
    },
    {
     "name": "stdout",
     "output_type": "stream",
     "text": [
      "C=0.1, acc=0.4980737479361585, F1=0.4274421191956817, precision=0.5214797105706197, recall=0.45971290180240143\n",
      "C=1, acc=0.5773252614199229, F1=0.569477193073868, precision=0.5858973646760341, recall=0.5650133439614319\n",
      "C=10, acc=0.5740231150247661, F1=0.573813454330687, precision=0.5806745469722969, recall=0.5695467989614235\n",
      "C=100, acc=0.5663181067694001, F1=0.5656474901260499, precision=0.5701284349656446, recall=0.5626450717253039\n",
      "C=1000, acc=0.5613648871766649, F1=0.5603931128840649, precision=0.5639839717350237, recall=0.5582488597073865\n",
      "C=10000, acc=0.5569620253164557, F1=0.5555691714430884, precision=0.5593791305785801, recall=0.5533695770859595\n",
      "C=100000, acc=0.5531095211887727, F1=0.5517813821699826, precision=0.5547890537085918, recall=0.550084256542174\n",
      "Best C=10: acc=0.5740231150247661, F1=0.573813454330687, precision=0.5806745469722969, recall=0.5695467989614235 \n"
     ]
    }
   ],
   "source": [
    "C_ranges = [0.001, 0.01, 0.1, 1, 10, 100, 1000, 10000, 100000]\n",
    "\n",
    "max_f1 = 0\n",
    "max_acc = 0\n",
    "max_prec = 0\n",
    "max_rec = 0\n",
    "best_C = 0\n",
    "\n",
    "for _C in C_ranges:\n",
    "    logistic_regression_one = LogisticRegression(max_iter=500, C = _C)\n",
    "    lr_clf_tfidf = logistic_regression_one.fit(texts_train_vect, labels_train)\n",
    "    predictions = lr_clf_tfidf.predict(texts_val_vect)\n",
    "\n",
    "    # Metrics\n",
    "    accuracy_lr_tfidf = accuracy_score(labels_val, predictions)\n",
    "    f1_lr_tfidf = f1_score(labels_val, predictions, average='macro')\n",
    "    precision_lr_tfidf = precision_score(labels_val, predictions, average='macro')\n",
    "    recall_lr_tfidf = recall_score(labels_val, predictions, average='macro')\n",
    "\n",
    "    if f1_lr_tfidf > max_f1:\n",
    "        max_f1 = f1_lr_tfidf\n",
    "        max_acc = accuracy_lr_tfidf\n",
    "        max_prec = precision_lr_tfidf\n",
    "        max_rec = recall_lr_tfidf\n",
    "        best_C = _C\n",
    "    \n",
    "    print(f\"C={_C}, acc={accuracy_lr_tfidf}, F1={f1_lr_tfidf}, precision={precision_lr_tfidf}, recall={recall_lr_tfidf}\")\n",
    "    \n",
    "\n",
    "print(f\"Best C={best_C}: acc={max_acc}, F1={max_f1}, precision={max_prec}, recall={max_rec} \")"
   ]
  },
  {
   "cell_type": "markdown",
   "id": "b616a6f1",
   "metadata": {
    "id": "b616a6f1"
   },
   "source": [
    "#### Tweaking the solver"
   ]
  },
  {
   "cell_type": "code",
   "execution_count": null,
   "id": "c449192f",
   "metadata": {
    "colab": {
     "base_uri": "https://localhost:8080/"
    },
    "id": "c449192f",
    "outputId": "25755ad8-820b-4096-ae1b-983b65f4e631"
   },
   "outputs": [
    {
     "name": "stdout",
     "output_type": "stream",
     "text": [
      "Solver=newton-cg, acc=0.5773252614199229, F1=0.569477193073868, precision=0.5858973646760341, recall=0.5650133439614319\n",
      "Solver=lbfgs, acc=0.5773252614199229, F1=0.569477193073868, precision=0.5858973646760341, recall=0.5650133439614319\n",
      "Solver=liblinear, acc=0.5751238304898184, F1=0.56524459962729, precision=0.5825684578888282, recall=0.562100537192263\n",
      "Solver=sag, acc=0.5773252614199229, F1=0.569477193073868, precision=0.5858973646760341, recall=0.5650133439614319\n",
      "Solver=saga, acc=0.5773252614199229, F1=0.5696803267415369, precision=0.5859683018737443, recall=0.5651730098911788\n",
      "Best solver=saga: acc=0.5773252614199229, F1=0.5696803267415369, precision=0.5859683018737443, recall=0.5651730098911788 \n"
     ]
    }
   ],
   "source": [
    "solvers = ['newton-cg', 'lbfgs', 'liblinear', 'sag', 'saga']\n",
    "\n",
    "max_f1 = 0\n",
    "max_acc = 0\n",
    "max_prec = 0\n",
    "max_rec = 0\n",
    "best_solver = 0\n",
    "\n",
    "for _solver in solvers:\n",
    "    logistic_regression_one = LogisticRegression(max_iter=1000, solver=_solver)\n",
    "    lr_clf_tfidf = logistic_regression_one.fit(texts_train_vect, labels_train)\n",
    "    predictions = lr_clf_tfidf.predict(texts_val_vect)\n",
    "\n",
    "    # Metrics\n",
    "    accuracy_lr_tfidf = accuracy_score(labels_val, predictions)\n",
    "    f1_lr_tfidf = f1_score(labels_val, predictions, average='macro')\n",
    "    precision_lr_tfidf = precision_score(labels_val, predictions, average='macro')\n",
    "    recall_lr_tfidf = recall_score(labels_val, predictions, average='macro')\n",
    "\n",
    "    if f1_lr_tfidf > max_f1:\n",
    "        max_f1 = f1_lr_tfidf\n",
    "        max_acc = accuracy_lr_tfidf\n",
    "        max_prec = precision_lr_tfidf\n",
    "        max_rec = recall_lr_tfidf\n",
    "        best_solver = _solver\n",
    "    \n",
    "    print(f\"Solver={_solver}, acc={accuracy_lr_tfidf}, F1={f1_lr_tfidf}, precision={precision_lr_tfidf}, recall={recall_lr_tfidf}\")\n",
    "    \n",
    "\n",
    "print(f\"Best solver={best_solver}: acc={max_acc}, F1={max_f1}, precision={max_prec}, recall={max_rec} \")"
   ]
  },
  {
   "cell_type": "markdown",
   "id": "0f46be73",
   "metadata": {
    "id": "0f46be73"
   },
   "source": [
    "#### Trying all C values and solver values"
   ]
  },
  {
   "cell_type": "code",
   "execution_count": null,
   "id": "d1155924",
   "metadata": {
    "colab": {
     "base_uri": "https://localhost:8080/"
    },
    "id": "d1155924",
    "outputId": "c79740a5-38d6-48c3-8218-5df4ac4ecb42"
   },
   "outputs": [
    {
     "name": "stderr",
     "output_type": "stream",
     "text": [
      "/usr/local/lib/python3.9/dist-packages/sklearn/metrics/_classification.py:1344: UndefinedMetricWarning: Precision is ill-defined and being set to 0.0 in labels with no predicted samples. Use `zero_division` parameter to control this behavior.\n",
      "  _warn_prf(average, modifier, msg_start, len(result))\n"
     ]
    },
    {
     "name": "stdout",
     "output_type": "stream",
     "text": [
      "Solver=newton-cg and C=0.001, acc=0.09851403412217942, F1=0.01982236638863145, precision=0.10975206611570247, recall=0.10103626943005181\n"
     ]
    },
    {
     "name": "stderr",
     "output_type": "stream",
     "text": [
      "/usr/local/lib/python3.9/dist-packages/sklearn/metrics/_classification.py:1344: UndefinedMetricWarning: Precision is ill-defined and being set to 0.0 in labels with no predicted samples. Use `zero_division` parameter to control this behavior.\n",
      "  _warn_prf(average, modifier, msg_start, len(result))\n"
     ]
    },
    {
     "name": "stdout",
     "output_type": "stream",
     "text": [
      "Solver=newton-cg and C=0.01, acc=0.21574023115024765, F1=0.1303911269790699, precision=0.2726597869600515, recall=0.2099399210992745\n"
     ]
    },
    {
     "name": "stderr",
     "output_type": "stream",
     "text": [
      "/usr/local/lib/python3.9/dist-packages/sklearn/metrics/_classification.py:1344: UndefinedMetricWarning: Precision is ill-defined and being set to 0.0 in labels with no predicted samples. Use `zero_division` parameter to control this behavior.\n",
      "  _warn_prf(average, modifier, msg_start, len(result))\n"
     ]
    },
    {
     "name": "stdout",
     "output_type": "stream",
     "text": [
      "Solver=newton-cg and C=0.1, acc=0.4980737479361585, F1=0.4275069612467675, precision=0.5216237651755764, recall=0.45971290180240143\n",
      "Solver=newton-cg and C=1, acc=0.5773252614199229, F1=0.569477193073868, precision=0.5858973646760341, recall=0.5650133439614319\n",
      "Solver=newton-cg and C=10, acc=0.5745734727572922, F1=0.574404736590681, precision=0.5814464446584637, recall=0.570025267860945\n",
      "Solver=newton-cg and C=100, acc=0.5663181067694001, F1=0.5656474901260499, precision=0.5701284349656446, recall=0.5626450717253039\n",
      "Solver=newton-cg and C=1000, acc=0.561915244909191, F1=0.5608183834657253, precision=0.5643705418339702, recall=0.558709689200474\n",
      "Solver=newton-cg and C=10000, acc=0.5569620253164557, F1=0.5556801249539294, precision=0.5595767567299219, recall=0.55335392413426\n",
      "Solver=newton-cg and C=100000, acc=0.5531095211887727, F1=0.551932934984299, precision=0.5552047636289426, recall=0.5500279660834068\n"
     ]
    },
    {
     "name": "stderr",
     "output_type": "stream",
     "text": [
      "/usr/local/lib/python3.9/dist-packages/sklearn/metrics/_classification.py:1344: UndefinedMetricWarning: Precision is ill-defined and being set to 0.0 in labels with no predicted samples. Use `zero_division` parameter to control this behavior.\n",
      "  _warn_prf(average, modifier, msg_start, len(result))\n"
     ]
    },
    {
     "name": "stdout",
     "output_type": "stream",
     "text": [
      "Solver=lbfgs and C=0.001, acc=0.09851403412217942, F1=0.01982236638863145, precision=0.10975206611570247, recall=0.10103626943005181\n"
     ]
    },
    {
     "name": "stderr",
     "output_type": "stream",
     "text": [
      "/usr/local/lib/python3.9/dist-packages/sklearn/metrics/_classification.py:1344: UndefinedMetricWarning: Precision is ill-defined and being set to 0.0 in labels with no predicted samples. Use `zero_division` parameter to control this behavior.\n",
      "  _warn_prf(average, modifier, msg_start, len(result))\n"
     ]
    },
    {
     "name": "stdout",
     "output_type": "stream",
     "text": [
      "Solver=lbfgs and C=0.01, acc=0.21574023115024765, F1=0.1303911269790699, precision=0.2726597869600515, recall=0.2099399210992745\n"
     ]
    },
    {
     "name": "stderr",
     "output_type": "stream",
     "text": [
      "/usr/local/lib/python3.9/dist-packages/sklearn/metrics/_classification.py:1344: UndefinedMetricWarning: Precision is ill-defined and being set to 0.0 in labels with no predicted samples. Use `zero_division` parameter to control this behavior.\n",
      "  _warn_prf(average, modifier, msg_start, len(result))\n"
     ]
    },
    {
     "name": "stdout",
     "output_type": "stream",
     "text": [
      "Solver=lbfgs and C=0.1, acc=0.4980737479361585, F1=0.4274421191956817, precision=0.5214797105706197, recall=0.45971290180240143\n",
      "Solver=lbfgs and C=1, acc=0.5773252614199229, F1=0.569477193073868, precision=0.5858973646760341, recall=0.5650133439614319\n",
      "Solver=lbfgs and C=10, acc=0.5740231150247661, F1=0.573813454330687, precision=0.5806745469722969, recall=0.5695467989614235\n",
      "Solver=lbfgs and C=100, acc=0.5663181067694001, F1=0.5656474901260499, precision=0.5701284349656446, recall=0.5626450717253039\n",
      "Solver=lbfgs and C=1000, acc=0.5613648871766649, F1=0.5603931128840649, precision=0.5639839717350237, recall=0.5582488597073865\n",
      "Solver=lbfgs and C=10000, acc=0.5569620253164557, F1=0.5555691714430884, precision=0.5593791305785801, recall=0.5533695770859595\n",
      "Solver=lbfgs and C=100000, acc=0.5531095211887727, F1=0.5517813821699826, precision=0.5547890537085918, recall=0.550084256542174\n"
     ]
    },
    {
     "name": "stderr",
     "output_type": "stream",
     "text": [
      "/usr/local/lib/python3.9/dist-packages/sklearn/metrics/_classification.py:1344: UndefinedMetricWarning: Precision is ill-defined and being set to 0.0 in labels with no predicted samples. Use `zero_division` parameter to control this behavior.\n",
      "  _warn_prf(average, modifier, msg_start, len(result))\n"
     ]
    },
    {
     "name": "stdout",
     "output_type": "stream",
     "text": [
      "Solver=liblinear and C=0.001, acc=0.17721518987341772, F1=0.10102768976443037, precision=0.09967169816888731, recall=0.17508269664236997\n"
     ]
    },
    {
     "name": "stderr",
     "output_type": "stream",
     "text": [
      "/usr/local/lib/python3.9/dist-packages/sklearn/metrics/_classification.py:1344: UndefinedMetricWarning: Precision is ill-defined and being set to 0.0 in labels with no predicted samples. Use `zero_division` parameter to control this behavior.\n",
      "  _warn_prf(average, modifier, msg_start, len(result))\n"
     ]
    },
    {
     "name": "stdout",
     "output_type": "stream",
     "text": [
      "Solver=liblinear and C=0.01, acc=0.2526141992294992, F1=0.17715027373890263, precision=0.3882103745142016, recall=0.24216860683590208\n"
     ]
    },
    {
     "name": "stderr",
     "output_type": "stream",
     "text": [
      "/usr/local/lib/python3.9/dist-packages/sklearn/metrics/_classification.py:1344: UndefinedMetricWarning: Precision is ill-defined and being set to 0.0 in labels with no predicted samples. Use `zero_division` parameter to control this behavior.\n",
      "  _warn_prf(average, modifier, msg_start, len(result))\n"
     ]
    },
    {
     "name": "stdout",
     "output_type": "stream",
     "text": [
      "Solver=liblinear and C=0.1, acc=0.4964226747385801, F1=0.42402547953597935, precision=0.5233086268112064, recall=0.4580458877478385\n",
      "Solver=liblinear and C=1, acc=0.5751238304898184, F1=0.56524459962729, precision=0.5825684578888282, recall=0.562100537192263\n",
      "Solver=liblinear and C=10, acc=0.57347275729224, F1=0.5706534823929983, precision=0.5752952276030443, recall=0.5685851357206704\n",
      "Solver=liblinear and C=100, acc=0.5608145294441387, F1=0.5590052775522356, precision=0.5623312565790599, recall=0.5572799089239764\n",
      "Solver=liblinear and C=1000, acc=0.5547605943863512, F1=0.5524296436286686, precision=0.5549593308990429, recall=0.5512297779781588\n",
      "Solver=liblinear and C=10000, acc=0.5547605943863512, F1=0.5529383294821935, precision=0.5547800070702996, recall=0.5523743459359709\n",
      "Solver=liblinear and C=100000, acc=0.5509080902586682, F1=0.5494594090784231, precision=0.5510540984498734, recall=0.5489829054347668\n"
     ]
    },
    {
     "name": "stderr",
     "output_type": "stream",
     "text": [
      "/usr/local/lib/python3.9/dist-packages/sklearn/metrics/_classification.py:1344: UndefinedMetricWarning: Precision is ill-defined and being set to 0.0 in labels with no predicted samples. Use `zero_division` parameter to control this behavior.\n",
      "  _warn_prf(average, modifier, msg_start, len(result))\n"
     ]
    },
    {
     "name": "stdout",
     "output_type": "stream",
     "text": [
      "Solver=sag and C=0.001, acc=0.09851403412217942, F1=0.01982236638863145, precision=0.10975206611570247, recall=0.10103626943005181\n"
     ]
    },
    {
     "name": "stderr",
     "output_type": "stream",
     "text": [
      "/usr/local/lib/python3.9/dist-packages/sklearn/metrics/_classification.py:1344: UndefinedMetricWarning: Precision is ill-defined and being set to 0.0 in labels with no predicted samples. Use `zero_division` parameter to control this behavior.\n",
      "  _warn_prf(average, modifier, msg_start, len(result))\n"
     ]
    },
    {
     "name": "stdout",
     "output_type": "stream",
     "text": [
      "Solver=sag and C=0.01, acc=0.21574023115024765, F1=0.13067963756188825, precision=0.2730663407100003, recall=0.2099399210992745\n"
     ]
    },
    {
     "name": "stderr",
     "output_type": "stream",
     "text": [
      "/usr/local/lib/python3.9/dist-packages/sklearn/metrics/_classification.py:1344: UndefinedMetricWarning: Precision is ill-defined and being set to 0.0 in labels with no predicted samples. Use `zero_division` parameter to control this behavior.\n",
      "  _warn_prf(average, modifier, msg_start, len(result))\n"
     ]
    },
    {
     "name": "stdout",
     "output_type": "stream",
     "text": [
      "Solver=sag and C=0.1, acc=0.4980737479361585, F1=0.4275069612467675, precision=0.5216237651755764, recall=0.45971290180240143\n",
      "Solver=sag and C=1, acc=0.5773252614199229, F1=0.569477193073868, precision=0.5858973646760341, recall=0.5650133439614319\n",
      "Solver=sag and C=10, acc=0.5740231150247661, F1=0.573813454330687, precision=0.5806745469722969, recall=0.5695467989614235\n",
      "Solver=sag and C=100, acc=0.5663181067694001, F1=0.5656627132006802, precision=0.5702582470936797, recall=0.5625608692046605\n",
      "Solver=sag and C=1000, acc=0.5630159603742433, F1=0.5617659350404474, precision=0.5655927647325514, recall=0.5595107870993181\n",
      "Solver=sag and C=10000, acc=0.5635663181067694, F1=0.5613058755276319, precision=0.5637994959967222, recall=0.559753741315046\n",
      "Solver=sag and C=100000, acc=0.5586130985140341, F1=0.5567345662427574, precision=0.5580351774459238, recall=0.5562450653154685\n"
     ]
    },
    {
     "name": "stderr",
     "output_type": "stream",
     "text": [
      "/usr/local/lib/python3.9/dist-packages/sklearn/metrics/_classification.py:1344: UndefinedMetricWarning: Precision is ill-defined and being set to 0.0 in labels with no predicted samples. Use `zero_division` parameter to control this behavior.\n",
      "  _warn_prf(average, modifier, msg_start, len(result))\n"
     ]
    },
    {
     "name": "stdout",
     "output_type": "stream",
     "text": [
      "Solver=saga and C=0.001, acc=0.09851403412217942, F1=0.01982236638863145, precision=0.10975206611570247, recall=0.10103626943005181\n"
     ]
    },
    {
     "name": "stderr",
     "output_type": "stream",
     "text": [
      "/usr/local/lib/python3.9/dist-packages/sklearn/metrics/_classification.py:1344: UndefinedMetricWarning: Precision is ill-defined and being set to 0.0 in labels with no predicted samples. Use `zero_division` parameter to control this behavior.\n",
      "  _warn_prf(average, modifier, msg_start, len(result))\n"
     ]
    },
    {
     "name": "stdout",
     "output_type": "stream",
     "text": [
      "Solver=saga and C=0.01, acc=0.21574023115024765, F1=0.13016724678807412, precision=0.2741003366003366, recall=0.2099399210992745\n"
     ]
    },
    {
     "name": "stderr",
     "output_type": "stream",
     "text": [
      "/usr/local/lib/python3.9/dist-packages/sklearn/metrics/_classification.py:1344: UndefinedMetricWarning: Precision is ill-defined and being set to 0.0 in labels with no predicted samples. Use `zero_division` parameter to control this behavior.\n",
      "  _warn_prf(average, modifier, msg_start, len(result))\n"
     ]
    },
    {
     "name": "stdout",
     "output_type": "stream",
     "text": [
      "Solver=saga and C=0.1, acc=0.4980737479361585, F1=0.4274421191956817, precision=0.5214797105706197, recall=0.45971290180240143\n",
      "Solver=saga and C=1, acc=0.5773252614199229, F1=0.5696803267415369, precision=0.5859683018737443, recall=0.5651730098911788\n",
      "Solver=saga and C=10, acc=0.57347275729224, F1=0.5729291854332138, precision=0.5795970819058114, recall=0.5687408716491009\n",
      "Solver=saga and C=100, acc=0.5652173913043478, F1=0.5647801554768851, precision=0.5693725548664795, recall=0.5616192704808038\n",
      "Solver=saga and C=1000, acc=0.5652173913043478, F1=0.5643847032447875, precision=0.5668861283422083, recall=0.5627945523853118\n",
      "Solver=saga and C=10000, acc=0.5635663181067694, F1=0.5621784873364672, precision=0.564522427646265, recall=0.5608742442092229\n",
      "Solver=saga and C=100000, acc=0.5635663181067694, F1=0.5624358844696199, precision=0.5657759840693537, recall=0.5604206371179321\n",
      "Best solver=newton-cg, Best C=10: acc=0.5745734727572922, F1=0.574404736590681, precision=0.5814464446584637, recall=0.570025267860945 \n"
     ]
    }
   ],
   "source": [
    "\n",
    "for _solver in solvers:\n",
    "    for _C in C_ranges:\n",
    "        logistic_regression_one = LogisticRegression(max_iter=1000, solver=_solver, C=_C)\n",
    "        lr_clf_tfidf = logistic_regression_one.fit(texts_train_vect, labels_train)\n",
    "        predictions = lr_clf_tfidf.predict(texts_val_vect)\n",
    "\n",
    "        # Metrics\n",
    "        accuracy_lr_tfidf = accuracy_score(labels_val, predictions)\n",
    "        f1_lr_tfidf = f1_score(labels_val, predictions, average='macro')\n",
    "        precision_lr_tfidf = precision_score(labels_val, predictions, average='macro')\n",
    "        recall_lr_tfidf = recall_score(labels_val, predictions, average='macro')\n",
    "\n",
    "        if f1_lr_tfidf > max_f1:\n",
    "            max_f1 = f1_lr_tfidf\n",
    "            max_acc = accuracy_lr_tfidf\n",
    "            max_prec = precision_lr_tfidf\n",
    "            max_rec = recall_lr_tfidf\n",
    "            best_solver = _solver\n",
    "            best_C = _C\n",
    "\n",
    "        print(f\"Solver={_solver} and C={_C}, acc={accuracy_lr_tfidf}, F1={f1_lr_tfidf}, precision={precision_lr_tfidf}, recall={recall_lr_tfidf}\")\n",
    "    \n",
    "\n",
    "print(f\"Best solver={best_solver}, Best C={best_C}: acc={max_acc}, F1={max_f1}, precision={max_prec}, recall={max_rec} \")"
   ]
  },
  {
   "cell_type": "markdown",
   "id": "79862ff6",
   "metadata": {
    "id": "79862ff6"
   },
   "source": [
    "#### So far, judging by macro F1 value, best C value = 10 and the best solver is newton_cg. What's interesting is that multiple solvers give the same F1 value when C=1."
   ]
  },
  {
   "cell_type": "markdown",
   "id": "ddad0744",
   "metadata": {
    "id": "ddad0744"
   },
   "source": [
    "#### Now tweaking max_features of vectorizer and testing on logistic regression with C=1 and solver = newton-cg"
   ]
  },
  {
   "cell_type": "markdown",
   "id": "0PHyocdWvA1V",
   "metadata": {
    "id": "0PHyocdWvA1V"
   },
   "source": [
    "#### For max_features = 25k"
   ]
  },
  {
   "cell_type": "code",
   "execution_count": null,
   "id": "abc1b35f",
   "metadata": {
    "colab": {
     "base_uri": "https://localhost:8080/"
    },
    "id": "abc1b35f",
    "outputId": "6b8b0a89-b91d-442a-bb68-b5984c8f7ca0"
   },
   "outputs": [
    {
     "name": "stderr",
     "output_type": "stream",
     "text": [
      "/usr/local/lib/python3.9/dist-packages/sklearn/feature_extraction/text.py:528: UserWarning: The parameter 'token_pattern' will not be used since 'tokenizer' is not None'\n",
      "  warnings.warn(\n"
     ]
    },
    {
     "name": "stdout",
     "output_type": "stream",
     "text": [
      "(5451, 25000)\n",
      "(1817, 25000)\n",
      "Max features=25k, accuracy=0.5701706108970831, F1=0.5702064371119979, precision=0.5769637339606084, recall=0.5658869961939812\n"
     ]
    }
   ],
   "source": [
    "vectorizer = TfidfVectorizer(tokenizer = text_pipeline_spacy, sublinear_tf=True, max_features = 25000)\n",
    "vectorizer.fit(texts_train)\n",
    "\n",
    "texts_train_vect = vectorizer.transform(texts_train)\n",
    "texts_val_vect = vectorizer.transform(texts_val)\n",
    "\n",
    "print(texts_train_vect.shape)\n",
    "print(texts_val_vect.shape)\n",
    "\n",
    "logistic_regression_one = LogisticRegression(max_iter=1000, solver='newton-cg', C=10)\n",
    "lr_clf_tfidf = logistic_regression_one.fit(texts_train_vect, labels_train)\n",
    "predictions = lr_clf_tfidf.predict(texts_val_vect)\n",
    "\n",
    "# Metrics\n",
    "accuracy_lr_tfidf = accuracy_score(labels_val, predictions)\n",
    "f1_lr_tfidf = f1_score(labels_val, predictions, average='macro')\n",
    "precision_lr_tfidf = precision_score(labels_val, predictions, average='macro')\n",
    "recall_lr_tfidf = recall_score(labels_val, predictions, average='macro')\n",
    "\n",
    "print(f\"Max features=25k, accuracy={accuracy_lr_tfidf}, F1={f1_lr_tfidf}, precision={precision_lr_tfidf}, recall={recall_lr_tfidf}\")"
   ]
  },
  {
   "cell_type": "markdown",
   "id": "GKsIEWr6y_z9",
   "metadata": {
    "id": "GKsIEWr6y_z9"
   },
   "source": [
    "#### For max_features = 20k."
   ]
  },
  {
   "cell_type": "code",
   "execution_count": null,
   "id": "ea228a8c",
   "metadata": {
    "colab": {
     "base_uri": "https://localhost:8080/"
    },
    "id": "ea228a8c",
    "outputId": "40c1e9a8-89b4-4dd0-d45d-d9a293e5fe6b"
   },
   "outputs": [
    {
     "name": "stderr",
     "output_type": "stream",
     "text": [
      "/usr/local/lib/python3.9/dist-packages/sklearn/feature_extraction/text.py:528: UserWarning: The parameter 'token_pattern' will not be used since 'tokenizer' is not None'\n",
      "  warnings.warn(\n"
     ]
    },
    {
     "name": "stdout",
     "output_type": "stream",
     "text": [
      "(5451, 20000)\n",
      "(1817, 20000)\n",
      "Max features=20k, accuracy=0.5723720418271877, F1=0.5714425517445132, precision=0.577952867750801, recall=0.5674363179970897\n"
     ]
    }
   ],
   "source": [
    "vectorizer = TfidfVectorizer(tokenizer = text_pipeline_spacy, sublinear_tf=True, max_features = 20000)\n",
    "vectorizer.fit(texts_train)\n",
    "\n",
    "texts_train_vect = vectorizer.transform(texts_train)\n",
    "texts_val_vect = vectorizer.transform(texts_val)\n",
    "\n",
    "print(texts_train_vect.shape)\n",
    "print(texts_val_vect.shape)\n",
    "\n",
    "logistic_regression_one = LogisticRegression(max_iter=1000, solver='newton-cg', C=10)\n",
    "lr_clf_tfidf = logistic_regression_one.fit(texts_train_vect, labels_train)\n",
    "predictions = lr_clf_tfidf.predict(texts_val_vect)\n",
    "\n",
    "# Metrics\n",
    "accuracy_lr_tfidf = accuracy_score(labels_val, predictions)\n",
    "f1_lr_tfidf = f1_score(labels_val, predictions, average='macro')\n",
    "precision_lr_tfidf = precision_score(labels_val, predictions, average='macro')\n",
    "recall_lr_tfidf = recall_score(labels_val, predictions, average='macro')\n",
    "\n",
    "print(f\"Max features=20k, accuracy={accuracy_lr_tfidf}, F1={f1_lr_tfidf}, precision={precision_lr_tfidf}, recall={recall_lr_tfidf}\")"
   ]
  },
  {
   "cell_type": "markdown",
   "id": "90xMM4rrzCyZ",
   "metadata": {
    "id": "90xMM4rrzCyZ"
   },
   "source": [
    "#### For max_features = 26k."
   ]
  },
  {
   "cell_type": "code",
   "execution_count": null,
   "id": "XHeD0D_qxHd2",
   "metadata": {
    "colab": {
     "base_uri": "https://localhost:8080/"
    },
    "id": "XHeD0D_qxHd2",
    "outputId": "3458fb38-d8b0-45d1-f005-d54abcf56942"
   },
   "outputs": [
    {
     "name": "stderr",
     "output_type": "stream",
     "text": [
      "/usr/local/lib/python3.9/dist-packages/sklearn/feature_extraction/text.py:528: UserWarning: The parameter 'token_pattern' will not be used since 'tokenizer' is not None'\n",
      "  warnings.warn(\n"
     ]
    },
    {
     "name": "stdout",
     "output_type": "stream",
     "text": [
      "(5451, 26000)\n",
      "(1817, 26000)\n",
      "Max features=26k, accuracy=0.5712713263621354, F1=0.5711123863120698, precision=0.5780155769130714, recall=0.5668961727952184\n"
     ]
    }
   ],
   "source": [
    "vectorizer = TfidfVectorizer(tokenizer = text_pipeline_spacy, sublinear_tf=True, max_features = 26000)\n",
    "vectorizer.fit(texts_train)\n",
    "\n",
    "texts_train_vect = vectorizer.transform(texts_train)\n",
    "texts_val_vect = vectorizer.transform(texts_val)\n",
    "\n",
    "print(texts_train_vect.shape)\n",
    "print(texts_val_vect.shape)\n",
    "\n",
    "logistic_regression_one = LogisticRegression(max_iter=1000, solver='newton-cg', C=10)\n",
    "lr_clf_tfidf = logistic_regression_one.fit(texts_train_vect, labels_train)\n",
    "predictions = lr_clf_tfidf.predict(texts_val_vect)\n",
    "\n",
    "# Metrics\n",
    "accuracy_lr_tfidf = accuracy_score(labels_val, predictions)\n",
    "f1_lr_tfidf = f1_score(labels_val, predictions, average='macro')\n",
    "precision_lr_tfidf = precision_score(labels_val, predictions, average='macro')\n",
    "recall_lr_tfidf = recall_score(labels_val, predictions, average='macro')\n",
    "\n",
    "print(f\"Max features=26k, accuracy={accuracy_lr_tfidf}, F1={f1_lr_tfidf}, precision={precision_lr_tfidf}, recall={recall_lr_tfidf}\")"
   ]
  },
  {
   "cell_type": "markdown",
   "id": "3de8ee24",
   "metadata": {
    "id": "3de8ee24"
   },
   "source": [
    "# Q5"
   ]
  },
  {
   "cell_type": "markdown",
   "id": "a0965859",
   "metadata": {
    "id": "a0965859"
   },
   "source": [
    "### (a)"
   ]
  },
  {
   "cell_type": "code",
   "execution_count": 11,
   "id": "ZALr3IE368zZ",
   "metadata": {
    "colab": {
     "base_uri": "https://localhost:8080/"
    },
    "id": "ZALr3IE368zZ",
    "outputId": "fa73f771-ba2e-49e5-f177-d0a26628fb60",
    "scrolled": true
   },
   "outputs": [
    {
     "name": "stdout",
     "output_type": "stream",
     "text": [
      "Looking in indexes: https://pypi.org/simple, https://us-python.pkg.dev/colab-wheels/public/simple/\n",
      "Requirement already satisfied: transformers in /usr/local/lib/python3.9/dist-packages (4.26.1)\n",
      "Collecting datasets\n",
      "  Downloading datasets-2.10.1-py3-none-any.whl (469 kB)\n",
      "\u001b[2K     \u001b[90m━━━━━━━━━━━━━━━━━━━━━━━━━━━━━━━━━━━━━━\u001b[0m \u001b[32m469.0/469.0 KB\u001b[0m \u001b[31m20.5 MB/s\u001b[0m eta \u001b[36m0:00:00\u001b[0m\n",
      "\u001b[?25hRequirement already satisfied: regex!=2019.12.17 in /usr/local/lib/python3.9/dist-packages (from transformers) (2022.6.2)\n",
      "Requirement already satisfied: tqdm>=4.27 in /usr/local/lib/python3.9/dist-packages (from transformers) (4.65.0)\n",
      "Requirement already satisfied: filelock in /usr/local/lib/python3.9/dist-packages (from transformers) (3.9.0)\n",
      "Requirement already satisfied: requests in /usr/local/lib/python3.9/dist-packages (from transformers) (2.25.1)\n",
      "Requirement already satisfied: tokenizers!=0.11.3,<0.14,>=0.11.1 in /usr/local/lib/python3.9/dist-packages (from transformers) (0.13.2)\n",
      "Requirement already satisfied: numpy>=1.17 in /usr/local/lib/python3.9/dist-packages (from transformers) (1.22.4)\n",
      "Requirement already satisfied: huggingface-hub<1.0,>=0.11.0 in /usr/local/lib/python3.9/dist-packages (from transformers) (0.13.1)\n",
      "Requirement already satisfied: pyyaml>=5.1 in /usr/local/lib/python3.9/dist-packages (from transformers) (6.0)\n",
      "Requirement already satisfied: packaging>=20.0 in /usr/local/lib/python3.9/dist-packages (from transformers) (23.0)\n",
      "Collecting xxhash\n",
      "  Downloading xxhash-3.2.0-cp39-cp39-manylinux_2_17_x86_64.manylinux2014_x86_64.whl (212 kB)\n",
      "\u001b[2K     \u001b[90m━━━━━━━━━━━━━━━━━━━━━━━━━━━━━━━━━━━━━━\u001b[0m \u001b[32m212.2/212.2 KB\u001b[0m \u001b[31m15.1 MB/s\u001b[0m eta \u001b[36m0:00:00\u001b[0m\n",
      "\u001b[?25hRequirement already satisfied: pandas in /usr/local/lib/python3.9/dist-packages (from datasets) (1.3.5)\n",
      "Collecting dill<0.3.7,>=0.3.0\n",
      "  Downloading dill-0.3.6-py3-none-any.whl (110 kB)\n",
      "\u001b[2K     \u001b[90m━━━━━━━━━━━━━━━━━━━━━━━━━━━━━━━━━━━━━━\u001b[0m \u001b[32m110.5/110.5 KB\u001b[0m \u001b[31m10.0 MB/s\u001b[0m eta \u001b[36m0:00:00\u001b[0m\n",
      "\u001b[?25hCollecting multiprocess\n",
      "  Downloading multiprocess-0.70.14-py39-none-any.whl (132 kB)\n",
      "\u001b[2K     \u001b[90m━━━━━━━━━━━━━━━━━━━━━━━━━━━━━━━━━━━━━━━\u001b[0m \u001b[32m132.9/132.9 KB\u001b[0m \u001b[31m8.2 MB/s\u001b[0m eta \u001b[36m0:00:00\u001b[0m\n",
      "\u001b[?25hCollecting responses<0.19\n",
      "  Downloading responses-0.18.0-py3-none-any.whl (38 kB)\n",
      "Requirement already satisfied: fsspec[http]>=2021.11.1 in /usr/local/lib/python3.9/dist-packages (from datasets) (2023.3.0)\n",
      "Requirement already satisfied: pyarrow>=6.0.0 in /usr/local/lib/python3.9/dist-packages (from datasets) (9.0.0)\n",
      "Collecting aiohttp\n",
      "  Downloading aiohttp-3.8.4-cp39-cp39-manylinux_2_17_x86_64.manylinux2014_x86_64.whl (1.0 MB)\n",
      "\u001b[2K     \u001b[90m━━━━━━━━━━━━━━━━━━━━━━━━━━━━━━━━━━━━━━━━\u001b[0m \u001b[32m1.0/1.0 MB\u001b[0m \u001b[31m41.5 MB/s\u001b[0m eta \u001b[36m0:00:00\u001b[0m\n",
      "\u001b[?25hCollecting charset-normalizer<4.0,>=2.0\n",
      "  Downloading charset_normalizer-3.1.0-cp39-cp39-manylinux_2_17_x86_64.manylinux2014_x86_64.whl (199 kB)\n",
      "\u001b[2K     \u001b[90m━━━━━━━━━━━━━━━━━━━━━━━━━━━━━━━━━━━━━━\u001b[0m \u001b[32m199.2/199.2 KB\u001b[0m \u001b[31m20.4 MB/s\u001b[0m eta \u001b[36m0:00:00\u001b[0m\n",
      "\u001b[?25hCollecting frozenlist>=1.1.1\n",
      "  Downloading frozenlist-1.3.3-cp39-cp39-manylinux_2_5_x86_64.manylinux1_x86_64.manylinux_2_17_x86_64.manylinux2014_x86_64.whl (158 kB)\n",
      "\u001b[2K     \u001b[90m━━━━━━━━━━━━━━━━━━━━━━━━━━━━━━━━━━━━━━\u001b[0m \u001b[32m158.8/158.8 KB\u001b[0m \u001b[31m16.6 MB/s\u001b[0m eta \u001b[36m0:00:00\u001b[0m\n",
      "\u001b[?25hCollecting async-timeout<5.0,>=4.0.0a3\n",
      "  Downloading async_timeout-4.0.2-py3-none-any.whl (5.8 kB)\n",
      "Requirement already satisfied: attrs>=17.3.0 in /usr/local/lib/python3.9/dist-packages (from aiohttp->datasets) (22.2.0)\n",
      "Collecting multidict<7.0,>=4.5\n",
      "  Downloading multidict-6.0.4-cp39-cp39-manylinux_2_17_x86_64.manylinux2014_x86_64.whl (114 kB)\n",
      "\u001b[2K     \u001b[90m━━━━━━━━━━━━━━━━━━━━━━━━━━━━━━━━━━━━━━\u001b[0m \u001b[32m114.2/114.2 KB\u001b[0m \u001b[31m15.6 MB/s\u001b[0m eta \u001b[36m0:00:00\u001b[0m\n",
      "\u001b[?25hCollecting yarl<2.0,>=1.0\n",
      "  Downloading yarl-1.8.2-cp39-cp39-manylinux_2_17_x86_64.manylinux2014_x86_64.whl (264 kB)\n",
      "\u001b[2K     \u001b[90m━━━━━━━━━━━━━━━━━━━━━━━━━━━━━━━━━━━━━━\u001b[0m \u001b[32m264.6/264.6 KB\u001b[0m \u001b[31m27.9 MB/s\u001b[0m eta \u001b[36m0:00:00\u001b[0m\n",
      "\u001b[?25hCollecting aiosignal>=1.1.2\n",
      "  Downloading aiosignal-1.3.1-py3-none-any.whl (7.6 kB)\n",
      "Requirement already satisfied: typing-extensions>=3.7.4.3 in /usr/local/lib/python3.9/dist-packages (from huggingface-hub<1.0,>=0.11.0->transformers) (4.5.0)\n",
      "Requirement already satisfied: urllib3<1.27,>=1.21.1 in /usr/local/lib/python3.9/dist-packages (from requests->transformers) (1.26.14)\n",
      "Requirement already satisfied: chardet<5,>=3.0.2 in /usr/local/lib/python3.9/dist-packages (from requests->transformers) (4.0.0)\n",
      "Requirement already satisfied: certifi>=2017.4.17 in /usr/local/lib/python3.9/dist-packages (from requests->transformers) (2022.12.7)\n",
      "Requirement already satisfied: idna<3,>=2.5 in /usr/local/lib/python3.9/dist-packages (from requests->transformers) (2.10)\n",
      "Requirement already satisfied: python-dateutil>=2.7.3 in /usr/local/lib/python3.9/dist-packages (from pandas->datasets) (2.8.2)\n",
      "Requirement already satisfied: pytz>=2017.3 in /usr/local/lib/python3.9/dist-packages (from pandas->datasets) (2022.7.1)\n",
      "Requirement already satisfied: six>=1.5 in /usr/local/lib/python3.9/dist-packages (from python-dateutil>=2.7.3->pandas->datasets) (1.15.0)\n",
      "Installing collected packages: xxhash, multidict, frozenlist, dill, charset-normalizer, async-timeout, yarl, responses, multiprocess, aiosignal, aiohttp, datasets\n",
      "Successfully installed aiohttp-3.8.4 aiosignal-1.3.1 async-timeout-4.0.2 charset-normalizer-3.1.0 datasets-2.10.1 dill-0.3.6 frozenlist-1.3.3 multidict-6.0.4 multiprocess-0.70.14 responses-0.18.0 xxhash-3.2.0 yarl-1.8.2\n"
     ]
    }
   ],
   "source": [
    "!pip install transformers datasets"
   ]
  },
  {
   "cell_type": "code",
   "execution_count": 29,
   "id": "8d608635",
   "metadata": {
    "id": "8d608635",
    "outputId": "999e23f6-9e60-4300-ec6b-7c5c1e1df1f1",
    "scrolled": true
   },
   "outputs": [
    {
     "name": "stderr",
     "output_type": "stream",
     "text": [
      "Some weights of the model checkpoint at roberta-base were not used when initializing RobertaModel: ['lm_head.decoder.weight', 'lm_head.bias', 'lm_head.dense.bias', 'lm_head.layer_norm.weight', 'lm_head.dense.weight', 'lm_head.layer_norm.bias']\n",
      "- This IS expected if you are initializing RobertaModel from the checkpoint of a model trained on another task or with another architecture (e.g. initializing a BertForSequenceClassification model from a BertForPreTraining model).\n",
      "- This IS NOT expected if you are initializing RobertaModel from the checkpoint of a model that you expect to be exactly identical (initializing a BertForSequenceClassification model from a BertForSequenceClassification model).\n"
     ]
    }
   ],
   "source": [
    "from transformers import pipeline\n",
    "from tqdm import tqdm\n",
    "\n",
    "pipe = pipeline('feature-extraction', model=\"roberta-base\", tokenizer='roberta-base')"
   ]
  },
  {
   "cell_type": "code",
   "execution_count": 30,
   "id": "f3647baf",
   "metadata": {},
   "outputs": [],
   "source": [
    "import torch"
   ]
  },
  {
   "cell_type": "code",
   "execution_count": 12,
   "id": "9252d5bb",
   "metadata": {
    "id": "9252d5bb",
    "outputId": "dd7e1e88-8641-4f41-e3e4-6cc79e654c5a",
    "scrolled": true
   },
   "outputs": [
    {
     "name": "stderr",
     "output_type": "stream",
     "text": [
      "100%|██████████████████████████████████████████████████████████████████████████████| 5451/5451 [20:13<00:00,  4.49it/s]\n",
      "100%|██████████████████████████████████████████████████████████████████████████████| 1817/1817 [07:39<00:00,  3.96it/s]\n"
     ]
    }
   ],
   "source": [
    "context_vectors_train = [pipe(texts_train[i], return_tensors='pt', truncation=True) for i in tqdm(range(len(texts_train)))]\n",
    "context_vectors_val = [pipe(texts_val[i], return_tensors='pt', truncation=True) for i in tqdm(range(len(texts_val)))]"
   ]
  },
  {
   "cell_type": "code",
   "execution_count": 13,
   "id": "d774e335",
   "metadata": {
    "id": "d774e335",
    "outputId": "5b4bdbbe-2100-4faf-c0d3-38c02eeee8e5",
    "scrolled": true
   },
   "outputs": [
    {
     "name": "stderr",
     "output_type": "stream",
     "text": [
      "100%|██████████████████████████████████████████████████████████████████████████| 5451/5451 [00:00<00:00, 209484.62it/s]\n",
      "100%|████████████████████████████████████████████████████████████████████████████| 1817/1817 [00:00<00:00, 2281.07it/s]\n"
     ]
    }
   ],
   "source": [
    "start_vectors_train = [context_vectors_train[i][0,0,:] for i in tqdm(range(len(texts_train)))]\n",
    "start_vectors_val = [context_vectors_val[i][0,0,:] for i in tqdm(range(len(texts_val)))]"
   ]
  },
  {
   "cell_type": "code",
   "execution_count": 26,
   "id": "a7dadbb7",
   "metadata": {},
   "outputs": [],
   "source": [
    "start_vectors_train = torch.stack(start_vectors_train)\n",
    "start_vectors_val = torch.stack(start_vectors_val)"
   ]
  },
  {
   "cell_type": "code",
   "execution_count": 31,
   "id": "f90c41a7",
   "metadata": {
    "id": "f90c41a7",
    "outputId": "3a9fbe23-5242-492c-809f-dc679ef9fb8b"
   },
   "outputs": [
    {
     "name": "stdout",
     "output_type": "stream",
     "text": [
      "Logistic regression with first context vectors:\n",
      "Accuracy: 0.6340121078701155\n",
      "Precision: 0.6322368306920712\n",
      "Recall: 0.6281959650235669\n",
      "F1 Score: 0.6285333543645141\n"
     ]
    }
   ],
   "source": [
    "lr = LogisticRegression(max_iter=1000)\n",
    "lr_clf = lr.fit(start_vectors_train, labels_train)\n",
    "predictions = lr_clf.predict(start_vectors_val)\n",
    "\n",
    "# Metrics\n",
    "accuracy_lr_one = accuracy_score(labels_val, predictions)\n",
    "f1_lr_one = f1_score(labels_val, predictions, average='macro')\n",
    "precision_lr_one = precision_score(labels_val, predictions, average='macro')\n",
    "recall_lr_one = recall_score(labels_val, predictions, average='macro')\n",
    "\n",
    "print(\"Logistic regression with first context vectors:\")\n",
    "print(f\"Accuracy: {accuracy_lr_one}\")\n",
    "print(f\"Precision: {precision_lr_one}\")\n",
    "print(f\"Recall: {recall_lr_one}\")\n",
    "print(f\"F1 Score: {f1_lr_one}\")"
   ]
  },
  {
   "cell_type": "markdown",
   "id": "ff85cbc2",
   "metadata": {
    "id": "ff85cbc2"
   },
   "source": [
    "### (b) Roberta-base trainer"
   ]
  },
  {
   "cell_type": "code",
   "execution_count": 7,
   "id": "e8b175de",
   "metadata": {
    "id": "e8b175de"
   },
   "outputs": [],
   "source": [
    "id2label = {i: good_genres[i] for i in range(len(good_genres))}\n",
    "label2id = {good_genres[i]: i for i in range(len(good_genres))}\n",
    "\n",
    "# Create list of integer labels\n",
    "int_labels_train = []\n",
    "int_labels_val = []\n",
    "int_labels_test = []\n",
    "\n",
    "for label in labels_train:\n",
    "    int_labels_train.append(label2id[label])\n",
    "\n",
    "for label in labels_val:\n",
    "    int_labels_val.append(label2id[label])\n",
    "\n",
    "for label in labels_test:\n",
    "    int_labels_test.append(label2id[label])\n"
   ]
  },
  {
   "cell_type": "code",
   "execution_count": 10,
   "id": "5e43ebe3",
   "metadata": {
    "colab": {
     "base_uri": "https://localhost:8080/",
     "height": 388,
     "referenced_widgets": [
      "b038bc2cbd5d45b0beaa1a879e21ef20",
      "223c05ab5a734ec8816523f2149efcff",
      "cc3b11fbc9f843868595e2daca914683",
      "9afc375a4ca246a9ac1267f28152ad5a",
      "1f2e284c058c4750b2963bcf08278262",
      "f083be2e208b4df5ac0e3f4f26bc656b",
      "657edb49a4e4424391fda2b0019f1159",
      "563886019b3846b7b5d650611c6282a7",
      "b5969f4f566a46009729f0540069ca19",
      "a3474d86a5d4478a93a70f2bd5d3d707",
      "feddf26029eb4a278a2a16aa30596b45",
      "6f3927d3062b465591d58a83e822bb6e",
      "0781101fac2a4bd1b617c5f06a013eea",
      "7fb7031bb42d475892edb9389248de3a",
      "55162aee39104585970037c798d6871f",
      "0fedfbd17b9544d683d035a31d002d43",
      "2e035d99d11f480dbc9e273a7db8931c",
      "175a0670d48d4d4e929071e201f3eb7d",
      "0aa376236ca94a6d8a1923ebe3388077",
      "c4f4cc89a3eb4f3680fb59b9ebb38022",
      "d465478c22434feb96a10f10eeb674f8",
      "1a353e96db004287850517161ad5c0ab",
      "3d3179a79f094fe2827eb5885e922a5c",
      "279204dd5d2f40238be95be79d7226a5",
      "fed023cab1af42ca8d5102d6f093ea75",
      "2c04f372e5934ca2a5471ef6cb366daf",
      "ee021ddd1bdf408699d2abf2629d3cd9",
      "346c21962eff4e72a9b6a217e245fb4c",
      "168a4b3e095441a8a9c0c72f39c741c4",
      "82bd4452b5c14437a723380b95112b65",
      "807c3331bb324e8088cdfc17c9e6e790",
      "816954b1438a4309b41b31a55a0cd54b",
      "7acf4e69ff1b4a29bc6b418e2fd05e54",
      "8557113651f74163b7bdfcb73aab7977",
      "e46604281c7d416a8ae3114b75dc5c21",
      "1a246c4ffaf242bb856a4f19b9ba9bfa",
      "32bd5bfc53c34ed78494e7b9fedec958",
      "3971d7ef1d894017bceb3690102d6233",
      "0cd934ac128a4318a4c78e4a46ed5d64",
      "5c6a5e725df14f6295e80e8d827125cc",
      "6e2bde04926046b19b2d546b8a59ffd1",
      "4ce0b756e99a4f9d8c9dc5c8232e1260",
      "5629450780a14bde8a1ce3a4a8e6ed72",
      "61b5ba65c2304a0882348837a520ba22",
      "48d577de63ca4c9b88b002fffd267baf",
      "c9510d68214344b6b53ab5b558d9aadd",
      "fe60ba67a8bd43fcad88a5a09ed6b566",
      "927472d461a14c1caa562f3db9ad9206",
      "ab20fdb62b4547719ceab4d5acc92ef4",
      "391ecda0d0e444b3b904154160dc053e",
      "5ff66c2254be4c85bdbe4d23452a95f3",
      "23cd954ad67e4a1b9f90c06467033dfc",
      "26e311ec4ac047d8b1377a1fcb08399f",
      "1c9011439bc049bf804644c28fd2d81a",
      "21c62a52a43c42efa0b20cb38a675f4f",
      "c9a8bb7092504ffc8b2a41d1806d7631",
      "7523c43f5cb04141b58fd328cfe4242e",
      "e0e73f68b2d348e59f741cefc4949274",
      "46700967a8e44488b348bb0391743e0b",
      "560f81913ba04b1cbf3680c1ef5e8f2f",
      "0b8110853cc84af3a137a8022290c74c",
      "fe72b40ea0be444c8f6efbf69eb6d144",
      "3d78f479453b410c9b821d20068828c2",
      "70e6c7fbdda34bb18bc297da76278018",
      "1929e1d028f64d3c984ab740618ca9da",
      "13eb7fe7d6fb4e49a4641defcfd169f7",
      "0fe82b64bd3c434f8a1a3c5971c19813",
      "0362ddedf35240b894ff08e6437db711",
      "4138874282b94fcd8678e15f95eec64c",
      "69fc8891cc3c4eb0a3bd73c1e0a73667",
      "c54762fac80c4a12bbccc25777f6d26a",
      "582755135add425eb9f9a38cbddaa6c3",
      "22fb813b19e049c2ac8b107e54a66672",
      "3a80ca6fece04131a5dec12284781cbb",
      "76d781675d544ab796c4a2c39499c276",
      "980cab7e423c4db380ed9520a9227ef9",
      "3a646e7396b94ad5bf33ae44016db51d"
     ]
    },
    "id": "5e43ebe3",
    "outputId": "193fc582-6b4a-4b90-eba4-dbe36f9f0d77"
   },
   "outputs": [
    {
     "data": {
      "application/vnd.jupyter.widget-view+json": {
       "model_id": "b038bc2cbd5d45b0beaa1a879e21ef20",
       "version_major": 2,
       "version_minor": 0
      },
      "text/plain": [
       "Downloading (…)lve/main/config.json:   0%|          | 0.00/481 [00:00<?, ?B/s]"
      ]
     },
     "metadata": {},
     "output_type": "display_data"
    },
    {
     "data": {
      "application/vnd.jupyter.widget-view+json": {
       "model_id": "6f3927d3062b465591d58a83e822bb6e",
       "version_major": 2,
       "version_minor": 0
      },
      "text/plain": [
       "Downloading (…)olve/main/vocab.json:   0%|          | 0.00/899k [00:00<?, ?B/s]"
      ]
     },
     "metadata": {},
     "output_type": "display_data"
    },
    {
     "data": {
      "application/vnd.jupyter.widget-view+json": {
       "model_id": "3d3179a79f094fe2827eb5885e922a5c",
       "version_major": 2,
       "version_minor": 0
      },
      "text/plain": [
       "Downloading (…)olve/main/merges.txt:   0%|          | 0.00/456k [00:00<?, ?B/s]"
      ]
     },
     "metadata": {},
     "output_type": "display_data"
    },
    {
     "data": {
      "application/vnd.jupyter.widget-view+json": {
       "model_id": "8557113651f74163b7bdfcb73aab7977",
       "version_major": 2,
       "version_minor": 0
      },
      "text/plain": [
       "Downloading (…)/main/tokenizer.json:   0%|          | 0.00/1.36M [00:00<?, ?B/s]"
      ]
     },
     "metadata": {},
     "output_type": "display_data"
    },
    {
     "data": {
      "application/vnd.jupyter.widget-view+json": {
       "model_id": "48d577de63ca4c9b88b002fffd267baf",
       "version_major": 2,
       "version_minor": 0
      },
      "text/plain": [
       "Map:   0%|          | 0/5451 [00:00<?, ? examples/s]"
      ]
     },
     "metadata": {},
     "output_type": "display_data"
    },
    {
     "data": {
      "application/vnd.jupyter.widget-view+json": {
       "model_id": "c9a8bb7092504ffc8b2a41d1806d7631",
       "version_major": 2,
       "version_minor": 0
      },
      "text/plain": [
       "Map:   0%|          | 0/1817 [00:00<?, ? examples/s]"
      ]
     },
     "metadata": {},
     "output_type": "display_data"
    },
    {
     "data": {
      "application/vnd.jupyter.widget-view+json": {
       "model_id": "0fe82b64bd3c434f8a1a3c5971c19813",
       "version_major": 2,
       "version_minor": 0
      },
      "text/plain": [
       "Map:   0%|          | 0/1817 [00:00<?, ? examples/s]"
      ]
     },
     "metadata": {},
     "output_type": "display_data"
    },
    {
     "name": "stdout",
     "output_type": "stream",
     "text": [
      "DatasetDict({\n",
      "    train: Dataset({\n",
      "        features: ['label', 'text', 'input_ids', 'attention_mask'],\n",
      "        num_rows: 5451\n",
      "    })\n",
      "    val: Dataset({\n",
      "        features: ['label', 'text', 'input_ids', 'attention_mask'],\n",
      "        num_rows: 1817\n",
      "    })\n",
      "    test: Dataset({\n",
      "        features: ['label', 'text', 'input_ids', 'attention_mask'],\n",
      "        num_rows: 1817\n",
      "    })\n",
      "})\n"
     ]
    }
   ],
   "source": [
    "# Create a dataset from my movies\n",
    "from datasets import Dataset, DatasetDict\n",
    "from transformers import AutoTokenizer\n",
    "from transformers import DataCollatorWithPadding\n",
    "from transformers import AutoModelForSequenceClassification, TrainingArguments, Trainer\n",
    "\n",
    "def create_dataset():\n",
    "\n",
    "    d = {'train':Dataset.from_dict({'label':int_labels_train,'text':texts_train}),\n",
    "      'val':Dataset.from_dict({'label':int_labels_val,'text':texts_val}),\n",
    "      'test':Dataset.from_dict({'label':int_labels_test,'text':texts_test})\n",
    "      }\n",
    "\n",
    "    return DatasetDict(d)\n",
    "\n",
    "tokenizer = AutoTokenizer.from_pretrained(\"roberta-base\")\n",
    "dataset = create_dataset()\n",
    "\n",
    "# Tokenize the movies by using the tokenizer created before.\n",
    "def preprocess_function(examples):\n",
    "    return tokenizer(examples[\"text\"], truncation=True)\n",
    "\n",
    "tokenized_movies = dataset.map(preprocess_function, batched=True)\n",
    "print(tokenized_movies)"
   ]
  },
  {
   "cell_type": "code",
   "execution_count": 11,
   "id": "017e7f67",
   "metadata": {
    "colab": {
     "base_uri": "https://localhost:8080/",
     "height": 156,
     "referenced_widgets": [
      "d083b2146daa43ef844f464390cf2c3f",
      "21000035d99f45459c66fe192bea6598",
      "0f7e9b402c234316a22a37444e56e2da",
      "2fa2fa50590442a08974a0a78fa64923",
      "72f0856748e14a5a90b2f7f5e9126480",
      "bae5e8ece25d41c9b24f1297c6eccc5d",
      "8966b39acf9343ec8edef12c1aa1850b",
      "4dc51ae8dcaa413cb1f70e2464fbbe61",
      "de515df90ae041afbf1f01f234022bcf",
      "09f8aaa7d1e84846be242fa01b8a23e8",
      "85d6ba27765246998accd687eef53e18"
     ]
    },
    "id": "017e7f67",
    "outputId": "d4030d01-4569-4170-f926-7e8eb6953a83",
    "scrolled": true
   },
   "outputs": [
    {
     "data": {
      "application/vnd.jupyter.widget-view+json": {
       "model_id": "d083b2146daa43ef844f464390cf2c3f",
       "version_major": 2,
       "version_minor": 0
      },
      "text/plain": [
       "Downloading pytorch_model.bin:   0%|          | 0.00/501M [00:00<?, ?B/s]"
      ]
     },
     "metadata": {},
     "output_type": "display_data"
    },
    {
     "name": "stderr",
     "output_type": "stream",
     "text": [
      "Some weights of the model checkpoint at roberta-base were not used when initializing RobertaForSequenceClassification: ['lm_head.layer_norm.bias', 'lm_head.decoder.weight', 'roberta.pooler.dense.weight', 'lm_head.layer_norm.weight', 'lm_head.dense.weight', 'roberta.pooler.dense.bias', 'lm_head.dense.bias', 'lm_head.bias']\n",
      "- This IS expected if you are initializing RobertaForSequenceClassification from the checkpoint of a model trained on another task or with another architecture (e.g. initializing a BertForSequenceClassification model from a BertForPreTraining model).\n",
      "- This IS NOT expected if you are initializing RobertaForSequenceClassification from the checkpoint of a model that you expect to be exactly identical (initializing a BertForSequenceClassification model from a BertForSequenceClassification model).\n",
      "Some weights of RobertaForSequenceClassification were not initialized from the model checkpoint at roberta-base and are newly initialized: ['classifier.out_proj.weight', 'classifier.dense.weight', 'classifier.dense.bias', 'classifier.out_proj.bias']\n",
      "You should probably TRAIN this model on a down-stream task to be able to use it for predictions and inference.\n"
     ]
    }
   ],
   "source": [
    "data_collator = DataCollatorWithPadding(tokenizer=tokenizer)\n",
    "model = AutoModelForSequenceClassification.from_pretrained(\n",
    "    \"roberta-base\", num_labels=10, id2label=id2label, label2id=label2id\n",
    ")"
   ]
  },
  {
   "cell_type": "code",
   "execution_count": 16,
   "id": "0b2fe2dd",
   "metadata": {
    "id": "0b2fe2dd"
   },
   "outputs": [],
   "source": [
    "# Hyperparameters\n",
    "learning_rate = 1e-4\n",
    "batch_size = 16\n",
    "epochs = 1 "
   ]
  },
  {
   "cell_type": "code",
   "execution_count": 17,
   "id": "a93d1f90",
   "metadata": {
    "id": "a93d1f90"
   },
   "outputs": [],
   "source": [
    "# Set up training args.\n",
    "training_args = TrainingArguments(\n",
    "    output_dir=\"movie_genre_model\",\n",
    "    evaluation_strategy=\"epoch\",\n",
    "    learning_rate=learning_rate,\n",
    "    per_device_train_batch_size=batch_size,\n",
    "    per_device_eval_batch_size=batch_size,\n",
    "    num_train_epochs=epochs,\n",
    ")"
   ]
  },
  {
   "cell_type": "code",
   "execution_count": 18,
   "id": "324c9314",
   "metadata": {
    "id": "324c9314",
    "scrolled": true
   },
   "outputs": [],
   "source": [
    "# Set up the trainer and start training\n",
    "trainer_default = Trainer(\n",
    "    model=model,\n",
    "    args=training_args,\n",
    "    train_dataset=tokenized_movies[\"train\"],\n",
    "    eval_dataset=tokenized_movies[\"val\"],\n",
    "    tokenizer=tokenizer,\n",
    "    data_collator=data_collator,\n",
    ")\n",
    "\n",
    "\n"
   ]
  },
  {
   "cell_type": "code",
   "execution_count": 19,
   "id": "62349821",
   "metadata": {
    "colab": {
     "base_uri": "https://localhost:8080/",
     "height": 543
    },
    "id": "62349821",
    "outputId": "6d657594-5da7-45b7-dab3-11ee758c179b"
   },
   "outputs": [
    {
     "name": "stderr",
     "output_type": "stream",
     "text": [
      "The following columns in the training set don't have a corresponding argument in `RobertaForSequenceClassification.forward` and have been ignored: text. If text are not expected by `RobertaForSequenceClassification.forward`,  you can safely ignore this message.\n",
      "/usr/local/lib/python3.9/dist-packages/transformers/optimization.py:306: FutureWarning: This implementation of AdamW is deprecated and will be removed in a future version. Use the PyTorch implementation torch.optim.AdamW instead, or set `no_deprecation_warning=True` to disable this warning\n",
      "  warnings.warn(\n",
      "***** Running training *****\n",
      "  Num examples = 5451\n",
      "  Num Epochs = 1\n",
      "  Instantaneous batch size per device = 16\n",
      "  Total train batch size (w. parallel, distributed & accumulation) = 16\n",
      "  Gradient Accumulation steps = 1\n",
      "  Total optimization steps = 341\n",
      "  Number of trainable parameters = 124653322\n",
      "You're using a RobertaTokenizerFast tokenizer. Please note that with a fast tokenizer, using the `__call__` method is faster than using a method to encode the text followed by a call to the `pad` method to get a padded encoding.\n"
     ]
    },
    {
     "data": {
      "text/html": [
       "\n",
       "    <div>\n",
       "      \n",
       "      <progress value='341' max='341' style='width:300px; height:20px; vertical-align: middle;'></progress>\n",
       "      [341/341 06:01, Epoch 1/1]\n",
       "    </div>\n",
       "    <table border=\"1\" class=\"dataframe\">\n",
       "  <thead>\n",
       " <tr style=\"text-align: left;\">\n",
       "      <th>Epoch</th>\n",
       "      <th>Training Loss</th>\n",
       "      <th>Validation Loss</th>\n",
       "    </tr>\n",
       "  </thead>\n",
       "  <tbody>\n",
       "    <tr>\n",
       "      <td>1</td>\n",
       "      <td>No log</td>\n",
       "      <td>1.176392</td>\n",
       "    </tr>\n",
       "  </tbody>\n",
       "</table><p>"
      ],
      "text/plain": [
       "<IPython.core.display.HTML object>"
      ]
     },
     "metadata": {},
     "output_type": "display_data"
    },
    {
     "name": "stderr",
     "output_type": "stream",
     "text": [
      "The following columns in the evaluation set don't have a corresponding argument in `RobertaForSequenceClassification.forward` and have been ignored: text. If text are not expected by `RobertaForSequenceClassification.forward`,  you can safely ignore this message.\n",
      "***** Running Evaluation *****\n",
      "  Num examples = 1817\n",
      "  Batch size = 16\n",
      "\n",
      "\n",
      "Training completed. Do not forget to share your model on huggingface.co/models =)\n",
      "\n",
      "\n"
     ]
    },
    {
     "data": {
      "text/plain": [
       "TrainOutput(global_step=341, training_loss=1.5550034151049303, metrics={'train_runtime': 364.429, 'train_samples_per_second': 14.958, 'train_steps_per_second': 0.936, 'total_flos': 967122326753436.0, 'train_loss': 1.5550034151049303, 'epoch': 1.0})"
      ]
     },
     "execution_count": 19,
     "metadata": {},
     "output_type": "execute_result"
    }
   ],
   "source": [
    "trainer_default.train()"
   ]
  },
  {
   "cell_type": "code",
   "execution_count": 32,
   "id": "rXx6dv5DNXjb",
   "metadata": {
    "colab": {
     "base_uri": "https://localhost:8080/",
     "height": 106
    },
    "id": "rXx6dv5DNXjb",
    "outputId": "8649ede2-3e5b-4bd2-9dbe-b075f5f46ed8"
   },
   "outputs": [
    {
     "name": "stderr",
     "output_type": "stream",
     "text": [
      "The following columns in the test set don't have a corresponding argument in `RobertaForSequenceClassification.forward` and have been ignored: text. If text are not expected by `RobertaForSequenceClassification.forward`,  you can safely ignore this message.\n",
      "***** Running Prediction *****\n",
      "  Num examples = 1817\n",
      "  Batch size = 16\n"
     ]
    },
    {
     "data": {
      "text/html": [],
      "text/plain": [
       "<IPython.core.display.HTML object>"
      ]
     },
     "metadata": {},
     "output_type": "display_data"
    }
   ],
   "source": [
    "predictions, label_ids, metrics = trainer_default.predict(tokenized_movies['val'])"
   ]
  },
  {
   "cell_type": "code",
   "execution_count": 34,
   "id": "BRKvzRswNqjN",
   "metadata": {
    "colab": {
     "base_uri": "https://localhost:8080/"
    },
    "id": "BRKvzRswNqjN",
    "outputId": "e2ae6cf5-168f-4fcc-8cc4-b6432ee291d4"
   },
   "outputs": [
    {
     "name": "stdout",
     "output_type": "stream",
     "text": [
      "['horror', 'horror', 'adventure', 'comedy', 'adventure', 'sci-fi', 'action', 'horror', 'western', 'sci-fi', 'horror', 'thriller', 'other', 'comedy', 'horror', 'other', 'horror', 'sci-fi', 'drama', 'drama', 'romance', 'sci-fi', 'horror', 'thriller', 'adventure', 'thriller', 'comedy', 'thriller', 'sci-fi', 'western', 'thriller', 'other', 'comedy', 'adventure', 'horror', 'other', 'romance', 'romance', 'drama', 'drama', 'western', 'drama', 'western', 'sci-fi', 'comedy', 'other', 'other', 'other', 'other', 'thriller', 'adventure', 'horror', 'drama', 'adventure', 'thriller', 'romance', 'adventure', 'action', 'sci-fi', 'sci-fi', 'drama', 'thriller', 'horror', 'other', 'other', 'comedy', 'action', 'horror', 'drama', 'action', 'drama', 'comedy', 'action', 'drama', 'sci-fi', 'comedy', 'romance', 'drama', 'drama', 'horror', 'other', 'thriller', 'drama', 'drama', 'sci-fi', 'thriller', 'horror', 'sci-fi', 'other', 'horror', 'drama', 'comedy', 'western', 'comedy', 'western', 'action', 'drama', 'other', 'adventure', 'action', 'western', 'horror', 'western', 'western', 'thriller', 'adventure', 'adventure', 'other', 'romance', 'action', 'western', 'drama', 'western', 'romance', 'horror', 'comedy', 'romance', 'romance', 'western', 'other', 'western', 'comedy', 'sci-fi', 'horror', 'other', 'comedy', 'horror', 'horror', 'comedy', 'western', 'action', 'sci-fi', 'western', 'romance', 'western', 'adventure', 'romance', 'adventure', 'drama', 'adventure', 'romance', 'other', 'adventure', 'action', 'drama', 'sci-fi', 'comedy', 'drama', 'sci-fi', 'horror', 'drama', 'action', 'adventure', 'thriller', 'adventure', 'adventure', 'drama', 'comedy', 'action', 'comedy', 'western', 'thriller', 'other', 'thriller', 'sci-fi', 'adventure', 'western', 'adventure', 'comedy', 'western', 'romance', 'other', 'horror', 'western', 'western', 'western', 'sci-fi', 'romance', 'drama', 'romance', 'drama', 'other', 'adventure', 'other', 'romance', 'thriller', 'drama', 'drama', 'adventure', 'romance', 'other', 'action', 'horror', 'thriller', 'thriller', 'western', 'horror', 'western', 'adventure', 'sci-fi', 'horror', 'comedy', 'other', 'action', 'romance', 'western', 'horror', 'thriller', 'action', 'action', 'thriller', 'sci-fi', 'western', 'adventure', 'western', 'western', 'western', 'other', 'drama', 'other', 'western', 'action', 'action', 'western', 'drama', 'drama', 'comedy', 'drama', 'action', 'other', 'drama', 'comedy', 'horror', 'comedy', 'action', 'other', 'sci-fi', 'western', 'sci-fi', 'drama', 'action', 'drama', 'comedy', 'thriller', 'sci-fi', 'other', 'action', 'other', 'thriller', 'comedy', 'action', 'other', 'comedy', 'western', 'other', 'drama', 'comedy', 'other', 'drama', 'western', 'drama', 'horror', 'action', 'drama', 'comedy', 'action', 'action', 'thriller', 'romance', 'action', 'romance', 'thriller', 'drama', 'sci-fi', 'action', 'other', 'thriller', 'drama', 'drama', 'horror', 'other', 'action', 'comedy', 'sci-fi', 'western', 'romance', 'thriller', 'action', 'other', 'drama', 'drama', 'drama', 'horror', 'thriller', 'drama', 'drama', 'western', 'horror', 'drama', 'thriller', 'horror', 'drama', 'horror', 'romance', 'horror', 'action', 'romance', 'thriller', 'other', 'other', 'drama', 'comedy', 'comedy', 'adventure', 'sci-fi', 'drama', 'thriller', 'comedy', 'horror', 'horror', 'horror', 'action', 'sci-fi', 'thriller', 'drama', 'drama', 'comedy', 'horror', 'romance', 'action', 'romance', 'drama', 'action', 'horror', 'western', 'romance', 'sci-fi', 'drama', 'other', 'horror', 'western', 'romance', 'horror', 'drama', 'sci-fi', 'thriller', 'other', 'action', 'western', 'other', 'horror', 'comedy', 'romance', 'horror', 'other', 'thriller', 'drama', 'other', 'drama', 'action', 'thriller', 'horror', 'sci-fi', 'sci-fi', 'drama', 'other', 'horror', 'action', 'action', 'western', 'western', 'comedy', 'action', 'thriller', 'action', 'drama', 'western', 'adventure', 'thriller', 'other', 'adventure', 'other', 'romance', 'western', 'western', 'western', 'horror', 'horror', 'sci-fi', 'western', 'horror', 'romance', 'other', 'thriller', 'other', 'action', 'adventure', 'horror', 'adventure', 'drama', 'romance', 'western', 'romance', 'western', 'action', 'action', 'adventure', 'drama', 'adventure', 'action', 'drama', 'comedy', 'western', 'romance', 'horror', 'drama', 'action', 'other', 'romance', 'action', 'romance', 'sci-fi', 'adventure', 'thriller', 'other', 'drama', 'horror', 'comedy', 'horror', 'action', 'other', 'western', 'comedy', 'romance', 'thriller', 'horror', 'horror', 'thriller', 'drama', 'sci-fi', 'action', 'thriller', 'drama', 'thriller', 'adventure', 'horror', 'comedy', 'drama', 'thriller', 'drama', 'western', 'other', 'adventure', 'action', 'thriller', 'comedy', 'drama', 'horror', 'thriller', 'western', 'adventure', 'drama', 'sci-fi', 'action', 'sci-fi', 'sci-fi', 'drama', 'horror', 'adventure', 'western', 'thriller', 'western', 'other', 'action', 'thriller', 'other', 'other', 'thriller', 'action', 'western', 'action', 'horror', 'action', 'adventure', 'comedy', 'horror', 'horror', 'sci-fi', 'western', 'romance', 'horror', 'other', 'other', 'western', 'drama', 'western', 'romance', 'comedy', 'adventure', 'action', 'drama', 'sci-fi', 'drama', 'horror', 'western', 'thriller', 'western', 'romance', 'drama', 'drama', 'horror', 'sci-fi', 'action', 'thriller', 'comedy', 'action', 'western', 'thriller', 'romance', 'other', 'action', 'other', 'western', 'western', 'romance', 'action', 'western', 'horror', 'drama', 'thriller', 'horror', 'thriller', 'thriller', 'comedy', 'adventure', 'thriller', 'romance', 'sci-fi', 'other', 'action', 'horror', 'western', 'comedy', 'other', 'horror', 'action', 'horror', 'other', 'thriller', 'sci-fi', 'thriller', 'horror', 'comedy', 'sci-fi', 'horror', 'drama', 'other', 'thriller', 'western', 'comedy', 'horror', 'romance', 'romance', 'thriller', 'thriller', 'action', 'thriller', 'comedy', 'romance', 'comedy', 'adventure', 'horror', 'action', 'action', 'horror', 'adventure', 'romance', 'thriller', 'western', 'drama', 'horror', 'horror', 'romance', 'horror', 'thriller', 'horror', 'sci-fi', 'thriller', 'western', 'western', 'action', 'action', 'adventure', 'thriller', 'sci-fi', 'thriller', 'other', 'romance', 'adventure', 'drama', 'western', 'horror', 'thriller', 'adventure', 'western', 'other', 'adventure', 'drama', 'other', 'thriller', 'western', 'thriller', 'thriller', 'action', 'romance', 'adventure', 'horror', 'thriller', 'action', 'other', 'comedy', 'other', 'thriller', 'horror', 'action', 'comedy', 'horror', 'horror', 'drama', 'other', 'horror', 'thriller', 'action', 'thriller', 'other', 'adventure', 'drama', 'drama', 'drama', 'horror', 'romance', 'action', 'drama', 'other', 'action', 'sci-fi', 'adventure', 'western', 'western', 'action', 'other', 'romance', 'other', 'sci-fi', 'other', 'drama', 'comedy', 'other', 'romance', 'thriller', 'adventure', 'drama', 'adventure', 'comedy', 'western', 'sci-fi', 'adventure', 'sci-fi', 'horror', 'thriller', 'sci-fi', 'other', 'drama', 'adventure', 'sci-fi', 'western', 'other', 'comedy', 'western', 'comedy', 'other', 'drama', 'adventure', 'western', 'other', 'action', 'drama', 'action', 'sci-fi', 'romance', 'adventure', 'sci-fi', 'thriller', 'thriller', 'thriller', 'comedy', 'sci-fi', 'western', 'action', 'thriller', 'western', 'adventure', 'comedy', 'other', 'thriller', 'drama', 'thriller', 'action', 'horror', 'drama', 'other', 'action', 'adventure', 'romance', 'western', 'action', 'adventure', 'action', 'action', 'western', 'other', 'horror', 'western', 'thriller', 'western', 'thriller', 'other', 'comedy', 'other', 'western', 'western', 'horror', 'action', 'romance', 'action', 'comedy', 'drama', 'other', 'comedy', 'adventure', 'adventure', 'other', 'adventure', 'other', 'western', 'western', 'romance', 'drama', 'western', 'comedy', 'other', 'action', 'comedy', 'western', 'horror', 'thriller', 'adventure', 'other', 'drama', 'sci-fi', 'western', 'action', 'comedy', 'comedy', 'western', 'adventure', 'action', 'sci-fi', 'adventure', 'action', 'other', 'sci-fi', 'horror', 'comedy', 'western', 'drama', 'other', 'horror', 'drama', 'action', 'adventure', 'other', 'western', 'comedy', 'adventure', 'other', 'comedy', 'romance', 'thriller', 'romance', 'drama', 'other', 'adventure', 'other', 'sci-fi', 'romance', 'other', 'other', 'romance', 'adventure', 'action', 'comedy', 'action', 'other', 'western', 'thriller', 'western', 'other', 'thriller', 'sci-fi', 'adventure', 'adventure', 'comedy', 'adventure', 'romance', 'other', 'drama', 'romance', 'horror', 'western', 'thriller', 'sci-fi', 'thriller', 'adventure', 'action', 'sci-fi', 'action', 'romance', 'drama', 'other', 'thriller', 'other', 'romance', 'action', 'action', 'sci-fi', 'horror', 'sci-fi', 'sci-fi', 'action', 'thriller', 'other', 'adventure', 'thriller', 'adventure', 'thriller', 'comedy', 'drama', 'comedy', 'adventure', 'action', 'sci-fi', 'comedy', 'action', 'horror', 'comedy', 'horror', 'drama', 'comedy', 'romance', 'comedy', 'drama', 'thriller', 'thriller', 'comedy', 'romance', 'sci-fi', 'thriller', 'romance', 'action', 'comedy', 'action', 'adventure', 'romance', 'sci-fi', 'adventure', 'adventure', 'western', 'adventure', 'sci-fi', 'action', 'sci-fi', 'other', 'romance', 'horror', 'other', 'comedy', 'western', 'sci-fi', 'horror', 'romance', 'horror', 'horror', 'comedy', 'horror', 'horror', 'action', 'western', 'horror', 'thriller', 'other', 'other', 'thriller', 'thriller', 'adventure', 'drama', 'romance', 'thriller', 'drama', 'drama', 'sci-fi', 'drama', 'western', 'drama', 'horror', 'horror', 'western', 'thriller', 'sci-fi', 'thriller', 'horror', 'western', 'romance', 'drama', 'action', 'thriller', 'sci-fi', 'romance', 'sci-fi', 'other', 'horror', 'horror', 'action', 'thriller', 'thriller', 'horror', 'horror', 'romance', 'western', 'action', 'action', 'adventure', 'drama', 'thriller', 'thriller', 'romance', 'western', 'drama', 'drama', 'western', 'drama', 'sci-fi', 'thriller', 'comedy', 'adventure', 'other', 'adventure', 'horror', 'western', 'adventure', 'other', 'drama', 'romance', 'sci-fi', 'romance', 'drama', 'comedy', 'thriller', 'comedy', 'horror', 'western', 'drama', 'drama', 'other', 'horror', 'horror', 'sci-fi', 'romance', 'adventure', 'drama', 'thriller', 'romance', 'action', 'horror', 'comedy', 'thriller', 'action', 'adventure', 'comedy', 'thriller', 'sci-fi', 'western', 'drama', 'drama', 'romance', 'other', 'thriller', 'comedy', 'romance', 'adventure', 'thriller', 'sci-fi', 'other', 'action', 'other', 'adventure', 'horror', 'adventure', 'drama', 'action', 'sci-fi', 'romance', 'horror', 'adventure', 'other', 'action', 'comedy', 'western', 'comedy', 'horror', 'other', 'adventure', 'other', 'western', 'horror', 'action', 'drama', 'other', 'thriller', 'action', 'thriller', 'action', 'sci-fi', 'comedy', 'comedy', 'romance', 'thriller', 'thriller', 'other', 'other', 'action', 'other', 'western', 'romance', 'adventure', 'action', 'other', 'horror', 'action', 'other', 'drama', 'adventure', 'western', 'horror', 'horror', 'thriller', 'comedy', 'sci-fi', 'action', 'comedy', 'horror', 'horror', 'sci-fi', 'horror', 'comedy', 'adventure', 'horror', 'sci-fi', 'comedy', 'horror', 'horror', 'western', 'western', 'western', 'action', 'western', 'other', 'action', 'adventure', 'western', 'other', 'thriller', 'drama', 'drama', 'romance', 'western', 'action', 'sci-fi', 'adventure', 'drama', 'adventure', 'thriller', 'action', 'drama', 'sci-fi', 'horror', 'thriller', 'other', 'horror', 'horror', 'other', 'adventure', 'other', 'drama', 'horror', 'western', 'horror', 'thriller', 'adventure', 'horror', 'other', 'adventure', 'action', 'sci-fi', 'adventure', 'western', 'romance', 'drama', 'western', 'drama', 'sci-fi', 'drama', 'sci-fi', 'adventure', 'action', 'action', 'horror', 'thriller', 'drama', 'romance', 'action', 'sci-fi', 'drama', 'drama', 'adventure', 'horror', 'drama', 'other', 'horror', 'sci-fi', 'action', 'drama', 'adventure', 'other', 'adventure', 'action', 'adventure', 'drama', 'action', 'romance', 'romance', 'adventure', 'romance', 'other', 'adventure', 'comedy', 'action', 'drama', 'thriller', 'comedy', 'other', 'comedy', 'horror', 'action', 'sci-fi', 'other', 'romance', 'sci-fi', 'sci-fi', 'drama', 'comedy', 'comedy', 'thriller', 'thriller', 'action', 'romance', 'western', 'drama', 'drama', 'adventure', 'western', 'horror', 'action', 'drama', 'horror', 'action', 'horror', 'action', 'other', 'adventure', 'thriller', 'thriller', 'action', 'sci-fi', 'drama', 'adventure', 'drama', 'other', 'sci-fi', 'horror', 'romance', 'action', 'other', 'drama', 'thriller', 'romance', 'romance', 'sci-fi', 'adventure', 'action', 'other', 'western', 'horror', 'sci-fi', 'western', 'comedy', 'thriller', 'thriller', 'romance', 'thriller', 'comedy', 'thriller', 'horror', 'drama', 'adventure', 'western', 'thriller', 'comedy', 'other', 'thriller', 'horror', 'horror', 'action', 'thriller', 'thriller', 'western', 'thriller', 'horror', 'thriller', 'action', 'western', 'sci-fi', 'thriller', 'western', 'horror', 'comedy', 'romance', 'drama', 'thriller', 'romance', 'thriller', 'horror', 'thriller', 'western', 'western', 'action', 'horror', 'romance', 'drama', 'adventure', 'other', 'thriller', 'sci-fi', 'sci-fi', 'action', 'romance', 'thriller', 'thriller', 'other', 'drama', 'sci-fi', 'action', 'action', 'other', 'comedy', 'action', 'western', 'romance', 'romance', 'western', 'other', 'sci-fi', 'other', 'horror', 'action', 'western', 'thriller', 'romance', 'action', 'comedy', 'action', 'romance', 'comedy', 'action', 'adventure', 'adventure', 'comedy', 'adventure', 'horror', 'romance', 'adventure', 'comedy', 'romance', 'action', 'romance', 'sci-fi', 'comedy', 'thriller', 'western', 'action', 'sci-fi', 'comedy', 'sci-fi', 'sci-fi', 'horror', 'action', 'thriller', 'western', 'other', 'thriller', 'adventure', 'other', 'adventure', 'other', 'western', 'drama', 'comedy', 'thriller', 'drama', 'western', 'other', 'horror', 'comedy', 'drama', 'western', 'drama', 'comedy', 'western', 'sci-fi', 'adventure', 'thriller', 'horror', 'horror', 'sci-fi', 'action', 'horror', 'western', 'thriller', 'drama', 'adventure', 'action', 'western', 'action', 'action', 'thriller', 'sci-fi', 'action', 'adventure', 'drama', 'drama', 'horror', 'thriller', 'comedy', 'sci-fi', 'comedy', 'other', 'comedy', 'drama', 'comedy', 'adventure', 'other', 'western', 'romance', 'thriller', 'western', 'other', 'horror', 'action', 'sci-fi', 'adventure', 'horror', 'action', 'action', 'adventure', 'adventure', 'other', 'sci-fi', 'adventure', 'other', 'drama', 'action', 'sci-fi', 'horror', 'thriller', 'sci-fi', 'thriller', 'other', 'drama', 'horror', 'other', 'other', 'action', 'romance', 'action', 'drama', 'action', 'comedy', 'comedy', 'horror', 'drama', 'thriller', 'action', 'other', 'comedy', 'adventure', 'sci-fi', 'other', 'thriller', 'horror', 'horror', 'adventure', 'thriller', 'thriller', 'horror', 'thriller', 'adventure', 'western', 'horror', 'sci-fi', 'romance', 'romance', 'horror', 'action', 'adventure', 'romance', 'comedy', 'thriller', 'horror', 'thriller', 'adventure', 'other', 'sci-fi', 'thriller', 'romance', 'thriller', 'horror', 'horror', 'comedy', 'other', 'adventure', 'other', 'horror', 'sci-fi', 'western', 'adventure', 'other', 'horror', 'horror', 'action', 'adventure', 'western', 'western', 'sci-fi', 'action', 'horror', 'other', 'western', 'adventure', 'drama', 'western', 'adventure', 'action', 'horror', 'horror', 'drama', 'drama', 'romance', 'thriller', 'thriller', 'thriller', 'action', 'thriller', 'other', 'adventure', 'action', 'comedy', 'horror', 'sci-fi', 'romance', 'thriller', 'drama', 'romance', 'other', 'comedy', 'thriller', 'romance', 'drama', 'action', 'sci-fi', 'romance', 'romance', 'western', 'drama', 'romance', 'comedy', 'thriller', 'thriller', 'other', 'thriller', 'drama', 'drama', 'horror', 'horror', 'other', 'western', 'western', 'adventure', 'action', 'romance', 'action', 'sci-fi', 'drama', 'horror', 'adventure', 'romance', 'thriller', 'drama', 'thriller', 'sci-fi', 'comedy', 'sci-fi', 'horror', 'other', 'drama', 'drama', 'western', 'action', 'horror', 'action', 'sci-fi', 'horror', 'romance', 'horror', 'thriller', 'drama', 'comedy', 'horror', 'comedy', 'comedy', 'other', 'sci-fi', 'other', 'thriller', 'horror', 'thriller', 'western', 'comedy', 'sci-fi', 'other', 'action', 'horror', 'comedy', 'action', 'drama', 'drama', 'other', 'other', 'other', 'comedy', 'western', 'horror', 'horror', 'other', 'action', 'thriller', 'action', 'horror', 'sci-fi', 'drama', 'action', 'western', 'action', 'other', 'comedy', 'thriller', 'western', 'action', 'romance', 'thriller', 'drama', 'comedy', 'western', 'western', 'drama', 'comedy', 'horror', 'comedy', 'romance', 'other', 'drama', 'other', 'horror', 'romance', 'horror', 'romance', 'romance', 'comedy', 'action', 'adventure', 'sci-fi', 'horror', 'drama', 'western', 'thriller', 'adventure', 'horror', 'drama', 'sci-fi', 'thriller', 'thriller', 'sci-fi', 'comedy', 'drama', 'western', 'drama', 'thriller', 'action', 'other', 'horror', 'horror', 'thriller', 'western', 'romance', 'thriller', 'comedy', 'drama', 'other', 'action', 'sci-fi', 'drama', 'horror', 'thriller', 'sci-fi', 'horror', 'drama', 'western', 'action', 'action', 'comedy', 'drama', 'western', 'action', 'horror', 'comedy', 'romance', 'thriller', 'romance', 'other', 'drama', 'comedy', 'other', 'western', 'comedy', 'comedy', 'horror', 'comedy', 'western', 'horror', 'drama', 'drama', 'other', 'thriller', 'western', 'drama', 'romance', 'western', 'sci-fi', 'thriller', 'drama', 'western', 'drama', 'thriller', 'drama', 'sci-fi', 'drama', 'horror', 'western', 'romance', 'sci-fi', 'drama', 'western', 'sci-fi', 'drama', 'drama', 'other', 'drama', 'horror', 'comedy', 'sci-fi', 'adventure', 'action', 'western', 'adventure', 'drama', 'other', 'drama', 'thriller', 'thriller', 'western', 'other', 'other', 'sci-fi', 'horror', 'action', 'romance', 'other', 'adventure', 'horror', 'comedy', 'horror', 'romance', 'comedy', 'thriller', 'thriller', 'thriller', 'romance', 'horror', 'drama', 'comedy', 'thriller', 'sci-fi', 'thriller', 'thriller', 'comedy', 'horror', 'other', 'comedy', 'western', 'thriller', 'adventure', 'drama', 'sci-fi', 'adventure', 'western', 'sci-fi', 'sci-fi', 'horror', 'other', 'action', 'drama', 'action', 'sci-fi', 'other', 'drama', 'comedy', 'sci-fi', 'sci-fi', 'other', 'horror', 'thriller', 'romance', 'action', 'western', 'drama', 'action', 'horror', 'horror', 'action', 'sci-fi', 'thriller', 'action', 'action', 'drama', 'action', 'thriller', 'adventure', 'sci-fi', 'action', 'romance', 'western', 'sci-fi', 'adventure', 'drama', 'sci-fi', 'romance', 'thriller', 'drama', 'romance', 'comedy', 'drama', 'sci-fi', 'sci-fi', 'drama', 'drama', 'sci-fi', 'other', 'horror', 'other', 'comedy', 'thriller', 'thriller', 'thriller', 'romance', 'adventure', 'horror', 'adventure', 'action', 'drama', 'horror', 'western', 'sci-fi', 'drama', 'horror', 'romance', 'drama', 'adventure', 'western']\n"
     ]
    }
   ],
   "source": [
    "prediction_labels = []\n",
    "for i in range(len(texts_val)):\n",
    "    prediction_labels.append(id2label[predictions[i, :].argmax(axis=0)])\n",
    "\n",
    "print(prediction_labels)"
   ]
  },
  {
   "cell_type": "code",
   "execution_count": 35,
   "id": "6EE0NgPXO3FT",
   "metadata": {
    "colab": {
     "base_uri": "https://localhost:8080/"
    },
    "id": "6EE0NgPXO3FT",
    "outputId": "40068ead-fa0e-493d-bf40-1a7acbeee0f0"
   },
   "outputs": [
    {
     "name": "stdout",
     "output_type": "stream",
     "text": [
      "Metrics for end-to-end trainer with default hyperparams:\n",
      "Accuracy score: 0.6224545954870666\n",
      "Precision score: 0.6231029833798799\n",
      "Recall score: 0.6228697624862157\n",
      "F1 score: 0.6217040551155686\n"
     ]
    }
   ],
   "source": [
    "from sklearn.metrics import f1_score, accuracy_score, precision_score, recall_score\n",
    "\n",
    "print(\"Metrics for end-to-end trainer with default hyperparams:\")\n",
    "print(f\"Accuracy score: {accuracy_score(labels_val, prediction_labels)}\")\n",
    "print(f\"Precision score: {precision_score(labels_val, prediction_labels, average='macro')}\")\n",
    "print(f\"Recall score: {recall_score(labels_val, prediction_labels, average='macro')}\")\n",
    "print(f\"F1 score: {f1_score(labels_val, prediction_labels, average='macro')}\")"
   ]
  },
  {
   "cell_type": "markdown",
   "id": "LvXlTwRkpKRm",
   "metadata": {
    "id": "LvXlTwRkpKRm"
   },
   "source": [
    "### (c) Tuning the hyperparams"
   ]
  },
  {
   "cell_type": "code",
   "execution_count": 24,
   "id": "3fbDX7wdpO9Z",
   "metadata": {
    "colab": {
     "base_uri": "https://localhost:8080/",
     "height": 260,
     "referenced_widgets": [
      "aa9b29b03b38410db74a574fba193636",
      "6bb12a43804243b6be790a2652bff67d",
      "124c0c9c6ecc477b8c76a628b999ef77",
      "da1a36391d764fccb510988009a37768",
      "0e14f5953d0342ccad8bc2386c4f9d2a",
      "543fc9152f8d47968f7cdb56e56a03ba",
      "7a889e1d0342436e963dffb0f3aa8932",
      "c51497a6de19491693430211eb339abe",
      "220c679b13a2422b8b8809f226f61f0b",
      "20c6367924d54069a09846a35bce8d65",
      "a8b18292a98a4ceba7ed86d5b0528436",
      "34796df9a14f4cc08e1632fbe1ba2b1e",
      "42dcd21a607a44638880c9c0b87bf904",
      "1d6c87be81bc479d994e5d50e27380af",
      "0eeac14c7710445eb5aa57f3eac642cb",
      "473e3976aad9497e81b4d51fab2486ef",
      "9921c1f7fcc8448a9f3ec7ea90bb9c8d",
      "36b95b03fd36454bad31fc0043caf6fb",
      "d1566f5de6ed46c49b522bbd68cdfdbb",
      "650da5b524624d21bdaf07ffcffb65a1",
      "8d81424c9e1b45f3ae2f82f938f959f7",
      "ce8c2e291c4b4c36b5c722ecf77f431a",
      "af94f9573284475aa23e79f8fcad7938",
      "6779846fa768479188d483c49fbaa8aa",
      "fe6e1295c9a74b26bf83cb7d154063fc",
      "692077fbf12a4ee8bd5307a6e262bf99",
      "5b68d73644b444f2824788f9f3471a89",
      "ef2f589026f141b7bbf18cffde59a651",
      "067fc583d90641eb9c2061353641b96d",
      "41f4cbb981414247999abf16dce26b16",
      "edcf900e85de4f08b34dc1a9df02690d",
      "828e660905c44e5ab7d8472947dec5b1",
      "87d2c14459e9415f8bcfae89c6a3a029"
     ]
    },
    "id": "3fbDX7wdpO9Z",
    "outputId": "48fa686d-75b5-496c-fea4-8b8875c3620f"
   },
   "outputs": [
    {
     "data": {
      "application/vnd.jupyter.widget-view+json": {
       "model_id": "aa9b29b03b38410db74a574fba193636",
       "version_major": 2,
       "version_minor": 0
      },
      "text/plain": [
       "Map:   0%|          | 0/5451 [00:00<?, ? examples/s]"
      ]
     },
     "metadata": {},
     "output_type": "display_data"
    },
    {
     "data": {
      "application/vnd.jupyter.widget-view+json": {
       "model_id": "34796df9a14f4cc08e1632fbe1ba2b1e",
       "version_major": 2,
       "version_minor": 0
      },
      "text/plain": [
       "Map:   0%|          | 0/1817 [00:00<?, ? examples/s]"
      ]
     },
     "metadata": {},
     "output_type": "display_data"
    },
    {
     "data": {
      "application/vnd.jupyter.widget-view+json": {
       "model_id": "af94f9573284475aa23e79f8fcad7938",
       "version_major": 2,
       "version_minor": 0
      },
      "text/plain": [
       "Map:   0%|          | 0/1817 [00:00<?, ? examples/s]"
      ]
     },
     "metadata": {},
     "output_type": "display_data"
    },
    {
     "name": "stdout",
     "output_type": "stream",
     "text": [
      "DatasetDict({\n",
      "    train: Dataset({\n",
      "        features: ['label', 'text', 'input_ids', 'attention_mask'],\n",
      "        num_rows: 5451\n",
      "    })\n",
      "    val: Dataset({\n",
      "        features: ['label', 'text', 'input_ids', 'attention_mask'],\n",
      "        num_rows: 1817\n",
      "    })\n",
      "    test: Dataset({\n",
      "        features: ['label', 'text', 'input_ids', 'attention_mask'],\n",
      "        num_rows: 1817\n",
      "    })\n",
      "})\n"
     ]
    }
   ],
   "source": [
    "dataset = create_dataset()\n",
    "\n",
    "tokenized_movies = dataset.map(preprocess_function, batched=True)\n",
    "print(tokenized_movies)"
   ]
  },
  {
   "cell_type": "code",
   "execution_count": 25,
   "id": "RSucjvEopf9C",
   "metadata": {
    "id": "RSucjvEopf9C"
   },
   "outputs": [],
   "source": [
    "# Hyperparameters\n",
    "learning_rate = 1e-4\n",
    "batch_size = 16\n",
    "epochs = 4 "
   ]
  },
  {
   "cell_type": "code",
   "execution_count": 27,
   "id": "XsOkr-rVpf9D",
   "metadata": {
    "colab": {
     "base_uri": "https://localhost:8080/"
    },
    "id": "XsOkr-rVpf9D",
    "outputId": "6a2c4102-a215-48a3-8405-edf5ae2392e6"
   },
   "outputs": [
    {
     "name": "stderr",
     "output_type": "stream",
     "text": [
      "PyTorch: setting up devices\n",
      "The default value for the training argument `--report_to` will change in v5 (from all installed integrations to none). In v5, you will need to use `--report_to all` to get the same behavior as now. You should start updating your code and make this info disappear :-).\n"
     ]
    }
   ],
   "source": [
    "# Set up training args.\n",
    "training_args = TrainingArguments(\n",
    "    output_dir=\"movie_genre_model_two\",\n",
    "    evaluation_strategy=\"epoch\",\n",
    "    learning_rate=learning_rate,\n",
    "    per_device_train_batch_size=batch_size,\n",
    "    per_device_eval_batch_size=batch_size,\n",
    "    num_train_epochs=epochs,\n",
    ")"
   ]
  },
  {
   "cell_type": "code",
   "execution_count": 28,
   "id": "ONJ07_XMpf9D",
   "metadata": {
    "id": "ONJ07_XMpf9D",
    "scrolled": true
   },
   "outputs": [],
   "source": [
    "# Set up the trainer and start training\n",
    "trainer_one = Trainer(\n",
    "    model=model,\n",
    "    args=training_args,\n",
    "    train_dataset=tokenized_movies[\"train\"],\n",
    "    eval_dataset=tokenized_movies[\"val\"],\n",
    "    tokenizer=tokenizer,\n",
    "    data_collator=data_collator,\n",
    ")\n",
    "\n",
    "\n"
   ]
  },
  {
   "cell_type": "code",
   "execution_count": 29,
   "id": "LKgTA1wopf9D",
   "metadata": {
    "colab": {
     "base_uri": "https://localhost:8080/",
     "height": 1000
    },
    "id": "LKgTA1wopf9D",
    "outputId": "1bf0edd4-0297-4dd0-e47c-f251eca12f7f"
   },
   "outputs": [
    {
     "name": "stderr",
     "output_type": "stream",
     "text": [
      "The following columns in the training set don't have a corresponding argument in `RobertaForSequenceClassification.forward` and have been ignored: text. If text are not expected by `RobertaForSequenceClassification.forward`,  you can safely ignore this message.\n",
      "/usr/local/lib/python3.9/dist-packages/transformers/optimization.py:306: FutureWarning: This implementation of AdamW is deprecated and will be removed in a future version. Use the PyTorch implementation torch.optim.AdamW instead, or set `no_deprecation_warning=True` to disable this warning\n",
      "  warnings.warn(\n",
      "***** Running training *****\n",
      "  Num examples = 5451\n",
      "  Num Epochs = 4\n",
      "  Instantaneous batch size per device = 16\n",
      "  Total train batch size (w. parallel, distributed & accumulation) = 16\n",
      "  Gradient Accumulation steps = 1\n",
      "  Total optimization steps = 1364\n",
      "  Number of trainable parameters = 124653322\n"
     ]
    },
    {
     "data": {
      "text/html": [
       "\n",
       "    <div>\n",
       "      \n",
       "      <progress value='1364' max='1364' style='width:300px; height:20px; vertical-align: middle;'></progress>\n",
       "      [1364/1364 24:21, Epoch 4/4]\n",
       "    </div>\n",
       "    <table border=\"1\" class=\"dataframe\">\n",
       "  <thead>\n",
       " <tr style=\"text-align: left;\">\n",
       "      <th>Epoch</th>\n",
       "      <th>Training Loss</th>\n",
       "      <th>Validation Loss</th>\n",
       "    </tr>\n",
       "  </thead>\n",
       "  <tbody>\n",
       "    <tr>\n",
       "      <td>1</td>\n",
       "      <td>No log</td>\n",
       "      <td>1.349886</td>\n",
       "    </tr>\n",
       "    <tr>\n",
       "      <td>2</td>\n",
       "      <td>1.135100</td>\n",
       "      <td>1.262280</td>\n",
       "    </tr>\n",
       "    <tr>\n",
       "      <td>3</td>\n",
       "      <td>0.714500</td>\n",
       "      <td>1.372255</td>\n",
       "    </tr>\n",
       "    <tr>\n",
       "      <td>4</td>\n",
       "      <td>0.714500</td>\n",
       "      <td>1.447996</td>\n",
       "    </tr>\n",
       "  </tbody>\n",
       "</table><p>"
      ],
      "text/plain": [
       "<IPython.core.display.HTML object>"
      ]
     },
     "metadata": {},
     "output_type": "display_data"
    },
    {
     "name": "stderr",
     "output_type": "stream",
     "text": [
      "The following columns in the evaluation set don't have a corresponding argument in `RobertaForSequenceClassification.forward` and have been ignored: text. If text are not expected by `RobertaForSequenceClassification.forward`,  you can safely ignore this message.\n",
      "***** Running Evaluation *****\n",
      "  Num examples = 1817\n",
      "  Batch size = 16\n",
      "Saving model checkpoint to movie_genre_model_two/checkpoint-500\n",
      "Configuration saved in movie_genre_model_two/checkpoint-500/config.json\n",
      "Model weights saved in movie_genre_model_two/checkpoint-500/pytorch_model.bin\n",
      "tokenizer config file saved in movie_genre_model_two/checkpoint-500/tokenizer_config.json\n",
      "Special tokens file saved in movie_genre_model_two/checkpoint-500/special_tokens_map.json\n",
      "The following columns in the evaluation set don't have a corresponding argument in `RobertaForSequenceClassification.forward` and have been ignored: text. If text are not expected by `RobertaForSequenceClassification.forward`,  you can safely ignore this message.\n",
      "***** Running Evaluation *****\n",
      "  Num examples = 1817\n",
      "  Batch size = 16\n",
      "Saving model checkpoint to movie_genre_model_two/checkpoint-1000\n",
      "Configuration saved in movie_genre_model_two/checkpoint-1000/config.json\n",
      "Model weights saved in movie_genre_model_two/checkpoint-1000/pytorch_model.bin\n",
      "tokenizer config file saved in movie_genre_model_two/checkpoint-1000/tokenizer_config.json\n",
      "Special tokens file saved in movie_genre_model_two/checkpoint-1000/special_tokens_map.json\n",
      "The following columns in the evaluation set don't have a corresponding argument in `RobertaForSequenceClassification.forward` and have been ignored: text. If text are not expected by `RobertaForSequenceClassification.forward`,  you can safely ignore this message.\n",
      "***** Running Evaluation *****\n",
      "  Num examples = 1817\n",
      "  Batch size = 16\n",
      "The following columns in the evaluation set don't have a corresponding argument in `RobertaForSequenceClassification.forward` and have been ignored: text. If text are not expected by `RobertaForSequenceClassification.forward`,  you can safely ignore this message.\n",
      "***** Running Evaluation *****\n",
      "  Num examples = 1817\n",
      "  Batch size = 16\n",
      "\n",
      "\n",
      "Training completed. Do not forget to share your model on huggingface.co/models =)\n",
      "\n",
      "\n"
     ]
    },
    {
     "data": {
      "text/plain": [
       "TrainOutput(global_step=1364, training_loss=0.7688777509672551, metrics={'train_runtime': 1462.7597, 'train_samples_per_second': 14.906, 'train_steps_per_second': 0.932, 'total_flos': 3842756019763920.0, 'train_loss': 0.7688777509672551, 'epoch': 4.0})"
      ]
     },
     "execution_count": 29,
     "metadata": {},
     "output_type": "execute_result"
    }
   ],
   "source": [
    "trainer_one.train()"
   ]
  },
  {
   "cell_type": "code",
   "execution_count": 41,
   "id": "WowyoTUyvY3V",
   "metadata": {
    "colab": {
     "base_uri": "https://localhost:8080/",
     "height": 106
    },
    "id": "WowyoTUyvY3V",
    "outputId": "70accbeb-c52b-499b-ed6a-f14fbbb4d26a"
   },
   "outputs": [
    {
     "name": "stderr",
     "output_type": "stream",
     "text": [
      "The following columns in the test set don't have a corresponding argument in `RobertaForSequenceClassification.forward` and have been ignored: text. If text are not expected by `RobertaForSequenceClassification.forward`,  you can safely ignore this message.\n",
      "***** Running Prediction *****\n",
      "  Num examples = 1817\n",
      "  Batch size = 16\n"
     ]
    },
    {
     "data": {
      "text/html": [],
      "text/plain": [
       "<IPython.core.display.HTML object>"
      ]
     },
     "metadata": {},
     "output_type": "display_data"
    }
   ],
   "source": [
    "predictions, label_ids, metrics = trainer_one.predict(tokenized_movies['val'])"
   ]
  },
  {
   "cell_type": "code",
   "execution_count": 42,
   "id": "gySVy0_cvVdS",
   "metadata": {
    "colab": {
     "base_uri": "https://localhost:8080/"
    },
    "id": "gySVy0_cvVdS",
    "outputId": "20f22c2f-0616-4cdc-b2a5-10cba97fcf16"
   },
   "outputs": [
    {
     "name": "stdout",
     "output_type": "stream",
     "text": [
      "['horror', 'horror', 'adventure', 'comedy', 'adventure', 'sci-fi', 'action', 'horror', 'western', 'sci-fi', 'horror', 'thriller', 'other', 'comedy', 'horror', 'other', 'horror', 'sci-fi', 'drama', 'drama', 'romance', 'sci-fi', 'horror', 'thriller', 'adventure', 'thriller', 'comedy', 'thriller', 'sci-fi', 'western', 'thriller', 'other', 'comedy', 'adventure', 'horror', 'other', 'romance', 'romance', 'drama', 'drama', 'western', 'drama', 'western', 'sci-fi', 'comedy', 'other', 'other', 'other', 'other', 'thriller', 'adventure', 'horror', 'drama', 'adventure', 'thriller', 'romance', 'adventure', 'action', 'sci-fi', 'sci-fi', 'drama', 'thriller', 'horror', 'other', 'other', 'comedy', 'action', 'horror', 'drama', 'action', 'drama', 'comedy', 'action', 'drama', 'sci-fi', 'comedy', 'romance', 'drama', 'drama', 'horror', 'other', 'thriller', 'drama', 'drama', 'sci-fi', 'thriller', 'horror', 'sci-fi', 'other', 'horror', 'drama', 'comedy', 'western', 'comedy', 'western', 'action', 'drama', 'other', 'adventure', 'action', 'western', 'horror', 'western', 'western', 'thriller', 'adventure', 'adventure', 'other', 'romance', 'action', 'western', 'drama', 'western', 'romance', 'horror', 'comedy', 'romance', 'romance', 'western', 'other', 'western', 'comedy', 'sci-fi', 'horror', 'other', 'comedy', 'horror', 'horror', 'comedy', 'western', 'action', 'sci-fi', 'western', 'romance', 'western', 'adventure', 'romance', 'adventure', 'drama', 'adventure', 'romance', 'other', 'adventure', 'action', 'drama', 'sci-fi', 'comedy', 'drama', 'sci-fi', 'horror', 'drama', 'action', 'adventure', 'thriller', 'adventure', 'adventure', 'drama', 'comedy', 'action', 'comedy', 'western', 'thriller', 'other', 'thriller', 'sci-fi', 'adventure', 'western', 'adventure', 'comedy', 'western', 'romance', 'other', 'horror', 'western', 'western', 'western', 'sci-fi', 'romance', 'drama', 'romance', 'drama', 'other', 'adventure', 'other', 'romance', 'thriller', 'drama', 'drama', 'adventure', 'romance', 'other', 'action', 'horror', 'thriller', 'thriller', 'western', 'horror', 'western', 'adventure', 'sci-fi', 'horror', 'comedy', 'other', 'action', 'romance', 'western', 'horror', 'thriller', 'action', 'action', 'thriller', 'sci-fi', 'western', 'adventure', 'western', 'western', 'western', 'other', 'drama', 'other', 'western', 'action', 'action', 'western', 'drama', 'drama', 'comedy', 'drama', 'action', 'other', 'drama', 'comedy', 'horror', 'comedy', 'action', 'other', 'sci-fi', 'western', 'sci-fi', 'drama', 'action', 'drama', 'comedy', 'thriller', 'sci-fi', 'other', 'action', 'other', 'thriller', 'comedy', 'action', 'other', 'comedy', 'western', 'other', 'drama', 'comedy', 'other', 'drama', 'western', 'drama', 'horror', 'action', 'drama', 'comedy', 'action', 'action', 'thriller', 'romance', 'action', 'romance', 'thriller', 'drama', 'sci-fi', 'action', 'other', 'thriller', 'drama', 'drama', 'horror', 'other', 'action', 'comedy', 'sci-fi', 'western', 'romance', 'thriller', 'action', 'other', 'drama', 'drama', 'drama', 'horror', 'thriller', 'drama', 'drama', 'western', 'horror', 'drama', 'thriller', 'horror', 'drama', 'horror', 'romance', 'horror', 'action', 'romance', 'thriller', 'other', 'other', 'drama', 'comedy', 'comedy', 'adventure', 'sci-fi', 'drama', 'thriller', 'comedy', 'horror', 'horror', 'horror', 'action', 'sci-fi', 'thriller', 'drama', 'drama', 'comedy', 'horror', 'romance', 'action', 'romance', 'drama', 'action', 'horror', 'western', 'romance', 'sci-fi', 'drama', 'other', 'horror', 'western', 'romance', 'horror', 'drama', 'sci-fi', 'thriller', 'other', 'action', 'western', 'other', 'horror', 'comedy', 'romance', 'horror', 'other', 'thriller', 'drama', 'other', 'drama', 'action', 'thriller', 'horror', 'sci-fi', 'sci-fi', 'drama', 'other', 'horror', 'action', 'action', 'western', 'western', 'comedy', 'action', 'thriller', 'action', 'drama', 'western', 'adventure', 'thriller', 'other', 'adventure', 'other', 'romance', 'western', 'western', 'western', 'horror', 'horror', 'sci-fi', 'western', 'horror', 'romance', 'other', 'thriller', 'other', 'action', 'adventure', 'horror', 'adventure', 'drama', 'romance', 'western', 'romance', 'western', 'action', 'action', 'adventure', 'drama', 'adventure', 'action', 'drama', 'comedy', 'western', 'romance', 'horror', 'drama', 'action', 'other', 'romance', 'action', 'romance', 'sci-fi', 'adventure', 'thriller', 'other', 'drama', 'horror', 'comedy', 'horror', 'action', 'other', 'western', 'comedy', 'romance', 'thriller', 'horror', 'horror', 'thriller', 'drama', 'sci-fi', 'action', 'thriller', 'drama', 'thriller', 'adventure', 'horror', 'comedy', 'drama', 'thriller', 'drama', 'western', 'other', 'adventure', 'action', 'thriller', 'comedy', 'drama', 'horror', 'thriller', 'western', 'adventure', 'drama', 'sci-fi', 'action', 'sci-fi', 'sci-fi', 'drama', 'horror', 'adventure', 'western', 'thriller', 'western', 'other', 'action', 'thriller', 'other', 'other', 'thriller', 'action', 'western', 'action', 'horror', 'action', 'adventure', 'comedy', 'horror', 'horror', 'sci-fi', 'western', 'romance', 'horror', 'other', 'other', 'western', 'drama', 'western', 'romance', 'comedy', 'adventure', 'action', 'drama', 'sci-fi', 'drama', 'horror', 'western', 'thriller', 'western', 'romance', 'drama', 'drama', 'horror', 'sci-fi', 'action', 'thriller', 'comedy', 'action', 'western', 'thriller', 'romance', 'other', 'action', 'other', 'western', 'western', 'romance', 'action', 'western', 'horror', 'drama', 'thriller', 'horror', 'thriller', 'thriller', 'comedy', 'adventure', 'thriller', 'romance', 'sci-fi', 'other', 'action', 'horror', 'western', 'comedy', 'other', 'horror', 'action', 'horror', 'other', 'thriller', 'sci-fi', 'thriller', 'horror', 'comedy', 'sci-fi', 'horror', 'drama', 'other', 'thriller', 'western', 'comedy', 'horror', 'romance', 'romance', 'thriller', 'thriller', 'action', 'thriller', 'comedy', 'romance', 'comedy', 'adventure', 'horror', 'action', 'action', 'horror', 'adventure', 'romance', 'thriller', 'western', 'drama', 'horror', 'horror', 'romance', 'horror', 'thriller', 'horror', 'sci-fi', 'thriller', 'western', 'western', 'action', 'action', 'adventure', 'thriller', 'sci-fi', 'thriller', 'other', 'romance', 'adventure', 'drama', 'western', 'horror', 'thriller', 'adventure', 'western', 'other', 'adventure', 'drama', 'other', 'thriller', 'western', 'thriller', 'thriller', 'action', 'romance', 'adventure', 'horror', 'thriller', 'action', 'other', 'comedy', 'other', 'thriller', 'horror', 'action', 'comedy', 'horror', 'horror', 'drama', 'other', 'horror', 'thriller', 'action', 'thriller', 'other', 'adventure', 'drama', 'drama', 'drama', 'horror', 'romance', 'action', 'drama', 'other', 'action', 'sci-fi', 'adventure', 'western', 'western', 'action', 'other', 'romance', 'other', 'sci-fi', 'other', 'drama', 'comedy', 'other', 'romance', 'thriller', 'adventure', 'drama', 'adventure', 'comedy', 'western', 'sci-fi', 'adventure', 'sci-fi', 'horror', 'thriller', 'sci-fi', 'other', 'drama', 'adventure', 'sci-fi', 'western', 'other', 'comedy', 'western', 'comedy', 'other', 'drama', 'adventure', 'western', 'other', 'action', 'drama', 'action', 'sci-fi', 'romance', 'adventure', 'sci-fi', 'thriller', 'thriller', 'thriller', 'comedy', 'sci-fi', 'western', 'action', 'thriller', 'western', 'adventure', 'comedy', 'other', 'thriller', 'drama', 'thriller', 'action', 'horror', 'drama', 'other', 'action', 'adventure', 'romance', 'western', 'action', 'adventure', 'action', 'action', 'western', 'other', 'horror', 'western', 'thriller', 'western', 'thriller', 'other', 'comedy', 'other', 'western', 'western', 'horror', 'action', 'romance', 'action', 'comedy', 'drama', 'other', 'comedy', 'adventure', 'adventure', 'other', 'adventure', 'other', 'western', 'western', 'romance', 'drama', 'western', 'comedy', 'other', 'action', 'comedy', 'western', 'horror', 'thriller', 'adventure', 'other', 'drama', 'sci-fi', 'western', 'action', 'comedy', 'comedy', 'western', 'adventure', 'action', 'sci-fi', 'adventure', 'action', 'other', 'sci-fi', 'horror', 'comedy', 'western', 'drama', 'other', 'horror', 'drama', 'action', 'adventure', 'other', 'western', 'comedy', 'adventure', 'other', 'comedy', 'romance', 'thriller', 'romance', 'drama', 'other', 'adventure', 'other', 'sci-fi', 'romance', 'other', 'other', 'romance', 'adventure', 'action', 'comedy', 'action', 'other', 'western', 'thriller', 'western', 'other', 'thriller', 'sci-fi', 'adventure', 'adventure', 'comedy', 'adventure', 'romance', 'other', 'drama', 'romance', 'horror', 'western', 'thriller', 'sci-fi', 'thriller', 'adventure', 'action', 'sci-fi', 'action', 'romance', 'drama', 'other', 'thriller', 'other', 'romance', 'action', 'action', 'sci-fi', 'horror', 'sci-fi', 'sci-fi', 'action', 'thriller', 'other', 'adventure', 'thriller', 'adventure', 'thriller', 'comedy', 'drama', 'comedy', 'adventure', 'action', 'sci-fi', 'comedy', 'action', 'horror', 'comedy', 'horror', 'drama', 'comedy', 'romance', 'comedy', 'drama', 'thriller', 'thriller', 'comedy', 'romance', 'sci-fi', 'thriller', 'romance', 'action', 'comedy', 'action', 'adventure', 'romance', 'sci-fi', 'adventure', 'adventure', 'western', 'adventure', 'sci-fi', 'action', 'sci-fi', 'other', 'romance', 'horror', 'other', 'comedy', 'western', 'sci-fi', 'horror', 'romance', 'horror', 'horror', 'comedy', 'horror', 'horror', 'action', 'western', 'horror', 'thriller', 'other', 'other', 'thriller', 'thriller', 'adventure', 'drama', 'romance', 'thriller', 'drama', 'drama', 'sci-fi', 'drama', 'western', 'drama', 'horror', 'horror', 'western', 'thriller', 'sci-fi', 'thriller', 'horror', 'western', 'romance', 'drama', 'action', 'thriller', 'sci-fi', 'romance', 'sci-fi', 'other', 'horror', 'horror', 'action', 'thriller', 'thriller', 'horror', 'horror', 'romance', 'western', 'action', 'action', 'adventure', 'drama', 'thriller', 'thriller', 'romance', 'western', 'drama', 'drama', 'western', 'drama', 'sci-fi', 'thriller', 'comedy', 'adventure', 'other', 'adventure', 'horror', 'western', 'adventure', 'other', 'drama', 'romance', 'sci-fi', 'romance', 'drama', 'comedy', 'thriller', 'comedy', 'horror', 'western', 'drama', 'drama', 'other', 'horror', 'horror', 'sci-fi', 'romance', 'adventure', 'drama', 'thriller', 'romance', 'action', 'horror', 'comedy', 'thriller', 'action', 'adventure', 'comedy', 'thriller', 'sci-fi', 'western', 'drama', 'drama', 'romance', 'other', 'thriller', 'comedy', 'romance', 'adventure', 'thriller', 'sci-fi', 'other', 'action', 'other', 'adventure', 'horror', 'adventure', 'drama', 'action', 'sci-fi', 'romance', 'horror', 'adventure', 'other', 'action', 'comedy', 'western', 'comedy', 'horror', 'other', 'adventure', 'other', 'western', 'horror', 'action', 'drama', 'other', 'thriller', 'action', 'thriller', 'action', 'sci-fi', 'comedy', 'comedy', 'romance', 'thriller', 'thriller', 'other', 'other', 'action', 'other', 'western', 'romance', 'adventure', 'action', 'other', 'horror', 'action', 'other', 'drama', 'adventure', 'western', 'horror', 'horror', 'thriller', 'comedy', 'sci-fi', 'action', 'comedy', 'horror', 'horror', 'sci-fi', 'horror', 'comedy', 'adventure', 'horror', 'sci-fi', 'comedy', 'horror', 'horror', 'western', 'western', 'western', 'action', 'western', 'other', 'action', 'adventure', 'western', 'other', 'thriller', 'drama', 'drama', 'romance', 'western', 'action', 'sci-fi', 'adventure', 'drama', 'adventure', 'thriller', 'action', 'drama', 'sci-fi', 'horror', 'thriller', 'other', 'horror', 'horror', 'other', 'adventure', 'other', 'drama', 'horror', 'western', 'horror', 'thriller', 'adventure', 'horror', 'other', 'adventure', 'action', 'sci-fi', 'adventure', 'western', 'romance', 'drama', 'western', 'drama', 'sci-fi', 'drama', 'sci-fi', 'adventure', 'action', 'action', 'horror', 'thriller', 'drama', 'romance', 'action', 'sci-fi', 'drama', 'drama', 'adventure', 'horror', 'drama', 'other', 'horror', 'sci-fi', 'action', 'drama', 'adventure', 'other', 'adventure', 'action', 'adventure', 'drama', 'action', 'romance', 'romance', 'adventure', 'romance', 'other', 'adventure', 'comedy', 'action', 'drama', 'thriller', 'comedy', 'other', 'comedy', 'horror', 'action', 'sci-fi', 'other', 'romance', 'sci-fi', 'sci-fi', 'drama', 'comedy', 'comedy', 'thriller', 'thriller', 'action', 'romance', 'western', 'drama', 'drama', 'adventure', 'western', 'horror', 'action', 'drama', 'horror', 'action', 'horror', 'action', 'other', 'adventure', 'thriller', 'thriller', 'action', 'sci-fi', 'drama', 'adventure', 'drama', 'other', 'sci-fi', 'horror', 'romance', 'action', 'other', 'drama', 'thriller', 'romance', 'romance', 'sci-fi', 'adventure', 'action', 'other', 'western', 'horror', 'sci-fi', 'western', 'comedy', 'thriller', 'thriller', 'romance', 'thriller', 'comedy', 'thriller', 'horror', 'drama', 'adventure', 'western', 'thriller', 'comedy', 'other', 'thriller', 'horror', 'horror', 'action', 'thriller', 'thriller', 'western', 'thriller', 'horror', 'thriller', 'action', 'western', 'sci-fi', 'thriller', 'western', 'horror', 'comedy', 'romance', 'drama', 'thriller', 'romance', 'thriller', 'horror', 'thriller', 'western', 'western', 'action', 'horror', 'romance', 'drama', 'adventure', 'other', 'thriller', 'sci-fi', 'sci-fi', 'action', 'romance', 'thriller', 'thriller', 'other', 'drama', 'sci-fi', 'action', 'action', 'other', 'comedy', 'action', 'western', 'romance', 'romance', 'western', 'other', 'sci-fi', 'other', 'horror', 'action', 'western', 'thriller', 'romance', 'action', 'comedy', 'action', 'romance', 'comedy', 'action', 'adventure', 'adventure', 'comedy', 'adventure', 'horror', 'romance', 'adventure', 'comedy', 'romance', 'action', 'romance', 'sci-fi', 'comedy', 'thriller', 'western', 'action', 'sci-fi', 'comedy', 'sci-fi', 'sci-fi', 'horror', 'action', 'thriller', 'western', 'other', 'thriller', 'adventure', 'other', 'adventure', 'other', 'western', 'drama', 'comedy', 'thriller', 'drama', 'western', 'other', 'horror', 'comedy', 'drama', 'western', 'drama', 'comedy', 'western', 'sci-fi', 'adventure', 'thriller', 'horror', 'horror', 'sci-fi', 'action', 'horror', 'western', 'thriller', 'drama', 'adventure', 'action', 'western', 'action', 'action', 'thriller', 'sci-fi', 'action', 'adventure', 'drama', 'drama', 'horror', 'thriller', 'comedy', 'sci-fi', 'comedy', 'other', 'comedy', 'drama', 'comedy', 'adventure', 'other', 'western', 'romance', 'thriller', 'western', 'other', 'horror', 'action', 'sci-fi', 'adventure', 'horror', 'action', 'action', 'adventure', 'adventure', 'other', 'sci-fi', 'adventure', 'other', 'drama', 'action', 'sci-fi', 'horror', 'thriller', 'sci-fi', 'thriller', 'other', 'drama', 'horror', 'other', 'other', 'action', 'romance', 'action', 'drama', 'action', 'comedy', 'comedy', 'horror', 'drama', 'thriller', 'action', 'other', 'comedy', 'adventure', 'sci-fi', 'other', 'thriller', 'horror', 'horror', 'adventure', 'thriller', 'thriller', 'horror', 'thriller', 'adventure', 'western', 'horror', 'sci-fi', 'romance', 'romance', 'horror', 'action', 'adventure', 'romance', 'comedy', 'thriller', 'horror', 'thriller', 'adventure', 'other', 'sci-fi', 'thriller', 'romance', 'thriller', 'horror', 'horror', 'comedy', 'other', 'adventure', 'other', 'horror', 'sci-fi', 'western', 'adventure', 'other', 'horror', 'horror', 'action', 'adventure', 'western', 'western', 'sci-fi', 'action', 'horror', 'other', 'western', 'adventure', 'drama', 'western', 'adventure', 'action', 'horror', 'horror', 'drama', 'drama', 'romance', 'thriller', 'thriller', 'thriller', 'action', 'thriller', 'other', 'adventure', 'action', 'comedy', 'horror', 'sci-fi', 'romance', 'thriller', 'drama', 'romance', 'other', 'comedy', 'thriller', 'romance', 'drama', 'action', 'sci-fi', 'romance', 'romance', 'western', 'drama', 'romance', 'comedy', 'thriller', 'thriller', 'other', 'thriller', 'drama', 'drama', 'horror', 'horror', 'other', 'western', 'western', 'adventure', 'action', 'romance', 'action', 'sci-fi', 'drama', 'horror', 'adventure', 'romance', 'thriller', 'drama', 'thriller', 'sci-fi', 'comedy', 'sci-fi', 'horror', 'other', 'drama', 'drama', 'western', 'action', 'horror', 'action', 'sci-fi', 'horror', 'romance', 'horror', 'thriller', 'drama', 'comedy', 'horror', 'comedy', 'comedy', 'other', 'sci-fi', 'other', 'thriller', 'horror', 'thriller', 'western', 'comedy', 'sci-fi', 'other', 'action', 'horror', 'comedy', 'action', 'drama', 'drama', 'other', 'other', 'other', 'comedy', 'western', 'horror', 'horror', 'other', 'action', 'thriller', 'action', 'horror', 'sci-fi', 'drama', 'action', 'western', 'action', 'other', 'comedy', 'thriller', 'western', 'action', 'romance', 'thriller', 'drama', 'comedy', 'western', 'western', 'drama', 'comedy', 'horror', 'comedy', 'romance', 'other', 'drama', 'other', 'horror', 'romance', 'horror', 'romance', 'romance', 'comedy', 'action', 'adventure', 'sci-fi', 'horror', 'drama', 'western', 'thriller', 'adventure', 'horror', 'drama', 'sci-fi', 'thriller', 'thriller', 'sci-fi', 'comedy', 'drama', 'western', 'drama', 'thriller', 'action', 'other', 'horror', 'horror', 'thriller', 'western', 'romance', 'thriller', 'comedy', 'drama', 'other', 'action', 'sci-fi', 'drama', 'horror', 'thriller', 'sci-fi', 'horror', 'drama', 'western', 'action', 'action', 'comedy', 'drama', 'western', 'action', 'horror', 'comedy', 'romance', 'thriller', 'romance', 'other', 'drama', 'comedy', 'other', 'western', 'comedy', 'comedy', 'horror', 'comedy', 'western', 'horror', 'drama', 'drama', 'other', 'thriller', 'western', 'drama', 'romance', 'western', 'sci-fi', 'thriller', 'drama', 'western', 'drama', 'thriller', 'drama', 'sci-fi', 'drama', 'horror', 'western', 'romance', 'sci-fi', 'drama', 'western', 'sci-fi', 'drama', 'drama', 'other', 'drama', 'horror', 'comedy', 'sci-fi', 'adventure', 'action', 'western', 'adventure', 'drama', 'other', 'drama', 'thriller', 'thriller', 'western', 'other', 'other', 'sci-fi', 'horror', 'action', 'romance', 'other', 'adventure', 'horror', 'comedy', 'horror', 'romance', 'comedy', 'thriller', 'thriller', 'thriller', 'romance', 'horror', 'drama', 'comedy', 'thriller', 'sci-fi', 'thriller', 'thriller', 'comedy', 'horror', 'other', 'comedy', 'western', 'thriller', 'adventure', 'drama', 'sci-fi', 'adventure', 'western', 'sci-fi', 'sci-fi', 'horror', 'other', 'action', 'drama', 'action', 'sci-fi', 'other', 'drama', 'comedy', 'sci-fi', 'sci-fi', 'other', 'horror', 'thriller', 'romance', 'action', 'western', 'drama', 'action', 'horror', 'horror', 'action', 'sci-fi', 'thriller', 'action', 'action', 'drama', 'action', 'thriller', 'adventure', 'sci-fi', 'action', 'romance', 'western', 'sci-fi', 'adventure', 'drama', 'sci-fi', 'romance', 'thriller', 'drama', 'romance', 'comedy', 'drama', 'sci-fi', 'sci-fi', 'drama', 'drama', 'sci-fi', 'other', 'horror', 'other', 'comedy', 'thriller', 'thriller', 'thriller', 'romance', 'adventure', 'horror', 'adventure', 'action', 'drama', 'horror', 'western', 'sci-fi', 'drama', 'horror', 'romance', 'drama', 'adventure', 'western']\n"
     ]
    }
   ],
   "source": [
    "prediction_labels = []\n",
    "for i in range(len(texts_val)):\n",
    "    prediction_labels.append(id2label[predictions[i, :].argmax(axis=0)])\n",
    "\n",
    "print(prediction_labels)"
   ]
  },
  {
   "cell_type": "code",
   "execution_count": 43,
   "id": "9sd-qTprvggh",
   "metadata": {
    "colab": {
     "base_uri": "https://localhost:8080/"
    },
    "id": "9sd-qTprvggh",
    "outputId": "c8dd64f8-4947-4c60-d5e8-f31631d21325"
   },
   "outputs": [
    {
     "name": "stdout",
     "output_type": "stream",
     "text": [
      "Metrics for end-to-end trainer with first set of hyperparams:\n",
      "Accuracy score: 0.6224545954870666\n",
      "Precision score: 0.6231029833798799\n",
      "Recall score: 0.6228697624862157\n",
      "F1 score: 0.6217040551155686\n"
     ]
    }
   ],
   "source": [
    "from sklearn.metrics import f1_score, accuracy_score, precision_score, recall_score\n",
    "\n",
    "print(\"Metrics for end-to-end trainer with first set of hyperparams:\")\n",
    "print(f\"Accuracy score: {accuracy_score(labels_val, prediction_labels)}\")\n",
    "print(f\"Precision score: {precision_score(labels_val, prediction_labels, average='macro')}\")\n",
    "print(f\"Recall score: {recall_score(labels_val, prediction_labels, average='macro')}\")\n",
    "print(f\"F1 score: {f1_score(labels_val, prediction_labels, average='macro')}\")"
   ]
  },
  {
   "cell_type": "code",
   "execution_count": 12,
   "id": "NjpLiHiixcGa",
   "metadata": {
    "colab": {
     "base_uri": "https://localhost:8080/",
     "height": 260,
     "referenced_widgets": [
      "364722b04f8b466eabdaa94f49a8595d",
      "b316be83c0e24b31a36a9edd9224d113",
      "0e862bb43f9a4548a469159997c5020c",
      "ae8c6f8aa5644200a5679b9ef08b7eca",
      "4beb8cbffa8444bca48e81e123370bf9",
      "90dee7deb86143a791e8513ef245402e",
      "494c50b0e10747cc966a00dca3f74a1b",
      "5fd09f3afe174e94ace48e5492017430",
      "bed6779525974f58b3718931f17bbb66",
      "a2a16b2e87a043949d96d69262beb643",
      "52db0131a0a246be8cccbf2418a99022",
      "2302ba05a8a44a329491577b80a017d0",
      "8e48936ebaab402aa44379c796474fff",
      "0cf4e3640ad04c7da49baa07a2c4c297",
      "e972c58f0482474b884f68368a28bdad",
      "a858fb5eaf15409898ca80c949fcd440",
      "89baf5f7942c4f92b4b1619166da1ffa",
      "a0d13fc549d84bd6af3122349d9f8ef8",
      "58e14198f4af4ae4b5b4edc5e48f0db7",
      "1d4880f7f1154eb090783d4cf6cf7293",
      "e47d0bec17b946538619a4a89b30f1da",
      "6963447e78bc45499208e13af9026e71",
      "0e85679112d145359ba073a83bdcb38e",
      "317b723cc7834f1797c2ef3cb508dd10",
      "c2b65b570b4949a9bf0f46c435bf62d2",
      "5e9906696f98487498073d48cb45873b",
      "fbddc28d47514a519f0deceabdb25a9f",
      "8f30649138634ebc9f4c13719b2596ee",
      "dae1e8e7a4484953bb63c733c60fbff6",
      "3eaaa98d64bf4af7beac57d3210c6e81",
      "b87dbefbefaa4512b0ed7618a3571ae7",
      "81bb92f43b274db09c1d10b1e5a0d00a",
      "30584b44722b4a4cb2e996983bc29496"
     ]
    },
    "id": "NjpLiHiixcGa",
    "outputId": "ca78bfb8-0c76-48f3-a9e5-990bb2e66c09"
   },
   "outputs": [
    {
     "data": {
      "application/vnd.jupyter.widget-view+json": {
       "model_id": "364722b04f8b466eabdaa94f49a8595d",
       "version_major": 2,
       "version_minor": 0
      },
      "text/plain": [
       "Map:   0%|          | 0/5451 [00:00<?, ? examples/s]"
      ]
     },
     "metadata": {},
     "output_type": "display_data"
    },
    {
     "data": {
      "application/vnd.jupyter.widget-view+json": {
       "model_id": "2302ba05a8a44a329491577b80a017d0",
       "version_major": 2,
       "version_minor": 0
      },
      "text/plain": [
       "Map:   0%|          | 0/1817 [00:00<?, ? examples/s]"
      ]
     },
     "metadata": {},
     "output_type": "display_data"
    },
    {
     "data": {
      "application/vnd.jupyter.widget-view+json": {
       "model_id": "0e85679112d145359ba073a83bdcb38e",
       "version_major": 2,
       "version_minor": 0
      },
      "text/plain": [
       "Map:   0%|          | 0/1817 [00:00<?, ? examples/s]"
      ]
     },
     "metadata": {},
     "output_type": "display_data"
    },
    {
     "name": "stdout",
     "output_type": "stream",
     "text": [
      "DatasetDict({\n",
      "    train: Dataset({\n",
      "        features: ['label', 'text', 'input_ids', 'attention_mask'],\n",
      "        num_rows: 5451\n",
      "    })\n",
      "    val: Dataset({\n",
      "        features: ['label', 'text', 'input_ids', 'attention_mask'],\n",
      "        num_rows: 1817\n",
      "    })\n",
      "    test: Dataset({\n",
      "        features: ['label', 'text', 'input_ids', 'attention_mask'],\n",
      "        num_rows: 1817\n",
      "    })\n",
      "})\n"
     ]
    }
   ],
   "source": [
    "dataset = create_dataset()\n",
    "\n",
    "tokenized_movies = dataset.map(preprocess_function, batched=True)\n",
    "print(tokenized_movies)"
   ]
  },
  {
   "cell_type": "code",
   "execution_count": 14,
   "id": "k-KV-m_1xepZ",
   "metadata": {
    "id": "k-KV-m_1xepZ"
   },
   "outputs": [],
   "source": [
    "# Hyperparameters\n",
    "learning_rate = 1e-4\n",
    "batch_size = 6\n",
    "epochs = 1"
   ]
  },
  {
   "cell_type": "code",
   "execution_count": 15,
   "id": "VH2WSliqxlH9",
   "metadata": {
    "id": "VH2WSliqxlH9"
   },
   "outputs": [],
   "source": [
    "# Set up training args.\n",
    "training_args = TrainingArguments(\n",
    "    output_dir=\"movie_genre_model_three\",\n",
    "    evaluation_strategy=\"epoch\",\n",
    "    learning_rate=learning_rate,\n",
    "    per_device_train_batch_size=batch_size,\n",
    "    per_device_eval_batch_size=batch_size,\n",
    "    num_train_epochs=epochs,\n",
    ")"
   ]
  },
  {
   "cell_type": "code",
   "execution_count": 16,
   "id": "6upiT8X5xnJY",
   "metadata": {
    "id": "6upiT8X5xnJY"
   },
   "outputs": [],
   "source": [
    "# Set up the trainer and start training\n",
    "trainer_two = Trainer(\n",
    "    model=model,\n",
    "    args=training_args,\n",
    "    train_dataset=tokenized_movies[\"train\"],\n",
    "    eval_dataset=tokenized_movies[\"val\"],\n",
    "    tokenizer=tokenizer,\n",
    "    data_collator=data_collator,\n",
    ")\n",
    "\n"
   ]
  },
  {
   "cell_type": "code",
   "execution_count": 17,
   "id": "je8-_tOrxrtm",
   "metadata": {
    "colab": {
     "base_uri": "https://localhost:8080/",
     "height": 630
    },
    "id": "je8-_tOrxrtm",
    "outputId": "10ed9e76-2d62-44a2-94d9-ecdaaaeb3e2f"
   },
   "outputs": [
    {
     "name": "stderr",
     "output_type": "stream",
     "text": [
      "The following columns in the training set don't have a corresponding argument in `RobertaForSequenceClassification.forward` and have been ignored: text. If text are not expected by `RobertaForSequenceClassification.forward`,  you can safely ignore this message.\n",
      "/usr/local/lib/python3.9/dist-packages/transformers/optimization.py:306: FutureWarning: This implementation of AdamW is deprecated and will be removed in a future version. Use the PyTorch implementation torch.optim.AdamW instead, or set `no_deprecation_warning=True` to disable this warning\n",
      "  warnings.warn(\n",
      "***** Running training *****\n",
      "  Num examples = 5451\n",
      "  Num Epochs = 1\n",
      "  Instantaneous batch size per device = 6\n",
      "  Total train batch size (w. parallel, distributed & accumulation) = 6\n",
      "  Gradient Accumulation steps = 1\n",
      "  Total optimization steps = 909\n",
      "  Number of trainable parameters = 124653322\n",
      "You're using a RobertaTokenizerFast tokenizer. Please note that with a fast tokenizer, using the `__call__` method is faster than using a method to encode the text followed by a call to the `pad` method to get a padded encoding.\n"
     ]
    },
    {
     "data": {
      "text/html": [
       "\n",
       "    <div>\n",
       "      \n",
       "      <progress value='909' max='909' style='width:300px; height:20px; vertical-align: middle;'></progress>\n",
       "      [909/909 05:18, Epoch 1/1]\n",
       "    </div>\n",
       "    <table border=\"1\" class=\"dataframe\">\n",
       "  <thead>\n",
       " <tr style=\"text-align: left;\">\n",
       "      <th>Epoch</th>\n",
       "      <th>Training Loss</th>\n",
       "      <th>Validation Loss</th>\n",
       "    </tr>\n",
       "  </thead>\n",
       "  <tbody>\n",
       "    <tr>\n",
       "      <td>1</td>\n",
       "      <td>2.310300</td>\n",
       "      <td>2.289817</td>\n",
       "    </tr>\n",
       "  </tbody>\n",
       "</table><p>"
      ],
      "text/plain": [
       "<IPython.core.display.HTML object>"
      ]
     },
     "metadata": {},
     "output_type": "display_data"
    },
    {
     "name": "stderr",
     "output_type": "stream",
     "text": [
      "Saving model checkpoint to movie_genre_model_three/checkpoint-500\n",
      "Configuration saved in movie_genre_model_three/checkpoint-500/config.json\n",
      "Model weights saved in movie_genre_model_three/checkpoint-500/pytorch_model.bin\n",
      "tokenizer config file saved in movie_genre_model_three/checkpoint-500/tokenizer_config.json\n",
      "Special tokens file saved in movie_genre_model_three/checkpoint-500/special_tokens_map.json\n",
      "The following columns in the evaluation set don't have a corresponding argument in `RobertaForSequenceClassification.forward` and have been ignored: text. If text are not expected by `RobertaForSequenceClassification.forward`,  you can safely ignore this message.\n",
      "***** Running Evaluation *****\n",
      "  Num examples = 1817\n",
      "  Batch size = 6\n",
      "\n",
      "\n",
      "Training completed. Do not forget to share your model on huggingface.co/models =)\n",
      "\n",
      "\n"
     ]
    },
    {
     "data": {
      "text/plain": [
       "TrainOutput(global_step=909, training_loss=2.306722139499106, metrics={'train_runtime': 323.7494, 'train_samples_per_second': 16.837, 'train_steps_per_second': 2.808, 'total_flos': 720942669622980.0, 'train_loss': 2.306722139499106, 'epoch': 1.0})"
      ]
     },
     "execution_count": 17,
     "metadata": {},
     "output_type": "execute_result"
    }
   ],
   "source": [
    "trainer_two.train()"
   ]
  },
  {
   "cell_type": "code",
   "execution_count": 18,
   "id": "KOrZzZElxypW",
   "metadata": {
    "colab": {
     "base_uri": "https://localhost:8080/",
     "height": 106
    },
    "id": "KOrZzZElxypW",
    "outputId": "8712976b-feb8-46c4-cd6f-53fdc459d4b1"
   },
   "outputs": [
    {
     "name": "stderr",
     "output_type": "stream",
     "text": [
      "The following columns in the test set don't have a corresponding argument in `RobertaForSequenceClassification.forward` and have been ignored: text. If text are not expected by `RobertaForSequenceClassification.forward`,  you can safely ignore this message.\n",
      "***** Running Prediction *****\n",
      "  Num examples = 1817\n",
      "  Batch size = 6\n"
     ]
    },
    {
     "data": {
      "text/html": [],
      "text/plain": [
       "<IPython.core.display.HTML object>"
      ]
     },
     "metadata": {},
     "output_type": "display_data"
    }
   ],
   "source": [
    "predictions, label_ids, metrics = trainer_two.predict(tokenized_movies['val'])"
   ]
  },
  {
   "cell_type": "code",
   "execution_count": 19,
   "id": "TUakgNVzx2y8",
   "metadata": {
    "colab": {
     "base_uri": "https://localhost:8080/"
    },
    "id": "TUakgNVzx2y8",
    "outputId": "cb3ef1aa-128e-4c84-cf7d-30a5fdd99b3c"
   },
   "outputs": [
    {
     "name": "stdout",
     "output_type": "stream",
     "text": [
      "['drama', 'drama', 'drama', 'drama', 'drama', 'drama', 'drama', 'drama', 'drama', 'drama', 'drama', 'drama', 'drama', 'drama', 'drama', 'drama', 'drama', 'drama', 'drama', 'drama', 'drama', 'drama', 'drama', 'drama', 'drama', 'drama', 'drama', 'drama', 'drama', 'drama', 'drama', 'drama', 'drama', 'drama', 'drama', 'drama', 'drama', 'drama', 'drama', 'drama', 'drama', 'drama', 'drama', 'drama', 'drama', 'drama', 'drama', 'drama', 'drama', 'drama', 'drama', 'drama', 'drama', 'drama', 'drama', 'drama', 'drama', 'drama', 'drama', 'drama', 'drama', 'drama', 'drama', 'drama', 'drama', 'drama', 'drama', 'drama', 'drama', 'drama', 'drama', 'drama', 'drama', 'drama', 'drama', 'drama', 'drama', 'drama', 'drama', 'drama', 'drama', 'drama', 'drama', 'drama', 'drama', 'drama', 'drama', 'drama', 'drama', 'drama', 'drama', 'drama', 'drama', 'drama', 'drama', 'drama', 'drama', 'drama', 'drama', 'drama', 'drama', 'drama', 'drama', 'drama', 'drama', 'drama', 'drama', 'drama', 'drama', 'drama', 'drama', 'drama', 'drama', 'drama', 'drama', 'drama', 'drama', 'drama', 'drama', 'drama', 'drama', 'drama', 'drama', 'drama', 'drama', 'drama', 'drama', 'drama', 'drama', 'drama', 'drama', 'drama', 'drama', 'drama', 'drama', 'drama', 'drama', 'drama', 'drama', 'drama', 'drama', 'drama', 'drama', 'drama', 'drama', 'drama', 'drama', 'drama', 'drama', 'drama', 'drama', 'drama', 'drama', 'drama', 'drama', 'drama', 'drama', 'drama', 'drama', 'drama', 'drama', 'drama', 'drama', 'drama', 'drama', 'drama', 'drama', 'drama', 'drama', 'drama', 'drama', 'drama', 'drama', 'drama', 'drama', 'drama', 'drama', 'drama', 'drama', 'drama', 'drama', 'drama', 'drama', 'drama', 'drama', 'drama', 'drama', 'drama', 'drama', 'drama', 'drama', 'drama', 'drama', 'drama', 'drama', 'drama', 'drama', 'drama', 'drama', 'drama', 'drama', 'drama', 'drama', 'drama', 'drama', 'drama', 'drama', 'drama', 'drama', 'drama', 'drama', 'drama', 'drama', 'drama', 'drama', 'drama', 'drama', 'drama', 'drama', 'drama', 'drama', 'drama', 'drama', 'drama', 'drama', 'drama', 'drama', 'drama', 'drama', 'drama', 'drama', 'drama', 'drama', 'drama', 'drama', 'drama', 'drama', 'drama', 'drama', 'drama', 'drama', 'drama', 'drama', 'drama', 'drama', 'drama', 'drama', 'drama', 'drama', 'drama', 'drama', 'drama', 'drama', 'drama', 'drama', 'drama', 'drama', 'drama', 'drama', 'drama', 'drama', 'drama', 'drama', 'drama', 'drama', 'drama', 'drama', 'drama', 'drama', 'drama', 'drama', 'drama', 'drama', 'drama', 'drama', 'drama', 'drama', 'drama', 'drama', 'drama', 'drama', 'drama', 'drama', 'drama', 'drama', 'drama', 'drama', 'drama', 'drama', 'drama', 'drama', 'drama', 'drama', 'drama', 'drama', 'drama', 'drama', 'drama', 'drama', 'drama', 'drama', 'drama', 'drama', 'drama', 'drama', 'drama', 'drama', 'drama', 'drama', 'drama', 'drama', 'drama', 'drama', 'drama', 'drama', 'drama', 'drama', 'drama', 'drama', 'drama', 'drama', 'drama', 'drama', 'drama', 'drama', 'drama', 'drama', 'drama', 'drama', 'drama', 'drama', 'drama', 'drama', 'drama', 'drama', 'drama', 'drama', 'drama', 'drama', 'drama', 'drama', 'drama', 'drama', 'drama', 'drama', 'drama', 'drama', 'drama', 'drama', 'drama', 'drama', 'drama', 'drama', 'drama', 'drama', 'drama', 'drama', 'drama', 'drama', 'drama', 'drama', 'drama', 'drama', 'drama', 'drama', 'drama', 'drama', 'drama', 'drama', 'drama', 'drama', 'drama', 'drama', 'drama', 'drama', 'drama', 'drama', 'drama', 'drama', 'drama', 'drama', 'drama', 'drama', 'drama', 'drama', 'drama', 'drama', 'drama', 'drama', 'drama', 'drama', 'drama', 'drama', 'drama', 'drama', 'drama', 'drama', 'drama', 'drama', 'drama', 'drama', 'drama', 'drama', 'drama', 'drama', 'drama', 'drama', 'drama', 'drama', 'drama', 'drama', 'drama', 'drama', 'drama', 'drama', 'drama', 'drama', 'drama', 'drama', 'drama', 'drama', 'drama', 'drama', 'drama', 'drama', 'drama', 'drama', 'drama', 'drama', 'drama', 'drama', 'drama', 'drama', 'drama', 'drama', 'drama', 'drama', 'drama', 'drama', 'drama', 'drama', 'drama', 'drama', 'drama', 'drama', 'drama', 'drama', 'drama', 'drama', 'drama', 'drama', 'drama', 'drama', 'drama', 'drama', 'drama', 'drama', 'drama', 'drama', 'drama', 'drama', 'drama', 'drama', 'drama', 'drama', 'drama', 'drama', 'drama', 'drama', 'drama', 'drama', 'drama', 'drama', 'drama', 'drama', 'drama', 'drama', 'drama', 'drama', 'drama', 'drama', 'drama', 'drama', 'drama', 'drama', 'drama', 'drama', 'drama', 'drama', 'drama', 'drama', 'drama', 'drama', 'drama', 'drama', 'drama', 'drama', 'drama', 'drama', 'drama', 'drama', 'drama', 'drama', 'drama', 'drama', 'drama', 'drama', 'drama', 'drama', 'drama', 'drama', 'drama', 'drama', 'drama', 'drama', 'drama', 'drama', 'drama', 'drama', 'drama', 'drama', 'drama', 'drama', 'drama', 'drama', 'drama', 'drama', 'drama', 'drama', 'drama', 'drama', 'drama', 'drama', 'drama', 'drama', 'drama', 'drama', 'drama', 'drama', 'drama', 'drama', 'drama', 'drama', 'drama', 'drama', 'drama', 'drama', 'drama', 'drama', 'drama', 'drama', 'drama', 'drama', 'drama', 'drama', 'drama', 'drama', 'drama', 'drama', 'drama', 'drama', 'drama', 'drama', 'drama', 'drama', 'drama', 'drama', 'drama', 'drama', 'drama', 'drama', 'drama', 'drama', 'drama', 'drama', 'drama', 'drama', 'drama', 'drama', 'drama', 'drama', 'drama', 'drama', 'drama', 'drama', 'drama', 'drama', 'drama', 'drama', 'drama', 'drama', 'drama', 'drama', 'drama', 'drama', 'drama', 'drama', 'drama', 'drama', 'drama', 'drama', 'drama', 'drama', 'drama', 'drama', 'drama', 'drama', 'drama', 'drama', 'drama', 'drama', 'drama', 'drama', 'drama', 'drama', 'drama', 'drama', 'drama', 'drama', 'drama', 'drama', 'drama', 'drama', 'drama', 'drama', 'drama', 'drama', 'drama', 'drama', 'drama', 'drama', 'drama', 'drama', 'drama', 'drama', 'drama', 'drama', 'drama', 'drama', 'drama', 'drama', 'drama', 'drama', 'drama', 'drama', 'drama', 'drama', 'drama', 'drama', 'drama', 'drama', 'drama', 'drama', 'drama', 'drama', 'drama', 'drama', 'drama', 'drama', 'drama', 'drama', 'drama', 'drama', 'drama', 'drama', 'drama', 'drama', 'drama', 'drama', 'drama', 'drama', 'drama', 'drama', 'drama', 'drama', 'drama', 'drama', 'drama', 'drama', 'drama', 'drama', 'drama', 'drama', 'drama', 'drama', 'drama', 'drama', 'drama', 'drama', 'drama', 'drama', 'drama', 'drama', 'drama', 'drama', 'drama', 'drama', 'drama', 'drama', 'drama', 'drama', 'drama', 'drama', 'drama', 'drama', 'drama', 'drama', 'drama', 'drama', 'drama', 'drama', 'drama', 'drama', 'drama', 'drama', 'drama', 'drama', 'drama', 'drama', 'drama', 'drama', 'drama', 'drama', 'drama', 'drama', 'drama', 'drama', 'drama', 'drama', 'drama', 'drama', 'drama', 'drama', 'drama', 'drama', 'drama', 'drama', 'drama', 'drama', 'drama', 'drama', 'drama', 'drama', 'drama', 'drama', 'drama', 'drama', 'drama', 'drama', 'drama', 'drama', 'drama', 'drama', 'drama', 'drama', 'drama', 'drama', 'drama', 'drama', 'drama', 'drama', 'drama', 'drama', 'drama', 'drama', 'drama', 'drama', 'drama', 'drama', 'drama', 'drama', 'drama', 'drama', 'drama', 'drama', 'drama', 'drama', 'drama', 'drama', 'drama', 'drama', 'drama', 'drama', 'drama', 'drama', 'drama', 'drama', 'drama', 'drama', 'drama', 'drama', 'drama', 'drama', 'drama', 'drama', 'drama', 'drama', 'drama', 'drama', 'drama', 'drama', 'drama', 'drama', 'drama', 'drama', 'drama', 'drama', 'drama', 'drama', 'drama', 'drama', 'drama', 'drama', 'drama', 'drama', 'drama', 'drama', 'drama', 'drama', 'drama', 'drama', 'drama', 'drama', 'drama', 'drama', 'drama', 'drama', 'drama', 'drama', 'drama', 'drama', 'drama', 'drama', 'drama', 'drama', 'drama', 'drama', 'drama', 'drama', 'drama', 'drama', 'drama', 'drama', 'drama', 'drama', 'drama', 'drama', 'drama', 'drama', 'drama', 'drama', 'drama', 'drama', 'drama', 'drama', 'drama', 'drama', 'drama', 'drama', 'drama', 'drama', 'drama', 'drama', 'drama', 'drama', 'drama', 'drama', 'drama', 'drama', 'drama', 'drama', 'drama', 'drama', 'drama', 'drama', 'drama', 'drama', 'drama', 'drama', 'drama', 'drama', 'drama', 'drama', 'drama', 'drama', 'drama', 'drama', 'drama', 'drama', 'drama', 'drama', 'drama', 'drama', 'drama', 'drama', 'drama', 'drama', 'drama', 'drama', 'drama', 'drama', 'drama', 'drama', 'drama', 'drama', 'drama', 'drama', 'drama', 'drama', 'drama', 'drama', 'drama', 'drama', 'drama', 'drama', 'drama', 'drama', 'drama', 'drama', 'drama', 'drama', 'drama', 'drama', 'drama', 'drama', 'drama', 'drama', 'drama', 'drama', 'drama', 'drama', 'drama', 'drama', 'drama', 'drama', 'drama', 'drama', 'drama', 'drama', 'drama', 'drama', 'drama', 'drama', 'drama', 'drama', 'drama', 'drama', 'drama', 'drama', 'drama', 'drama', 'drama', 'drama', 'drama', 'drama', 'drama', 'drama', 'drama', 'drama', 'drama', 'drama', 'drama', 'drama', 'drama', 'drama', 'drama', 'drama', 'drama', 'drama', 'drama', 'drama', 'drama', 'drama', 'drama', 'drama', 'drama', 'drama', 'drama', 'drama', 'drama', 'drama', 'drama', 'drama', 'drama', 'drama', 'drama', 'drama', 'drama', 'drama', 'drama', 'drama', 'drama', 'drama', 'drama', 'drama', 'drama', 'drama', 'drama', 'drama', 'drama', 'drama', 'drama', 'drama', 'drama', 'drama', 'drama', 'drama', 'drama', 'drama', 'drama', 'drama', 'drama', 'drama', 'drama', 'drama', 'drama', 'drama', 'drama', 'drama', 'drama', 'drama', 'drama', 'drama', 'drama', 'drama', 'drama', 'drama', 'drama', 'drama', 'drama', 'drama', 'drama', 'drama', 'drama', 'drama', 'drama', 'drama', 'drama', 'drama', 'drama', 'drama', 'drama', 'drama', 'drama', 'drama', 'drama', 'drama', 'drama', 'drama', 'drama', 'drama', 'drama', 'drama', 'drama', 'drama', 'drama', 'drama', 'drama', 'drama', 'drama', 'drama', 'drama', 'drama', 'drama', 'drama', 'drama', 'drama', 'drama', 'drama', 'drama', 'drama', 'drama', 'drama', 'drama', 'drama', 'drama', 'drama', 'drama', 'drama', 'drama', 'drama', 'drama', 'drama', 'drama', 'drama', 'drama', 'drama', 'drama', 'drama', 'drama', 'drama', 'drama', 'drama', 'drama', 'drama', 'drama', 'drama', 'drama', 'drama', 'drama', 'drama', 'drama', 'drama', 'drama', 'drama', 'drama', 'drama', 'drama', 'drama', 'drama', 'drama', 'drama', 'drama', 'drama', 'drama', 'drama', 'drama', 'drama', 'drama', 'drama', 'drama', 'drama', 'drama', 'drama', 'drama', 'drama', 'drama', 'drama', 'drama', 'drama', 'drama', 'drama', 'drama', 'drama', 'drama', 'drama', 'drama', 'drama', 'drama', 'drama', 'drama', 'drama', 'drama', 'drama', 'drama', 'drama', 'drama', 'drama', 'drama', 'drama', 'drama', 'drama', 'drama', 'drama', 'drama', 'drama', 'drama', 'drama', 'drama', 'drama', 'drama', 'drama', 'drama', 'drama', 'drama', 'drama', 'drama', 'drama', 'drama', 'drama', 'drama', 'drama', 'drama', 'drama', 'drama', 'drama', 'drama', 'drama', 'drama', 'drama', 'drama', 'drama', 'drama', 'drama', 'drama', 'drama', 'drama', 'drama', 'drama', 'drama', 'drama', 'drama', 'drama', 'drama', 'drama', 'drama', 'drama', 'drama', 'drama', 'drama', 'drama', 'drama', 'drama', 'drama', 'drama', 'drama', 'drama', 'drama', 'drama', 'drama', 'drama', 'drama', 'drama', 'drama', 'drama', 'drama', 'drama', 'drama', 'drama', 'drama', 'drama', 'drama', 'drama', 'drama', 'drama', 'drama', 'drama', 'drama', 'drama', 'drama', 'drama', 'drama', 'drama', 'drama', 'drama', 'drama', 'drama', 'drama', 'drama', 'drama', 'drama', 'drama', 'drama', 'drama', 'drama', 'drama', 'drama', 'drama', 'drama', 'drama', 'drama', 'drama', 'drama', 'drama', 'drama', 'drama', 'drama', 'drama', 'drama', 'drama', 'drama', 'drama', 'drama', 'drama', 'drama', 'drama', 'drama', 'drama', 'drama', 'drama', 'drama', 'drama', 'drama', 'drama', 'drama', 'drama', 'drama', 'drama', 'drama', 'drama', 'drama', 'drama', 'drama', 'drama', 'drama', 'drama', 'drama', 'drama', 'drama', 'drama', 'drama', 'drama', 'drama', 'drama', 'drama', 'drama', 'drama', 'drama', 'drama', 'drama', 'drama', 'drama', 'drama', 'drama', 'drama', 'drama', 'drama', 'drama', 'drama', 'drama', 'drama', 'drama', 'drama', 'drama', 'drama', 'drama', 'drama', 'drama', 'drama', 'drama', 'drama', 'drama', 'drama', 'drama', 'drama', 'drama', 'drama', 'drama', 'drama', 'drama', 'drama', 'drama', 'drama', 'drama', 'drama', 'drama', 'drama', 'drama', 'drama', 'drama', 'drama', 'drama', 'drama', 'drama', 'drama', 'drama', 'drama', 'drama', 'drama', 'drama', 'drama', 'drama', 'drama', 'drama', 'drama', 'drama', 'drama', 'drama', 'drama', 'drama', 'drama', 'drama', 'drama', 'drama', 'drama', 'drama', 'drama', 'drama', 'drama', 'drama', 'drama', 'drama', 'drama', 'drama', 'drama', 'drama', 'drama', 'drama', 'drama', 'drama', 'drama', 'drama', 'drama', 'drama', 'drama', 'drama', 'drama', 'drama', 'drama', 'drama', 'drama', 'drama', 'drama', 'drama', 'drama', 'drama', 'drama', 'drama', 'drama', 'drama', 'drama', 'drama', 'drama', 'drama', 'drama', 'drama', 'drama', 'drama', 'drama', 'drama', 'drama', 'drama', 'drama', 'drama', 'drama', 'drama', 'drama', 'drama', 'drama', 'drama', 'drama', 'drama', 'drama', 'drama', 'drama', 'drama', 'drama', 'drama', 'drama', 'drama', 'drama', 'drama', 'drama', 'drama', 'drama', 'drama', 'drama', 'drama', 'drama', 'drama', 'drama', 'drama', 'drama', 'drama', 'drama', 'drama', 'drama', 'drama', 'drama', 'drama', 'drama', 'drama', 'drama', 'drama', 'drama', 'drama', 'drama', 'drama', 'drama', 'drama', 'drama', 'drama', 'drama', 'drama', 'drama', 'drama', 'drama', 'drama', 'drama', 'drama', 'drama', 'drama', 'drama', 'drama', 'drama', 'drama', 'drama', 'drama', 'drama', 'drama', 'drama', 'drama', 'drama', 'drama', 'drama', 'drama', 'drama', 'drama', 'drama', 'drama', 'drama', 'drama', 'drama', 'drama', 'drama', 'drama', 'drama', 'drama', 'drama', 'drama', 'drama', 'drama', 'drama', 'drama', 'drama', 'drama', 'drama', 'drama', 'drama', 'drama', 'drama', 'drama', 'drama', 'drama', 'drama', 'drama', 'drama', 'drama', 'drama', 'drama', 'drama', 'drama', 'drama', 'drama', 'drama', 'drama', 'drama', 'drama', 'drama', 'drama', 'drama', 'drama', 'drama', 'drama', 'drama', 'drama', 'drama', 'drama', 'drama', 'drama', 'drama', 'drama', 'drama', 'drama', 'drama', 'drama', 'drama', 'drama', 'drama', 'drama', 'drama', 'drama', 'drama', 'drama', 'drama', 'drama', 'drama', 'drama', 'drama', 'drama', 'drama', 'drama', 'drama', 'drama', 'drama', 'drama', 'drama', 'drama', 'drama', 'drama', 'drama', 'drama', 'drama', 'drama', 'drama', 'drama', 'drama', 'drama', 'drama', 'drama', 'drama', 'drama', 'drama', 'drama', 'drama', 'drama', 'drama', 'drama', 'drama', 'drama', 'drama', 'drama', 'drama', 'drama', 'drama', 'drama', 'drama', 'drama', 'drama', 'drama', 'drama', 'drama', 'drama', 'drama', 'drama', 'drama', 'drama', 'drama', 'drama', 'drama', 'drama', 'drama', 'drama', 'drama', 'drama', 'drama', 'drama', 'drama', 'drama', 'drama', 'drama', 'drama', 'drama', 'drama', 'drama', 'drama', 'drama', 'drama', 'drama', 'drama', 'drama', 'drama', 'drama', 'drama', 'drama', 'drama', 'drama', 'drama', 'drama', 'drama', 'drama', 'drama', 'drama', 'drama', 'drama', 'drama', 'drama', 'drama', 'drama', 'drama', 'drama', 'drama', 'drama', 'drama', 'drama', 'drama', 'drama', 'drama', 'drama', 'drama', 'drama', 'drama', 'drama', 'drama', 'drama', 'drama', 'drama', 'drama', 'drama', 'drama', 'drama', 'drama', 'drama', 'drama', 'drama', 'drama', 'drama', 'drama', 'drama', 'drama', 'drama', 'drama', 'drama', 'drama', 'drama', 'drama', 'drama', 'drama', 'drama', 'drama', 'drama', 'drama', 'drama', 'drama', 'drama', 'drama', 'drama', 'drama', 'drama', 'drama', 'drama', 'drama', 'drama', 'drama', 'drama', 'drama', 'drama', 'drama', 'drama', 'drama', 'drama', 'drama', 'drama', 'drama', 'drama', 'drama', 'drama', 'drama', 'drama', 'drama', 'drama', 'drama', 'drama', 'drama', 'drama', 'drama', 'drama', 'drama', 'drama', 'drama', 'drama', 'drama', 'drama', 'drama', 'drama', 'drama', 'drama', 'drama', 'drama', 'drama', 'drama', 'drama', 'drama', 'drama', 'drama', 'drama', 'drama', 'drama', 'drama', 'drama', 'drama', 'drama', 'drama', 'drama', 'drama', 'drama', 'drama', 'drama', 'drama', 'drama', 'drama', 'drama', 'drama', 'drama', 'drama', 'drama', 'drama', 'drama', 'drama', 'drama', 'drama', 'drama', 'drama', 'drama', 'drama', 'drama', 'drama', 'drama', 'drama', 'drama', 'drama', 'drama', 'drama', 'drama', 'drama', 'drama', 'drama', 'drama', 'drama', 'drama', 'drama', 'drama', 'drama', 'drama', 'drama', 'drama', 'drama', 'drama', 'drama', 'drama', 'drama', 'drama', 'drama', 'drama', 'drama', 'drama', 'drama', 'drama', 'drama', 'drama', 'drama', 'drama', 'drama', 'drama', 'drama', 'drama', 'drama']\n"
     ]
    }
   ],
   "source": [
    "prediction_labels = []\n",
    "for i in range(len(texts_val)):\n",
    "    prediction_labels.append(id2label[predictions[i, :].argmax(axis=0)])\n",
    "\n",
    "print(prediction_labels)"
   ]
  },
  {
   "cell_type": "code",
   "execution_count": 20,
   "id": "9DFO30OPx4li",
   "metadata": {
    "colab": {
     "base_uri": "https://localhost:8080/"
    },
    "id": "9DFO30OPx4li",
    "outputId": "0a1c6d48-f9fc-4492-d2f4-bf768b02e9ce"
   },
   "outputs": [
    {
     "name": "stdout",
     "output_type": "stream",
     "text": [
      "Metrics for end-to-end trainer with second set of hyperparams:\n",
      "Accuracy score: 0.11447440836543754\n",
      "Precision score: 0.011447440836543754\n",
      "Recall score: 0.1\n",
      "F1 score: 0.020543209876543213\n"
     ]
    },
    {
     "name": "stderr",
     "output_type": "stream",
     "text": [
      "/usr/local/lib/python3.9/dist-packages/sklearn/metrics/_classification.py:1344: UndefinedMetricWarning: Precision is ill-defined and being set to 0.0 in labels with no predicted samples. Use `zero_division` parameter to control this behavior.\n",
      "  _warn_prf(average, modifier, msg_start, len(result))\n"
     ]
    }
   ],
   "source": [
    "from sklearn.metrics import f1_score, accuracy_score, precision_score, recall_score\n",
    "\n",
    "print(\"Metrics for end-to-end trainer with second set of hyperparams:\")\n",
    "print(f\"Accuracy score: {accuracy_score(labels_val, prediction_labels)}\")\n",
    "print(f\"Precision score: {precision_score(labels_val, prediction_labels, average='macro')}\")\n",
    "print(f\"Recall score: {recall_score(labels_val, prediction_labels, average='macro')}\")\n",
    "print(f\"F1 score: {f1_score(labels_val, prediction_labels, average='macro')}\")"
   ]
  },
  {
   "cell_type": "code",
   "execution_count": 21,
   "id": "872ArLY_ypxG",
   "metadata": {
    "id": "872ArLY_ypxG"
   },
   "outputs": [],
   "source": [
    "dataset = create_dataset()\n",
    "\n",
    "tokenized_movies = dataset.map(preprocess_function, batched=True)\n",
    "print(tokenized_movies)"
   ]
  },
  {
   "cell_type": "code",
   "execution_count": 22,
   "id": "yfp5dPEu4CsD",
   "metadata": {
    "id": "yfp5dPEu4CsD"
   },
   "outputs": [],
   "source": [
    "# Hyperparameters\n",
    "learning_rate = 1e-2\n",
    "batch_size = 10\n",
    "epochs = 1"
   ]
  },
  {
   "cell_type": "code",
   "execution_count": 24,
   "id": "7ZGNTlGV4CsD",
   "metadata": {
    "colab": {
     "base_uri": "https://localhost:8080/"
    },
    "id": "7ZGNTlGV4CsD",
    "outputId": "002c28e9-26cc-4a0b-c5cd-fd492bcc5798"
   },
   "outputs": [
    {
     "name": "stderr",
     "output_type": "stream",
     "text": [
      "PyTorch: setting up devices\n",
      "The default value for the training argument `--report_to` will change in v5 (from all installed integrations to none). In v5, you will need to use `--report_to all` to get the same behavior as now. You should start updating your code and make this info disappear :-).\n"
     ]
    }
   ],
   "source": [
    "# Set up training args.\n",
    "training_args = TrainingArguments(\n",
    "    output_dir=\"movie_genre_model_four\",\n",
    "    evaluation_strategy=\"epoch\",\n",
    "    learning_rate=learning_rate,\n",
    "    per_device_train_batch_size=batch_size,\n",
    "    per_device_eval_batch_size=batch_size,\n",
    "    num_train_epochs=epochs,\n",
    ")"
   ]
  },
  {
   "cell_type": "code",
   "execution_count": 26,
   "id": "KiVfDGEC4CsD",
   "metadata": {
    "id": "KiVfDGEC4CsD"
   },
   "outputs": [],
   "source": [
    "# Set up the trainer and start training\n",
    "trainer_three = Trainer(\n",
    "    model=model,\n",
    "    args=training_args,\n",
    "    train_dataset=tokenized_movies[\"train\"],\n",
    "    eval_dataset=tokenized_movies[\"val\"],\n",
    "    tokenizer=tokenizer,\n",
    "    data_collator=data_collator,\n",
    ")\n",
    "\n"
   ]
  },
  {
   "cell_type": "code",
   "execution_count": 27,
   "id": "2RPEzBHa4CsE",
   "metadata": {
    "colab": {
     "base_uri": "https://localhost:8080/",
     "height": 613
    },
    "id": "2RPEzBHa4CsE",
    "outputId": "b9b86b52-69d3-4674-ffb1-5adb33e63e55"
   },
   "outputs": [
    {
     "name": "stderr",
     "output_type": "stream",
     "text": [
      "The following columns in the training set don't have a corresponding argument in `RobertaForSequenceClassification.forward` and have been ignored: text. If text are not expected by `RobertaForSequenceClassification.forward`,  you can safely ignore this message.\n",
      "/usr/local/lib/python3.9/dist-packages/transformers/optimization.py:306: FutureWarning: This implementation of AdamW is deprecated and will be removed in a future version. Use the PyTorch implementation torch.optim.AdamW instead, or set `no_deprecation_warning=True` to disable this warning\n",
      "  warnings.warn(\n",
      "***** Running training *****\n",
      "  Num examples = 5451\n",
      "  Num Epochs = 1\n",
      "  Instantaneous batch size per device = 10\n",
      "  Total train batch size (w. parallel, distributed & accumulation) = 10\n",
      "  Gradient Accumulation steps = 1\n",
      "  Total optimization steps = 546\n",
      "  Number of trainable parameters = 124653322\n"
     ]
    },
    {
     "data": {
      "text/html": [
       "\n",
       "    <div>\n",
       "      \n",
       "      <progress value='546' max='546' style='width:300px; height:20px; vertical-align: middle;'></progress>\n",
       "      [546/546 05:43, Epoch 1/1]\n",
       "    </div>\n",
       "    <table border=\"1\" class=\"dataframe\">\n",
       "  <thead>\n",
       " <tr style=\"text-align: left;\">\n",
       "      <th>Epoch</th>\n",
       "      <th>Training Loss</th>\n",
       "      <th>Validation Loss</th>\n",
       "    </tr>\n",
       "  </thead>\n",
       "  <tbody>\n",
       "    <tr>\n",
       "      <td>1</td>\n",
       "      <td>3.326000</td>\n",
       "      <td>2.341537</td>\n",
       "    </tr>\n",
       "  </tbody>\n",
       "</table><p>"
      ],
      "text/plain": [
       "<IPython.core.display.HTML object>"
      ]
     },
     "metadata": {},
     "output_type": "display_data"
    },
    {
     "name": "stderr",
     "output_type": "stream",
     "text": [
      "Saving model checkpoint to movie_genre_model_four/checkpoint-500\n",
      "Configuration saved in movie_genre_model_four/checkpoint-500/config.json\n",
      "Model weights saved in movie_genre_model_four/checkpoint-500/pytorch_model.bin\n",
      "tokenizer config file saved in movie_genre_model_four/checkpoint-500/tokenizer_config.json\n",
      "Special tokens file saved in movie_genre_model_four/checkpoint-500/special_tokens_map.json\n",
      "The following columns in the evaluation set don't have a corresponding argument in `RobertaForSequenceClassification.forward` and have been ignored: text. If text are not expected by `RobertaForSequenceClassification.forward`,  you can safely ignore this message.\n",
      "***** Running Evaluation *****\n",
      "  Num examples = 1817\n",
      "  Batch size = 10\n",
      "\n",
      "\n",
      "Training completed. Do not forget to share your model on huggingface.co/models =)\n",
      "\n",
      "\n"
     ]
    },
    {
     "data": {
      "text/plain": [
       "TrainOutput(global_step=546, training_loss=3.2522163810310785, metrics={'train_runtime': 343.971, 'train_samples_per_second': 15.847, 'train_steps_per_second': 1.587, 'total_flos': 850983343172508.0, 'train_loss': 3.2522163810310785, 'epoch': 1.0})"
      ]
     },
     "execution_count": 27,
     "metadata": {},
     "output_type": "execute_result"
    }
   ],
   "source": [
    "trainer_three.train()"
   ]
  },
  {
   "cell_type": "code",
   "execution_count": 28,
   "id": "_KI8GqPv4Q21",
   "metadata": {
    "colab": {
     "base_uri": "https://localhost:8080/",
     "height": 106
    },
    "id": "_KI8GqPv4Q21",
    "outputId": "16ab2770-af8b-46fc-d342-c0679a615bf3"
   },
   "outputs": [
    {
     "name": "stderr",
     "output_type": "stream",
     "text": [
      "The following columns in the test set don't have a corresponding argument in `RobertaForSequenceClassification.forward` and have been ignored: text. If text are not expected by `RobertaForSequenceClassification.forward`,  you can safely ignore this message.\n",
      "***** Running Prediction *****\n",
      "  Num examples = 1817\n",
      "  Batch size = 10\n"
     ]
    },
    {
     "data": {
      "text/html": [],
      "text/plain": [
       "<IPython.core.display.HTML object>"
      ]
     },
     "metadata": {},
     "output_type": "display_data"
    }
   ],
   "source": [
    "predictions, label_ids, metrics = trainer_three.predict(tokenized_movies['val'])"
   ]
  },
  {
   "cell_type": "code",
   "execution_count": 29,
   "id": "qsgsrXaH4Q21",
   "metadata": {
    "colab": {
     "base_uri": "https://localhost:8080/"
    },
    "id": "qsgsrXaH4Q21",
    "outputId": "1b6c3fd4-62d5-4c24-be10-3e2edffdf9e3"
   },
   "outputs": [
    {
     "name": "stdout",
     "output_type": "stream",
     "text": [
      "['thriller', 'thriller', 'thriller', 'thriller', 'thriller', 'thriller', 'thriller', 'thriller', 'thriller', 'thriller', 'thriller', 'thriller', 'thriller', 'thriller', 'thriller', 'thriller', 'thriller', 'thriller', 'thriller', 'thriller', 'thriller', 'thriller', 'thriller', 'thriller', 'thriller', 'thriller', 'thriller', 'thriller', 'thriller', 'thriller', 'thriller', 'thriller', 'thriller', 'thriller', 'thriller', 'thriller', 'thriller', 'thriller', 'thriller', 'thriller', 'thriller', 'thriller', 'thriller', 'thriller', 'thriller', 'thriller', 'thriller', 'thriller', 'thriller', 'thriller', 'thriller', 'thriller', 'thriller', 'thriller', 'thriller', 'thriller', 'thriller', 'thriller', 'thriller', 'thriller', 'thriller', 'thriller', 'thriller', 'thriller', 'thriller', 'thriller', 'thriller', 'thriller', 'thriller', 'thriller', 'thriller', 'thriller', 'thriller', 'thriller', 'thriller', 'thriller', 'thriller', 'thriller', 'thriller', 'thriller', 'thriller', 'thriller', 'thriller', 'thriller', 'thriller', 'thriller', 'thriller', 'thriller', 'thriller', 'thriller', 'thriller', 'thriller', 'thriller', 'thriller', 'thriller', 'thriller', 'thriller', 'thriller', 'thriller', 'thriller', 'thriller', 'thriller', 'thriller', 'thriller', 'thriller', 'thriller', 'thriller', 'thriller', 'thriller', 'thriller', 'thriller', 'thriller', 'thriller', 'thriller', 'thriller', 'thriller', 'thriller', 'thriller', 'thriller', 'thriller', 'thriller', 'thriller', 'thriller', 'thriller', 'thriller', 'thriller', 'thriller', 'thriller', 'thriller', 'thriller', 'thriller', 'thriller', 'thriller', 'thriller', 'thriller', 'thriller', 'thriller', 'thriller', 'thriller', 'thriller', 'thriller', 'thriller', 'thriller', 'thriller', 'thriller', 'thriller', 'thriller', 'thriller', 'thriller', 'thriller', 'thriller', 'thriller', 'thriller', 'thriller', 'thriller', 'thriller', 'thriller', 'thriller', 'thriller', 'thriller', 'thriller', 'thriller', 'thriller', 'thriller', 'thriller', 'thriller', 'thriller', 'thriller', 'thriller', 'thriller', 'thriller', 'thriller', 'thriller', 'thriller', 'thriller', 'thriller', 'thriller', 'thriller', 'thriller', 'thriller', 'thriller', 'thriller', 'thriller', 'thriller', 'thriller', 'thriller', 'thriller', 'thriller', 'thriller', 'thriller', 'thriller', 'thriller', 'thriller', 'thriller', 'thriller', 'thriller', 'thriller', 'thriller', 'thriller', 'thriller', 'thriller', 'thriller', 'thriller', 'thriller', 'thriller', 'thriller', 'thriller', 'thriller', 'thriller', 'thriller', 'thriller', 'thriller', 'thriller', 'thriller', 'thriller', 'thriller', 'thriller', 'thriller', 'thriller', 'thriller', 'thriller', 'thriller', 'thriller', 'thriller', 'thriller', 'thriller', 'thriller', 'thriller', 'thriller', 'thriller', 'thriller', 'thriller', 'thriller', 'thriller', 'thriller', 'thriller', 'thriller', 'thriller', 'thriller', 'thriller', 'thriller', 'thriller', 'thriller', 'thriller', 'thriller', 'thriller', 'thriller', 'thriller', 'thriller', 'thriller', 'thriller', 'thriller', 'thriller', 'thriller', 'thriller', 'thriller', 'thriller', 'thriller', 'thriller', 'thriller', 'thriller', 'thriller', 'thriller', 'thriller', 'thriller', 'thriller', 'thriller', 'thriller', 'thriller', 'thriller', 'thriller', 'thriller', 'thriller', 'thriller', 'thriller', 'thriller', 'thriller', 'thriller', 'thriller', 'thriller', 'thriller', 'thriller', 'thriller', 'thriller', 'thriller', 'thriller', 'thriller', 'thriller', 'thriller', 'thriller', 'thriller', 'thriller', 'thriller', 'thriller', 'thriller', 'thriller', 'thriller', 'thriller', 'thriller', 'thriller', 'thriller', 'thriller', 'thriller', 'thriller', 'thriller', 'thriller', 'thriller', 'thriller', 'thriller', 'thriller', 'thriller', 'thriller', 'thriller', 'thriller', 'thriller', 'thriller', 'thriller', 'thriller', 'thriller', 'thriller', 'thriller', 'thriller', 'thriller', 'thriller', 'thriller', 'thriller', 'thriller', 'thriller', 'thriller', 'thriller', 'thriller', 'thriller', 'thriller', 'thriller', 'thriller', 'thriller', 'thriller', 'thriller', 'thriller', 'thriller', 'thriller', 'thriller', 'thriller', 'thriller', 'thriller', 'thriller', 'thriller', 'thriller', 'thriller', 'thriller', 'thriller', 'thriller', 'thriller', 'thriller', 'thriller', 'thriller', 'thriller', 'thriller', 'thriller', 'thriller', 'thriller', 'thriller', 'thriller', 'thriller', 'thriller', 'thriller', 'thriller', 'thriller', 'thriller', 'thriller', 'thriller', 'thriller', 'thriller', 'thriller', 'thriller', 'thriller', 'thriller', 'thriller', 'thriller', 'thriller', 'thriller', 'thriller', 'thriller', 'thriller', 'thriller', 'thriller', 'thriller', 'thriller', 'thriller', 'thriller', 'thriller', 'thriller', 'thriller', 'thriller', 'thriller', 'thriller', 'thriller', 'thriller', 'thriller', 'thriller', 'thriller', 'thriller', 'thriller', 'thriller', 'thriller', 'thriller', 'thriller', 'thriller', 'thriller', 'thriller', 'thriller', 'thriller', 'thriller', 'thriller', 'thriller', 'thriller', 'thriller', 'thriller', 'thriller', 'thriller', 'thriller', 'thriller', 'thriller', 'thriller', 'thriller', 'thriller', 'thriller', 'thriller', 'thriller', 'thriller', 'thriller', 'thriller', 'thriller', 'thriller', 'thriller', 'thriller', 'thriller', 'thriller', 'thriller', 'thriller', 'thriller', 'thriller', 'thriller', 'thriller', 'thriller', 'thriller', 'thriller', 'thriller', 'thriller', 'thriller', 'thriller', 'thriller', 'thriller', 'thriller', 'thriller', 'thriller', 'thriller', 'thriller', 'thriller', 'thriller', 'thriller', 'thriller', 'thriller', 'thriller', 'thriller', 'thriller', 'thriller', 'thriller', 'thriller', 'thriller', 'thriller', 'thriller', 'thriller', 'thriller', 'thriller', 'thriller', 'thriller', 'thriller', 'thriller', 'thriller', 'thriller', 'thriller', 'thriller', 'thriller', 'thriller', 'thriller', 'thriller', 'thriller', 'thriller', 'thriller', 'thriller', 'thriller', 'thriller', 'thriller', 'thriller', 'thriller', 'thriller', 'thriller', 'thriller', 'thriller', 'thriller', 'thriller', 'thriller', 'thriller', 'thriller', 'thriller', 'thriller', 'thriller', 'thriller', 'thriller', 'thriller', 'thriller', 'thriller', 'thriller', 'thriller', 'thriller', 'thriller', 'thriller', 'thriller', 'thriller', 'thriller', 'thriller', 'thriller', 'thriller', 'thriller', 'thriller', 'thriller', 'thriller', 'thriller', 'thriller', 'thriller', 'thriller', 'thriller', 'thriller', 'thriller', 'thriller', 'thriller', 'thriller', 'thriller', 'thriller', 'thriller', 'thriller', 'thriller', 'thriller', 'thriller', 'thriller', 'thriller', 'thriller', 'thriller', 'thriller', 'thriller', 'thriller', 'thriller', 'thriller', 'thriller', 'thriller', 'thriller', 'thriller', 'thriller', 'thriller', 'thriller', 'thriller', 'thriller', 'thriller', 'thriller', 'thriller', 'thriller', 'thriller', 'thriller', 'thriller', 'thriller', 'thriller', 'thriller', 'thriller', 'thriller', 'thriller', 'thriller', 'thriller', 'thriller', 'thriller', 'thriller', 'thriller', 'thriller', 'thriller', 'thriller', 'thriller', 'thriller', 'thriller', 'thriller', 'thriller', 'thriller', 'thriller', 'thriller', 'thriller', 'thriller', 'thriller', 'thriller', 'thriller', 'thriller', 'thriller', 'thriller', 'thriller', 'thriller', 'thriller', 'thriller', 'thriller', 'thriller', 'thriller', 'thriller', 'thriller', 'thriller', 'thriller', 'thriller', 'thriller', 'thriller', 'thriller', 'thriller', 'thriller', 'thriller', 'thriller', 'thriller', 'thriller', 'thriller', 'thriller', 'thriller', 'thriller', 'thriller', 'thriller', 'thriller', 'thriller', 'thriller', 'thriller', 'thriller', 'thriller', 'thriller', 'thriller', 'thriller', 'thriller', 'thriller', 'thriller', 'thriller', 'thriller', 'thriller', 'thriller', 'thriller', 'thriller', 'thriller', 'thriller', 'thriller', 'thriller', 'thriller', 'thriller', 'thriller', 'thriller', 'thriller', 'thriller', 'thriller', 'thriller', 'thriller', 'thriller', 'thriller', 'thriller', 'thriller', 'thriller', 'thriller', 'thriller', 'thriller', 'thriller', 'thriller', 'thriller', 'thriller', 'thriller', 'thriller', 'thriller', 'thriller', 'thriller', 'thriller', 'thriller', 'thriller', 'thriller', 'thriller', 'thriller', 'thriller', 'thriller', 'thriller', 'thriller', 'thriller', 'thriller', 'thriller', 'thriller', 'thriller', 'thriller', 'thriller', 'thriller', 'thriller', 'thriller', 'thriller', 'thriller', 'thriller', 'thriller', 'thriller', 'thriller', 'thriller', 'thriller', 'thriller', 'thriller', 'thriller', 'thriller', 'thriller', 'thriller', 'thriller', 'thriller', 'thriller', 'thriller', 'thriller', 'thriller', 'thriller', 'thriller', 'thriller', 'thriller', 'thriller', 'thriller', 'thriller', 'thriller', 'thriller', 'thriller', 'thriller', 'thriller', 'thriller', 'thriller', 'thriller', 'thriller', 'thriller', 'thriller', 'thriller', 'thriller', 'thriller', 'thriller', 'thriller', 'thriller', 'thriller', 'thriller', 'thriller', 'thriller', 'thriller', 'thriller', 'thriller', 'thriller', 'thriller', 'thriller', 'thriller', 'thriller', 'thriller', 'thriller', 'thriller', 'thriller', 'thriller', 'thriller', 'thriller', 'thriller', 'thriller', 'thriller', 'thriller', 'thriller', 'thriller', 'thriller', 'thriller', 'thriller', 'thriller', 'thriller', 'thriller', 'thriller', 'thriller', 'thriller', 'thriller', 'thriller', 'thriller', 'thriller', 'thriller', 'thriller', 'thriller', 'thriller', 'thriller', 'thriller', 'thriller', 'thriller', 'thriller', 'thriller', 'thriller', 'thriller', 'thriller', 'thriller', 'thriller', 'thriller', 'thriller', 'thriller', 'thriller', 'thriller', 'thriller', 'thriller', 'thriller', 'thriller', 'thriller', 'thriller', 'thriller', 'thriller', 'thriller', 'thriller', 'thriller', 'thriller', 'thriller', 'thriller', 'thriller', 'thriller', 'thriller', 'thriller', 'thriller', 'thriller', 'thriller', 'thriller', 'thriller', 'thriller', 'thriller', 'thriller', 'thriller', 'thriller', 'thriller', 'thriller', 'thriller', 'thriller', 'thriller', 'thriller', 'thriller', 'thriller', 'thriller', 'thriller', 'thriller', 'thriller', 'thriller', 'thriller', 'thriller', 'thriller', 'thriller', 'thriller', 'thriller', 'thriller', 'thriller', 'thriller', 'thriller', 'thriller', 'thriller', 'thriller', 'thriller', 'thriller', 'thriller', 'thriller', 'thriller', 'thriller', 'thriller', 'thriller', 'thriller', 'thriller', 'thriller', 'thriller', 'thriller', 'thriller', 'thriller', 'thriller', 'thriller', 'thriller', 'thriller', 'thriller', 'thriller', 'thriller', 'thriller', 'thriller', 'thriller', 'thriller', 'thriller', 'thriller', 'thriller', 'thriller', 'thriller', 'thriller', 'thriller', 'thriller', 'thriller', 'thriller', 'thriller', 'thriller', 'thriller', 'thriller', 'thriller', 'thriller', 'thriller', 'thriller', 'thriller', 'thriller', 'thriller', 'thriller', 'thriller', 'thriller', 'thriller', 'thriller', 'thriller', 'thriller', 'thriller', 'thriller', 'thriller', 'thriller', 'thriller', 'thriller', 'thriller', 'thriller', 'thriller', 'thriller', 'thriller', 'thriller', 'thriller', 'thriller', 'thriller', 'thriller', 'thriller', 'thriller', 'thriller', 'thriller', 'thriller', 'thriller', 'thriller', 'thriller', 'thriller', 'thriller', 'thriller', 'thriller', 'thriller', 'thriller', 'thriller', 'thriller', 'thriller', 'thriller', 'thriller', 'thriller', 'thriller', 'thriller', 'thriller', 'thriller', 'thriller', 'thriller', 'thriller', 'thriller', 'thriller', 'thriller', 'thriller', 'thriller', 'thriller', 'thriller', 'thriller', 'thriller', 'thriller', 'thriller', 'thriller', 'thriller', 'thriller', 'thriller', 'thriller', 'thriller', 'thriller', 'thriller', 'thriller', 'thriller', 'thriller', 'thriller', 'thriller', 'thriller', 'thriller', 'thriller', 'thriller', 'thriller', 'thriller', 'thriller', 'thriller', 'thriller', 'thriller', 'thriller', 'thriller', 'thriller', 'thriller', 'thriller', 'thriller', 'thriller', 'thriller', 'thriller', 'thriller', 'thriller', 'thriller', 'thriller', 'thriller', 'thriller', 'thriller', 'thriller', 'thriller', 'thriller', 'thriller', 'thriller', 'thriller', 'thriller', 'thriller', 'thriller', 'thriller', 'thriller', 'thriller', 'thriller', 'thriller', 'thriller', 'thriller', 'thriller', 'thriller', 'thriller', 'thriller', 'thriller', 'thriller', 'thriller', 'thriller', 'thriller', 'thriller', 'thriller', 'thriller', 'thriller', 'thriller', 'thriller', 'thriller', 'thriller', 'thriller', 'thriller', 'thriller', 'thriller', 'thriller', 'thriller', 'thriller', 'thriller', 'thriller', 'thriller', 'thriller', 'thriller', 'thriller', 'thriller', 'thriller', 'thriller', 'thriller', 'thriller', 'thriller', 'thriller', 'thriller', 'thriller', 'thriller', 'thriller', 'thriller', 'thriller', 'thriller', 'thriller', 'thriller', 'thriller', 'thriller', 'thriller', 'thriller', 'thriller', 'thriller', 'thriller', 'thriller', 'thriller', 'thriller', 'thriller', 'thriller', 'thriller', 'thriller', 'thriller', 'thriller', 'thriller', 'thriller', 'thriller', 'thriller', 'thriller', 'thriller', 'thriller', 'thriller', 'thriller', 'thriller', 'thriller', 'thriller', 'thriller', 'thriller', 'thriller', 'thriller', 'thriller', 'thriller', 'thriller', 'thriller', 'thriller', 'thriller', 'thriller', 'thriller', 'thriller', 'thriller', 'thriller', 'thriller', 'thriller', 'thriller', 'thriller', 'thriller', 'thriller', 'thriller', 'thriller', 'thriller', 'thriller', 'thriller', 'thriller', 'thriller', 'thriller', 'thriller', 'thriller', 'thriller', 'thriller', 'thriller', 'thriller', 'thriller', 'thriller', 'thriller', 'thriller', 'thriller', 'thriller', 'thriller', 'thriller', 'thriller', 'thriller', 'thriller', 'thriller', 'thriller', 'thriller', 'thriller', 'thriller', 'thriller', 'thriller', 'thriller', 'thriller', 'thriller', 'thriller', 'thriller', 'thriller', 'thriller', 'thriller', 'thriller', 'thriller', 'thriller', 'thriller', 'thriller', 'thriller', 'thriller', 'thriller', 'thriller', 'thriller', 'thriller', 'thriller', 'thriller', 'thriller', 'thriller', 'thriller', 'thriller', 'thriller', 'thriller', 'thriller', 'thriller', 'thriller', 'thriller', 'thriller', 'thriller', 'thriller', 'thriller', 'thriller', 'thriller', 'thriller', 'thriller', 'thriller', 'thriller', 'thriller', 'thriller', 'thriller', 'thriller', 'thriller', 'thriller', 'thriller', 'thriller', 'thriller', 'thriller', 'thriller', 'thriller', 'thriller', 'thriller', 'thriller', 'thriller', 'thriller', 'thriller', 'thriller', 'thriller', 'thriller', 'thriller', 'thriller', 'thriller', 'thriller', 'thriller', 'thriller', 'thriller', 'thriller', 'thriller', 'thriller', 'thriller', 'thriller', 'thriller', 'thriller', 'thriller', 'thriller', 'thriller', 'thriller', 'thriller', 'thriller', 'thriller', 'thriller', 'thriller', 'thriller', 'thriller', 'thriller', 'thriller', 'thriller', 'thriller', 'thriller', 'thriller', 'thriller', 'thriller', 'thriller', 'thriller', 'thriller', 'thriller', 'thriller', 'thriller', 'thriller', 'thriller', 'thriller', 'thriller', 'thriller', 'thriller', 'thriller', 'thriller', 'thriller', 'thriller', 'thriller', 'thriller', 'thriller', 'thriller', 'thriller', 'thriller', 'thriller', 'thriller', 'thriller', 'thriller', 'thriller', 'thriller', 'thriller', 'thriller', 'thriller', 'thriller', 'thriller', 'thriller', 'thriller', 'thriller', 'thriller', 'thriller', 'thriller', 'thriller', 'thriller', 'thriller', 'thriller', 'thriller', 'thriller', 'thriller', 'thriller', 'thriller', 'thriller', 'thriller', 'thriller', 'thriller', 'thriller', 'thriller', 'thriller', 'thriller', 'thriller', 'thriller', 'thriller', 'thriller', 'thriller', 'thriller', 'thriller', 'thriller', 'thriller', 'thriller', 'thriller', 'thriller', 'thriller', 'thriller', 'thriller', 'thriller', 'thriller', 'thriller', 'thriller', 'thriller', 'thriller', 'thriller', 'thriller', 'thriller', 'thriller', 'thriller', 'thriller', 'thriller', 'thriller', 'thriller', 'thriller', 'thriller', 'thriller', 'thriller', 'thriller', 'thriller', 'thriller', 'thriller', 'thriller', 'thriller', 'thriller', 'thriller', 'thriller', 'thriller', 'thriller', 'thriller', 'thriller', 'thriller', 'thriller', 'thriller', 'thriller', 'thriller', 'thriller', 'thriller', 'thriller', 'thriller', 'thriller', 'thriller', 'thriller', 'thriller', 'thriller', 'thriller', 'thriller', 'thriller', 'thriller', 'thriller', 'thriller', 'thriller', 'thriller', 'thriller', 'thriller', 'thriller', 'thriller', 'thriller', 'thriller', 'thriller', 'thriller', 'thriller', 'thriller', 'thriller', 'thriller', 'thriller', 'thriller', 'thriller', 'thriller', 'thriller', 'thriller', 'thriller', 'thriller', 'thriller', 'thriller', 'thriller', 'thriller', 'thriller', 'thriller', 'thriller', 'thriller', 'thriller', 'thriller', 'thriller', 'thriller', 'thriller', 'thriller', 'thriller', 'thriller', 'thriller', 'thriller', 'thriller', 'thriller', 'thriller', 'thriller', 'thriller', 'thriller', 'thriller', 'thriller', 'thriller', 'thriller', 'thriller', 'thriller', 'thriller', 'thriller', 'thriller', 'thriller', 'thriller', 'thriller', 'thriller', 'thriller', 'thriller', 'thriller', 'thriller', 'thriller', 'thriller', 'thriller', 'thriller', 'thriller', 'thriller', 'thriller', 'thriller', 'thriller', 'thriller', 'thriller', 'thriller', 'thriller', 'thriller', 'thriller', 'thriller', 'thriller', 'thriller', 'thriller', 'thriller', 'thriller', 'thriller', 'thriller', 'thriller', 'thriller', 'thriller', 'thriller', 'thriller', 'thriller', 'thriller', 'thriller', 'thriller', 'thriller', 'thriller', 'thriller', 'thriller', 'thriller', 'thriller', 'thriller', 'thriller', 'thriller', 'thriller', 'thriller', 'thriller', 'thriller', 'thriller', 'thriller', 'thriller', 'thriller', 'thriller', 'thriller', 'thriller', 'thriller', 'thriller', 'thriller', 'thriller', 'thriller', 'thriller', 'thriller', 'thriller', 'thriller', 'thriller', 'thriller', 'thriller', 'thriller', 'thriller', 'thriller', 'thriller', 'thriller', 'thriller', 'thriller', 'thriller', 'thriller', 'thriller', 'thriller', 'thriller', 'thriller', 'thriller', 'thriller', 'thriller', 'thriller', 'thriller', 'thriller', 'thriller', 'thriller', 'thriller', 'thriller', 'thriller', 'thriller', 'thriller', 'thriller', 'thriller', 'thriller', 'thriller', 'thriller', 'thriller', 'thriller', 'thriller', 'thriller', 'thriller', 'thriller', 'thriller', 'thriller', 'thriller', 'thriller', 'thriller', 'thriller', 'thriller', 'thriller', 'thriller', 'thriller', 'thriller', 'thriller', 'thriller', 'thriller', 'thriller', 'thriller', 'thriller', 'thriller', 'thriller', 'thriller', 'thriller', 'thriller', 'thriller', 'thriller', 'thriller', 'thriller', 'thriller', 'thriller', 'thriller', 'thriller', 'thriller', 'thriller', 'thriller', 'thriller', 'thriller', 'thriller', 'thriller', 'thriller', 'thriller', 'thriller', 'thriller', 'thriller', 'thriller', 'thriller', 'thriller', 'thriller', 'thriller', 'thriller', 'thriller', 'thriller', 'thriller', 'thriller', 'thriller', 'thriller', 'thriller', 'thriller', 'thriller', 'thriller', 'thriller', 'thriller', 'thriller', 'thriller', 'thriller', 'thriller', 'thriller', 'thriller', 'thriller', 'thriller', 'thriller', 'thriller', 'thriller', 'thriller', 'thriller', 'thriller', 'thriller', 'thriller', 'thriller', 'thriller', 'thriller', 'thriller', 'thriller', 'thriller', 'thriller', 'thriller', 'thriller', 'thriller', 'thriller', 'thriller', 'thriller', 'thriller', 'thriller', 'thriller', 'thriller', 'thriller', 'thriller', 'thriller', 'thriller', 'thriller', 'thriller', 'thriller', 'thriller', 'thriller', 'thriller', 'thriller', 'thriller', 'thriller', 'thriller', 'thriller', 'thriller', 'thriller', 'thriller', 'thriller', 'thriller', 'thriller', 'thriller', 'thriller', 'thriller', 'thriller', 'thriller', 'thriller', 'thriller', 'thriller', 'thriller', 'thriller', 'thriller', 'thriller', 'thriller', 'thriller', 'thriller', 'thriller', 'thriller', 'thriller', 'thriller', 'thriller', 'thriller', 'thriller', 'thriller', 'thriller', 'thriller', 'thriller', 'thriller', 'thriller', 'thriller', 'thriller', 'thriller', 'thriller', 'thriller', 'thriller', 'thriller', 'thriller', 'thriller', 'thriller', 'thriller', 'thriller', 'thriller', 'thriller', 'thriller', 'thriller', 'thriller', 'thriller', 'thriller', 'thriller', 'thriller', 'thriller', 'thriller', 'thriller', 'thriller', 'thriller', 'thriller', 'thriller', 'thriller', 'thriller', 'thriller', 'thriller', 'thriller', 'thriller', 'thriller', 'thriller', 'thriller', 'thriller', 'thriller', 'thriller', 'thriller', 'thriller', 'thriller', 'thriller', 'thriller', 'thriller', 'thriller', 'thriller', 'thriller', 'thriller', 'thriller', 'thriller', 'thriller', 'thriller', 'thriller', 'thriller', 'thriller', 'thriller', 'thriller', 'thriller', 'thriller', 'thriller', 'thriller', 'thriller', 'thriller', 'thriller', 'thriller', 'thriller', 'thriller', 'thriller', 'thriller', 'thriller', 'thriller', 'thriller', 'thriller', 'thriller', 'thriller', 'thriller', 'thriller', 'thriller', 'thriller', 'thriller', 'thriller', 'thriller', 'thriller', 'thriller', 'thriller', 'thriller', 'thriller', 'thriller', 'thriller', 'thriller', 'thriller', 'thriller', 'thriller', 'thriller', 'thriller', 'thriller', 'thriller', 'thriller', 'thriller', 'thriller', 'thriller', 'thriller', 'thriller', 'thriller', 'thriller', 'thriller', 'thriller', 'thriller', 'thriller', 'thriller', 'thriller', 'thriller', 'thriller', 'thriller', 'thriller', 'thriller', 'thriller', 'thriller', 'thriller', 'thriller', 'thriller', 'thriller', 'thriller', 'thriller', 'thriller', 'thriller', 'thriller', 'thriller', 'thriller', 'thriller', 'thriller', 'thriller', 'thriller', 'thriller', 'thriller', 'thriller', 'thriller', 'thriller', 'thriller', 'thriller', 'thriller', 'thriller', 'thriller', 'thriller', 'thriller', 'thriller', 'thriller', 'thriller', 'thriller']\n"
     ]
    }
   ],
   "source": [
    "prediction_labels = []\n",
    "for i in range(len(texts_val)):\n",
    "    prediction_labels.append(id2label[predictions[i, :].argmax(axis=0)])\n",
    "\n",
    "print(prediction_labels)"
   ]
  },
  {
   "cell_type": "code",
   "execution_count": 30,
   "id": "ASmOnyTE4Q21",
   "metadata": {
    "colab": {
     "base_uri": "https://localhost:8080/"
    },
    "id": "ASmOnyTE4Q21",
    "outputId": "5956ac6b-9763-460a-90df-cbeeb4c89560",
    "scrolled": true
   },
   "outputs": [
    {
     "name": "stdout",
     "output_type": "stream",
     "text": [
      "Metrics for end-to-end trainer with third set of hyperparams:\n",
      "Accuracy score: 0.10291689598238855\n",
      "Precision score: 0.010291689598238856\n",
      "Recall score: 0.1\n",
      "F1 score: 0.018662674650698603\n"
     ]
    },
    {
     "name": "stderr",
     "output_type": "stream",
     "text": [
      "/usr/local/lib/python3.9/dist-packages/sklearn/metrics/_classification.py:1344: UndefinedMetricWarning: Precision is ill-defined and being set to 0.0 in labels with no predicted samples. Use `zero_division` parameter to control this behavior.\n",
      "  _warn_prf(average, modifier, msg_start, len(result))\n"
     ]
    }
   ],
   "source": [
    "from sklearn.metrics import f1_score, accuracy_score, precision_score, recall_score\n",
    "\n",
    "print(\"Metrics for end-to-end trainer with third set of hyperparams:\")\n",
    "print(f\"Accuracy score: {accuracy_score(labels_val, prediction_labels)}\")\n",
    "print(f\"Precision score: {precision_score(labels_val, prediction_labels, average='macro')}\")\n",
    "print(f\"Recall score: {recall_score(labels_val, prediction_labels, average='macro')}\")\n",
    "print(f\"F1 score: {f1_score(labels_val, prediction_labels, average='macro')}\")"
   ]
  },
  {
   "cell_type": "markdown",
   "id": "365568cd",
   "metadata": {},
   "source": [
    "### Q6"
   ]
  },
  {
   "cell_type": "markdown",
   "id": "d68f7c13",
   "metadata": {},
   "source": [
    "#### First i have to select first context vectors for the test set as well."
   ]
  },
  {
   "cell_type": "code",
   "execution_count": 36,
   "id": "1c8e666c",
   "metadata": {},
   "outputs": [],
   "source": [
    "context_vectors_test = [pipe(texts_test[i], return_tensors='pt', truncation=True) for i in range(len(texts_test))]\n",
    "start_vectors_test = [context_vectors_test[i][0,0,:] for i in range(len(texts_test))]\n",
    "start_vectors_test = torch.stack(start_vectors_test)"
   ]
  },
  {
   "cell_type": "code",
   "execution_count": 37,
   "id": "9fa6d8d7",
   "metadata": {},
   "outputs": [
    {
     "name": "stdout",
     "output_type": "stream",
     "text": [
      "Logistic regression with first context vectors:\n",
      "Accuracy: 0.620253164556962\n",
      "Precision: 0.6168198992038061\n",
      "Recall: 0.6144255225081567\n",
      "F1 Score: 0.6136503104753745\n"
     ]
    }
   ],
   "source": [
    "lr = LogisticRegression(max_iter=1000)\n",
    "lr_clf = lr.fit(start_vectors_train, labels_train)\n",
    "predictions = lr_clf.predict(start_vectors_test)\n",
    "\n",
    "# Metrics\n",
    "accuracy_lr_one = accuracy_score(labels_test, predictions)\n",
    "f1_lr_one = f1_score(labels_test, predictions, average='macro')\n",
    "precision_lr_one = precision_score(labels_test, predictions, average='macro')\n",
    "recall_lr_one = recall_score(labels_test, predictions, average='macro')\n",
    "\n",
    "print(\"Logistic regression with first context vectors:\")\n",
    "print(f\"Accuracy: {accuracy_lr_one}\")\n",
    "print(f\"Precision: {precision_lr_one}\")\n",
    "print(f\"Recall: {recall_lr_one}\")\n",
    "print(f\"F1 Score: {f1_lr_one}\")"
   ]
  },
  {
   "cell_type": "code",
   "execution_count": 43,
   "id": "4e42fec6",
   "metadata": {},
   "outputs": [
    {
     "data": {
      "image/png": "[encoded data removed]",
      "text/plain": [
       "<Figure size 432x288 with 1 Axes>"
      ]
     },
     "metadata": {
      "needs_background": "light"
     },
     "output_type": "display_data"
    }
   ],
   "source": [
    "from sklearn.metrics import confusion_matrix\n",
    "cm = confusion_matrix(labels_test, predictions)\n",
    "\n",
    "plotConfusionMatrix(cm, good_genres, good_genres)"
   ]
  },
  {
   "cell_type": "code",
   "execution_count": 44,
   "id": "f3aff84c",
   "metadata": {},
   "outputs": [
    {
     "name": "stderr",
     "output_type": "stream",
     "text": [
      "C:\\Users\\andre\\anaconda3\\lib\\site-packages\\seaborn\\_decorators.py:36: FutureWarning: Pass the following variables as keyword args: x, y. From version 0.12, the only valid positional argument will be `data`, and passing other arguments without an explicit keyword will result in an error or misinterpretation.\n",
      "  warnings.warn(\n"
     ]
    },
    {
     "data": {
      "image/png": "[encoded data removed]",
      "text/plain": [
       "<Figure size 720x432 with 1 Axes>"
      ]
     },
     "metadata": {},
     "output_type": "display_data"
    }
   ],
   "source": [
    "f1_scores = f1_score(labels_test, predictions, average=None)\n",
    "\n",
    "sn.set(rc={'figure.figsize':(10,6)})\n",
    "ax = sn.barplot(good_genres, f1_scores)\n",
    "\n",
    "for i in ax.containers:\n",
    "    ax.bar_label(i,)"
   ]
  },
  {
   "cell_type": "code",
   "execution_count": null,
   "id": "15a25dd1",
   "metadata": {},
   "outputs": [],
   "source": []
  }
 ],
 "metadata": {
  "accelerator": "GPU",
  "colab": {
   "provenance": []
  },
  "gpuClass": "standard",
  "kernelspec": {
   "display_name": "Python 3 (ipykernel)",
   "language": "python",
   "name": "python3"
  },
  "language_info": {
   "codemirror_mode": {
    "name": "ipython",
    "version": 3
   },
   "file_extension": ".py",
   "mimetype": "text/x-python",
   "name": "python",
   "nbconvert_exporter": "python",
   "pygments_lexer": "ipython3",
   "version": "3.9.12"
  },
  "widgets": {
   "application/vnd.jupyter.widget-state+json": {
    "0362ddedf35240b894ff08e6437db711": {
     "model_module": "@jupyter-widgets/controls",
     "model_module_version": "1.5.0",
     "model_name": "HTMLModel",
     "state": {
      "_dom_classes": [],
      "_model_module": "@jupyter-widgets/controls",
      "_model_module_version": "1.5.0",
      "_model_name": "HTMLModel",
      "_view_count": null,
      "_view_module": "@jupyter-widgets/controls",
      "_view_module_version": "1.5.0",
      "_view_name": "HTMLView",
      "description": "",
      "description_tooltip": null,
      "layout": "IPY_MODEL_582755135add425eb9f9a38cbddaa6c3",
      "placeholder": "​",
      "style": "IPY_MODEL_22fb813b19e049c2ac8b107e54a66672",
      "value": "Map: 100%"
     }
    },
    "067fc583d90641eb9c2061353641b96d": {
     "model_module": "@jupyter-widgets/controls",
     "model_module_version": "1.5.0",
     "model_name": "DescriptionStyleModel",
     "state": {
      "_model_module": "@jupyter-widgets/controls",
      "_model_module_version": "1.5.0",
      "_model_name": "DescriptionStyleModel",
      "_view_count": null,
      "_view_module": "@jupyter-widgets/base",
      "_view_module_version": "1.2.0",
      "_view_name": "StyleView",
      "description_width": ""
     }
    },
    "0781101fac2a4bd1b617c5f06a013eea": {
     "model_module": "@jupyter-widgets/controls",
     "model_module_version": "1.5.0",
     "model_name": "HTMLModel",
     "state": {
      "_dom_classes": [],
      "_model_module": "@jupyter-widgets/controls",
      "_model_module_version": "1.5.0",
      "_model_name": "HTMLModel",
      "_view_count": null,
      "_view_module": "@jupyter-widgets/controls",
      "_view_module_version": "1.5.0",
      "_view_name": "HTMLView",
      "description": "",
      "description_tooltip": null,
      "layout": "IPY_MODEL_2e035d99d11f480dbc9e273a7db8931c",
      "placeholder": "​",
      "style": "IPY_MODEL_175a0670d48d4d4e929071e201f3eb7d",
      "value": "Downloading (…)olve/main/vocab.json: 100%"
     }
    },
    "09f8aaa7d1e84846be242fa01b8a23e8": {
     "model_module": "@jupyter-widgets/base",
     "model_module_version": "1.2.0",
     "model_name": "LayoutModel",
     "state": {
      "_model_module": "@jupyter-widgets/base",
      "_model_module_version": "1.2.0",
      "_model_name": "LayoutModel",
      "_view_count": null,
      "_view_module": "@jupyter-widgets/base",
      "_view_module_version": "1.2.0",
      "_view_name": "LayoutView",
      "align_content": null,
      "align_items": null,
      "align_self": null,
      "border": null,
      "bottom": null,
      "display": null,
      "flex": null,
      "flex_flow": null,
      "grid_area": null,
      "grid_auto_columns": null,
      "grid_auto_flow": null,
      "grid_auto_rows": null,
      "grid_column": null,
      "grid_gap": null,
      "grid_row": null,
      "grid_template_areas": null,
      "grid_template_columns": null,
      "grid_template_rows": null,
      "height": null,
      "justify_content": null,
      "justify_items": null,
      "left": null,
      "margin": null,
      "max_height": null,
      "max_width": null,
      "min_height": null,
      "min_width": null,
      "object_fit": null,
      "object_position": null,
      "order": null,
      "overflow": null,
      "overflow_x": null,
      "overflow_y": null,
      "padding": null,
      "right": null,
      "top": null,
      "visibility": null,
      "width": null
     }
    },
    "0aa376236ca94a6d8a1923ebe3388077": {
     "model_module": "@jupyter-widgets/base",
     "model_module_version": "1.2.0",
     "model_name": "LayoutModel",
     "state": {
      "_model_module": "@jupyter-widgets/base",
      "_model_module_version": "1.2.0",
      "_model_name": "LayoutModel",
      "_view_count": null,
      "_view_module": "@jupyter-widgets/base",
      "_view_module_version": "1.2.0",
      "_view_name": "LayoutView",
      "align_content": null,
      "align_items": null,
      "align_self": null,
      "border": null,
      "bottom": null,
      "display": null,
      "flex": null,
      "flex_flow": null,
      "grid_area": null,
      "grid_auto_columns": null,
      "grid_auto_flow": null,
      "grid_auto_rows": null,
      "grid_column": null,
      "grid_gap": null,
      "grid_row": null,
      "grid_template_areas": null,
      "grid_template_columns": null,
      "grid_template_rows": null,
      "height": null,
      "justify_content": null,
      "justify_items": null,
      "left": null,
      "margin": null,
      "max_height": null,
      "max_width": null,
      "min_height": null,
      "min_width": null,
      "object_fit": null,
      "object_position": null,
      "order": null,
      "overflow": null,
      "overflow_x": null,
      "overflow_y": null,
      "padding": null,
      "right": null,
      "top": null,
      "visibility": null,
      "width": null
     }
    },
    "0b8110853cc84af3a137a8022290c74c": {
     "model_module": "@jupyter-widgets/base",
     "model_module_version": "1.2.0",
     "model_name": "LayoutModel",
     "state": {
      "_model_module": "@jupyter-widgets/base",
      "_model_module_version": "1.2.0",
      "_model_name": "LayoutModel",
      "_view_count": null,
      "_view_module": "@jupyter-widgets/base",
      "_view_module_version": "1.2.0",
      "_view_name": "LayoutView",
      "align_content": null,
      "align_items": null,
      "align_self": null,
      "border": null,
      "bottom": null,
      "display": null,
      "flex": null,
      "flex_flow": null,
      "grid_area": null,
      "grid_auto_columns": null,
      "grid_auto_flow": null,
      "grid_auto_rows": null,
      "grid_column": null,
      "grid_gap": null,
      "grid_row": null,
      "grid_template_areas": null,
      "grid_template_columns": null,
      "grid_template_rows": null,
      "height": null,
      "justify_content": null,
      "justify_items": null,
      "left": null,
      "margin": null,
      "max_height": null,
      "max_width": null,
      "min_height": null,
      "min_width": null,
      "object_fit": null,
      "object_position": null,
      "order": null,
      "overflow": null,
      "overflow_x": null,
      "overflow_y": null,
      "padding": null,
      "right": null,
      "top": null,
      "visibility": null,
      "width": null
     }
    },
    "0cd934ac128a4318a4c78e4a46ed5d64": {
     "model_module": "@jupyter-widgets/base",
     "model_module_version": "1.2.0",
     "model_name": "LayoutModel",
     "state": {
      "_model_module": "@jupyter-widgets/base",
      "_model_module_version": "1.2.0",
      "_model_name": "LayoutModel",
      "_view_count": null,
      "_view_module": "@jupyter-widgets/base",
      "_view_module_version": "1.2.0",
      "_view_name": "LayoutView",
      "align_content": null,
      "align_items": null,
      "align_self": null,
      "border": null,
      "bottom": null,
      "display": null,
      "flex": null,
      "flex_flow": null,
      "grid_area": null,
      "grid_auto_columns": null,
      "grid_auto_flow": null,
      "grid_auto_rows": null,
      "grid_column": null,
      "grid_gap": null,
      "grid_row": null,
      "grid_template_areas": null,
      "grid_template_columns": null,
      "grid_template_rows": null,
      "height": null,
      "justify_content": null,
      "justify_items": null,
      "left": null,
      "margin": null,
      "max_height": null,
      "max_width": null,
      "min_height": null,
      "min_width": null,
      "object_fit": null,
      "object_position": null,
      "order": null,
      "overflow": null,
      "overflow_x": null,
      "overflow_y": null,
      "padding": null,
      "right": null,
      "top": null,
      "visibility": null,
      "width": null
     }
    },
    "0cf4e3640ad04c7da49baa07a2c4c297": {
     "model_module": "@jupyter-widgets/controls",
     "model_module_version": "1.5.0",
     "model_name": "FloatProgressModel",
     "state": {
      "_dom_classes": [],
      "_model_module": "@jupyter-widgets/controls",
      "_model_module_version": "1.5.0",
      "_model_name": "FloatProgressModel",
      "_view_count": null,
      "_view_module": "@jupyter-widgets/controls",
      "_view_module_version": "1.5.0",
      "_view_name": "ProgressView",
      "bar_style": "",
      "description": "",
      "description_tooltip": null,
      "layout": "IPY_MODEL_58e14198f4af4ae4b5b4edc5e48f0db7",
      "max": 1817,
      "min": 0,
      "orientation": "horizontal",
      "style": "IPY_MODEL_1d4880f7f1154eb090783d4cf6cf7293",
      "value": 1817
     }
    },
    "0e14f5953d0342ccad8bc2386c4f9d2a": {
     "model_module": "@jupyter-widgets/base",
     "model_module_version": "1.2.0",
     "model_name": "LayoutModel",
     "state": {
      "_model_module": "@jupyter-widgets/base",
      "_model_module_version": "1.2.0",
      "_model_name": "LayoutModel",
      "_view_count": null,
      "_view_module": "@jupyter-widgets/base",
      "_view_module_version": "1.2.0",
      "_view_name": "LayoutView",
      "align_content": null,
      "align_items": null,
      "align_self": null,
      "border": null,
      "bottom": null,
      "display": null,
      "flex": null,
      "flex_flow": null,
      "grid_area": null,
      "grid_auto_columns": null,
      "grid_auto_flow": null,
      "grid_auto_rows": null,
      "grid_column": null,
      "grid_gap": null,
      "grid_row": null,
      "grid_template_areas": null,
      "grid_template_columns": null,
      "grid_template_rows": null,
      "height": null,
      "justify_content": null,
      "justify_items": null,
      "left": null,
      "margin": null,
      "max_height": null,
      "max_width": null,
      "min_height": null,
      "min_width": null,
      "object_fit": null,
      "object_position": null,
      "order": null,
      "overflow": null,
      "overflow_x": null,
      "overflow_y": null,
      "padding": null,
      "right": null,
      "top": null,
      "visibility": "hidden",
      "width": null
     }
    },
    "0e85679112d145359ba073a83bdcb38e": {
     "model_module": "@jupyter-widgets/controls",
     "model_module_version": "1.5.0",
     "model_name": "HBoxModel",
     "state": {
      "_dom_classes": [],
      "_model_module": "@jupyter-widgets/controls",
      "_model_module_version": "1.5.0",
      "_model_name": "HBoxModel",
      "_view_count": null,
      "_view_module": "@jupyter-widgets/controls",
      "_view_module_version": "1.5.0",
      "_view_name": "HBoxView",
      "box_style": "",
      "children": [
       "IPY_MODEL_317b723cc7834f1797c2ef3cb508dd10",
       "IPY_MODEL_c2b65b570b4949a9bf0f46c435bf62d2",
       "IPY_MODEL_5e9906696f98487498073d48cb45873b"
      ],
      "layout": "IPY_MODEL_fbddc28d47514a519f0deceabdb25a9f"
     }
    },
    "0e862bb43f9a4548a469159997c5020c": {
     "model_module": "@jupyter-widgets/controls",
     "model_module_version": "1.5.0",
     "model_name": "FloatProgressModel",
     "state": {
      "_dom_classes": [],
      "_model_module": "@jupyter-widgets/controls",
      "_model_module_version": "1.5.0",
      "_model_name": "FloatProgressModel",
      "_view_count": null,
      "_view_module": "@jupyter-widgets/controls",
      "_view_module_version": "1.5.0",
      "_view_name": "ProgressView",
      "bar_style": "",
      "description": "",
      "description_tooltip": null,
      "layout": "IPY_MODEL_5fd09f3afe174e94ace48e5492017430",
      "max": 5451,
      "min": 0,
      "orientation": "horizontal",
      "style": "IPY_MODEL_bed6779525974f58b3718931f17bbb66",
      "value": 5451
     }
    },
    "0eeac14c7710445eb5aa57f3eac642cb": {
     "model_module": "@jupyter-widgets/controls",
     "model_module_version": "1.5.0",
     "model_name": "HTMLModel",
     "state": {
      "_dom_classes": [],
      "_model_module": "@jupyter-widgets/controls",
      "_model_module_version": "1.5.0",
      "_model_name": "HTMLModel",
      "_view_count": null,
      "_view_module": "@jupyter-widgets/controls",
      "_view_module_version": "1.5.0",
      "_view_name": "HTMLView",
      "description": "",
      "description_tooltip": null,
      "layout": "IPY_MODEL_8d81424c9e1b45f3ae2f82f938f959f7",
      "placeholder": "​",
      "style": "IPY_MODEL_ce8c2e291c4b4c36b5c722ecf77f431a",
      "value": " 1817/1817 [00:01&lt;00:00, 1345.59 examples/s]"
     }
    },
    "0f7e9b402c234316a22a37444e56e2da": {
     "model_module": "@jupyter-widgets/controls",
     "model_module_version": "1.5.0",
     "model_name": "FloatProgressModel",
     "state": {
      "_dom_classes": [],
      "_model_module": "@jupyter-widgets/controls",
      "_model_module_version": "1.5.0",
      "_model_name": "FloatProgressModel",
      "_view_count": null,
      "_view_module": "@jupyter-widgets/controls",
      "_view_module_version": "1.5.0",
      "_view_name": "ProgressView",
      "bar_style": "success",
      "description": "",
      "description_tooltip": null,
      "layout": "IPY_MODEL_4dc51ae8dcaa413cb1f70e2464fbbe61",
      "max": 501200538,
      "min": 0,
      "orientation": "horizontal",
      "style": "IPY_MODEL_de515df90ae041afbf1f01f234022bcf",
      "value": 501200538
     }
    },
    "0fe82b64bd3c434f8a1a3c5971c19813": {
     "model_module": "@jupyter-widgets/controls",
     "model_module_version": "1.5.0",
     "model_name": "HBoxModel",
     "state": {
      "_dom_classes": [],
      "_model_module": "@jupyter-widgets/controls",
      "_model_module_version": "1.5.0",
      "_model_name": "HBoxModel",
      "_view_count": null,
      "_view_module": "@jupyter-widgets/controls",
      "_view_module_version": "1.5.0",
      "_view_name": "HBoxView",
      "box_style": "",
      "children": [
       "IPY_MODEL_0362ddedf35240b894ff08e6437db711",
       "IPY_MODEL_4138874282b94fcd8678e15f95eec64c",
       "IPY_MODEL_69fc8891cc3c4eb0a3bd73c1e0a73667"
      ],
      "layout": "IPY_MODEL_c54762fac80c4a12bbccc25777f6d26a"
     }
    },
    "0fedfbd17b9544d683d035a31d002d43": {
     "model_module": "@jupyter-widgets/base",
     "model_module_version": "1.2.0",
     "model_name": "LayoutModel",
     "state": {
      "_model_module": "@jupyter-widgets/base",
      "_model_module_version": "1.2.0",
      "_model_name": "LayoutModel",
      "_view_count": null,
      "_view_module": "@jupyter-widgets/base",
      "_view_module_version": "1.2.0",
      "_view_name": "LayoutView",
      "align_content": null,
      "align_items": null,
      "align_self": null,
      "border": null,
      "bottom": null,
      "display": null,
      "flex": null,
      "flex_flow": null,
      "grid_area": null,
      "grid_auto_columns": null,
      "grid_auto_flow": null,
      "grid_auto_rows": null,
      "grid_column": null,
      "grid_gap": null,
      "grid_row": null,
      "grid_template_areas": null,
      "grid_template_columns": null,
      "grid_template_rows": null,
      "height": null,
      "justify_content": null,
      "justify_items": null,
      "left": null,
      "margin": null,
      "max_height": null,
      "max_width": null,
      "min_height": null,
      "min_width": null,
      "object_fit": null,
      "object_position": null,
      "order": null,
      "overflow": null,
      "overflow_x": null,
      "overflow_y": null,
      "padding": null,
      "right": null,
      "top": null,
      "visibility": null,
      "width": null
     }
    },
    "124c0c9c6ecc477b8c76a628b999ef77": {
     "model_module": "@jupyter-widgets/controls",
     "model_module_version": "1.5.0",
     "model_name": "FloatProgressModel",
     "state": {
      "_dom_classes": [],
      "_model_module": "@jupyter-widgets/controls",
      "_model_module_version": "1.5.0",
      "_model_name": "FloatProgressModel",
      "_view_count": null,
      "_view_module": "@jupyter-widgets/controls",
      "_view_module_version": "1.5.0",
      "_view_name": "ProgressView",
      "bar_style": "",
      "description": "",
      "description_tooltip": null,
      "layout": "IPY_MODEL_c51497a6de19491693430211eb339abe",
      "max": 5451,
      "min": 0,
      "orientation": "horizontal",
      "style": "IPY_MODEL_220c679b13a2422b8b8809f226f61f0b",
      "value": 5451
     }
    },
    "13eb7fe7d6fb4e49a4641defcfd169f7": {
     "model_module": "@jupyter-widgets/controls",
     "model_module_version": "1.5.0",
     "model_name": "DescriptionStyleModel",
     "state": {
      "_model_module": "@jupyter-widgets/controls",
      "_model_module_version": "1.5.0",
      "_model_name": "DescriptionStyleModel",
      "_view_count": null,
      "_view_module": "@jupyter-widgets/base",
      "_view_module_version": "1.2.0",
      "_view_name": "StyleView",
      "description_width": ""
     }
    },
    "168a4b3e095441a8a9c0c72f39c741c4": {
     "model_module": "@jupyter-widgets/controls",
     "model_module_version": "1.5.0",
     "model_name": "DescriptionStyleModel",
     "state": {
      "_model_module": "@jupyter-widgets/controls",
      "_model_module_version": "1.5.0",
      "_model_name": "DescriptionStyleModel",
      "_view_count": null,
      "_view_module": "@jupyter-widgets/base",
      "_view_module_version": "1.2.0",
      "_view_name": "StyleView",
      "description_width": ""
     }
    },
    "175a0670d48d4d4e929071e201f3eb7d": {
     "model_module": "@jupyter-widgets/controls",
     "model_module_version": "1.5.0",
     "model_name": "DescriptionStyleModel",
     "state": {
      "_model_module": "@jupyter-widgets/controls",
      "_model_module_version": "1.5.0",
      "_model_name": "DescriptionStyleModel",
      "_view_count": null,
      "_view_module": "@jupyter-widgets/base",
      "_view_module_version": "1.2.0",
      "_view_name": "StyleView",
      "description_width": ""
     }
    },
    "1929e1d028f64d3c984ab740618ca9da": {
     "model_module": "@jupyter-widgets/base",
     "model_module_version": "1.2.0",
     "model_name": "LayoutModel",
     "state": {
      "_model_module": "@jupyter-widgets/base",
      "_model_module_version": "1.2.0",
      "_model_name": "LayoutModel",
      "_view_count": null,
      "_view_module": "@jupyter-widgets/base",
      "_view_module_version": "1.2.0",
      "_view_name": "LayoutView",
      "align_content": null,
      "align_items": null,
      "align_self": null,
      "border": null,
      "bottom": null,
      "display": null,
      "flex": null,
      "flex_flow": null,
      "grid_area": null,
      "grid_auto_columns": null,
      "grid_auto_flow": null,
      "grid_auto_rows": null,
      "grid_column": null,
      "grid_gap": null,
      "grid_row": null,
      "grid_template_areas": null,
      "grid_template_columns": null,
      "grid_template_rows": null,
      "height": null,
      "justify_content": null,
      "justify_items": null,
      "left": null,
      "margin": null,
      "max_height": null,
      "max_width": null,
      "min_height": null,
      "min_width": null,
      "object_fit": null,
      "object_position": null,
      "order": null,
      "overflow": null,
      "overflow_x": null,
      "overflow_y": null,
      "padding": null,
      "right": null,
      "top": null,
      "visibility": null,
      "width": null
     }
    },
    "1a246c4ffaf242bb856a4f19b9ba9bfa": {
     "model_module": "@jupyter-widgets/controls",
     "model_module_version": "1.5.0",
     "model_name": "FloatProgressModel",
     "state": {
      "_dom_classes": [],
      "_model_module": "@jupyter-widgets/controls",
      "_model_module_version": "1.5.0",
      "_model_name": "FloatProgressModel",
      "_view_count": null,
      "_view_module": "@jupyter-widgets/controls",
      "_view_module_version": "1.5.0",
      "_view_name": "ProgressView",
      "bar_style": "success",
      "description": "",
      "description_tooltip": null,
      "layout": "IPY_MODEL_6e2bde04926046b19b2d546b8a59ffd1",
      "max": 1355863,
      "min": 0,
      "orientation": "horizontal",
      "style": "IPY_MODEL_4ce0b756e99a4f9d8c9dc5c8232e1260",
      "value": 1355863
     }
    },
    "1a353e96db004287850517161ad5c0ab": {
     "model_module": "@jupyter-widgets/controls",
     "model_module_version": "1.5.0",
     "model_name": "DescriptionStyleModel",
     "state": {
      "_model_module": "@jupyter-widgets/controls",
      "_model_module_version": "1.5.0",
      "_model_name": "DescriptionStyleModel",
      "_view_count": null,
      "_view_module": "@jupyter-widgets/base",
      "_view_module_version": "1.2.0",
      "_view_name": "StyleView",
      "description_width": ""
     }
    },
    "1c9011439bc049bf804644c28fd2d81a": {
     "model_module": "@jupyter-widgets/base",
     "model_module_version": "1.2.0",
     "model_name": "LayoutModel",
     "state": {
      "_model_module": "@jupyter-widgets/base",
      "_model_module_version": "1.2.0",
      "_model_name": "LayoutModel",
      "_view_count": null,
      "_view_module": "@jupyter-widgets/base",
      "_view_module_version": "1.2.0",
      "_view_name": "LayoutView",
      "align_content": null,
      "align_items": null,
      "align_self": null,
      "border": null,
      "bottom": null,
      "display": null,
      "flex": null,
      "flex_flow": null,
      "grid_area": null,
      "grid_auto_columns": null,
      "grid_auto_flow": null,
      "grid_auto_rows": null,
      "grid_column": null,
      "grid_gap": null,
      "grid_row": null,
      "grid_template_areas": null,
      "grid_template_columns": null,
      "grid_template_rows": null,
      "height": null,
      "justify_content": null,
      "justify_items": null,
      "left": null,
      "margin": null,
      "max_height": null,
      "max_width": null,
      "min_height": null,
      "min_width": null,
      "object_fit": null,
      "object_position": null,
      "order": null,
      "overflow": null,
      "overflow_x": null,
      "overflow_y": null,
      "padding": null,
      "right": null,
      "top": null,
      "visibility": null,
      "width": null
     }
    },
    "1d4880f7f1154eb090783d4cf6cf7293": {
     "model_module": "@jupyter-widgets/controls",
     "model_module_version": "1.5.0",
     "model_name": "ProgressStyleModel",
     "state": {
      "_model_module": "@jupyter-widgets/controls",
      "_model_module_version": "1.5.0",
      "_model_name": "ProgressStyleModel",
      "_view_count": null,
      "_view_module": "@jupyter-widgets/base",
      "_view_module_version": "1.2.0",
      "_view_name": "StyleView",
      "bar_color": null,
      "description_width": ""
     }
    },
    "1d6c87be81bc479d994e5d50e27380af": {
     "model_module": "@jupyter-widgets/controls",
     "model_module_version": "1.5.0",
     "model_name": "FloatProgressModel",
     "state": {
      "_dom_classes": [],
      "_model_module": "@jupyter-widgets/controls",
      "_model_module_version": "1.5.0",
      "_model_name": "FloatProgressModel",
      "_view_count": null,
      "_view_module": "@jupyter-widgets/controls",
      "_view_module_version": "1.5.0",
      "_view_name": "ProgressView",
      "bar_style": "",
      "description": "",
      "description_tooltip": null,
      "layout": "IPY_MODEL_d1566f5de6ed46c49b522bbd68cdfdbb",
      "max": 1817,
      "min": 0,
      "orientation": "horizontal",
      "style": "IPY_MODEL_650da5b524624d21bdaf07ffcffb65a1",
      "value": 1817
     }
    },
    "1f2e284c058c4750b2963bcf08278262": {
     "model_module": "@jupyter-widgets/base",
     "model_module_version": "1.2.0",
     "model_name": "LayoutModel",
     "state": {
      "_model_module": "@jupyter-widgets/base",
      "_model_module_version": "1.2.0",
      "_model_name": "LayoutModel",
      "_view_count": null,
      "_view_module": "@jupyter-widgets/base",
      "_view_module_version": "1.2.0",
      "_view_name": "LayoutView",
      "align_content": null,
      "align_items": null,
      "align_self": null,
      "border": null,
      "bottom": null,
      "display": null,
      "flex": null,
      "flex_flow": null,
      "grid_area": null,
      "grid_auto_columns": null,
      "grid_auto_flow": null,
      "grid_auto_rows": null,
      "grid_column": null,
      "grid_gap": null,
      "grid_row": null,
      "grid_template_areas": null,
      "grid_template_columns": null,
      "grid_template_rows": null,
      "height": null,
      "justify_content": null,
      "justify_items": null,
      "left": null,
      "margin": null,
      "max_height": null,
      "max_width": null,
      "min_height": null,
      "min_width": null,
      "object_fit": null,
      "object_position": null,
      "order": null,
      "overflow": null,
      "overflow_x": null,
      "overflow_y": null,
      "padding": null,
      "right": null,
      "top": null,
      "visibility": null,
      "width": null
     }
    },
    "20c6367924d54069a09846a35bce8d65": {
     "model_module": "@jupyter-widgets/base",
     "model_module_version": "1.2.0",
     "model_name": "LayoutModel",
     "state": {
      "_model_module": "@jupyter-widgets/base",
      "_model_module_version": "1.2.0",
      "_model_name": "LayoutModel",
      "_view_count": null,
      "_view_module": "@jupyter-widgets/base",
      "_view_module_version": "1.2.0",
      "_view_name": "LayoutView",
      "align_content": null,
      "align_items": null,
      "align_self": null,
      "border": null,
      "bottom": null,
      "display": null,
      "flex": null,
      "flex_flow": null,
      "grid_area": null,
      "grid_auto_columns": null,
      "grid_auto_flow": null,
      "grid_auto_rows": null,
      "grid_column": null,
      "grid_gap": null,
      "grid_row": null,
      "grid_template_areas": null,
      "grid_template_columns": null,
      "grid_template_rows": null,
      "height": null,
      "justify_content": null,
      "justify_items": null,
      "left": null,
      "margin": null,
      "max_height": null,
      "max_width": null,
      "min_height": null,
      "min_width": null,
      "object_fit": null,
      "object_position": null,
      "order": null,
      "overflow": null,
      "overflow_x": null,
      "overflow_y": null,
      "padding": null,
      "right": null,
      "top": null,
      "visibility": null,
      "width": null
     }
    },
    "21000035d99f45459c66fe192bea6598": {
     "model_module": "@jupyter-widgets/controls",
     "model_module_version": "1.5.0",
     "model_name": "HTMLModel",
     "state": {
      "_dom_classes": [],
      "_model_module": "@jupyter-widgets/controls",
      "_model_module_version": "1.5.0",
      "_model_name": "HTMLModel",
      "_view_count": null,
      "_view_module": "@jupyter-widgets/controls",
      "_view_module_version": "1.5.0",
      "_view_name": "HTMLView",
      "description": "",
      "description_tooltip": null,
      "layout": "IPY_MODEL_bae5e8ece25d41c9b24f1297c6eccc5d",
      "placeholder": "​",
      "style": "IPY_MODEL_8966b39acf9343ec8edef12c1aa1850b",
      "value": "Downloading pytorch_model.bin: 100%"
     }
    },
    "21c62a52a43c42efa0b20cb38a675f4f": {
     "model_module": "@jupyter-widgets/controls",
     "model_module_version": "1.5.0",
     "model_name": "DescriptionStyleModel",
     "state": {
      "_model_module": "@jupyter-widgets/controls",
      "_model_module_version": "1.5.0",
      "_model_name": "DescriptionStyleModel",
      "_view_count": null,
      "_view_module": "@jupyter-widgets/base",
      "_view_module_version": "1.2.0",
      "_view_name": "StyleView",
      "description_width": ""
     }
    },
    "220c679b13a2422b8b8809f226f61f0b": {
     "model_module": "@jupyter-widgets/controls",
     "model_module_version": "1.5.0",
     "model_name": "ProgressStyleModel",
     "state": {
      "_model_module": "@jupyter-widgets/controls",
      "_model_module_version": "1.5.0",
      "_model_name": "ProgressStyleModel",
      "_view_count": null,
      "_view_module": "@jupyter-widgets/base",
      "_view_module_version": "1.2.0",
      "_view_name": "StyleView",
      "bar_color": null,
      "description_width": ""
     }
    },
    "223c05ab5a734ec8816523f2149efcff": {
     "model_module": "@jupyter-widgets/controls",
     "model_module_version": "1.5.0",
     "model_name": "HTMLModel",
     "state": {
      "_dom_classes": [],
      "_model_module": "@jupyter-widgets/controls",
      "_model_module_version": "1.5.0",
      "_model_name": "HTMLModel",
      "_view_count": null,
      "_view_module": "@jupyter-widgets/controls",
      "_view_module_version": "1.5.0",
      "_view_name": "HTMLView",
      "description": "",
      "description_tooltip": null,
      "layout": "IPY_MODEL_f083be2e208b4df5ac0e3f4f26bc656b",
      "placeholder": "​",
      "style": "IPY_MODEL_657edb49a4e4424391fda2b0019f1159",
      "value": "Downloading (…)lve/main/config.json: 100%"
     }
    },
    "22fb813b19e049c2ac8b107e54a66672": {
     "model_module": "@jupyter-widgets/controls",
     "model_module_version": "1.5.0",
     "model_name": "DescriptionStyleModel",
     "state": {
      "_model_module": "@jupyter-widgets/controls",
      "_model_module_version": "1.5.0",
      "_model_name": "DescriptionStyleModel",
      "_view_count": null,
      "_view_module": "@jupyter-widgets/base",
      "_view_module_version": "1.2.0",
      "_view_name": "StyleView",
      "description_width": ""
     }
    },
    "2302ba05a8a44a329491577b80a017d0": {
     "model_module": "@jupyter-widgets/controls",
     "model_module_version": "1.5.0",
     "model_name": "HBoxModel",
     "state": {
      "_dom_classes": [],
      "_model_module": "@jupyter-widgets/controls",
      "_model_module_version": "1.5.0",
      "_model_name": "HBoxModel",
      "_view_count": null,
      "_view_module": "@jupyter-widgets/controls",
      "_view_module_version": "1.5.0",
      "_view_name": "HBoxView",
      "box_style": "",
      "children": [
       "IPY_MODEL_8e48936ebaab402aa44379c796474fff",
       "IPY_MODEL_0cf4e3640ad04c7da49baa07a2c4c297",
       "IPY_MODEL_e972c58f0482474b884f68368a28bdad"
      ],
      "layout": "IPY_MODEL_a858fb5eaf15409898ca80c949fcd440"
     }
    },
    "23cd954ad67e4a1b9f90c06467033dfc": {
     "model_module": "@jupyter-widgets/base",
     "model_module_version": "1.2.0",
     "model_name": "LayoutModel",
     "state": {
      "_model_module": "@jupyter-widgets/base",
      "_model_module_version": "1.2.0",
      "_model_name": "LayoutModel",
      "_view_count": null,
      "_view_module": "@jupyter-widgets/base",
      "_view_module_version": "1.2.0",
      "_view_name": "LayoutView",
      "align_content": null,
      "align_items": null,
      "align_self": null,
      "border": null,
      "bottom": null,
      "display": null,
      "flex": null,
      "flex_flow": null,
      "grid_area": null,
      "grid_auto_columns": null,
      "grid_auto_flow": null,
      "grid_auto_rows": null,
      "grid_column": null,
      "grid_gap": null,
      "grid_row": null,
      "grid_template_areas": null,
      "grid_template_columns": null,
      "grid_template_rows": null,
      "height": null,
      "justify_content": null,
      "justify_items": null,
      "left": null,
      "margin": null,
      "max_height": null,
      "max_width": null,
      "min_height": null,
      "min_width": null,
      "object_fit": null,
      "object_position": null,
      "order": null,
      "overflow": null,
      "overflow_x": null,
      "overflow_y": null,
      "padding": null,
      "right": null,
      "top": null,
      "visibility": null,
      "width": null
     }
    },
    "26e311ec4ac047d8b1377a1fcb08399f": {
     "model_module": "@jupyter-widgets/controls",
     "model_module_version": "1.5.0",
     "model_name": "ProgressStyleModel",
     "state": {
      "_model_module": "@jupyter-widgets/controls",
      "_model_module_version": "1.5.0",
      "_model_name": "ProgressStyleModel",
      "_view_count": null,
      "_view_module": "@jupyter-widgets/base",
      "_view_module_version": "1.2.0",
      "_view_name": "StyleView",
      "bar_color": null,
      "description_width": ""
     }
    },
    "279204dd5d2f40238be95be79d7226a5": {
     "model_module": "@jupyter-widgets/controls",
     "model_module_version": "1.5.0",
     "model_name": "HTMLModel",
     "state": {
      "_dom_classes": [],
      "_model_module": "@jupyter-widgets/controls",
      "_model_module_version": "1.5.0",
      "_model_name": "HTMLModel",
      "_view_count": null,
      "_view_module": "@jupyter-widgets/controls",
      "_view_module_version": "1.5.0",
      "_view_name": "HTMLView",
      "description": "",
      "description_tooltip": null,
      "layout": "IPY_MODEL_346c21962eff4e72a9b6a217e245fb4c",
      "placeholder": "​",
      "style": "IPY_MODEL_168a4b3e095441a8a9c0c72f39c741c4",
      "value": "Downloading (…)olve/main/merges.txt: 100%"
     }
    },
    "2c04f372e5934ca2a5471ef6cb366daf": {
     "model_module": "@jupyter-widgets/controls",
     "model_module_version": "1.5.0",
     "model_name": "HTMLModel",
     "state": {
      "_dom_classes": [],
      "_model_module": "@jupyter-widgets/controls",
      "_model_module_version": "1.5.0",
      "_model_name": "HTMLModel",
      "_view_count": null,
      "_view_module": "@jupyter-widgets/controls",
      "_view_module_version": "1.5.0",
      "_view_name": "HTMLView",
      "description": "",
      "description_tooltip": null,
      "layout": "IPY_MODEL_816954b1438a4309b41b31a55a0cd54b",
      "placeholder": "​",
      "style": "IPY_MODEL_7acf4e69ff1b4a29bc6b418e2fd05e54",
      "value": " 456k/456k [00:00&lt;00:00, 515kB/s]"
     }
    },
    "2e035d99d11f480dbc9e273a7db8931c": {
     "model_module": "@jupyter-widgets/base",
     "model_module_version": "1.2.0",
     "model_name": "LayoutModel",
     "state": {
      "_model_module": "@jupyter-widgets/base",
      "_model_module_version": "1.2.0",
      "_model_name": "LayoutModel",
      "_view_count": null,
      "_view_module": "@jupyter-widgets/base",
      "_view_module_version": "1.2.0",
      "_view_name": "LayoutView",
      "align_content": null,
      "align_items": null,
      "align_self": null,
      "border": null,
      "bottom": null,
      "display": null,
      "flex": null,
      "flex_flow": null,
      "grid_area": null,
      "grid_auto_columns": null,
      "grid_auto_flow": null,
      "grid_auto_rows": null,
      "grid_column": null,
      "grid_gap": null,
      "grid_row": null,
      "grid_template_areas": null,
      "grid_template_columns": null,
      "grid_template_rows": null,
      "height": null,
      "justify_content": null,
      "justify_items": null,
      "left": null,
      "margin": null,
      "max_height": null,
      "max_width": null,
      "min_height": null,
      "min_width": null,
      "object_fit": null,
      "object_position": null,
      "order": null,
      "overflow": null,
      "overflow_x": null,
      "overflow_y": null,
      "padding": null,
      "right": null,
      "top": null,
      "visibility": null,
      "width": null
     }
    },
    "2fa2fa50590442a08974a0a78fa64923": {
     "model_module": "@jupyter-widgets/controls",
     "model_module_version": "1.5.0",
     "model_name": "HTMLModel",
     "state": {
      "_dom_classes": [],
      "_model_module": "@jupyter-widgets/controls",
      "_model_module_version": "1.5.0",
      "_model_name": "HTMLModel",
      "_view_count": null,
      "_view_module": "@jupyter-widgets/controls",
      "_view_module_version": "1.5.0",
      "_view_name": "HTMLView",
      "description": "",
      "description_tooltip": null,
      "layout": "IPY_MODEL_09f8aaa7d1e84846be242fa01b8a23e8",
      "placeholder": "​",
      "style": "IPY_MODEL_85d6ba27765246998accd687eef53e18",
      "value": " 501M/501M [00:06&lt;00:00, 84.6MB/s]"
     }
    },
    "30584b44722b4a4cb2e996983bc29496": {
     "model_module": "@jupyter-widgets/controls",
     "model_module_version": "1.5.0",
     "model_name": "DescriptionStyleModel",
     "state": {
      "_model_module": "@jupyter-widgets/controls",
      "_model_module_version": "1.5.0",
      "_model_name": "DescriptionStyleModel",
      "_view_count": null,
      "_view_module": "@jupyter-widgets/base",
      "_view_module_version": "1.2.0",
      "_view_name": "StyleView",
      "description_width": ""
     }
    },
    "317b723cc7834f1797c2ef3cb508dd10": {
     "model_module": "@jupyter-widgets/controls",
     "model_module_version": "1.5.0",
     "model_name": "HTMLModel",
     "state": {
      "_dom_classes": [],
      "_model_module": "@jupyter-widgets/controls",
      "_model_module_version": "1.5.0",
      "_model_name": "HTMLModel",
      "_view_count": null,
      "_view_module": "@jupyter-widgets/controls",
      "_view_module_version": "1.5.0",
      "_view_name": "HTMLView",
      "description": "",
      "description_tooltip": null,
      "layout": "IPY_MODEL_8f30649138634ebc9f4c13719b2596ee",
      "placeholder": "​",
      "style": "IPY_MODEL_dae1e8e7a4484953bb63c733c60fbff6",
      "value": "Map: 100%"
     }
    },
    "32bd5bfc53c34ed78494e7b9fedec958": {
     "model_module": "@jupyter-widgets/controls",
     "model_module_version": "1.5.0",
     "model_name": "HTMLModel",
     "state": {
      "_dom_classes": [],
      "_model_module": "@jupyter-widgets/controls",
      "_model_module_version": "1.5.0",
      "_model_name": "HTMLModel",
      "_view_count": null,
      "_view_module": "@jupyter-widgets/controls",
      "_view_module_version": "1.5.0",
      "_view_name": "HTMLView",
      "description": "",
      "description_tooltip": null,
      "layout": "IPY_MODEL_5629450780a14bde8a1ce3a4a8e6ed72",
      "placeholder": "​",
      "style": "IPY_MODEL_61b5ba65c2304a0882348837a520ba22",
      "value": " 1.36M/1.36M [00:01&lt;00:00, 1.22MB/s]"
     }
    },
    "346c21962eff4e72a9b6a217e245fb4c": {
     "model_module": "@jupyter-widgets/base",
     "model_module_version": "1.2.0",
     "model_name": "LayoutModel",
     "state": {
      "_model_module": "@jupyter-widgets/base",
      "_model_module_version": "1.2.0",
      "_model_name": "LayoutModel",
      "_view_count": null,
      "_view_module": "@jupyter-widgets/base",
      "_view_module_version": "1.2.0",
      "_view_name": "LayoutView",
      "align_content": null,
      "align_items": null,
      "align_self": null,
      "border": null,
      "bottom": null,
      "display": null,
      "flex": null,
      "flex_flow": null,
      "grid_area": null,
      "grid_auto_columns": null,
      "grid_auto_flow": null,
      "grid_auto_rows": null,
      "grid_column": null,
      "grid_gap": null,
      "grid_row": null,
      "grid_template_areas": null,
      "grid_template_columns": null,
      "grid_template_rows": null,
      "height": null,
      "justify_content": null,
      "justify_items": null,
      "left": null,
      "margin": null,
      "max_height": null,
      "max_width": null,
      "min_height": null,
      "min_width": null,
      "object_fit": null,
      "object_position": null,
      "order": null,
      "overflow": null,
      "overflow_x": null,
      "overflow_y": null,
      "padding": null,
      "right": null,
      "top": null,
      "visibility": null,
      "width": null
     }
    },
    "34796df9a14f4cc08e1632fbe1ba2b1e": {
     "model_module": "@jupyter-widgets/controls",
     "model_module_version": "1.5.0",
     "model_name": "HBoxModel",
     "state": {
      "_dom_classes": [],
      "_model_module": "@jupyter-widgets/controls",
      "_model_module_version": "1.5.0",
      "_model_name": "HBoxModel",
      "_view_count": null,
      "_view_module": "@jupyter-widgets/controls",
      "_view_module_version": "1.5.0",
      "_view_name": "HBoxView",
      "box_style": "",
      "children": [
       "IPY_MODEL_42dcd21a607a44638880c9c0b87bf904",
       "IPY_MODEL_1d6c87be81bc479d994e5d50e27380af",
       "IPY_MODEL_0eeac14c7710445eb5aa57f3eac642cb"
      ],
      "layout": "IPY_MODEL_473e3976aad9497e81b4d51fab2486ef"
     }
    },
    "364722b04f8b466eabdaa94f49a8595d": {
     "model_module": "@jupyter-widgets/controls",
     "model_module_version": "1.5.0",
     "model_name": "HBoxModel",
     "state": {
      "_dom_classes": [],
      "_model_module": "@jupyter-widgets/controls",
      "_model_module_version": "1.5.0",
      "_model_name": "HBoxModel",
      "_view_count": null,
      "_view_module": "@jupyter-widgets/controls",
      "_view_module_version": "1.5.0",
      "_view_name": "HBoxView",
      "box_style": "",
      "children": [
       "IPY_MODEL_b316be83c0e24b31a36a9edd9224d113",
       "IPY_MODEL_0e862bb43f9a4548a469159997c5020c",
       "IPY_MODEL_ae8c6f8aa5644200a5679b9ef08b7eca"
      ],
      "layout": "IPY_MODEL_4beb8cbffa8444bca48e81e123370bf9"
     }
    },
    "36b95b03fd36454bad31fc0043caf6fb": {
     "model_module": "@jupyter-widgets/controls",
     "model_module_version": "1.5.0",
     "model_name": "DescriptionStyleModel",
     "state": {
      "_model_module": "@jupyter-widgets/controls",
      "_model_module_version": "1.5.0",
      "_model_name": "DescriptionStyleModel",
      "_view_count": null,
      "_view_module": "@jupyter-widgets/base",
      "_view_module_version": "1.2.0",
      "_view_name": "StyleView",
      "description_width": ""
     }
    },
    "391ecda0d0e444b3b904154160dc053e": {
     "model_module": "@jupyter-widgets/base",
     "model_module_version": "1.2.0",
     "model_name": "LayoutModel",
     "state": {
      "_model_module": "@jupyter-widgets/base",
      "_model_module_version": "1.2.0",
      "_model_name": "LayoutModel",
      "_view_count": null,
      "_view_module": "@jupyter-widgets/base",
      "_view_module_version": "1.2.0",
      "_view_name": "LayoutView",
      "align_content": null,
      "align_items": null,
      "align_self": null,
      "border": null,
      "bottom": null,
      "display": null,
      "flex": null,
      "flex_flow": null,
      "grid_area": null,
      "grid_auto_columns": null,
      "grid_auto_flow": null,
      "grid_auto_rows": null,
      "grid_column": null,
      "grid_gap": null,
      "grid_row": null,
      "grid_template_areas": null,
      "grid_template_columns": null,
      "grid_template_rows": null,
      "height": null,
      "justify_content": null,
      "justify_items": null,
      "left": null,
      "margin": null,
      "max_height": null,
      "max_width": null,
      "min_height": null,
      "min_width": null,
      "object_fit": null,
      "object_position": null,
      "order": null,
      "overflow": null,
      "overflow_x": null,
      "overflow_y": null,
      "padding": null,
      "right": null,
      "top": null,
      "visibility": null,
      "width": null
     }
    },
    "3971d7ef1d894017bceb3690102d6233": {
     "model_module": "@jupyter-widgets/base",
     "model_module_version": "1.2.0",
     "model_name": "LayoutModel",
     "state": {
      "_model_module": "@jupyter-widgets/base",
      "_model_module_version": "1.2.0",
      "_model_name": "LayoutModel",
      "_view_count": null,
      "_view_module": "@jupyter-widgets/base",
      "_view_module_version": "1.2.0",
      "_view_name": "LayoutView",
      "align_content": null,
      "align_items": null,
      "align_self": null,
      "border": null,
      "bottom": null,
      "display": null,
      "flex": null,
      "flex_flow": null,
      "grid_area": null,
      "grid_auto_columns": null,
      "grid_auto_flow": null,
      "grid_auto_rows": null,
      "grid_column": null,
      "grid_gap": null,
      "grid_row": null,
      "grid_template_areas": null,
      "grid_template_columns": null,
      "grid_template_rows": null,
      "height": null,
      "justify_content": null,
      "justify_items": null,
      "left": null,
      "margin": null,
      "max_height": null,
      "max_width": null,
      "min_height": null,
      "min_width": null,
      "object_fit": null,
      "object_position": null,
      "order": null,
      "overflow": null,
      "overflow_x": null,
      "overflow_y": null,
      "padding": null,
      "right": null,
      "top": null,
      "visibility": null,
      "width": null
     }
    },
    "3a646e7396b94ad5bf33ae44016db51d": {
     "model_module": "@jupyter-widgets/controls",
     "model_module_version": "1.5.0",
     "model_name": "DescriptionStyleModel",
     "state": {
      "_model_module": "@jupyter-widgets/controls",
      "_model_module_version": "1.5.0",
      "_model_name": "DescriptionStyleModel",
      "_view_count": null,
      "_view_module": "@jupyter-widgets/base",
      "_view_module_version": "1.2.0",
      "_view_name": "StyleView",
      "description_width": ""
     }
    },
    "3a80ca6fece04131a5dec12284781cbb": {
     "model_module": "@jupyter-widgets/base",
     "model_module_version": "1.2.0",
     "model_name": "LayoutModel",
     "state": {
      "_model_module": "@jupyter-widgets/base",
      "_model_module_version": "1.2.0",
      "_model_name": "LayoutModel",
      "_view_count": null,
      "_view_module": "@jupyter-widgets/base",
      "_view_module_version": "1.2.0",
      "_view_name": "LayoutView",
      "align_content": null,
      "align_items": null,
      "align_self": null,
      "border": null,
      "bottom": null,
      "display": null,
      "flex": null,
      "flex_flow": null,
      "grid_area": null,
      "grid_auto_columns": null,
      "grid_auto_flow": null,
      "grid_auto_rows": null,
      "grid_column": null,
      "grid_gap": null,
      "grid_row": null,
      "grid_template_areas": null,
      "grid_template_columns": null,
      "grid_template_rows": null,
      "height": null,
      "justify_content": null,
      "justify_items": null,
      "left": null,
      "margin": null,
      "max_height": null,
      "max_width": null,
      "min_height": null,
      "min_width": null,
      "object_fit": null,
      "object_position": null,
      "order": null,
      "overflow": null,
      "overflow_x": null,
      "overflow_y": null,
      "padding": null,
      "right": null,
      "top": null,
      "visibility": null,
      "width": null
     }
    },
    "3d3179a79f094fe2827eb5885e922a5c": {
     "model_module": "@jupyter-widgets/controls",
     "model_module_version": "1.5.0",
     "model_name": "HBoxModel",
     "state": {
      "_dom_classes": [],
      "_model_module": "@jupyter-widgets/controls",
      "_model_module_version": "1.5.0",
      "_model_name": "HBoxModel",
      "_view_count": null,
      "_view_module": "@jupyter-widgets/controls",
      "_view_module_version": "1.5.0",
      "_view_name": "HBoxView",
      "box_style": "",
      "children": [
       "IPY_MODEL_279204dd5d2f40238be95be79d7226a5",
       "IPY_MODEL_fed023cab1af42ca8d5102d6f093ea75",
       "IPY_MODEL_2c04f372e5934ca2a5471ef6cb366daf"
      ],
      "layout": "IPY_MODEL_ee021ddd1bdf408699d2abf2629d3cd9"
     }
    },
    "3d78f479453b410c9b821d20068828c2": {
     "model_module": "@jupyter-widgets/base",
     "model_module_version": "1.2.0",
     "model_name": "LayoutModel",
     "state": {
      "_model_module": "@jupyter-widgets/base",
      "_model_module_version": "1.2.0",
      "_model_name": "LayoutModel",
      "_view_count": null,
      "_view_module": "@jupyter-widgets/base",
      "_view_module_version": "1.2.0",
      "_view_name": "LayoutView",
      "align_content": null,
      "align_items": null,
      "align_self": null,
      "border": null,
      "bottom": null,
      "display": null,
      "flex": null,
      "flex_flow": null,
      "grid_area": null,
      "grid_auto_columns": null,
      "grid_auto_flow": null,
      "grid_auto_rows": null,
      "grid_column": null,
      "grid_gap": null,
      "grid_row": null,
      "grid_template_areas": null,
      "grid_template_columns": null,
      "grid_template_rows": null,
      "height": null,
      "justify_content": null,
      "justify_items": null,
      "left": null,
      "margin": null,
      "max_height": null,
      "max_width": null,
      "min_height": null,
      "min_width": null,
      "object_fit": null,
      "object_position": null,
      "order": null,
      "overflow": null,
      "overflow_x": null,
      "overflow_y": null,
      "padding": null,
      "right": null,
      "top": null,
      "visibility": null,
      "width": null
     }
    },
    "3eaaa98d64bf4af7beac57d3210c6e81": {
     "model_module": "@jupyter-widgets/base",
     "model_module_version": "1.2.0",
     "model_name": "LayoutModel",
     "state": {
      "_model_module": "@jupyter-widgets/base",
      "_model_module_version": "1.2.0",
      "_model_name": "LayoutModel",
      "_view_count": null,
      "_view_module": "@jupyter-widgets/base",
      "_view_module_version": "1.2.0",
      "_view_name": "LayoutView",
      "align_content": null,
      "align_items": null,
      "align_self": null,
      "border": null,
      "bottom": null,
      "display": null,
      "flex": null,
      "flex_flow": null,
      "grid_area": null,
      "grid_auto_columns": null,
      "grid_auto_flow": null,
      "grid_auto_rows": null,
      "grid_column": null,
      "grid_gap": null,
      "grid_row": null,
      "grid_template_areas": null,
      "grid_template_columns": null,
      "grid_template_rows": null,
      "height": null,
      "justify_content": null,
      "justify_items": null,
      "left": null,
      "margin": null,
      "max_height": null,
      "max_width": null,
      "min_height": null,
      "min_width": null,
      "object_fit": null,
      "object_position": null,
      "order": null,
      "overflow": null,
      "overflow_x": null,
      "overflow_y": null,
      "padding": null,
      "right": null,
      "top": null,
      "visibility": null,
      "width": null
     }
    },
    "4138874282b94fcd8678e15f95eec64c": {
     "model_module": "@jupyter-widgets/controls",
     "model_module_version": "1.5.0",
     "model_name": "FloatProgressModel",
     "state": {
      "_dom_classes": [],
      "_model_module": "@jupyter-widgets/controls",
      "_model_module_version": "1.5.0",
      "_model_name": "FloatProgressModel",
      "_view_count": null,
      "_view_module": "@jupyter-widgets/controls",
      "_view_module_version": "1.5.0",
      "_view_name": "ProgressView",
      "bar_style": "",
      "description": "",
      "description_tooltip": null,
      "layout": "IPY_MODEL_3a80ca6fece04131a5dec12284781cbb",
      "max": 1817,
      "min": 0,
      "orientation": "horizontal",
      "style": "IPY_MODEL_76d781675d544ab796c4a2c39499c276",
      "value": 1817
     }
    },
    "41f4cbb981414247999abf16dce26b16": {
     "model_module": "@jupyter-widgets/base",
     "model_module_version": "1.2.0",
     "model_name": "LayoutModel",
     "state": {
      "_model_module": "@jupyter-widgets/base",
      "_model_module_version": "1.2.0",
      "_model_name": "LayoutModel",
      "_view_count": null,
      "_view_module": "@jupyter-widgets/base",
      "_view_module_version": "1.2.0",
      "_view_name": "LayoutView",
      "align_content": null,
      "align_items": null,
      "align_self": null,
      "border": null,
      "bottom": null,
      "display": null,
      "flex": null,
      "flex_flow": null,
      "grid_area": null,
      "grid_auto_columns": null,
      "grid_auto_flow": null,
      "grid_auto_rows": null,
      "grid_column": null,
      "grid_gap": null,
      "grid_row": null,
      "grid_template_areas": null,
      "grid_template_columns": null,
      "grid_template_rows": null,
      "height": null,
      "justify_content": null,
      "justify_items": null,
      "left": null,
      "margin": null,
      "max_height": null,
      "max_width": null,
      "min_height": null,
      "min_width": null,
      "object_fit": null,
      "object_position": null,
      "order": null,
      "overflow": null,
      "overflow_x": null,
      "overflow_y": null,
      "padding": null,
      "right": null,
      "top": null,
      "visibility": null,
      "width": null
     }
    },
    "42dcd21a607a44638880c9c0b87bf904": {
     "model_module": "@jupyter-widgets/controls",
     "model_module_version": "1.5.0",
     "model_name": "HTMLModel",
     "state": {
      "_dom_classes": [],
      "_model_module": "@jupyter-widgets/controls",
      "_model_module_version": "1.5.0",
      "_model_name": "HTMLModel",
      "_view_count": null,
      "_view_module": "@jupyter-widgets/controls",
      "_view_module_version": "1.5.0",
      "_view_name": "HTMLView",
      "description": "",
      "description_tooltip": null,
      "layout": "IPY_MODEL_9921c1f7fcc8448a9f3ec7ea90bb9c8d",
      "placeholder": "​",
      "style": "IPY_MODEL_36b95b03fd36454bad31fc0043caf6fb",
      "value": "Map: 100%"
     }
    },
    "46700967a8e44488b348bb0391743e0b": {
     "model_module": "@jupyter-widgets/controls",
     "model_module_version": "1.5.0",
     "model_name": "HTMLModel",
     "state": {
      "_dom_classes": [],
      "_model_module": "@jupyter-widgets/controls",
      "_model_module_version": "1.5.0",
      "_model_name": "HTMLModel",
      "_view_count": null,
      "_view_module": "@jupyter-widgets/controls",
      "_view_module_version": "1.5.0",
      "_view_name": "HTMLView",
      "description": "",
      "description_tooltip": null,
      "layout": "IPY_MODEL_1929e1d028f64d3c984ab740618ca9da",
      "placeholder": "​",
      "style": "IPY_MODEL_13eb7fe7d6fb4e49a4641defcfd169f7",
      "value": " 1817/1817 [00:01&lt;00:00, 941.81 examples/s]"
     }
    },
    "473e3976aad9497e81b4d51fab2486ef": {
     "model_module": "@jupyter-widgets/base",
     "model_module_version": "1.2.0",
     "model_name": "LayoutModel",
     "state": {
      "_model_module": "@jupyter-widgets/base",
      "_model_module_version": "1.2.0",
      "_model_name": "LayoutModel",
      "_view_count": null,
      "_view_module": "@jupyter-widgets/base",
      "_view_module_version": "1.2.0",
      "_view_name": "LayoutView",
      "align_content": null,
      "align_items": null,
      "align_self": null,
      "border": null,
      "bottom": null,
      "display": null,
      "flex": null,
      "flex_flow": null,
      "grid_area": null,
      "grid_auto_columns": null,
      "grid_auto_flow": null,
      "grid_auto_rows": null,
      "grid_column": null,
      "grid_gap": null,
      "grid_row": null,
      "grid_template_areas": null,
      "grid_template_columns": null,
      "grid_template_rows": null,
      "height": null,
      "justify_content": null,
      "justify_items": null,
      "left": null,
      "margin": null,
      "max_height": null,
      "max_width": null,
      "min_height": null,
      "min_width": null,
      "object_fit": null,
      "object_position": null,
      "order": null,
      "overflow": null,
      "overflow_x": null,
      "overflow_y": null,
      "padding": null,
      "right": null,
      "top": null,
      "visibility": "hidden",
      "width": null
     }
    },
    "48d577de63ca4c9b88b002fffd267baf": {
     "model_module": "@jupyter-widgets/controls",
     "model_module_version": "1.5.0",
     "model_name": "HBoxModel",
     "state": {
      "_dom_classes": [],
      "_model_module": "@jupyter-widgets/controls",
      "_model_module_version": "1.5.0",
      "_model_name": "HBoxModel",
      "_view_count": null,
      "_view_module": "@jupyter-widgets/controls",
      "_view_module_version": "1.5.0",
      "_view_name": "HBoxView",
      "box_style": "",
      "children": [
       "IPY_MODEL_c9510d68214344b6b53ab5b558d9aadd",
       "IPY_MODEL_fe60ba67a8bd43fcad88a5a09ed6b566",
       "IPY_MODEL_927472d461a14c1caa562f3db9ad9206"
      ],
      "layout": "IPY_MODEL_ab20fdb62b4547719ceab4d5acc92ef4"
     }
    },
    "494c50b0e10747cc966a00dca3f74a1b": {
     "model_module": "@jupyter-widgets/controls",
     "model_module_version": "1.5.0",
     "model_name": "DescriptionStyleModel",
     "state": {
      "_model_module": "@jupyter-widgets/controls",
      "_model_module_version": "1.5.0",
      "_model_name": "DescriptionStyleModel",
      "_view_count": null,
      "_view_module": "@jupyter-widgets/base",
      "_view_module_version": "1.2.0",
      "_view_name": "StyleView",
      "description_width": ""
     }
    },
    "4beb8cbffa8444bca48e81e123370bf9": {
     "model_module": "@jupyter-widgets/base",
     "model_module_version": "1.2.0",
     "model_name": "LayoutModel",
     "state": {
      "_model_module": "@jupyter-widgets/base",
      "_model_module_version": "1.2.0",
      "_model_name": "LayoutModel",
      "_view_count": null,
      "_view_module": "@jupyter-widgets/base",
      "_view_module_version": "1.2.0",
      "_view_name": "LayoutView",
      "align_content": null,
      "align_items": null,
      "align_self": null,
      "border": null,
      "bottom": null,
      "display": null,
      "flex": null,
      "flex_flow": null,
      "grid_area": null,
      "grid_auto_columns": null,
      "grid_auto_flow": null,
      "grid_auto_rows": null,
      "grid_column": null,
      "grid_gap": null,
      "grid_row": null,
      "grid_template_areas": null,
      "grid_template_columns": null,
      "grid_template_rows": null,
      "height": null,
      "justify_content": null,
      "justify_items": null,
      "left": null,
      "margin": null,
      "max_height": null,
      "max_width": null,
      "min_height": null,
      "min_width": null,
      "object_fit": null,
      "object_position": null,
      "order": null,
      "overflow": null,
      "overflow_x": null,
      "overflow_y": null,
      "padding": null,
      "right": null,
      "top": null,
      "visibility": "hidden",
      "width": null
     }
    },
    "4ce0b756e99a4f9d8c9dc5c8232e1260": {
     "model_module": "@jupyter-widgets/controls",
     "model_module_version": "1.5.0",
     "model_name": "ProgressStyleModel",
     "state": {
      "_model_module": "@jupyter-widgets/controls",
      "_model_module_version": "1.5.0",
      "_model_name": "ProgressStyleModel",
      "_view_count": null,
      "_view_module": "@jupyter-widgets/base",
      "_view_module_version": "1.2.0",
      "_view_name": "StyleView",
      "bar_color": null,
      "description_width": ""
     }
    },
    "4dc51ae8dcaa413cb1f70e2464fbbe61": {
     "model_module": "@jupyter-widgets/base",
     "model_module_version": "1.2.0",
     "model_name": "LayoutModel",
     "state": {
      "_model_module": "@jupyter-widgets/base",
      "_model_module_version": "1.2.0",
      "_model_name": "LayoutModel",
      "_view_count": null,
      "_view_module": "@jupyter-widgets/base",
      "_view_module_version": "1.2.0",
      "_view_name": "LayoutView",
      "align_content": null,
      "align_items": null,
      "align_self": null,
      "border": null,
      "bottom": null,
      "display": null,
      "flex": null,
      "flex_flow": null,
      "grid_area": null,
      "grid_auto_columns": null,
      "grid_auto_flow": null,
      "grid_auto_rows": null,
      "grid_column": null,
      "grid_gap": null,
      "grid_row": null,
      "grid_template_areas": null,
      "grid_template_columns": null,
      "grid_template_rows": null,
      "height": null,
      "justify_content": null,
      "justify_items": null,
      "left": null,
      "margin": null,
      "max_height": null,
      "max_width": null,
      "min_height": null,
      "min_width": null,
      "object_fit": null,
      "object_position": null,
      "order": null,
      "overflow": null,
      "overflow_x": null,
      "overflow_y": null,
      "padding": null,
      "right": null,
      "top": null,
      "visibility": null,
      "width": null
     }
    },
    "52db0131a0a246be8cccbf2418a99022": {
     "model_module": "@jupyter-widgets/controls",
     "model_module_version": "1.5.0",
     "model_name": "DescriptionStyleModel",
     "state": {
      "_model_module": "@jupyter-widgets/controls",
      "_model_module_version": "1.5.0",
      "_model_name": "DescriptionStyleModel",
      "_view_count": null,
      "_view_module": "@jupyter-widgets/base",
      "_view_module_version": "1.2.0",
      "_view_name": "StyleView",
      "description_width": ""
     }
    },
    "543fc9152f8d47968f7cdb56e56a03ba": {
     "model_module": "@jupyter-widgets/base",
     "model_module_version": "1.2.0",
     "model_name": "LayoutModel",
     "state": {
      "_model_module": "@jupyter-widgets/base",
      "_model_module_version": "1.2.0",
      "_model_name": "LayoutModel",
      "_view_count": null,
      "_view_module": "@jupyter-widgets/base",
      "_view_module_version": "1.2.0",
      "_view_name": "LayoutView",
      "align_content": null,
      "align_items": null,
      "align_self": null,
      "border": null,
      "bottom": null,
      "display": null,
      "flex": null,
      "flex_flow": null,
      "grid_area": null,
      "grid_auto_columns": null,
      "grid_auto_flow": null,
      "grid_auto_rows": null,
      "grid_column": null,
      "grid_gap": null,
      "grid_row": null,
      "grid_template_areas": null,
      "grid_template_columns": null,
      "grid_template_rows": null,
      "height": null,
      "justify_content": null,
      "justify_items": null,
      "left": null,
      "margin": null,
      "max_height": null,
      "max_width": null,
      "min_height": null,
      "min_width": null,
      "object_fit": null,
      "object_position": null,
      "order": null,
      "overflow": null,
      "overflow_x": null,
      "overflow_y": null,
      "padding": null,
      "right": null,
      "top": null,
      "visibility": null,
      "width": null
     }
    },
    "55162aee39104585970037c798d6871f": {
     "model_module": "@jupyter-widgets/controls",
     "model_module_version": "1.5.0",
     "model_name": "HTMLModel",
     "state": {
      "_dom_classes": [],
      "_model_module": "@jupyter-widgets/controls",
      "_model_module_version": "1.5.0",
      "_model_name": "HTMLModel",
      "_view_count": null,
      "_view_module": "@jupyter-widgets/controls",
      "_view_module_version": "1.5.0",
      "_view_name": "HTMLView",
      "description": "",
      "description_tooltip": null,
      "layout": "IPY_MODEL_d465478c22434feb96a10f10eeb674f8",
      "placeholder": "​",
      "style": "IPY_MODEL_1a353e96db004287850517161ad5c0ab",
      "value": " 899k/899k [00:01&lt;00:00, 796kB/s]"
     }
    },
    "560f81913ba04b1cbf3680c1ef5e8f2f": {
     "model_module": "@jupyter-widgets/base",
     "model_module_version": "1.2.0",
     "model_name": "LayoutModel",
     "state": {
      "_model_module": "@jupyter-widgets/base",
      "_model_module_version": "1.2.0",
      "_model_name": "LayoutModel",
      "_view_count": null,
      "_view_module": "@jupyter-widgets/base",
      "_view_module_version": "1.2.0",
      "_view_name": "LayoutView",
      "align_content": null,
      "align_items": null,
      "align_self": null,
      "border": null,
      "bottom": null,
      "display": null,
      "flex": null,
      "flex_flow": null,
      "grid_area": null,
      "grid_auto_columns": null,
      "grid_auto_flow": null,
      "grid_auto_rows": null,
      "grid_column": null,
      "grid_gap": null,
      "grid_row": null,
      "grid_template_areas": null,
      "grid_template_columns": null,
      "grid_template_rows": null,
      "height": null,
      "justify_content": null,
      "justify_items": null,
      "left": null,
      "margin": null,
      "max_height": null,
      "max_width": null,
      "min_height": null,
      "min_width": null,
      "object_fit": null,
      "object_position": null,
      "order": null,
      "overflow": null,
      "overflow_x": null,
      "overflow_y": null,
      "padding": null,
      "right": null,
      "top": null,
      "visibility": "hidden",
      "width": null
     }
    },
    "5629450780a14bde8a1ce3a4a8e6ed72": {
     "model_module": "@jupyter-widgets/base",
     "model_module_version": "1.2.0",
     "model_name": "LayoutModel",
     "state": {
      "_model_module": "@jupyter-widgets/base",
      "_model_module_version": "1.2.0",
      "_model_name": "LayoutModel",
      "_view_count": null,
      "_view_module": "@jupyter-widgets/base",
      "_view_module_version": "1.2.0",
      "_view_name": "LayoutView",
      "align_content": null,
      "align_items": null,
      "align_self": null,
      "border": null,
      "bottom": null,
      "display": null,
      "flex": null,
      "flex_flow": null,
      "grid_area": null,
      "grid_auto_columns": null,
      "grid_auto_flow": null,
      "grid_auto_rows": null,
      "grid_column": null,
      "grid_gap": null,
      "grid_row": null,
      "grid_template_areas": null,
      "grid_template_columns": null,
      "grid_template_rows": null,
      "height": null,
      "justify_content": null,
      "justify_items": null,
      "left": null,
      "margin": null,
      "max_height": null,
      "max_width": null,
      "min_height": null,
      "min_width": null,
      "object_fit": null,
      "object_position": null,
      "order": null,
      "overflow": null,
      "overflow_x": null,
      "overflow_y": null,
      "padding": null,
      "right": null,
      "top": null,
      "visibility": null,
      "width": null
     }
    },
    "563886019b3846b7b5d650611c6282a7": {
     "model_module": "@jupyter-widgets/base",
     "model_module_version": "1.2.0",
     "model_name": "LayoutModel",
     "state": {
      "_model_module": "@jupyter-widgets/base",
      "_model_module_version": "1.2.0",
      "_model_name": "LayoutModel",
      "_view_count": null,
      "_view_module": "@jupyter-widgets/base",
      "_view_module_version": "1.2.0",
      "_view_name": "LayoutView",
      "align_content": null,
      "align_items": null,
      "align_self": null,
      "border": null,
      "bottom": null,
      "display": null,
      "flex": null,
      "flex_flow": null,
      "grid_area": null,
      "grid_auto_columns": null,
      "grid_auto_flow": null,
      "grid_auto_rows": null,
      "grid_column": null,
      "grid_gap": null,
      "grid_row": null,
      "grid_template_areas": null,
      "grid_template_columns": null,
      "grid_template_rows": null,
      "height": null,
      "justify_content": null,
      "justify_items": null,
      "left": null,
      "margin": null,
      "max_height": null,
      "max_width": null,
      "min_height": null,
      "min_width": null,
      "object_fit": null,
      "object_position": null,
      "order": null,
      "overflow": null,
      "overflow_x": null,
      "overflow_y": null,
      "padding": null,
      "right": null,
      "top": null,
      "visibility": null,
      "width": null
     }
    },
    "582755135add425eb9f9a38cbddaa6c3": {
     "model_module": "@jupyter-widgets/base",
     "model_module_version": "1.2.0",
     "model_name": "LayoutModel",
     "state": {
      "_model_module": "@jupyter-widgets/base",
      "_model_module_version": "1.2.0",
      "_model_name": "LayoutModel",
      "_view_count": null,
      "_view_module": "@jupyter-widgets/base",
      "_view_module_version": "1.2.0",
      "_view_name": "LayoutView",
      "align_content": null,
      "align_items": null,
      "align_self": null,
      "border": null,
      "bottom": null,
      "display": null,
      "flex": null,
      "flex_flow": null,
      "grid_area": null,
      "grid_auto_columns": null,
      "grid_auto_flow": null,
      "grid_auto_rows": null,
      "grid_column": null,
      "grid_gap": null,
      "grid_row": null,
      "grid_template_areas": null,
      "grid_template_columns": null,
      "grid_template_rows": null,
      "height": null,
      "justify_content": null,
      "justify_items": null,
      "left": null,
      "margin": null,
      "max_height": null,
      "max_width": null,
      "min_height": null,
      "min_width": null,
      "object_fit": null,
      "object_position": null,
      "order": null,
      "overflow": null,
      "overflow_x": null,
      "overflow_y": null,
      "padding": null,
      "right": null,
      "top": null,
      "visibility": null,
      "width": null
     }
    },
    "58e14198f4af4ae4b5b4edc5e48f0db7": {
     "model_module": "@jupyter-widgets/base",
     "model_module_version": "1.2.0",
     "model_name": "LayoutModel",
     "state": {
      "_model_module": "@jupyter-widgets/base",
      "_model_module_version": "1.2.0",
      "_model_name": "LayoutModel",
      "_view_count": null,
      "_view_module": "@jupyter-widgets/base",
      "_view_module_version": "1.2.0",
      "_view_name": "LayoutView",
      "align_content": null,
      "align_items": null,
      "align_self": null,
      "border": null,
      "bottom": null,
      "display": null,
      "flex": null,
      "flex_flow": null,
      "grid_area": null,
      "grid_auto_columns": null,
      "grid_auto_flow": null,
      "grid_auto_rows": null,
      "grid_column": null,
      "grid_gap": null,
      "grid_row": null,
      "grid_template_areas": null,
      "grid_template_columns": null,
      "grid_template_rows": null,
      "height": null,
      "justify_content": null,
      "justify_items": null,
      "left": null,
      "margin": null,
      "max_height": null,
      "max_width": null,
      "min_height": null,
      "min_width": null,
      "object_fit": null,
      "object_position": null,
      "order": null,
      "overflow": null,
      "overflow_x": null,
      "overflow_y": null,
      "padding": null,
      "right": null,
      "top": null,
      "visibility": null,
      "width": null
     }
    },
    "5b68d73644b444f2824788f9f3471a89": {
     "model_module": "@jupyter-widgets/base",
     "model_module_version": "1.2.0",
     "model_name": "LayoutModel",
     "state": {
      "_model_module": "@jupyter-widgets/base",
      "_model_module_version": "1.2.0",
      "_model_name": "LayoutModel",
      "_view_count": null,
      "_view_module": "@jupyter-widgets/base",
      "_view_module_version": "1.2.0",
      "_view_name": "LayoutView",
      "align_content": null,
      "align_items": null,
      "align_self": null,
      "border": null,
      "bottom": null,
      "display": null,
      "flex": null,
      "flex_flow": null,
      "grid_area": null,
      "grid_auto_columns": null,
      "grid_auto_flow": null,
      "grid_auto_rows": null,
      "grid_column": null,
      "grid_gap": null,
      "grid_row": null,
      "grid_template_areas": null,
      "grid_template_columns": null,
      "grid_template_rows": null,
      "height": null,
      "justify_content": null,
      "justify_items": null,
      "left": null,
      "margin": null,
      "max_height": null,
      "max_width": null,
      "min_height": null,
      "min_width": null,
      "object_fit": null,
      "object_position": null,
      "order": null,
      "overflow": null,
      "overflow_x": null,
      "overflow_y": null,
      "padding": null,
      "right": null,
      "top": null,
      "visibility": "hidden",
      "width": null
     }
    },
    "5c6a5e725df14f6295e80e8d827125cc": {
     "model_module": "@jupyter-widgets/controls",
     "model_module_version": "1.5.0",
     "model_name": "DescriptionStyleModel",
     "state": {
      "_model_module": "@jupyter-widgets/controls",
      "_model_module_version": "1.5.0",
      "_model_name": "DescriptionStyleModel",
      "_view_count": null,
      "_view_module": "@jupyter-widgets/base",
      "_view_module_version": "1.2.0",
      "_view_name": "StyleView",
      "description_width": ""
     }
    },
    "5e9906696f98487498073d48cb45873b": {
     "model_module": "@jupyter-widgets/controls",
     "model_module_version": "1.5.0",
     "model_name": "HTMLModel",
     "state": {
      "_dom_classes": [],
      "_model_module": "@jupyter-widgets/controls",
      "_model_module_version": "1.5.0",
      "_model_name": "HTMLModel",
      "_view_count": null,
      "_view_module": "@jupyter-widgets/controls",
      "_view_module_version": "1.5.0",
      "_view_name": "HTMLView",
      "description": "",
      "description_tooltip": null,
      "layout": "IPY_MODEL_81bb92f43b274db09c1d10b1e5a0d00a",
      "placeholder": "​",
      "style": "IPY_MODEL_30584b44722b4a4cb2e996983bc29496",
      "value": " 1817/1817 [00:00&lt;00:00, 2869.34 examples/s]"
     }
    },
    "5fd09f3afe174e94ace48e5492017430": {
     "model_module": "@jupyter-widgets/base",
     "model_module_version": "1.2.0",
     "model_name": "LayoutModel",
     "state": {
      "_model_module": "@jupyter-widgets/base",
      "_model_module_version": "1.2.0",
      "_model_name": "LayoutModel",
      "_view_count": null,
      "_view_module": "@jupyter-widgets/base",
      "_view_module_version": "1.2.0",
      "_view_name": "LayoutView",
      "align_content": null,
      "align_items": null,
      "align_self": null,
      "border": null,
      "bottom": null,
      "display": null,
      "flex": null,
      "flex_flow": null,
      "grid_area": null,
      "grid_auto_columns": null,
      "grid_auto_flow": null,
      "grid_auto_rows": null,
      "grid_column": null,
      "grid_gap": null,
      "grid_row": null,
      "grid_template_areas": null,
      "grid_template_columns": null,
      "grid_template_rows": null,
      "height": null,
      "justify_content": null,
      "justify_items": null,
      "left": null,
      "margin": null,
      "max_height": null,
      "max_width": null,
      "min_height": null,
      "min_width": null,
      "object_fit": null,
      "object_position": null,
      "order": null,
      "overflow": null,
      "overflow_x": null,
      "overflow_y": null,
      "padding": null,
      "right": null,
      "top": null,
      "visibility": null,
      "width": null
     }
    },
    "5ff66c2254be4c85bdbe4d23452a95f3": {
     "model_module": "@jupyter-widgets/controls",
     "model_module_version": "1.5.0",
     "model_name": "DescriptionStyleModel",
     "state": {
      "_model_module": "@jupyter-widgets/controls",
      "_model_module_version": "1.5.0",
      "_model_name": "DescriptionStyleModel",
      "_view_count": null,
      "_view_module": "@jupyter-widgets/base",
      "_view_module_version": "1.2.0",
      "_view_name": "StyleView",
      "description_width": ""
     }
    },
    "61b5ba65c2304a0882348837a520ba22": {
     "model_module": "@jupyter-widgets/controls",
     "model_module_version": "1.5.0",
     "model_name": "DescriptionStyleModel",
     "state": {
      "_model_module": "@jupyter-widgets/controls",
      "_model_module_version": "1.5.0",
      "_model_name": "DescriptionStyleModel",
      "_view_count": null,
      "_view_module": "@jupyter-widgets/base",
      "_view_module_version": "1.2.0",
      "_view_name": "StyleView",
      "description_width": ""
     }
    },
    "650da5b524624d21bdaf07ffcffb65a1": {
     "model_module": "@jupyter-widgets/controls",
     "model_module_version": "1.5.0",
     "model_name": "ProgressStyleModel",
     "state": {
      "_model_module": "@jupyter-widgets/controls",
      "_model_module_version": "1.5.0",
      "_model_name": "ProgressStyleModel",
      "_view_count": null,
      "_view_module": "@jupyter-widgets/base",
      "_view_module_version": "1.2.0",
      "_view_name": "StyleView",
      "bar_color": null,
      "description_width": ""
     }
    },
    "657edb49a4e4424391fda2b0019f1159": {
     "model_module": "@jupyter-widgets/controls",
     "model_module_version": "1.5.0",
     "model_name": "DescriptionStyleModel",
     "state": {
      "_model_module": "@jupyter-widgets/controls",
      "_model_module_version": "1.5.0",
      "_model_name": "DescriptionStyleModel",
      "_view_count": null,
      "_view_module": "@jupyter-widgets/base",
      "_view_module_version": "1.2.0",
      "_view_name": "StyleView",
      "description_width": ""
     }
    },
    "6779846fa768479188d483c49fbaa8aa": {
     "model_module": "@jupyter-widgets/controls",
     "model_module_version": "1.5.0",
     "model_name": "HTMLModel",
     "state": {
      "_dom_classes": [],
      "_model_module": "@jupyter-widgets/controls",
      "_model_module_version": "1.5.0",
      "_model_name": "HTMLModel",
      "_view_count": null,
      "_view_module": "@jupyter-widgets/controls",
      "_view_module_version": "1.5.0",
      "_view_name": "HTMLView",
      "description": "",
      "description_tooltip": null,
      "layout": "IPY_MODEL_ef2f589026f141b7bbf18cffde59a651",
      "placeholder": "​",
      "style": "IPY_MODEL_067fc583d90641eb9c2061353641b96d",
      "value": "Map: 100%"
     }
    },
    "692077fbf12a4ee8bd5307a6e262bf99": {
     "model_module": "@jupyter-widgets/controls",
     "model_module_version": "1.5.0",
     "model_name": "HTMLModel",
     "state": {
      "_dom_classes": [],
      "_model_module": "@jupyter-widgets/controls",
      "_model_module_version": "1.5.0",
      "_model_name": "HTMLModel",
      "_view_count": null,
      "_view_module": "@jupyter-widgets/controls",
      "_view_module_version": "1.5.0",
      "_view_name": "HTMLView",
      "description": "",
      "description_tooltip": null,
      "layout": "IPY_MODEL_828e660905c44e5ab7d8472947dec5b1",
      "placeholder": "​",
      "style": "IPY_MODEL_87d2c14459e9415f8bcfae89c6a3a029",
      "value": " 1817/1817 [00:01&lt;00:00, 1548.60 examples/s]"
     }
    },
    "6963447e78bc45499208e13af9026e71": {
     "model_module": "@jupyter-widgets/controls",
     "model_module_version": "1.5.0",
     "model_name": "DescriptionStyleModel",
     "state": {
      "_model_module": "@jupyter-widgets/controls",
      "_model_module_version": "1.5.0",
      "_model_name": "DescriptionStyleModel",
      "_view_count": null,
      "_view_module": "@jupyter-widgets/base",
      "_view_module_version": "1.2.0",
      "_view_name": "StyleView",
      "description_width": ""
     }
    },
    "69fc8891cc3c4eb0a3bd73c1e0a73667": {
     "model_module": "@jupyter-widgets/controls",
     "model_module_version": "1.5.0",
     "model_name": "HTMLModel",
     "state": {
      "_dom_classes": [],
      "_model_module": "@jupyter-widgets/controls",
      "_model_module_version": "1.5.0",
      "_model_name": "HTMLModel",
      "_view_count": null,
      "_view_module": "@jupyter-widgets/controls",
      "_view_module_version": "1.5.0",
      "_view_name": "HTMLView",
      "description": "",
      "description_tooltip": null,
      "layout": "IPY_MODEL_980cab7e423c4db380ed9520a9227ef9",
      "placeholder": "​",
      "style": "IPY_MODEL_3a646e7396b94ad5bf33ae44016db51d",
      "value": " 1817/1817 [00:04&lt;00:00, 415.20 examples/s]"
     }
    },
    "6bb12a43804243b6be790a2652bff67d": {
     "model_module": "@jupyter-widgets/controls",
     "model_module_version": "1.5.0",
     "model_name": "HTMLModel",
     "state": {
      "_dom_classes": [],
      "_model_module": "@jupyter-widgets/controls",
      "_model_module_version": "1.5.0",
      "_model_name": "HTMLModel",
      "_view_count": null,
      "_view_module": "@jupyter-widgets/controls",
      "_view_module_version": "1.5.0",
      "_view_name": "HTMLView",
      "description": "",
      "description_tooltip": null,
      "layout": "IPY_MODEL_543fc9152f8d47968f7cdb56e56a03ba",
      "placeholder": "​",
      "style": "IPY_MODEL_7a889e1d0342436e963dffb0f3aa8932",
      "value": "Map: 100%"
     }
    },
    "6e2bde04926046b19b2d546b8a59ffd1": {
     "model_module": "@jupyter-widgets/base",
     "model_module_version": "1.2.0",
     "model_name": "LayoutModel",
     "state": {
      "_model_module": "@jupyter-widgets/base",
      "_model_module_version": "1.2.0",
      "_model_name": "LayoutModel",
      "_view_count": null,
      "_view_module": "@jupyter-widgets/base",
      "_view_module_version": "1.2.0",
      "_view_name": "LayoutView",
      "align_content": null,
      "align_items": null,
      "align_self": null,
      "border": null,
      "bottom": null,
      "display": null,
      "flex": null,
      "flex_flow": null,
      "grid_area": null,
      "grid_auto_columns": null,
      "grid_auto_flow": null,
      "grid_auto_rows": null,
      "grid_column": null,
      "grid_gap": null,
      "grid_row": null,
      "grid_template_areas": null,
      "grid_template_columns": null,
      "grid_template_rows": null,
      "height": null,
      "justify_content": null,
      "justify_items": null,
      "left": null,
      "margin": null,
      "max_height": null,
      "max_width": null,
      "min_height": null,
      "min_width": null,
      "object_fit": null,
      "object_position": null,
      "order": null,
      "overflow": null,
      "overflow_x": null,
      "overflow_y": null,
      "padding": null,
      "right": null,
      "top": null,
      "visibility": null,
      "width": null
     }
    },
    "6f3927d3062b465591d58a83e822bb6e": {
     "model_module": "@jupyter-widgets/controls",
     "model_module_version": "1.5.0",
     "model_name": "HBoxModel",
     "state": {
      "_dom_classes": [],
      "_model_module": "@jupyter-widgets/controls",
      "_model_module_version": "1.5.0",
      "_model_name": "HBoxModel",
      "_view_count": null,
      "_view_module": "@jupyter-widgets/controls",
      "_view_module_version": "1.5.0",
      "_view_name": "HBoxView",
      "box_style": "",
      "children": [
       "IPY_MODEL_0781101fac2a4bd1b617c5f06a013eea",
       "IPY_MODEL_7fb7031bb42d475892edb9389248de3a",
       "IPY_MODEL_55162aee39104585970037c798d6871f"
      ],
      "layout": "IPY_MODEL_0fedfbd17b9544d683d035a31d002d43"
     }
    },
    "70e6c7fbdda34bb18bc297da76278018": {
     "model_module": "@jupyter-widgets/controls",
     "model_module_version": "1.5.0",
     "model_name": "ProgressStyleModel",
     "state": {
      "_model_module": "@jupyter-widgets/controls",
      "_model_module_version": "1.5.0",
      "_model_name": "ProgressStyleModel",
      "_view_count": null,
      "_view_module": "@jupyter-widgets/base",
      "_view_module_version": "1.2.0",
      "_view_name": "StyleView",
      "bar_color": null,
      "description_width": ""
     }
    },
    "72f0856748e14a5a90b2f7f5e9126480": {
     "model_module": "@jupyter-widgets/base",
     "model_module_version": "1.2.0",
     "model_name": "LayoutModel",
     "state": {
      "_model_module": "@jupyter-widgets/base",
      "_model_module_version": "1.2.0",
      "_model_name": "LayoutModel",
      "_view_count": null,
      "_view_module": "@jupyter-widgets/base",
      "_view_module_version": "1.2.0",
      "_view_name": "LayoutView",
      "align_content": null,
      "align_items": null,
      "align_self": null,
      "border": null,
      "bottom": null,
      "display": null,
      "flex": null,
      "flex_flow": null,
      "grid_area": null,
      "grid_auto_columns": null,
      "grid_auto_flow": null,
      "grid_auto_rows": null,
      "grid_column": null,
      "grid_gap": null,
      "grid_row": null,
      "grid_template_areas": null,
      "grid_template_columns": null,
      "grid_template_rows": null,
      "height": null,
      "justify_content": null,
      "justify_items": null,
      "left": null,
      "margin": null,
      "max_height": null,
      "max_width": null,
      "min_height": null,
      "min_width": null,
      "object_fit": null,
      "object_position": null,
      "order": null,
      "overflow": null,
      "overflow_x": null,
      "overflow_y": null,
      "padding": null,
      "right": null,
      "top": null,
      "visibility": null,
      "width": null
     }
    },
    "7523c43f5cb04141b58fd328cfe4242e": {
     "model_module": "@jupyter-widgets/controls",
     "model_module_version": "1.5.0",
     "model_name": "HTMLModel",
     "state": {
      "_dom_classes": [],
      "_model_module": "@jupyter-widgets/controls",
      "_model_module_version": "1.5.0",
      "_model_name": "HTMLModel",
      "_view_count": null,
      "_view_module": "@jupyter-widgets/controls",
      "_view_module_version": "1.5.0",
      "_view_name": "HTMLView",
      "description": "",
      "description_tooltip": null,
      "layout": "IPY_MODEL_0b8110853cc84af3a137a8022290c74c",
      "placeholder": "​",
      "style": "IPY_MODEL_fe72b40ea0be444c8f6efbf69eb6d144",
      "value": "Map: 100%"
     }
    },
    "76d781675d544ab796c4a2c39499c276": {
     "model_module": "@jupyter-widgets/controls",
     "model_module_version": "1.5.0",
     "model_name": "ProgressStyleModel",
     "state": {
      "_model_module": "@jupyter-widgets/controls",
      "_model_module_version": "1.5.0",
      "_model_name": "ProgressStyleModel",
      "_view_count": null,
      "_view_module": "@jupyter-widgets/base",
      "_view_module_version": "1.2.0",
      "_view_name": "StyleView",
      "bar_color": null,
      "description_width": ""
     }
    },
    "7a889e1d0342436e963dffb0f3aa8932": {
     "model_module": "@jupyter-widgets/controls",
     "model_module_version": "1.5.0",
     "model_name": "DescriptionStyleModel",
     "state": {
      "_model_module": "@jupyter-widgets/controls",
      "_model_module_version": "1.5.0",
      "_model_name": "DescriptionStyleModel",
      "_view_count": null,
      "_view_module": "@jupyter-widgets/base",
      "_view_module_version": "1.2.0",
      "_view_name": "StyleView",
      "description_width": ""
     }
    },
    "7acf4e69ff1b4a29bc6b418e2fd05e54": {
     "model_module": "@jupyter-widgets/controls",
     "model_module_version": "1.5.0",
     "model_name": "DescriptionStyleModel",
     "state": {
      "_model_module": "@jupyter-widgets/controls",
      "_model_module_version": "1.5.0",
      "_model_name": "DescriptionStyleModel",
      "_view_count": null,
      "_view_module": "@jupyter-widgets/base",
      "_view_module_version": "1.2.0",
      "_view_name": "StyleView",
      "description_width": ""
     }
    },
    "7fb7031bb42d475892edb9389248de3a": {
     "model_module": "@jupyter-widgets/controls",
     "model_module_version": "1.5.0",
     "model_name": "FloatProgressModel",
     "state": {
      "_dom_classes": [],
      "_model_module": "@jupyter-widgets/controls",
      "_model_module_version": "1.5.0",
      "_model_name": "FloatProgressModel",
      "_view_count": null,
      "_view_module": "@jupyter-widgets/controls",
      "_view_module_version": "1.5.0",
      "_view_name": "ProgressView",
      "bar_style": "success",
      "description": "",
      "description_tooltip": null,
      "layout": "IPY_MODEL_0aa376236ca94a6d8a1923ebe3388077",
      "max": 898823,
      "min": 0,
      "orientation": "horizontal",
      "style": "IPY_MODEL_c4f4cc89a3eb4f3680fb59b9ebb38022",
      "value": 898823
     }
    },
    "807c3331bb324e8088cdfc17c9e6e790": {
     "model_module": "@jupyter-widgets/controls",
     "model_module_version": "1.5.0",
     "model_name": "ProgressStyleModel",
     "state": {
      "_model_module": "@jupyter-widgets/controls",
      "_model_module_version": "1.5.0",
      "_model_name": "ProgressStyleModel",
      "_view_count": null,
      "_view_module": "@jupyter-widgets/base",
      "_view_module_version": "1.2.0",
      "_view_name": "StyleView",
      "bar_color": null,
      "description_width": ""
     }
    },
    "816954b1438a4309b41b31a55a0cd54b": {
     "model_module": "@jupyter-widgets/base",
     "model_module_version": "1.2.0",
     "model_name": "LayoutModel",
     "state": {
      "_model_module": "@jupyter-widgets/base",
      "_model_module_version": "1.2.0",
      "_model_name": "LayoutModel",
      "_view_count": null,
      "_view_module": "@jupyter-widgets/base",
      "_view_module_version": "1.2.0",
      "_view_name": "LayoutView",
      "align_content": null,
      "align_items": null,
      "align_self": null,
      "border": null,
      "bottom": null,
      "display": null,
      "flex": null,
      "flex_flow": null,
      "grid_area": null,
      "grid_auto_columns": null,
      "grid_auto_flow": null,
      "grid_auto_rows": null,
      "grid_column": null,
      "grid_gap": null,
      "grid_row": null,
      "grid_template_areas": null,
      "grid_template_columns": null,
      "grid_template_rows": null,
      "height": null,
      "justify_content": null,
      "justify_items": null,
      "left": null,
      "margin": null,
      "max_height": null,
      "max_width": null,
      "min_height": null,
      "min_width": null,
      "object_fit": null,
      "object_position": null,
      "order": null,
      "overflow": null,
      "overflow_x": null,
      "overflow_y": null,
      "padding": null,
      "right": null,
      "top": null,
      "visibility": null,
      "width": null
     }
    },
    "81bb92f43b274db09c1d10b1e5a0d00a": {
     "model_module": "@jupyter-widgets/base",
     "model_module_version": "1.2.0",
     "model_name": "LayoutModel",
     "state": {
      "_model_module": "@jupyter-widgets/base",
      "_model_module_version": "1.2.0",
      "_model_name": "LayoutModel",
      "_view_count": null,
      "_view_module": "@jupyter-widgets/base",
      "_view_module_version": "1.2.0",
      "_view_name": "LayoutView",
      "align_content": null,
      "align_items": null,
      "align_self": null,
      "border": null,
      "bottom": null,
      "display": null,
      "flex": null,
      "flex_flow": null,
      "grid_area": null,
      "grid_auto_columns": null,
      "grid_auto_flow": null,
      "grid_auto_rows": null,
      "grid_column": null,
      "grid_gap": null,
      "grid_row": null,
      "grid_template_areas": null,
      "grid_template_columns": null,
      "grid_template_rows": null,
      "height": null,
      "justify_content": null,
      "justify_items": null,
      "left": null,
      "margin": null,
      "max_height": null,
      "max_width": null,
      "min_height": null,
      "min_width": null,
      "object_fit": null,
      "object_position": null,
      "order": null,
      "overflow": null,
      "overflow_x": null,
      "overflow_y": null,
      "padding": null,
      "right": null,
      "top": null,
      "visibility": null,
      "width": null
     }
    },
    "828e660905c44e5ab7d8472947dec5b1": {
     "model_module": "@jupyter-widgets/base",
     "model_module_version": "1.2.0",
     "model_name": "LayoutModel",
     "state": {
      "_model_module": "@jupyter-widgets/base",
      "_model_module_version": "1.2.0",
      "_model_name": "LayoutModel",
      "_view_count": null,
      "_view_module": "@jupyter-widgets/base",
      "_view_module_version": "1.2.0",
      "_view_name": "LayoutView",
      "align_content": null,
      "align_items": null,
      "align_self": null,
      "border": null,
      "bottom": null,
      "display": null,
      "flex": null,
      "flex_flow": null,
      "grid_area": null,
      "grid_auto_columns": null,
      "grid_auto_flow": null,
      "grid_auto_rows": null,
      "grid_column": null,
      "grid_gap": null,
      "grid_row": null,
      "grid_template_areas": null,
      "grid_template_columns": null,
      "grid_template_rows": null,
      "height": null,
      "justify_content": null,
      "justify_items": null,
      "left": null,
      "margin": null,
      "max_height": null,
      "max_width": null,
      "min_height": null,
      "min_width": null,
      "object_fit": null,
      "object_position": null,
      "order": null,
      "overflow": null,
      "overflow_x": null,
      "overflow_y": null,
      "padding": null,
      "right": null,
      "top": null,
      "visibility": null,
      "width": null
     }
    },
    "82bd4452b5c14437a723380b95112b65": {
     "model_module": "@jupyter-widgets/base",
     "model_module_version": "1.2.0",
     "model_name": "LayoutModel",
     "state": {
      "_model_module": "@jupyter-widgets/base",
      "_model_module_version": "1.2.0",
      "_model_name": "LayoutModel",
      "_view_count": null,
      "_view_module": "@jupyter-widgets/base",
      "_view_module_version": "1.2.0",
      "_view_name": "LayoutView",
      "align_content": null,
      "align_items": null,
      "align_self": null,
      "border": null,
      "bottom": null,
      "display": null,
      "flex": null,
      "flex_flow": null,
      "grid_area": null,
      "grid_auto_columns": null,
      "grid_auto_flow": null,
      "grid_auto_rows": null,
      "grid_column": null,
      "grid_gap": null,
      "grid_row": null,
      "grid_template_areas": null,
      "grid_template_columns": null,
      "grid_template_rows": null,
      "height": null,
      "justify_content": null,
      "justify_items": null,
      "left": null,
      "margin": null,
      "max_height": null,
      "max_width": null,
      "min_height": null,
      "min_width": null,
      "object_fit": null,
      "object_position": null,
      "order": null,
      "overflow": null,
      "overflow_x": null,
      "overflow_y": null,
      "padding": null,
      "right": null,
      "top": null,
      "visibility": null,
      "width": null
     }
    },
    "8557113651f74163b7bdfcb73aab7977": {
     "model_module": "@jupyter-widgets/controls",
     "model_module_version": "1.5.0",
     "model_name": "HBoxModel",
     "state": {
      "_dom_classes": [],
      "_model_module": "@jupyter-widgets/controls",
      "_model_module_version": "1.5.0",
      "_model_name": "HBoxModel",
      "_view_count": null,
      "_view_module": "@jupyter-widgets/controls",
      "_view_module_version": "1.5.0",
      "_view_name": "HBoxView",
      "box_style": "",
      "children": [
       "IPY_MODEL_e46604281c7d416a8ae3114b75dc5c21",
       "IPY_MODEL_1a246c4ffaf242bb856a4f19b9ba9bfa",
       "IPY_MODEL_32bd5bfc53c34ed78494e7b9fedec958"
      ],
      "layout": "IPY_MODEL_3971d7ef1d894017bceb3690102d6233"
     }
    },
    "85d6ba27765246998accd687eef53e18": {
     "model_module": "@jupyter-widgets/controls",
     "model_module_version": "1.5.0",
     "model_name": "DescriptionStyleModel",
     "state": {
      "_model_module": "@jupyter-widgets/controls",
      "_model_module_version": "1.5.0",
      "_model_name": "DescriptionStyleModel",
      "_view_count": null,
      "_view_module": "@jupyter-widgets/base",
      "_view_module_version": "1.2.0",
      "_view_name": "StyleView",
      "description_width": ""
     }
    },
    "87d2c14459e9415f8bcfae89c6a3a029": {
     "model_module": "@jupyter-widgets/controls",
     "model_module_version": "1.5.0",
     "model_name": "DescriptionStyleModel",
     "state": {
      "_model_module": "@jupyter-widgets/controls",
      "_model_module_version": "1.5.0",
      "_model_name": "DescriptionStyleModel",
      "_view_count": null,
      "_view_module": "@jupyter-widgets/base",
      "_view_module_version": "1.2.0",
      "_view_name": "StyleView",
      "description_width": ""
     }
    },
    "8966b39acf9343ec8edef12c1aa1850b": {
     "model_module": "@jupyter-widgets/controls",
     "model_module_version": "1.5.0",
     "model_name": "DescriptionStyleModel",
     "state": {
      "_model_module": "@jupyter-widgets/controls",
      "_model_module_version": "1.5.0",
      "_model_name": "DescriptionStyleModel",
      "_view_count": null,
      "_view_module": "@jupyter-widgets/base",
      "_view_module_version": "1.2.0",
      "_view_name": "StyleView",
      "description_width": ""
     }
    },
    "89baf5f7942c4f92b4b1619166da1ffa": {
     "model_module": "@jupyter-widgets/base",
     "model_module_version": "1.2.0",
     "model_name": "LayoutModel",
     "state": {
      "_model_module": "@jupyter-widgets/base",
      "_model_module_version": "1.2.0",
      "_model_name": "LayoutModel",
      "_view_count": null,
      "_view_module": "@jupyter-widgets/base",
      "_view_module_version": "1.2.0",
      "_view_name": "LayoutView",
      "align_content": null,
      "align_items": null,
      "align_self": null,
      "border": null,
      "bottom": null,
      "display": null,
      "flex": null,
      "flex_flow": null,
      "grid_area": null,
      "grid_auto_columns": null,
      "grid_auto_flow": null,
      "grid_auto_rows": null,
      "grid_column": null,
      "grid_gap": null,
      "grid_row": null,
      "grid_template_areas": null,
      "grid_template_columns": null,
      "grid_template_rows": null,
      "height": null,
      "justify_content": null,
      "justify_items": null,
      "left": null,
      "margin": null,
      "max_height": null,
      "max_width": null,
      "min_height": null,
      "min_width": null,
      "object_fit": null,
      "object_position": null,
      "order": null,
      "overflow": null,
      "overflow_x": null,
      "overflow_y": null,
      "padding": null,
      "right": null,
      "top": null,
      "visibility": null,
      "width": null
     }
    },
    "8d81424c9e1b45f3ae2f82f938f959f7": {
     "model_module": "@jupyter-widgets/base",
     "model_module_version": "1.2.0",
     "model_name": "LayoutModel",
     "state": {
      "_model_module": "@jupyter-widgets/base",
      "_model_module_version": "1.2.0",
      "_model_name": "LayoutModel",
      "_view_count": null,
      "_view_module": "@jupyter-widgets/base",
      "_view_module_version": "1.2.0",
      "_view_name": "LayoutView",
      "align_content": null,
      "align_items": null,
      "align_self": null,
      "border": null,
      "bottom": null,
      "display": null,
      "flex": null,
      "flex_flow": null,
      "grid_area": null,
      "grid_auto_columns": null,
      "grid_auto_flow": null,
      "grid_auto_rows": null,
      "grid_column": null,
      "grid_gap": null,
      "grid_row": null,
      "grid_template_areas": null,
      "grid_template_columns": null,
      "grid_template_rows": null,
      "height": null,
      "justify_content": null,
      "justify_items": null,
      "left": null,
      "margin": null,
      "max_height": null,
      "max_width": null,
      "min_height": null,
      "min_width": null,
      "object_fit": null,
      "object_position": null,
      "order": null,
      "overflow": null,
      "overflow_x": null,
      "overflow_y": null,
      "padding": null,
      "right": null,
      "top": null,
      "visibility": null,
      "width": null
     }
    },
    "8e48936ebaab402aa44379c796474fff": {
     "model_module": "@jupyter-widgets/controls",
     "model_module_version": "1.5.0",
     "model_name": "HTMLModel",
     "state": {
      "_dom_classes": [],
      "_model_module": "@jupyter-widgets/controls",
      "_model_module_version": "1.5.0",
      "_model_name": "HTMLModel",
      "_view_count": null,
      "_view_module": "@jupyter-widgets/controls",
      "_view_module_version": "1.5.0",
      "_view_name": "HTMLView",
      "description": "",
      "description_tooltip": null,
      "layout": "IPY_MODEL_89baf5f7942c4f92b4b1619166da1ffa",
      "placeholder": "​",
      "style": "IPY_MODEL_a0d13fc549d84bd6af3122349d9f8ef8",
      "value": "Map: 100%"
     }
    },
    "8f30649138634ebc9f4c13719b2596ee": {
     "model_module": "@jupyter-widgets/base",
     "model_module_version": "1.2.0",
     "model_name": "LayoutModel",
     "state": {
      "_model_module": "@jupyter-widgets/base",
      "_model_module_version": "1.2.0",
      "_model_name": "LayoutModel",
      "_view_count": null,
      "_view_module": "@jupyter-widgets/base",
      "_view_module_version": "1.2.0",
      "_view_name": "LayoutView",
      "align_content": null,
      "align_items": null,
      "align_self": null,
      "border": null,
      "bottom": null,
      "display": null,
      "flex": null,
      "flex_flow": null,
      "grid_area": null,
      "grid_auto_columns": null,
      "grid_auto_flow": null,
      "grid_auto_rows": null,
      "grid_column": null,
      "grid_gap": null,
      "grid_row": null,
      "grid_template_areas": null,
      "grid_template_columns": null,
      "grid_template_rows": null,
      "height": null,
      "justify_content": null,
      "justify_items": null,
      "left": null,
      "margin": null,
      "max_height": null,
      "max_width": null,
      "min_height": null,
      "min_width": null,
      "object_fit": null,
      "object_position": null,
      "order": null,
      "overflow": null,
      "overflow_x": null,
      "overflow_y": null,
      "padding": null,
      "right": null,
      "top": null,
      "visibility": null,
      "width": null
     }
    },
    "90dee7deb86143a791e8513ef245402e": {
     "model_module": "@jupyter-widgets/base",
     "model_module_version": "1.2.0",
     "model_name": "LayoutModel",
     "state": {
      "_model_module": "@jupyter-widgets/base",
      "_model_module_version": "1.2.0",
      "_model_name": "LayoutModel",
      "_view_count": null,
      "_view_module": "@jupyter-widgets/base",
      "_view_module_version": "1.2.0",
      "_view_name": "LayoutView",
      "align_content": null,
      "align_items": null,
      "align_self": null,
      "border": null,
      "bottom": null,
      "display": null,
      "flex": null,
      "flex_flow": null,
      "grid_area": null,
      "grid_auto_columns": null,
      "grid_auto_flow": null,
      "grid_auto_rows": null,
      "grid_column": null,
      "grid_gap": null,
      "grid_row": null,
      "grid_template_areas": null,
      "grid_template_columns": null,
      "grid_template_rows": null,
      "height": null,
      "justify_content": null,
      "justify_items": null,
      "left": null,
      "margin": null,
      "max_height": null,
      "max_width": null,
      "min_height": null,
      "min_width": null,
      "object_fit": null,
      "object_position": null,
      "order": null,
      "overflow": null,
      "overflow_x": null,
      "overflow_y": null,
      "padding": null,
      "right": null,
      "top": null,
      "visibility": null,
      "width": null
     }
    },
    "927472d461a14c1caa562f3db9ad9206": {
     "model_module": "@jupyter-widgets/controls",
     "model_module_version": "1.5.0",
     "model_name": "HTMLModel",
     "state": {
      "_dom_classes": [],
      "_model_module": "@jupyter-widgets/controls",
      "_model_module_version": "1.5.0",
      "_model_name": "HTMLModel",
      "_view_count": null,
      "_view_module": "@jupyter-widgets/controls",
      "_view_module_version": "1.5.0",
      "_view_name": "HTMLView",
      "description": "",
      "description_tooltip": null,
      "layout": "IPY_MODEL_1c9011439bc049bf804644c28fd2d81a",
      "placeholder": "​",
      "style": "IPY_MODEL_21c62a52a43c42efa0b20cb38a675f4f",
      "value": " 5451/5451 [00:05&lt;00:00, 847.34 examples/s]"
     }
    },
    "980cab7e423c4db380ed9520a9227ef9": {
     "model_module": "@jupyter-widgets/base",
     "model_module_version": "1.2.0",
     "model_name": "LayoutModel",
     "state": {
      "_model_module": "@jupyter-widgets/base",
      "_model_module_version": "1.2.0",
      "_model_name": "LayoutModel",
      "_view_count": null,
      "_view_module": "@jupyter-widgets/base",
      "_view_module_version": "1.2.0",
      "_view_name": "LayoutView",
      "align_content": null,
      "align_items": null,
      "align_self": null,
      "border": null,
      "bottom": null,
      "display": null,
      "flex": null,
      "flex_flow": null,
      "grid_area": null,
      "grid_auto_columns": null,
      "grid_auto_flow": null,
      "grid_auto_rows": null,
      "grid_column": null,
      "grid_gap": null,
      "grid_row": null,
      "grid_template_areas": null,
      "grid_template_columns": null,
      "grid_template_rows": null,
      "height": null,
      "justify_content": null,
      "justify_items": null,
      "left": null,
      "margin": null,
      "max_height": null,
      "max_width": null,
      "min_height": null,
      "min_width": null,
      "object_fit": null,
      "object_position": null,
      "order": null,
      "overflow": null,
      "overflow_x": null,
      "overflow_y": null,
      "padding": null,
      "right": null,
      "top": null,
      "visibility": null,
      "width": null
     }
    },
    "9921c1f7fcc8448a9f3ec7ea90bb9c8d": {
     "model_module": "@jupyter-widgets/base",
     "model_module_version": "1.2.0",
     "model_name": "LayoutModel",
     "state": {
      "_model_module": "@jupyter-widgets/base",
      "_model_module_version": "1.2.0",
      "_model_name": "LayoutModel",
      "_view_count": null,
      "_view_module": "@jupyter-widgets/base",
      "_view_module_version": "1.2.0",
      "_view_name": "LayoutView",
      "align_content": null,
      "align_items": null,
      "align_self": null,
      "border": null,
      "bottom": null,
      "display": null,
      "flex": null,
      "flex_flow": null,
      "grid_area": null,
      "grid_auto_columns": null,
      "grid_auto_flow": null,
      "grid_auto_rows": null,
      "grid_column": null,
      "grid_gap": null,
      "grid_row": null,
      "grid_template_areas": null,
      "grid_template_columns": null,
      "grid_template_rows": null,
      "height": null,
      "justify_content": null,
      "justify_items": null,
      "left": null,
      "margin": null,
      "max_height": null,
      "max_width": null,
      "min_height": null,
      "min_width": null,
      "object_fit": null,
      "object_position": null,
      "order": null,
      "overflow": null,
      "overflow_x": null,
      "overflow_y": null,
      "padding": null,
      "right": null,
      "top": null,
      "visibility": null,
      "width": null
     }
    },
    "9afc375a4ca246a9ac1267f28152ad5a": {
     "model_module": "@jupyter-widgets/controls",
     "model_module_version": "1.5.0",
     "model_name": "HTMLModel",
     "state": {
      "_dom_classes": [],
      "_model_module": "@jupyter-widgets/controls",
      "_model_module_version": "1.5.0",
      "_model_name": "HTMLModel",
      "_view_count": null,
      "_view_module": "@jupyter-widgets/controls",
      "_view_module_version": "1.5.0",
      "_view_name": "HTMLView",
      "description": "",
      "description_tooltip": null,
      "layout": "IPY_MODEL_a3474d86a5d4478a93a70f2bd5d3d707",
      "placeholder": "​",
      "style": "IPY_MODEL_feddf26029eb4a278a2a16aa30596b45",
      "value": " 481/481 [00:00&lt;00:00, 4.32kB/s]"
     }
    },
    "a0d13fc549d84bd6af3122349d9f8ef8": {
     "model_module": "@jupyter-widgets/controls",
     "model_module_version": "1.5.0",
     "model_name": "DescriptionStyleModel",
     "state": {
      "_model_module": "@jupyter-widgets/controls",
      "_model_module_version": "1.5.0",
      "_model_name": "DescriptionStyleModel",
      "_view_count": null,
      "_view_module": "@jupyter-widgets/base",
      "_view_module_version": "1.2.0",
      "_view_name": "StyleView",
      "description_width": ""
     }
    },
    "a2a16b2e87a043949d96d69262beb643": {
     "model_module": "@jupyter-widgets/base",
     "model_module_version": "1.2.0",
     "model_name": "LayoutModel",
     "state": {
      "_model_module": "@jupyter-widgets/base",
      "_model_module_version": "1.2.0",
      "_model_name": "LayoutModel",
      "_view_count": null,
      "_view_module": "@jupyter-widgets/base",
      "_view_module_version": "1.2.0",
      "_view_name": "LayoutView",
      "align_content": null,
      "align_items": null,
      "align_self": null,
      "border": null,
      "bottom": null,
      "display": null,
      "flex": null,
      "flex_flow": null,
      "grid_area": null,
      "grid_auto_columns": null,
      "grid_auto_flow": null,
      "grid_auto_rows": null,
      "grid_column": null,
      "grid_gap": null,
      "grid_row": null,
      "grid_template_areas": null,
      "grid_template_columns": null,
      "grid_template_rows": null,
      "height": null,
      "justify_content": null,
      "justify_items": null,
      "left": null,
      "margin": null,
      "max_height": null,
      "max_width": null,
      "min_height": null,
      "min_width": null,
      "object_fit": null,
      "object_position": null,
      "order": null,
      "overflow": null,
      "overflow_x": null,
      "overflow_y": null,
      "padding": null,
      "right": null,
      "top": null,
      "visibility": null,
      "width": null
     }
    },
    "a3474d86a5d4478a93a70f2bd5d3d707": {
     "model_module": "@jupyter-widgets/base",
     "model_module_version": "1.2.0",
     "model_name": "LayoutModel",
     "state": {
      "_model_module": "@jupyter-widgets/base",
      "_model_module_version": "1.2.0",
      "_model_name": "LayoutModel",
      "_view_count": null,
      "_view_module": "@jupyter-widgets/base",
      "_view_module_version": "1.2.0",
      "_view_name": "LayoutView",
      "align_content": null,
      "align_items": null,
      "align_self": null,
      "border": null,
      "bottom": null,
      "display": null,
      "flex": null,
      "flex_flow": null,
      "grid_area": null,
      "grid_auto_columns": null,
      "grid_auto_flow": null,
      "grid_auto_rows": null,
      "grid_column": null,
      "grid_gap": null,
      "grid_row": null,
      "grid_template_areas": null,
      "grid_template_columns": null,
      "grid_template_rows": null,
      "height": null,
      "justify_content": null,
      "justify_items": null,
      "left": null,
      "margin": null,
      "max_height": null,
      "max_width": null,
      "min_height": null,
      "min_width": null,
      "object_fit": null,
      "object_position": null,
      "order": null,
      "overflow": null,
      "overflow_x": null,
      "overflow_y": null,
      "padding": null,
      "right": null,
      "top": null,
      "visibility": null,
      "width": null
     }
    },
    "a858fb5eaf15409898ca80c949fcd440": {
     "model_module": "@jupyter-widgets/base",
     "model_module_version": "1.2.0",
     "model_name": "LayoutModel",
     "state": {
      "_model_module": "@jupyter-widgets/base",
      "_model_module_version": "1.2.0",
      "_model_name": "LayoutModel",
      "_view_count": null,
      "_view_module": "@jupyter-widgets/base",
      "_view_module_version": "1.2.0",
      "_view_name": "LayoutView",
      "align_content": null,
      "align_items": null,
      "align_self": null,
      "border": null,
      "bottom": null,
      "display": null,
      "flex": null,
      "flex_flow": null,
      "grid_area": null,
      "grid_auto_columns": null,
      "grid_auto_flow": null,
      "grid_auto_rows": null,
      "grid_column": null,
      "grid_gap": null,
      "grid_row": null,
      "grid_template_areas": null,
      "grid_template_columns": null,
      "grid_template_rows": null,
      "height": null,
      "justify_content": null,
      "justify_items": null,
      "left": null,
      "margin": null,
      "max_height": null,
      "max_width": null,
      "min_height": null,
      "min_width": null,
      "object_fit": null,
      "object_position": null,
      "order": null,
      "overflow": null,
      "overflow_x": null,
      "overflow_y": null,
      "padding": null,
      "right": null,
      "top": null,
      "visibility": "hidden",
      "width": null
     }
    },
    "a8b18292a98a4ceba7ed86d5b0528436": {
     "model_module": "@jupyter-widgets/controls",
     "model_module_version": "1.5.0",
     "model_name": "DescriptionStyleModel",
     "state": {
      "_model_module": "@jupyter-widgets/controls",
      "_model_module_version": "1.5.0",
      "_model_name": "DescriptionStyleModel",
      "_view_count": null,
      "_view_module": "@jupyter-widgets/base",
      "_view_module_version": "1.2.0",
      "_view_name": "StyleView",
      "description_width": ""
     }
    },
    "aa9b29b03b38410db74a574fba193636": {
     "model_module": "@jupyter-widgets/controls",
     "model_module_version": "1.5.0",
     "model_name": "HBoxModel",
     "state": {
      "_dom_classes": [],
      "_model_module": "@jupyter-widgets/controls",
      "_model_module_version": "1.5.0",
      "_model_name": "HBoxModel",
      "_view_count": null,
      "_view_module": "@jupyter-widgets/controls",
      "_view_module_version": "1.5.0",
      "_view_name": "HBoxView",
      "box_style": "",
      "children": [
       "IPY_MODEL_6bb12a43804243b6be790a2652bff67d",
       "IPY_MODEL_124c0c9c6ecc477b8c76a628b999ef77",
       "IPY_MODEL_da1a36391d764fccb510988009a37768"
      ],
      "layout": "IPY_MODEL_0e14f5953d0342ccad8bc2386c4f9d2a"
     }
    },
    "ab20fdb62b4547719ceab4d5acc92ef4": {
     "model_module": "@jupyter-widgets/base",
     "model_module_version": "1.2.0",
     "model_name": "LayoutModel",
     "state": {
      "_model_module": "@jupyter-widgets/base",
      "_model_module_version": "1.2.0",
      "_model_name": "LayoutModel",
      "_view_count": null,
      "_view_module": "@jupyter-widgets/base",
      "_view_module_version": "1.2.0",
      "_view_name": "LayoutView",
      "align_content": null,
      "align_items": null,
      "align_self": null,
      "border": null,
      "bottom": null,
      "display": null,
      "flex": null,
      "flex_flow": null,
      "grid_area": null,
      "grid_auto_columns": null,
      "grid_auto_flow": null,
      "grid_auto_rows": null,
      "grid_column": null,
      "grid_gap": null,
      "grid_row": null,
      "grid_template_areas": null,
      "grid_template_columns": null,
      "grid_template_rows": null,
      "height": null,
      "justify_content": null,
      "justify_items": null,
      "left": null,
      "margin": null,
      "max_height": null,
      "max_width": null,
      "min_height": null,
      "min_width": null,
      "object_fit": null,
      "object_position": null,
      "order": null,
      "overflow": null,
      "overflow_x": null,
      "overflow_y": null,
      "padding": null,
      "right": null,
      "top": null,
      "visibility": "hidden",
      "width": null
     }
    },
    "ae8c6f8aa5644200a5679b9ef08b7eca": {
     "model_module": "@jupyter-widgets/controls",
     "model_module_version": "1.5.0",
     "model_name": "HTMLModel",
     "state": {
      "_dom_classes": [],
      "_model_module": "@jupyter-widgets/controls",
      "_model_module_version": "1.5.0",
      "_model_name": "HTMLModel",
      "_view_count": null,
      "_view_module": "@jupyter-widgets/controls",
      "_view_module_version": "1.5.0",
      "_view_name": "HTMLView",
      "description": "",
      "description_tooltip": null,
      "layout": "IPY_MODEL_a2a16b2e87a043949d96d69262beb643",
      "placeholder": "​",
      "style": "IPY_MODEL_52db0131a0a246be8cccbf2418a99022",
      "value": " 5451/5451 [00:02&lt;00:00, 2101.00 examples/s]"
     }
    },
    "af94f9573284475aa23e79f8fcad7938": {
     "model_module": "@jupyter-widgets/controls",
     "model_module_version": "1.5.0",
     "model_name": "HBoxModel",
     "state": {
      "_dom_classes": [],
      "_model_module": "@jupyter-widgets/controls",
      "_model_module_version": "1.5.0",
      "_model_name": "HBoxModel",
      "_view_count": null,
      "_view_module": "@jupyter-widgets/controls",
      "_view_module_version": "1.5.0",
      "_view_name": "HBoxView",
      "box_style": "",
      "children": [
       "IPY_MODEL_6779846fa768479188d483c49fbaa8aa",
       "IPY_MODEL_fe6e1295c9a74b26bf83cb7d154063fc",
       "IPY_MODEL_692077fbf12a4ee8bd5307a6e262bf99"
      ],
      "layout": "IPY_MODEL_5b68d73644b444f2824788f9f3471a89"
     }
    },
    "b038bc2cbd5d45b0beaa1a879e21ef20": {
     "model_module": "@jupyter-widgets/controls",
     "model_module_version": "1.5.0",
     "model_name": "HBoxModel",
     "state": {
      "_dom_classes": [],
      "_model_module": "@jupyter-widgets/controls",
      "_model_module_version": "1.5.0",
      "_model_name": "HBoxModel",
      "_view_count": null,
      "_view_module": "@jupyter-widgets/controls",
      "_view_module_version": "1.5.0",
      "_view_name": "HBoxView",
      "box_style": "",
      "children": [
       "IPY_MODEL_223c05ab5a734ec8816523f2149efcff",
       "IPY_MODEL_cc3b11fbc9f843868595e2daca914683",
       "IPY_MODEL_9afc375a4ca246a9ac1267f28152ad5a"
      ],
      "layout": "IPY_MODEL_1f2e284c058c4750b2963bcf08278262"
     }
    },
    "b316be83c0e24b31a36a9edd9224d113": {
     "model_module": "@jupyter-widgets/controls",
     "model_module_version": "1.5.0",
     "model_name": "HTMLModel",
     "state": {
      "_dom_classes": [],
      "_model_module": "@jupyter-widgets/controls",
      "_model_module_version": "1.5.0",
      "_model_name": "HTMLModel",
      "_view_count": null,
      "_view_module": "@jupyter-widgets/controls",
      "_view_module_version": "1.5.0",
      "_view_name": "HTMLView",
      "description": "",
      "description_tooltip": null,
      "layout": "IPY_MODEL_90dee7deb86143a791e8513ef245402e",
      "placeholder": "​",
      "style": "IPY_MODEL_494c50b0e10747cc966a00dca3f74a1b",
      "value": "Map: 100%"
     }
    },
    "b5969f4f566a46009729f0540069ca19": {
     "model_module": "@jupyter-widgets/controls",
     "model_module_version": "1.5.0",
     "model_name": "ProgressStyleModel",
     "state": {
      "_model_module": "@jupyter-widgets/controls",
      "_model_module_version": "1.5.0",
      "_model_name": "ProgressStyleModel",
      "_view_count": null,
      "_view_module": "@jupyter-widgets/base",
      "_view_module_version": "1.2.0",
      "_view_name": "StyleView",
      "bar_color": null,
      "description_width": ""
     }
    },
    "b87dbefbefaa4512b0ed7618a3571ae7": {
     "model_module": "@jupyter-widgets/controls",
     "model_module_version": "1.5.0",
     "model_name": "ProgressStyleModel",
     "state": {
      "_model_module": "@jupyter-widgets/controls",
      "_model_module_version": "1.5.0",
      "_model_name": "ProgressStyleModel",
      "_view_count": null,
      "_view_module": "@jupyter-widgets/base",
      "_view_module_version": "1.2.0",
      "_view_name": "StyleView",
      "bar_color": null,
      "description_width": ""
     }
    },
    "bae5e8ece25d41c9b24f1297c6eccc5d": {
     "model_module": "@jupyter-widgets/base",
     "model_module_version": "1.2.0",
     "model_name": "LayoutModel",
     "state": {
      "_model_module": "@jupyter-widgets/base",
      "_model_module_version": "1.2.0",
      "_model_name": "LayoutModel",
      "_view_count": null,
      "_view_module": "@jupyter-widgets/base",
      "_view_module_version": "1.2.0",
      "_view_name": "LayoutView",
      "align_content": null,
      "align_items": null,
      "align_self": null,
      "border": null,
      "bottom": null,
      "display": null,
      "flex": null,
      "flex_flow": null,
      "grid_area": null,
      "grid_auto_columns": null,
      "grid_auto_flow": null,
      "grid_auto_rows": null,
      "grid_column": null,
      "grid_gap": null,
      "grid_row": null,
      "grid_template_areas": null,
      "grid_template_columns": null,
      "grid_template_rows": null,
      "height": null,
      "justify_content": null,
      "justify_items": null,
      "left": null,
      "margin": null,
      "max_height": null,
      "max_width": null,
      "min_height": null,
      "min_width": null,
      "object_fit": null,
      "object_position": null,
      "order": null,
      "overflow": null,
      "overflow_x": null,
      "overflow_y": null,
      "padding": null,
      "right": null,
      "top": null,
      "visibility": null,
      "width": null
     }
    },
    "bed6779525974f58b3718931f17bbb66": {
     "model_module": "@jupyter-widgets/controls",
     "model_module_version": "1.5.0",
     "model_name": "ProgressStyleModel",
     "state": {
      "_model_module": "@jupyter-widgets/controls",
      "_model_module_version": "1.5.0",
      "_model_name": "ProgressStyleModel",
      "_view_count": null,
      "_view_module": "@jupyter-widgets/base",
      "_view_module_version": "1.2.0",
      "_view_name": "StyleView",
      "bar_color": null,
      "description_width": ""
     }
    },
    "c2b65b570b4949a9bf0f46c435bf62d2": {
     "model_module": "@jupyter-widgets/controls",
     "model_module_version": "1.5.0",
     "model_name": "FloatProgressModel",
     "state": {
      "_dom_classes": [],
      "_model_module": "@jupyter-widgets/controls",
      "_model_module_version": "1.5.0",
      "_model_name": "FloatProgressModel",
      "_view_count": null,
      "_view_module": "@jupyter-widgets/controls",
      "_view_module_version": "1.5.0",
      "_view_name": "ProgressView",
      "bar_style": "",
      "description": "",
      "description_tooltip": null,
      "layout": "IPY_MODEL_3eaaa98d64bf4af7beac57d3210c6e81",
      "max": 1817,
      "min": 0,
      "orientation": "horizontal",
      "style": "IPY_MODEL_b87dbefbefaa4512b0ed7618a3571ae7",
      "value": 1817
     }
    },
    "c4f4cc89a3eb4f3680fb59b9ebb38022": {
     "model_module": "@jupyter-widgets/controls",
     "model_module_version": "1.5.0",
     "model_name": "ProgressStyleModel",
     "state": {
      "_model_module": "@jupyter-widgets/controls",
      "_model_module_version": "1.5.0",
      "_model_name": "ProgressStyleModel",
      "_view_count": null,
      "_view_module": "@jupyter-widgets/base",
      "_view_module_version": "1.2.0",
      "_view_name": "StyleView",
      "bar_color": null,
      "description_width": ""
     }
    },
    "c51497a6de19491693430211eb339abe": {
     "model_module": "@jupyter-widgets/base",
     "model_module_version": "1.2.0",
     "model_name": "LayoutModel",
     "state": {
      "_model_module": "@jupyter-widgets/base",
      "_model_module_version": "1.2.0",
      "_model_name": "LayoutModel",
      "_view_count": null,
      "_view_module": "@jupyter-widgets/base",
      "_view_module_version": "1.2.0",
      "_view_name": "LayoutView",
      "align_content": null,
      "align_items": null,
      "align_self": null,
      "border": null,
      "bottom": null,
      "display": null,
      "flex": null,
      "flex_flow": null,
      "grid_area": null,
      "grid_auto_columns": null,
      "grid_auto_flow": null,
      "grid_auto_rows": null,
      "grid_column": null,
      "grid_gap": null,
      "grid_row": null,
      "grid_template_areas": null,
      "grid_template_columns": null,
      "grid_template_rows": null,
      "height": null,
      "justify_content": null,
      "justify_items": null,
      "left": null,
      "margin": null,
      "max_height": null,
      "max_width": null,
      "min_height": null,
      "min_width": null,
      "object_fit": null,
      "object_position": null,
      "order": null,
      "overflow": null,
      "overflow_x": null,
      "overflow_y": null,
      "padding": null,
      "right": null,
      "top": null,
      "visibility": null,
      "width": null
     }
    },
    "c54762fac80c4a12bbccc25777f6d26a": {
     "model_module": "@jupyter-widgets/base",
     "model_module_version": "1.2.0",
     "model_name": "LayoutModel",
     "state": {
      "_model_module": "@jupyter-widgets/base",
      "_model_module_version": "1.2.0",
      "_model_name": "LayoutModel",
      "_view_count": null,
      "_view_module": "@jupyter-widgets/base",
      "_view_module_version": "1.2.0",
      "_view_name": "LayoutView",
      "align_content": null,
      "align_items": null,
      "align_self": null,
      "border": null,
      "bottom": null,
      "display": null,
      "flex": null,
      "flex_flow": null,
      "grid_area": null,
      "grid_auto_columns": null,
      "grid_auto_flow": null,
      "grid_auto_rows": null,
      "grid_column": null,
      "grid_gap": null,
      "grid_row": null,
      "grid_template_areas": null,
      "grid_template_columns": null,
      "grid_template_rows": null,
      "height": null,
      "justify_content": null,
      "justify_items": null,
      "left": null,
      "margin": null,
      "max_height": null,
      "max_width": null,
      "min_height": null,
      "min_width": null,
      "object_fit": null,
      "object_position": null,
      "order": null,
      "overflow": null,
      "overflow_x": null,
      "overflow_y": null,
      "padding": null,
      "right": null,
      "top": null,
      "visibility": "hidden",
      "width": null
     }
    },
    "c9510d68214344b6b53ab5b558d9aadd": {
     "model_module": "@jupyter-widgets/controls",
     "model_module_version": "1.5.0",
     "model_name": "HTMLModel",
     "state": {
      "_dom_classes": [],
      "_model_module": "@jupyter-widgets/controls",
      "_model_module_version": "1.5.0",
      "_model_name": "HTMLModel",
      "_view_count": null,
      "_view_module": "@jupyter-widgets/controls",
      "_view_module_version": "1.5.0",
      "_view_name": "HTMLView",
      "description": "",
      "description_tooltip": null,
      "layout": "IPY_MODEL_391ecda0d0e444b3b904154160dc053e",
      "placeholder": "​",
      "style": "IPY_MODEL_5ff66c2254be4c85bdbe4d23452a95f3",
      "value": "Map: 100%"
     }
    },
    "c9a8bb7092504ffc8b2a41d1806d7631": {
     "model_module": "@jupyter-widgets/controls",
     "model_module_version": "1.5.0",
     "model_name": "HBoxModel",
     "state": {
      "_dom_classes": [],
      "_model_module": "@jupyter-widgets/controls",
      "_model_module_version": "1.5.0",
      "_model_name": "HBoxModel",
      "_view_count": null,
      "_view_module": "@jupyter-widgets/controls",
      "_view_module_version": "1.5.0",
      "_view_name": "HBoxView",
      "box_style": "",
      "children": [
       "IPY_MODEL_7523c43f5cb04141b58fd328cfe4242e",
       "IPY_MODEL_e0e73f68b2d348e59f741cefc4949274",
       "IPY_MODEL_46700967a8e44488b348bb0391743e0b"
      ],
      "layout": "IPY_MODEL_560f81913ba04b1cbf3680c1ef5e8f2f"
     }
    },
    "cc3b11fbc9f843868595e2daca914683": {
     "model_module": "@jupyter-widgets/controls",
     "model_module_version": "1.5.0",
     "model_name": "FloatProgressModel",
     "state": {
      "_dom_classes": [],
      "_model_module": "@jupyter-widgets/controls",
      "_model_module_version": "1.5.0",
      "_model_name": "FloatProgressModel",
      "_view_count": null,
      "_view_module": "@jupyter-widgets/controls",
      "_view_module_version": "1.5.0",
      "_view_name": "ProgressView",
      "bar_style": "success",
      "description": "",
      "description_tooltip": null,
      "layout": "IPY_MODEL_563886019b3846b7b5d650611c6282a7",
      "max": 481,
      "min": 0,
      "orientation": "horizontal",
      "style": "IPY_MODEL_b5969f4f566a46009729f0540069ca19",
      "value": 481
     }
    },
    "ce8c2e291c4b4c36b5c722ecf77f431a": {
     "model_module": "@jupyter-widgets/controls",
     "model_module_version": "1.5.0",
     "model_name": "DescriptionStyleModel",
     "state": {
      "_model_module": "@jupyter-widgets/controls",
      "_model_module_version": "1.5.0",
      "_model_name": "DescriptionStyleModel",
      "_view_count": null,
      "_view_module": "@jupyter-widgets/base",
      "_view_module_version": "1.2.0",
      "_view_name": "StyleView",
      "description_width": ""
     }
    },
    "d083b2146daa43ef844f464390cf2c3f": {
     "model_module": "@jupyter-widgets/controls",
     "model_module_version": "1.5.0",
     "model_name": "HBoxModel",
     "state": {
      "_dom_classes": [],
      "_model_module": "@jupyter-widgets/controls",
      "_model_module_version": "1.5.0",
      "_model_name": "HBoxModel",
      "_view_count": null,
      "_view_module": "@jupyter-widgets/controls",
      "_view_module_version": "1.5.0",
      "_view_name": "HBoxView",
      "box_style": "",
      "children": [
       "IPY_MODEL_21000035d99f45459c66fe192bea6598",
       "IPY_MODEL_0f7e9b402c234316a22a37444e56e2da",
       "IPY_MODEL_2fa2fa50590442a08974a0a78fa64923"
      ],
      "layout": "IPY_MODEL_72f0856748e14a5a90b2f7f5e9126480"
     }
    },
    "d1566f5de6ed46c49b522bbd68cdfdbb": {
     "model_module": "@jupyter-widgets/base",
     "model_module_version": "1.2.0",
     "model_name": "LayoutModel",
     "state": {
      "_model_module": "@jupyter-widgets/base",
      "_model_module_version": "1.2.0",
      "_model_name": "LayoutModel",
      "_view_count": null,
      "_view_module": "@jupyter-widgets/base",
      "_view_module_version": "1.2.0",
      "_view_name": "LayoutView",
      "align_content": null,
      "align_items": null,
      "align_self": null,
      "border": null,
      "bottom": null,
      "display": null,
      "flex": null,
      "flex_flow": null,
      "grid_area": null,
      "grid_auto_columns": null,
      "grid_auto_flow": null,
      "grid_auto_rows": null,
      "grid_column": null,
      "grid_gap": null,
      "grid_row": null,
      "grid_template_areas": null,
      "grid_template_columns": null,
      "grid_template_rows": null,
      "height": null,
      "justify_content": null,
      "justify_items": null,
      "left": null,
      "margin": null,
      "max_height": null,
      "max_width": null,
      "min_height": null,
      "min_width": null,
      "object_fit": null,
      "object_position": null,
      "order": null,
      "overflow": null,
      "overflow_x": null,
      "overflow_y": null,
      "padding": null,
      "right": null,
      "top": null,
      "visibility": null,
      "width": null
     }
    },
    "d465478c22434feb96a10f10eeb674f8": {
     "model_module": "@jupyter-widgets/base",
     "model_module_version": "1.2.0",
     "model_name": "LayoutModel",
     "state": {
      "_model_module": "@jupyter-widgets/base",
      "_model_module_version": "1.2.0",
      "_model_name": "LayoutModel",
      "_view_count": null,
      "_view_module": "@jupyter-widgets/base",
      "_view_module_version": "1.2.0",
      "_view_name": "LayoutView",
      "align_content": null,
      "align_items": null,
      "align_self": null,
      "border": null,
      "bottom": null,
      "display": null,
      "flex": null,
      "flex_flow": null,
      "grid_area": null,
      "grid_auto_columns": null,
      "grid_auto_flow": null,
      "grid_auto_rows": null,
      "grid_column": null,
      "grid_gap": null,
      "grid_row": null,
      "grid_template_areas": null,
      "grid_template_columns": null,
      "grid_template_rows": null,
      "height": null,
      "justify_content": null,
      "justify_items": null,
      "left": null,
      "margin": null,
      "max_height": null,
      "max_width": null,
      "min_height": null,
      "min_width": null,
      "object_fit": null,
      "object_position": null,
      "order": null,
      "overflow": null,
      "overflow_x": null,
      "overflow_y": null,
      "padding": null,
      "right": null,
      "top": null,
      "visibility": null,
      "width": null
     }
    },
    "da1a36391d764fccb510988009a37768": {
     "model_module": "@jupyter-widgets/controls",
     "model_module_version": "1.5.0",
     "model_name": "HTMLModel",
     "state": {
      "_dom_classes": [],
      "_model_module": "@jupyter-widgets/controls",
      "_model_module_version": "1.5.0",
      "_model_name": "HTMLModel",
      "_view_count": null,
      "_view_module": "@jupyter-widgets/controls",
      "_view_module_version": "1.5.0",
      "_view_name": "HTMLView",
      "description": "",
      "description_tooltip": null,
      "layout": "IPY_MODEL_20c6367924d54069a09846a35bce8d65",
      "placeholder": "​",
      "style": "IPY_MODEL_a8b18292a98a4ceba7ed86d5b0528436",
      "value": " 5451/5451 [00:03&lt;00:00, 1817.32 examples/s]"
     }
    },
    "dae1e8e7a4484953bb63c733c60fbff6": {
     "model_module": "@jupyter-widgets/controls",
     "model_module_version": "1.5.0",
     "model_name": "DescriptionStyleModel",
     "state": {
      "_model_module": "@jupyter-widgets/controls",
      "_model_module_version": "1.5.0",
      "_model_name": "DescriptionStyleModel",
      "_view_count": null,
      "_view_module": "@jupyter-widgets/base",
      "_view_module_version": "1.2.0",
      "_view_name": "StyleView",
      "description_width": ""
     }
    },
    "de515df90ae041afbf1f01f234022bcf": {
     "model_module": "@jupyter-widgets/controls",
     "model_module_version": "1.5.0",
     "model_name": "ProgressStyleModel",
     "state": {
      "_model_module": "@jupyter-widgets/controls",
      "_model_module_version": "1.5.0",
      "_model_name": "ProgressStyleModel",
      "_view_count": null,
      "_view_module": "@jupyter-widgets/base",
      "_view_module_version": "1.2.0",
      "_view_name": "StyleView",
      "bar_color": null,
      "description_width": ""
     }
    },
    "e0e73f68b2d348e59f741cefc4949274": {
     "model_module": "@jupyter-widgets/controls",
     "model_module_version": "1.5.0",
     "model_name": "FloatProgressModel",
     "state": {
      "_dom_classes": [],
      "_model_module": "@jupyter-widgets/controls",
      "_model_module_version": "1.5.0",
      "_model_name": "FloatProgressModel",
      "_view_count": null,
      "_view_module": "@jupyter-widgets/controls",
      "_view_module_version": "1.5.0",
      "_view_name": "ProgressView",
      "bar_style": "",
      "description": "",
      "description_tooltip": null,
      "layout": "IPY_MODEL_3d78f479453b410c9b821d20068828c2",
      "max": 1817,
      "min": 0,
      "orientation": "horizontal",
      "style": "IPY_MODEL_70e6c7fbdda34bb18bc297da76278018",
      "value": 1817
     }
    },
    "e46604281c7d416a8ae3114b75dc5c21": {
     "model_module": "@jupyter-widgets/controls",
     "model_module_version": "1.5.0",
     "model_name": "HTMLModel",
     "state": {
      "_dom_classes": [],
      "_model_module": "@jupyter-widgets/controls",
      "_model_module_version": "1.5.0",
      "_model_name": "HTMLModel",
      "_view_count": null,
      "_view_module": "@jupyter-widgets/controls",
      "_view_module_version": "1.5.0",
      "_view_name": "HTMLView",
      "description": "",
      "description_tooltip": null,
      "layout": "IPY_MODEL_0cd934ac128a4318a4c78e4a46ed5d64",
      "placeholder": "​",
      "style": "IPY_MODEL_5c6a5e725df14f6295e80e8d827125cc",
      "value": "Downloading (…)/main/tokenizer.json: 100%"
     }
    },
    "e47d0bec17b946538619a4a89b30f1da": {
     "model_module": "@jupyter-widgets/base",
     "model_module_version": "1.2.0",
     "model_name": "LayoutModel",
     "state": {
      "_model_module": "@jupyter-widgets/base",
      "_model_module_version": "1.2.0",
      "_model_name": "LayoutModel",
      "_view_count": null,
      "_view_module": "@jupyter-widgets/base",
      "_view_module_version": "1.2.0",
      "_view_name": "LayoutView",
      "align_content": null,
      "align_items": null,
      "align_self": null,
      "border": null,
      "bottom": null,
      "display": null,
      "flex": null,
      "flex_flow": null,
      "grid_area": null,
      "grid_auto_columns": null,
      "grid_auto_flow": null,
      "grid_auto_rows": null,
      "grid_column": null,
      "grid_gap": null,
      "grid_row": null,
      "grid_template_areas": null,
      "grid_template_columns": null,
      "grid_template_rows": null,
      "height": null,
      "justify_content": null,
      "justify_items": null,
      "left": null,
      "margin": null,
      "max_height": null,
      "max_width": null,
      "min_height": null,
      "min_width": null,
      "object_fit": null,
      "object_position": null,
      "order": null,
      "overflow": null,
      "overflow_x": null,
      "overflow_y": null,
      "padding": null,
      "right": null,
      "top": null,
      "visibility": null,
      "width": null
     }
    },
    "e972c58f0482474b884f68368a28bdad": {
     "model_module": "@jupyter-widgets/controls",
     "model_module_version": "1.5.0",
     "model_name": "HTMLModel",
     "state": {
      "_dom_classes": [],
      "_model_module": "@jupyter-widgets/controls",
      "_model_module_version": "1.5.0",
      "_model_name": "HTMLModel",
      "_view_count": null,
      "_view_module": "@jupyter-widgets/controls",
      "_view_module_version": "1.5.0",
      "_view_name": "HTMLView",
      "description": "",
      "description_tooltip": null,
      "layout": "IPY_MODEL_e47d0bec17b946538619a4a89b30f1da",
      "placeholder": "​",
      "style": "IPY_MODEL_6963447e78bc45499208e13af9026e71",
      "value": " 1817/1817 [00:00&lt;00:00, 2921.41 examples/s]"
     }
    },
    "edcf900e85de4f08b34dc1a9df02690d": {
     "model_module": "@jupyter-widgets/controls",
     "model_module_version": "1.5.0",
     "model_name": "ProgressStyleModel",
     "state": {
      "_model_module": "@jupyter-widgets/controls",
      "_model_module_version": "1.5.0",
      "_model_name": "ProgressStyleModel",
      "_view_count": null,
      "_view_module": "@jupyter-widgets/base",
      "_view_module_version": "1.2.0",
      "_view_name": "StyleView",
      "bar_color": null,
      "description_width": ""
     }
    },
    "ee021ddd1bdf408699d2abf2629d3cd9": {
     "model_module": "@jupyter-widgets/base",
     "model_module_version": "1.2.0",
     "model_name": "LayoutModel",
     "state": {
      "_model_module": "@jupyter-widgets/base",
      "_model_module_version": "1.2.0",
      "_model_name": "LayoutModel",
      "_view_count": null,
      "_view_module": "@jupyter-widgets/base",
      "_view_module_version": "1.2.0",
      "_view_name": "LayoutView",
      "align_content": null,
      "align_items": null,
      "align_self": null,
      "border": null,
      "bottom": null,
      "display": null,
      "flex": null,
      "flex_flow": null,
      "grid_area": null,
      "grid_auto_columns": null,
      "grid_auto_flow": null,
      "grid_auto_rows": null,
      "grid_column": null,
      "grid_gap": null,
      "grid_row": null,
      "grid_template_areas": null,
      "grid_template_columns": null,
      "grid_template_rows": null,
      "height": null,
      "justify_content": null,
      "justify_items": null,
      "left": null,
      "margin": null,
      "max_height": null,
      "max_width": null,
      "min_height": null,
      "min_width": null,
      "object_fit": null,
      "object_position": null,
      "order": null,
      "overflow": null,
      "overflow_x": null,
      "overflow_y": null,
      "padding": null,
      "right": null,
      "top": null,
      "visibility": null,
      "width": null
     }
    },
    "ef2f589026f141b7bbf18cffde59a651": {
     "model_module": "@jupyter-widgets/base",
     "model_module_version": "1.2.0",
     "model_name": "LayoutModel",
     "state": {
      "_model_module": "@jupyter-widgets/base",
      "_model_module_version": "1.2.0",
      "_model_name": "LayoutModel",
      "_view_count": null,
      "_view_module": "@jupyter-widgets/base",
      "_view_module_version": "1.2.0",
      "_view_name": "LayoutView",
      "align_content": null,
      "align_items": null,
      "align_self": null,
      "border": null,
      "bottom": null,
      "display": null,
      "flex": null,
      "flex_flow": null,
      "grid_area": null,
      "grid_auto_columns": null,
      "grid_auto_flow": null,
      "grid_auto_rows": null,
      "grid_column": null,
      "grid_gap": null,
      "grid_row": null,
      "grid_template_areas": null,
      "grid_template_columns": null,
      "grid_template_rows": null,
      "height": null,
      "justify_content": null,
      "justify_items": null,
      "left": null,
      "margin": null,
      "max_height": null,
      "max_width": null,
      "min_height": null,
      "min_width": null,
      "object_fit": null,
      "object_position": null,
      "order": null,
      "overflow": null,
      "overflow_x": null,
      "overflow_y": null,
      "padding": null,
      "right": null,
      "top": null,
      "visibility": null,
      "width": null
     }
    },
    "f083be2e208b4df5ac0e3f4f26bc656b": {
     "model_module": "@jupyter-widgets/base",
     "model_module_version": "1.2.0",
     "model_name": "LayoutModel",
     "state": {
      "_model_module": "@jupyter-widgets/base",
      "_model_module_version": "1.2.0",
      "_model_name": "LayoutModel",
      "_view_count": null,
      "_view_module": "@jupyter-widgets/base",
      "_view_module_version": "1.2.0",
      "_view_name": "LayoutView",
      "align_content": null,
      "align_items": null,
      "align_self": null,
      "border": null,
      "bottom": null,
      "display": null,
      "flex": null,
      "flex_flow": null,
      "grid_area": null,
      "grid_auto_columns": null,
      "grid_auto_flow": null,
      "grid_auto_rows": null,
      "grid_column": null,
      "grid_gap": null,
      "grid_row": null,
      "grid_template_areas": null,
      "grid_template_columns": null,
      "grid_template_rows": null,
      "height": null,
      "justify_content": null,
      "justify_items": null,
      "left": null,
      "margin": null,
      "max_height": null,
      "max_width": null,
      "min_height": null,
      "min_width": null,
      "object_fit": null,
      "object_position": null,
      "order": null,
      "overflow": null,
      "overflow_x": null,
      "overflow_y": null,
      "padding": null,
      "right": null,
      "top": null,
      "visibility": null,
      "width": null
     }
    },
    "fbddc28d47514a519f0deceabdb25a9f": {
     "model_module": "@jupyter-widgets/base",
     "model_module_version": "1.2.0",
     "model_name": "LayoutModel",
     "state": {
      "_model_module": "@jupyter-widgets/base",
      "_model_module_version": "1.2.0",
      "_model_name": "LayoutModel",
      "_view_count": null,
      "_view_module": "@jupyter-widgets/base",
      "_view_module_version": "1.2.0",
      "_view_name": "LayoutView",
      "align_content": null,
      "align_items": null,
      "align_self": null,
      "border": null,
      "bottom": null,
      "display": null,
      "flex": null,
      "flex_flow": null,
      "grid_area": null,
      "grid_auto_columns": null,
      "grid_auto_flow": null,
      "grid_auto_rows": null,
      "grid_column": null,
      "grid_gap": null,
      "grid_row": null,
      "grid_template_areas": null,
      "grid_template_columns": null,
      "grid_template_rows": null,
      "height": null,
      "justify_content": null,
      "justify_items": null,
      "left": null,
      "margin": null,
      "max_height": null,
      "max_width": null,
      "min_height": null,
      "min_width": null,
      "object_fit": null,
      "object_position": null,
      "order": null,
      "overflow": null,
      "overflow_x": null,
      "overflow_y": null,
      "padding": null,
      "right": null,
      "top": null,
      "visibility": "hidden",
      "width": null
     }
    },
    "fe60ba67a8bd43fcad88a5a09ed6b566": {
     "model_module": "@jupyter-widgets/controls",
     "model_module_version": "1.5.0",
     "model_name": "FloatProgressModel",
     "state": {
      "_dom_classes": [],
      "_model_module": "@jupyter-widgets/controls",
      "_model_module_version": "1.5.0",
      "_model_name": "FloatProgressModel",
      "_view_count": null,
      "_view_module": "@jupyter-widgets/controls",
      "_view_module_version": "1.5.0",
      "_view_name": "ProgressView",
      "bar_style": "",
      "description": "",
      "description_tooltip": null,
      "layout": "IPY_MODEL_23cd954ad67e4a1b9f90c06467033dfc",
      "max": 5451,
      "min": 0,
      "orientation": "horizontal",
      "style": "IPY_MODEL_26e311ec4ac047d8b1377a1fcb08399f",
      "value": 5451
     }
    },
    "fe6e1295c9a74b26bf83cb7d154063fc": {
     "model_module": "@jupyter-widgets/controls",
     "model_module_version": "1.5.0",
     "model_name": "FloatProgressModel",
     "state": {
      "_dom_classes": [],
      "_model_module": "@jupyter-widgets/controls",
      "_model_module_version": "1.5.0",
      "_model_name": "FloatProgressModel",
      "_view_count": null,
      "_view_module": "@jupyter-widgets/controls",
      "_view_module_version": "1.5.0",
      "_view_name": "ProgressView",
      "bar_style": "",
      "description": "",
      "description_tooltip": null,
      "layout": "IPY_MODEL_41f4cbb981414247999abf16dce26b16",
      "max": 1817,
      "min": 0,
      "orientation": "horizontal",
      "style": "IPY_MODEL_edcf900e85de4f08b34dc1a9df02690d",
      "value": 1817
     }
    },
    "fe72b40ea0be444c8f6efbf69eb6d144": {
     "model_module": "@jupyter-widgets/controls",
     "model_module_version": "1.5.0",
     "model_name": "DescriptionStyleModel",
     "state": {
      "_model_module": "@jupyter-widgets/controls",
      "_model_module_version": "1.5.0",
      "_model_name": "DescriptionStyleModel",
      "_view_count": null,
      "_view_module": "@jupyter-widgets/base",
      "_view_module_version": "1.2.0",
      "_view_name": "StyleView",
      "description_width": ""
     }
    },
    "fed023cab1af42ca8d5102d6f093ea75": {
     "model_module": "@jupyter-widgets/controls",
     "model_module_version": "1.5.0",
     "model_name": "FloatProgressModel",
     "state": {
      "_dom_classes": [],
      "_model_module": "@jupyter-widgets/controls",
      "_model_module_version": "1.5.0",
      "_model_name": "FloatProgressModel",
      "_view_count": null,
      "_view_module": "@jupyter-widgets/controls",
      "_view_module_version": "1.5.0",
      "_view_name": "ProgressView",
      "bar_style": "success",
      "description": "",
      "description_tooltip": null,
      "layout": "IPY_MODEL_82bd4452b5c14437a723380b95112b65",
      "max": 456318,
      "min": 0,
      "orientation": "horizontal",
      "style": "IPY_MODEL_807c3331bb324e8088cdfc17c9e6e790",
      "value": 456318
     }
    },
    "feddf26029eb4a278a2a16aa30596b45": {
     "model_module": "@jupyter-widgets/controls",
     "model_module_version": "1.5.0",
     "model_name": "DescriptionStyleModel",
     "state": {
      "_model_module": "@jupyter-widgets/controls",
      "_model_module_version": "1.5.0",
      "_model_name": "DescriptionStyleModel",
      "_view_count": null,
      "_view_module": "@jupyter-widgets/base",
      "_view_module_version": "1.2.0",
      "_view_name": "StyleView",
      "description_width": ""
     }
    }
   }
  }
 },
 "nbformat": 4,
 "nbformat_minor": 5
}
