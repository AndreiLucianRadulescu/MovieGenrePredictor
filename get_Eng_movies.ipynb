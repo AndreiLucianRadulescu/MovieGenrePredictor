{
 "cells": [
  {
   "cell_type": "markdown",
   "id": "e62a1eef",
   "metadata": {},
   "source": [
    "#### Use langdetect library to detect movies that don't have English description and discard them."
   ]
  },
  {
   "cell_type": "code",
   "execution_count": 6,
   "id": "051231db",
   "metadata": {},
   "outputs": [],
   "source": [
    "from langdetect import detect, DetectorFactory\n",
    "DetectorFactory.seed = 0\n",
    "\n",
    "filename = \"movies.txt\"\n",
    "with open(filename, encoding=\"utf8\") as f:\n",
    "    movies = f.readlines()\n",
    "\n",
    "with open(\"Eng_movies.txt\", 'w', encoding=\"utf8\") as f:\n",
    "    for movie in movies:\n",
    "        number, title, genre, description = movie.split(\" ::: \")\n",
    "        if detect(description) == 'en':\n",
    "            f.write(f\"{number} ::: {title} ::: {genre} ::: {description}\")"
   ]
  }
 ],
 "metadata": {
  "kernelspec": {
   "display_name": "Python 3 (ipykernel)",
   "language": "python",
   "name": "python3"
  },
  "language_info": {
   "codemirror_mode": {
    "name": "ipython",
    "version": 3
   },
   "file_extension": ".py",
   "mimetype": "text/x-python",
   "name": "python",
   "nbconvert_exporter": "python",
   "pygments_lexer": "ipython3",
   "version": "3.9.12"
  }
 },
 "nbformat": 4,
 "nbformat_minor": 5
}
